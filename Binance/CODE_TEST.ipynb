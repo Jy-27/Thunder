{
 "cells": [
  {
   "cell_type": "code",
   "execution_count": 8,
   "metadata": {},
   "outputs": [],
   "source": [
    "import PublicAPI.Futures\n",
    "import futures_trading_utils\n",
    "ins_public_api_futures = PublicAPI.Futures.API()"
   ]
  },
  {
   "cell_type": "code",
   "execution_count": 9,
   "metadata": {},
   "outputs": [],
   "source": [
    "symbol = 'BTCUSDT'\n",
    "balance = 200\n",
    "leverage = 50\n",
    "mark_price = 96000\n",
    "\n",
    "# exchange_data = ins_futures.fetch_exchange_info()\n",
    "# symbol_detail = Extractor.symbol_detail(symbol, exchange_data)\n",
    "# filter_data = Extractor.symbol_filters(symbol_detail['filters'])\n",
    "\n",
    "\n",
    "# print(min_qty)\n",
    "# print(step_size)\n",
    "# print(notional)\n",
    "\n",
    "def position_size(symbol:str, mark_price:float, leverage:int, balance:float, test_mode:bool=False) -> float:\n",
    "    \"\"\"\n",
    "    매개 변수 조건에 의한 진입 가능한 포지션 수량을 계산한다.\n",
    "\n",
    "    Args:\n",
    "        symbol (str): 'BTCUSDT'\n",
    "        mark_price (float): 진입 가격\n",
    "        leverage (int): 레버리지\n",
    "        balance (float): 진입 금액\n",
    "\n",
    "    Notes:\n",
    "        반환값이 0일경우 최소 진입 수량조차 미달됨(예수금 부족)\n",
    "\n",
    "    Returns:\n",
    "        float: 진입 가능한 수량값 반환\n",
    "    \"\"\"\n",
    "    exchange_data = futures_trading_utils.Selector.exchange_info(test_mode)\n",
    "    symbol_detail = Extractor.symbol_detail(symbol, exchange_data)\n",
    "    filter_data = Extractor.symbol_filters(symbol_detail['filters'])\n",
    "    min_qty = filter_data['minQty']\n",
    "    step_size = filter_data['stepSize']\n",
    "    notional = filter_data['notional']\n",
    "\n",
    "    min_position_size = Calculator.min_position_size(mark_price=mark_price, min_qty=min_qty, step_size=step_size, notional=notional)\n",
    "    max_position_size = Calculator.max_position_size(mark_price=mark_price, leverage=leverage, step_size=step_size, balance=balance)\n",
    "\n",
    "    if min_position_size > max_position_size:\n",
    "        return 0\n",
    "    return max_position_size\n",
    "\n",
    "# print(f'MIN : {min_position_size}')\n",
    "# print(f'MAX : {max_position_size}')"
   ]
  },
  {
   "cell_type": "code",
   "execution_count": 11,
   "metadata": {},
   "outputs": [
    {
     "data": {
      "text/plain": [
       "0.104"
      ]
     },
     "execution_count": 11,
     "metadata": {},
     "output_type": "execute_result"
    }
   ],
   "source": [
    "position_size(symbol, mark_price, leverage, balance, True)"
   ]
  },
  {
   "cell_type": "code",
   "execution_count": 3,
   "metadata": {},
   "outputs": [
    {
     "name": "stdout",
     "output_type": "stream",
     "text": [
      "check lv: 75\n"
     ]
    },
    {
     "data": {
      "text/plain": [
       "{'symbol': 'TRXUSDT', 'leverage': 75, 'maxNotionalValue': '10000'}"
      ]
     },
     "execution_count": 3,
     "metadata": {},
     "output_type": "execute_result"
    }
   ],
   "source": [
    "import futrues_processer\n",
    "import PrivateAPI.Futures\n",
    "\n",
    "ins_process_futures = futrues_processer.TradeManager()\n",
    "ins_api_futures = PrivateAPI.Futures.API()\n",
    "\n",
    "leverage = ins_process_futures.check_leverage('TRXUSDT', 3, False)\n",
    "print(f\"check lv: {leverage}\")\n",
    "ins_api_futures.set_leverage(symbol='TRXUSDT', leverage=leverage)\n"
   ]
  },
  {
   "cell_type": "code",
   "execution_count": null,
   "metadata": {},
   "outputs": [
    {
     "name": "stdout",
     "output_type": "stream",
     "text": [
      "ABCMeta\n",
      "[{'symbol': 'TRXUSDT', 'brackets': [{'bracket': 1, 'initialLeverage': 75, 'notionalCap': 10000, 'notionalFloor': 0, 'maintMarginRatio': 0.0065, 'cum': 0.0}, {'bracket': 2, 'initialLeverage': 50, 'notionalCap': 90000, 'notionalFloor': 10000, 'maintMarginRatio': 0.01, 'cum': 35.0}, {'bracket': 3, 'initialLeverage': 40, 'notionalCap': 120000, 'notionalFloor': 90000, 'maintMarginRatio': 0.015, 'cum': 485.0}, {'bracket': 4, 'initialLeverage': 25, 'notionalCap': 650000, 'notionalFloor': 120000, 'maintMarginRatio': 0.02, 'cum': 1085.0}, {'bracket': 5, 'initialLeverage': 20, 'notionalCap': 800000, 'notionalFloor': 650000, 'maintMarginRatio': 0.025, 'cum': 4335.0}, {'bracket': 6, 'initialLeverage': 10, 'notionalCap': 3000000, 'notionalFloor': 800000, 'maintMarginRatio': 0.05, 'cum': 24335.0}, {'bracket': 7, 'initialLeverage': 5, 'notionalCap': 6000000, 'notionalFloor': 3000000, 'maintMarginRatio': 0.1, 'cum': 174335.0}, {'bracket': 8, 'initialLeverage': 4, 'notionalCap': 12000000, 'notionalFloor': 6000000, 'maintMarginRatio': 0.125, 'cum': 324335.0}, {'bracket': 9, 'initialLeverage': 2, 'notionalCap': 20000000, 'notionalFloor': 12000000, 'maintMarginRatio': 0.25, 'cum': 1824335.0}, {'bracket': 10, 'initialLeverage': 1, 'notionalCap': 30000000, 'notionalFloor': 20000000, 'maintMarginRatio': 0.5, 'cum': 6824335.0}]}]\n"
     ]
    },
    {
     "data": {
      "text/plain": [
       "75"
      ]
     },
     "execution_count": 4,
     "metadata": {},
     "output_type": "execute_result"
    }
   ],
   "source": []
  },
  {
   "cell_type": "code",
   "execution_count": 3,
   "metadata": {},
   "outputs": [],
   "source": [
    "import PrivateAPI.Futures\n",
    "\n",
    "obj = PrivateAPI.Futures.API()"
   ]
  },
  {
   "cell_type": "code",
   "execution_count": null,
   "metadata": {},
   "outputs": [
    {
     "data": {
      "text/plain": [
       "[{'symbol': 'BTCUSDT',\n",
       "  'brackets': [{'bracket': 1,\n",
       "    'initialLeverage': 125,\n",
       "    'notionalCap': 50000,\n",
       "    'notionalFloor': 0,\n",
       "    'maintMarginRatio': 0.004,\n",
       "    'cum': 0.0},\n",
       "   {'bracket': 2,\n",
       "    'initialLeverage': 100,\n",
       "    'notionalCap': 600000,\n",
       "    'notionalFloor': 50000,\n",
       "    'maintMarginRatio': 0.005,\n",
       "    'cum': 50.0},\n",
       "   {'bracket': 3,\n",
       "    'initialLeverage': 75,\n",
       "    'notionalCap': 3000000,\n",
       "    'notionalFloor': 600000,\n",
       "    'maintMarginRatio': 0.0065,\n",
       "    'cum': 950.0},\n",
       "   {'bracket': 4,\n",
       "    'initialLeverage': 50,\n",
       "    'notionalCap': 12000000,\n",
       "    'notionalFloor': 3000000,\n",
       "    'maintMarginRatio': 0.01,\n",
       "    'cum': 11450.0},\n",
       "   {'bracket': 5,\n",
       "    'initialLeverage': 25,\n",
       "    'notionalCap': 70000000,\n",
       "    'notionalFloor': 12000000,\n",
       "    'maintMarginRatio': 0.02,\n",
       "    'cum': 131450.0},\n",
       "   {'bracket': 6,\n",
       "    'initialLeverage': 20,\n",
       "    'notionalCap': 100000000,\n",
       "    'notionalFloor': 70000000,\n",
       "    'maintMarginRatio': 0.025,\n",
       "    'cum': 481450.0},\n",
       "   {'bracket': 7,\n",
       "    'initialLeverage': 10,\n",
       "    'notionalCap': 230000000,\n",
       "    'notionalFloor': 100000000,\n",
       "    'maintMarginRatio': 0.05,\n",
       "    'cum': 2981450.0},\n",
       "   {'bracket': 8,\n",
       "    'initialLeverage': 5,\n",
       "    'notionalCap': 480000000,\n",
       "    'notionalFloor': 230000000,\n",
       "    'maintMarginRatio': 0.1,\n",
       "    'cum': 14481450.0},\n",
       "   {'bracket': 9,\n",
       "    'initialLeverage': 4,\n",
       "    'notionalCap': 600000000,\n",
       "    'notionalFloor': 480000000,\n",
       "    'maintMarginRatio': 0.125,\n",
       "    'cum': 26481450.0},\n",
       "   {'bracket': 10,\n",
       "    'initialLeverage': 3,\n",
       "    'notionalCap': 800000000,\n",
       "    'notionalFloor': 600000000,\n",
       "    'maintMarginRatio': 0.15,\n",
       "    'cum': 41481450.0},\n",
       "   {'bracket': 11,\n",
       "    'initialLeverage': 2,\n",
       "    'notionalCap': 1200000000,\n",
       "    'notionalFloor': 800000000,\n",
       "    'maintMarginRatio': 0.25,\n",
       "    'cum': 121481450.0},\n",
       "   {'bracket': 12,\n",
       "    'initialLeverage': 1,\n",
       "    'notionalCap': 1800000000,\n",
       "    'notionalFloor': 1200000000,\n",
       "    'maintMarginRatio': 0.5,\n",
       "    'cum': 421481450.0}]}]"
      ]
     },
     "execution_count": 4,
     "metadata": {},
     "output_type": "execute_result"
    }
   ],
   "source": [
    "obj.fetch_leverage_brackets('BTCUSDT')\n"
   ]
  },
  {
   "cell_type": "code",
   "execution_count": null,
   "metadata": {},
   "outputs": [],
   "source": []
  }
 ],
 "metadata": {
  "kernelspec": {
   "display_name": "ame",
   "language": "python",
   "name": "python3"
  },
  "language_info": {
   "codemirror_mode": {
    "name": "ipython",
    "version": 3
   },
   "file_extension": ".py",
   "mimetype": "text/x-python",
   "name": "python",
   "nbconvert_exporter": "python",
   "pygments_lexer": "ipython3",
   "version": "3.12.2"
  }
 },
 "nbformat": 4,
 "nbformat_minor": 2
}
