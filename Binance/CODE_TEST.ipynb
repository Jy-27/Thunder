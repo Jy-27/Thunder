{
 "cells": [
  {
   "cell_type": "code",
   "execution_count": 2,
   "metadata": {},
   "outputs": [
    {
     "name": "stdout",
     "output_type": "stream",
     "text": [
      "  🟢 Startup: PrivateRestFetcher(account_balance)\n",
      "  🟢 Startup: PrivateRestFetcher(order_status)\n",
      "  🟢 Startup: PrivateRestFetcher(leverage_brackets)\n",
      "  🟢 Startup: PrivateRestFetcher(order_history)\n",
      "  🟢 Startup: PrivateRestFetcher(trade_history)\n",
      "  🟢 Startup: PrivateRestFetcher(order_details)\n",
      "  🟢 Startup: PrivateRestFetcher(shutdown_all_loops)\n",
      "SIGNAL\n",
      "  🔴 Shutdown: PrivateRestFetcher(shutdown_all_loops)\n",
      "  🔴 Shutdown: PrivateRestFetcher(order_status)\n",
      "  🔴 Shutdown: PrivateRestFetcher(leverage_brackets)\n",
      "  🔴 Shutdown: PrivateRestFetcher(order_history)\n",
      "  🔴 Shutdown: PrivateRestFetcher(trade_history)\n",
      "  🔴 Shutdown: PrivateRestFetcher(order_details)\n",
      "  🔴 Shutdown: PrivateRestFetcher(account_balance)\n",
      "  🔴 Shutdown: PrivateRestFetcher.py\n"
     ]
    }
   ],
   "source": [
    "import asyncio\n",
    "import nest_asyncio\n",
    "\n",
    "nest_asyncio.apply()\n",
    "\n",
    "from SystemTrading.ExchangeDataFeed.Private.PrivateRestFetcher import PrivateRestFetcher\n",
    "import SystemConfig\n",
    "import Workspace.Utils.BaseUtils as base_utils\n",
    "\n",
    "path = SystemConfig.Path.bianace\n",
    "api = base_utils.load_json(path)\n",
    "args = []\n",
    "for _ in range(11):\n",
    "    args.append(asyncio.Queue())\n",
    "for _ in range(15):\n",
    "    args.append(asyncio.Event())\n",
    "args = tuple(args)\n",
    "\n",
    "\n",
    "private_fetcher = PrivateRestFetcher(*args, api)\n",
    "async def stop_siganl():\n",
    "    await asyncio.sleep(5)\n",
    "    print(\"SIGNAL\")\n",
    "    args[11].set()\n",
    "\n",
    "async def main():\n",
    "    tasks = [\n",
    "        asyncio.create_task(stop_siganl()),\n",
    "        asyncio.create_task(private_fetcher.start())\n",
    "    ]\n",
    "    await asyncio.gather(*tasks)\n",
    "\n",
    "asyncio.run(main())"
   ]
  },
  {
   "cell_type": "code",
   "execution_count": null,
   "metadata": {},
   "outputs": [],
   "source": []
  }
 ],
 "metadata": {
  "kernelspec": {
   "display_name": "ame",
   "language": "python",
   "name": "python3"
  },
  "language_info": {
   "codemirror_mode": {
    "name": "ipython",
    "version": 3
   },
   "file_extension": ".py",
   "mimetype": "text/x-python",
   "name": "python",
   "nbconvert_exporter": "python",
   "pygments_lexer": "ipython3",
   "version": "3.12.2"
  }
 },
 "nbformat": 4,
 "nbformat_minor": 2
}
