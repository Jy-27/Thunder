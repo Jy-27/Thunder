{
 "cells": [
  {
   "cell_type": "code",
   "execution_count": 1,
   "metadata": {},
   "outputs": [],
   "source": [
    "import asyncio\n",
    "import nest_asyncio\n",
    "\n",
    "nest_asyncio.apply()"
   ]
  },
  {
   "cell_type": "code",
   "execution_count": 2,
   "metadata": {},
   "outputs": [],
   "source": [
    "#asyncio.get_event_loop().close()"
   ]
  },
  {
   "cell_type": "code",
   "execution_count": null,
   "metadata": {},
   "outputs": [
    {
     "ename": "NameError",
     "evalue": "name 'queue_list' is not defined",
     "output_type": "error",
     "traceback": [
      "\u001b[0;31m---------------------------------------------------------------------------\u001b[0m",
      "\u001b[0;31mNameError\u001b[0m                                 Traceback (most recent call last)",
      "Cell \u001b[0;32mIn[3], line 2\u001b[0m\n\u001b[1;32m      1\u001b[0m queues \u001b[38;5;241m=\u001b[39m {}\n\u001b[0;32m----> 2\u001b[0m \u001b[38;5;28;01mfor\u001b[39;00m queue \u001b[38;5;129;01min\u001b[39;00m \u001b[43mqueue_list\u001b[49m:\n\u001b[1;32m      3\u001b[0m     queues[queue] \u001b[38;5;241m=\u001b[39m asyncio\u001b[38;5;241m.\u001b[39mQueue()\n\u001b[1;32m      4\u001b[0m events \u001b[38;5;241m=\u001b[39m {}\n",
      "\u001b[0;31mNameError\u001b[0m: name 'queue_list' is not defined"
     ]
    }
   ],
   "source": [
    "import asyncio\n",
    "\n",
    "class TestLoop:\n",
    "    def __init__(self, timesleep:int):\n",
    "        self.timesleep = timesleep\n",
    "        self.event_stop_loop = asyncio.Event()\n",
    "    \n",
    "    async def timer(self):\n",
    "        await asyncio.sleep(self.timesleep)\n",
    "        print(f\"  시간 종료\")\n",
    "        self.event_stop_loop.set()\n",
    "        print(f\"  event 활성화 완료\")\n",
    "    \n",
    "    async def loop_1(self):\n",
    "        n = 0\n",
    "        while not self.event_stop_loop.is_set():\n",
    "            await asyncio.sleep(1)\n",
    "            print(f\"  Loop1: {n}회차 \")\n",
    "            n += 1\n",
    "        print(f\"  Loop1 종료\")\n",
    "        \n",
    "    async def loop_2(self):\n",
    "        i = 0\n",
    "        while not self.event_stop_loop.is_set():\n",
    "            await asyncio.sleep(2)\n",
    "            print(f\"  Loop_2: {i}회차 \")\n",
    "            i += 1\n",
    "        print(f\"  Loop2 종료\")\n",
    "    \n",
    "    async def  main(self):\n",
    "        tasks = [\n",
    "            asyncio.create_task(self.timer()),\n",
    "            asyncio.create_task(self.loop_1()),\n",
    "            asyncio.create_task(self.loop_2())\n",
    "        ]\n",
    "        print(f\"  AsyncioGather 실행\")\n",
    "        await asyncio.gather(*tasks)\n",
    "        print(f\"  AsyncioGather 종료\")\n",
    "        asyncio.get_event_loop().close()\n",
    "        print(f\"  asyncio loop 완전 종료됨\")\n",
    "        \n",
    "if __name__ == \"__main__\":\n",
    "    instance = TestLoop(1)\n",
    "    asyncio.run(instance.main())\n",
    "                "
   ]
  },
  {
   "cell_type": "code",
   "execution_count": null,
   "metadata": {},
   "outputs": [],
   "source": []
  }
 ],
 "metadata": {
  "kernelspec": {
   "display_name": "ame",
   "language": "python",
   "name": "python3"
  },
  "language_info": {
   "codemirror_mode": {
    "name": "ipython",
    "version": 3
   },
   "file_extension": ".py",
   "mimetype": "text/x-python",
   "name": "python",
   "nbconvert_exporter": "python",
   "pygments_lexer": "ipython3",
   "version": "3.10.16"
  }
 },
 "nbformat": 4,
 "nbformat_minor": 2
}
