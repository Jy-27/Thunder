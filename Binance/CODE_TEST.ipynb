{
 "cells": [
  {
   "cell_type": "code",
   "execution_count": null,
   "metadata": {},
   "outputs": [
    {
     "data": {
      "text/plain": [
       "Traceback (most recent call last):\n",
       "  File \"/Users/nnn/.vscode/extensions/ms-python.python-2025.1.2025022102-darwin-x64/python_files/python_server.py\", line 133, in exec_user_input\n",
       "    retval = callable_(user_input, user_globals)\n",
       "             ^^^^^^^^^^^^^^^^^^^^^^^^^^^^^^^^^^^\n",
       "  File \"<string>\", line 1, in <module>\n",
       "ModuleNotFoundError: No module named 'Workspace'\n",
       "\n"
      ]
     },
     "metadata": {},
     "output_type": "display_data"
    }
   ],
   "source": [
    "import Workspace.Services.PrivateAPI.Trading.FuturesTradingClient as "
   ]
  },
  {
   "cell_type": "code",
   "execution_count": null,
   "metadata": {},
   "outputs": [],
   "source": []
  },
  {
   "cell_type": "code",
   "execution_count": 18,
   "metadata": {},
   "outputs": [
    {
     "name": "stdout",
     "output_type": "stream",
     "text": [
      "{'BTCUSDT': {'pending': None, 'executed': None, 'stop_loss': None, 'take_pnl': None}, 'TRXUSDT': {'pending': None, 'executed': None, 'stop_loss': None, 'take_pnl': None}, 'ETHUSDT': {'pending': None, 'executed': None, 'stop_loss': None, 'take_pnl': None}, 'XRPUSDT': {'pending': None, 'executed': None, 'stop_loss': None, 'take_pnl': None}, 'SOLUSDT': {'pending': None, 'executed': None, 'stop_loss': None, 'take_pnl': None}, 'BNBUSDT': {'pending': None, 'executed': None, 'stop_loss': None, 'take_pnl': None}}\n"
     ]
    }
   ],
   "source": [
    "print(order_storage)"
   ]
  },
  {
   "cell_type": "code",
   "execution_count": null,
   "metadata": {},
   "outputs": [],
   "source": []
  }
 ],
 "metadata": {
  "kernelspec": {
   "display_name": "ame",
   "language": "python",
   "name": "python3"
  },
  "language_info": {
   "codemirror_mode": {
    "name": "ipython",
    "version": 3
   },
   "file_extension": ".py",
   "mimetype": "text/x-python",
   "name": "python",
   "nbconvert_exporter": "python",
   "pygments_lexer": "ipython3",
   "version": "3.12.2"
  }
 },
 "nbformat": 4,
 "nbformat_minor": 2
}
