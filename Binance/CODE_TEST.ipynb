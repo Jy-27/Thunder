{
 "cells": [
  {
   "cell_type": "code",
   "execution_count": 1,
   "metadata": {},
   "outputs": [],
   "source": [
    "from dataclasses import dataclass, field\n",
    "import asyncio\n",
    "import nest_asyncio\n",
    "\n",
    "nest_asyncio.apply()\n",
    "\n",
    "event_shutdown_event = asyncio.Event()\n",
    "\n",
    "@dataclass\n",
    "class Prams1:\n",
    "    event_shutdown: asyncio.Event = field(default_factory=lambda: event_shutdown_event)\n",
    "    event_test1: asyncio.Event = field(default_factory=asyncio.Event)\n",
    "\n",
    "@dataclass\n",
    "class Prams2:\n",
    "    event_shutdown: asyncio.Event = field(default_factory=lambda: event_shutdown_event)\n",
    "    event_test2: asyncio.Event = field(default_factory=asyncio.Event)\n",
    "\n",
    "class Test:\n",
    "    def __init__(self, event_shutdown: asyncio.Event, event_test2: asyncio.Event):\n",
    "        self.event_shutdown = event_shutdown\n",
    "        self.event_test2 = event_test2"
   ]
  },
  {
   "cell_type": "code",
   "execution_count": null,
   "metadata": {},
   "outputs": [
    {
     "ename": "AttributeError",
     "evalue": "type object 'Prams1' has no attribute 'event_shutdown'",
     "output_type": "error",
     "traceback": [
      "\u001b[0;31m---------------------------------------------------------------------------\u001b[0m",
      "\u001b[0;31mAttributeError\u001b[0m                            Traceback (most recent call last)",
      "Cell \u001b[0;32mIn[2], line 5\u001b[0m\n\u001b[1;32m      1\u001b[0m \u001b[38;5;28;01mimport\u001b[39;00m\u001b[38;5;250m \u001b[39m\u001b[38;5;21;01mtime\u001b[39;00m\n\u001b[1;32m      3\u001b[0m event_shutdown_event\u001b[38;5;241m.\u001b[39mclear()\n\u001b[0;32m----> 5\u001b[0m \u001b[38;5;28mprint\u001b[39m(\u001b[43mPrams1\u001b[49m\u001b[38;5;241;43m.\u001b[39;49m\u001b[43mevent_shutdown\u001b[49m\u001b[38;5;241m.\u001b[39mis_set())\n\u001b[1;32m      6\u001b[0m \u001b[38;5;28mprint\u001b[39m(Prams2\u001b[38;5;241m.\u001b[39mevent_shutdown\u001b[38;5;241m.\u001b[39mis_set())\n\u001b[1;32m      7\u001b[0m time\u001b[38;5;241m.\u001b[39msleep(\u001b[38;5;241m5\u001b[39m)\n",
      "\u001b[0;31mAttributeError\u001b[0m: type object 'Prams1' has no attribute 'event_shutdown'"
     ]
    }
   ],
   "source": [
    "import time\n",
    "\n",
    "event_shutdown_event.clear()\n",
    "\n",
    "print(Prams1.event_shutdown.is_set())\n",
    "print(Prams2.event_shutdown.is_set())\n",
    "time.sleep(5)\n",
    "event_shutdown.set()\n",
    "print(Prams1.event_shutdown.is_set())\n",
    "print(Prams2.event_shutdown.is_set())"
   ]
  },
  {
   "cell_type": "code",
   "execution_count": null,
   "metadata": {},
   "outputs": [],
   "source": [
    "data = a(**args)"
   ]
  },
  {
   "cell_type": "code",
   "execution_count": null,
   "metadata": {},
   "outputs": [],
   "source": [
    "b(data)"
   ]
  },
  {
   "cell_type": "code",
   "execution_count": null,
   "metadata": {},
   "outputs": [],
   "source": [
    "data.a"
   ]
  },
  {
   "cell_type": "code",
   "execution_count": null,
   "metadata": {},
   "outputs": [],
   "source": []
  }
 ],
 "metadata": {
  "kernelspec": {
   "display_name": "ame",
   "language": "python",
   "name": "python3"
  },
  "language_info": {
   "codemirror_mode": {
    "name": "ipython",
    "version": 3
   },
   "file_extension": ".py",
   "mimetype": "text/x-python",
   "name": "python",
   "nbconvert_exporter": "python",
   "pygments_lexer": "ipython3",
   "version": "3.10.16"
  }
 },
 "nbformat": 4,
 "nbformat_minor": 2
}
