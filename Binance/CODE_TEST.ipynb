{
 "cells": [
  {
   "cell_type": "code",
   "execution_count": null,
   "metadata": {},
   "outputs": [],
   "source": [
    "import FuturesClient\n",
    "\n",
    "obj = FuturesClient.Manager()\n",
    "\n",
    "symbol = \"ADAUSDT\"\n",
    "side = \"SELL\"\n",
    "quantity = 8\n",
    "position_side = \"BOTH\"\n",
    "limit_price = 0.8055\n",
    "stop_price = 0.8050\n",
    "time_in_force = \"IOC\"\n",
    "reduce_only = False\n",
    "\n",
    "order_signal = obj.take_profit_market_order(symbol=symbol,\n",
    "                                           side=side,\n",
    "                                           quantity=quantity,\n",
    "                                           stop_price=stop_price)"
   ]
  },
  {
   "cell_type": "code",
   "execution_count": 3,
   "metadata": {},
   "outputs": [
    {
     "data": {
      "text/plain": [
       "{'orderId': 50145649724,\n",
       " 'symbol': 'ADAUSDT',\n",
       " 'status': 'NEW',\n",
       " 'clientOrderId': 'S3bniQFDuB70Wd2TJpc39x',\n",
       " 'price': '0.80550',\n",
       " 'avgPrice': '0.00',\n",
       " 'origQty': '8',\n",
       " 'executedQty': '0',\n",
       " 'cumQty': '0',\n",
       " 'cumQuote': '0.00000',\n",
       " 'timeInForce': 'IOC',\n",
       " 'type': 'TAKE_PROFIT',\n",
       " 'reduceOnly': False,\n",
       " 'closePosition': False,\n",
       " 'side': 'SELL',\n",
       " 'positionSide': 'BOTH',\n",
       " 'stopPrice': '0.80500',\n",
       " 'workingType': 'CONTRACT_PRICE',\n",
       " 'priceProtect': False,\n",
       " 'origType': 'TAKE_PROFIT',\n",
       " 'priceMatch': 'NONE',\n",
       " 'selfTradePreventionMode': 'EXPIRE_MAKER',\n",
       " 'goodTillDate': 0,\n",
       " 'updateTime': 1739323898160}"
      ]
     },
     "execution_count": 3,
     "metadata": {},
     "output_type": "execute_result"
    }
   ],
   "source": [
    "order_signal"
   ]
  },
  {
   "cell_type": "code",
   "execution_count": null,
   "metadata": {},
   "outputs": [],
   "source": []
  }
 ],
 "metadata": {
  "kernelspec": {
   "display_name": "ame",
   "language": "python",
   "name": "python3"
  },
  "language_info": {
   "codemirror_mode": {
    "name": "ipython",
    "version": 3
   },
   "file_extension": ".py",
   "mimetype": "text/x-python",
   "name": "python",
   "nbconvert_exporter": "python",
   "pygments_lexer": "ipython3",
   "version": "3.12.2"
  }
 },
 "nbformat": 4,
 "nbformat_minor": 2
}
