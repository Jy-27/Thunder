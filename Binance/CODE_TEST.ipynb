{
 "cells": [
  {
   "cell_type": "code",
   "execution_count": null,
   "metadata": {},
   "outputs": [],
   "source": [
    "import asyncio\n",
    "import nest_asyncio\n",
    "import Services.Receiver.TestWebsocketReceiver as futures_ws\n",
    "import aiohttp\n",
    "from SystemConfig import Streaming\n",
    "\n",
    "\n",
    "nest_asyncio.apply()\n",
    "\n",
    "symbols = Streaming.symbols\n",
    "intervals = Streaming.intervals\n",
    "\n",
    "q_ws_async = asyncio.Queue()\n",
    "\n",
    "base_url=\"wss://stream.binance.com:9443/ws/\"\n",
    "\n",
    "class ws_mechine(futures_ws.WebsocketReceiver):\n",
    "    def __init__(self, base_url:str, symbols:list, queue:asyncio.Queue, ):\n",
    "        super().__init__(symbols = symbols, base_url = base_url)\n",
    "\n",
    "        self.queue = queue\n",
    "        self.intervals = None\n",
    "        self.stream_type = None\n",
    "        \n",
    "    async def ws_setting(self, intervals):\n",
    "        self.intervals = [f\"interval_{i}\" for i in intervals]\n",
    "        self.stream_type = \"kline\"\n",
    "        url = self._streams(self.intervals)\n",
    "        async with aio\n",
    "    def receiver_ws(self):\n",
    "        "
   ]
  },
  {
   "cell_type": "code",
   "execution_count": 3,
   "metadata": {},
   "outputs": [],
   "source": [
    "ins_dummy = ws_mechine(base_url, symbols, q_ws_async)"
   ]
  },
  {
   "cell_type": "code",
   "execution_count": 4,
   "metadata": {},
   "outputs": [],
   "source": [
    "ins_dummy.kline_args_update(['1m','3m'])"
   ]
  },
  {
   "cell_type": "code",
   "execution_count": 5,
   "metadata": {},
   "outputs": [
    {
     "data": {
      "text/plain": [
       "{'BASE_URL': 'wss://stream.binance.com:9443/ws/',\n",
       " 'symbols': ['BTCUSDT', 'TRXUSDT', 'ETHUSDT', 'XRPUSDT', 'SOLUSDT', 'BNBUSDT'],\n",
       " 'stream_type': 'kline',\n",
       " 'intervals': ['interval_1m', 'interval_3m'],\n",
       " 'ENDPOINT': ['ticker',\n",
       "  'trade',\n",
       "  'miniTicker',\n",
       "  'kline_1m',\n",
       "  'kline_3m',\n",
       "  'kline_5m',\n",
       "  'kline_15m',\n",
       "  'kline_30m',\n",
       "  'kline_1h',\n",
       "  'kline_2h',\n",
       "  'kline_4h',\n",
       "  'kline_6h',\n",
       "  'kline_8h',\n",
       "  'kline_12h',\n",
       "  'kline_1d',\n",
       "  'kline_3d',\n",
       "  'kline_1w',\n",
       "  'kline_1M',\n",
       "  'depth',\n",
       "  '24hrTicker',\n",
       "  'aggTrade'],\n",
       " 'queue': <Queue at 0x10e6e2f60 maxsize=0>}"
      ]
     },
     "execution_count": 5,
     "metadata": {},
     "output_type": "execute_result"
    }
   ],
   "source": [
    "ins_dummy.__dict__"
   ]
  },
  {
   "cell_type": "code",
   "execution_count": null,
   "metadata": {},
   "outputs": [],
   "source": []
  }
 ],
 "metadata": {
  "kernelspec": {
   "display_name": "ame",
   "language": "python",
   "name": "python3"
  },
  "language_info": {
   "codemirror_mode": {
    "name": "ipython",
    "version": 3
   },
   "file_extension": ".py",
   "mimetype": "text/x-python",
   "name": "python",
   "nbconvert_exporter": "python",
   "pygments_lexer": "ipython3",
   "version": "3.12.2"
  }
 },
 "nbformat": 4,
 "nbformat_minor": 2
}
