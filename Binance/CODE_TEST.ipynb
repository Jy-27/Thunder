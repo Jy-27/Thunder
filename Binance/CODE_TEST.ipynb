{
 "cells": [
  {
   "cell_type": "code",
   "execution_count": null,
   "metadata": {},
   "outputs": [],
   "source": [
    "import API.Queries.Public.Futures as public_api\n",
    "import Utils.DataModels as storage\n",
    "import threading\n",
    "import asyncio\n",
    "import nest_asyncio\n",
    "import Processor.ReciverData.DataHandler as handler\n",
    "\n",
    "nest_asyncio.apply()\n",
    "\n",
    "ins_public_api = public_api.API()\n",
    "\n",
    "api_storage = storage.SymbolStorage()\n",
    "\n",
    "symbols = [\"BTCUSDT\",\"TRXUSDT\",\"ETHUSDT\",\"XRPUSDT\",\"SOLUSDT\",\"BNBUSDT\"]\n",
    "intervals = [\"1m\", \"3m\", \"5m\", \"15m\"]#, \"30m\", \"1h\", \"2h\", \"4h\", \"6h\", \"8h\", \"12h\", \"1d\", \"3d\", \"1w\", \"1M\",]\n"
   ]
  },
  {
   "cell_type": "code",
   "execution_count": 15,
   "metadata": {},
   "outputs": [],
   "source": [
    "for symbol in symbols:\n",
    "    for interval in intervals:\n",
    "        kline_data = ins_public_api.fetch_klines_limit(symbol=symbol, interval=interval, limit=1000)\n",
    "        api_storage.update_data(symbol, interval, kline_data)\n",
    "# print(api_storage)"
   ]
  },
  {
   "cell_type": "code",
   "execution_count": null,
   "metadata": {},
   "outputs": [],
   "source": [
    "import concurrent.futures\n",
    "import API.Queries.Public.Futures as public_api\n",
    "import Utils.DataModels as storage\n",
    "import threading\n",
    "\n",
    "ins_public_api = public_api.API()\n",
    "\n",
    "api_storage = storage.SymbolStorage()\n",
    "\n",
    "symbols = [\"BTCUSDT\",\"TRXUSDT\",\"ETHUSDT\",\"XRPUSDT\",\"SOLUSDT\",\"BNBUSDT\"]\n",
    "intervals = [\"1m\", \"3m\", \"5m\", \"15m\"]#, \"30m\", \"1h\", \"2h\", \"4h\", \"6h\", \"8h\", \"12h\", \"1d\", \"3d\", \"1w\", \"1M\",]\n",
    "\n",
    "def fetch_and_update(symbol, interval, api, storage):\n",
    "    \"\"\"심볼과 인터벌 데이터를 API에서 가져와 저장하는 함수\"\"\"\n",
    "    kline_data = api.fetch_klines_limit(symbol=symbol, interval=interval, limit=1000)\n",
    "    storage.update_data(symbol, interval, kline_data)\n",
    "\n",
    "def threaded_data_fetch(symbols, intervals, api, storage):#, max_workers=100):\n",
    "    \"\"\"스레드를 사용하여 심볼과 인터벌별 데이터를 병렬로 가져옴\"\"\"\n",
    "    max_workers = 5\n",
    "    with concurrent.futures.ThreadPoolExecutor(max_workers=max_workers) as executor:\n",
    "        futures = []\n",
    "        for symbol in symbols:\n",
    "            for interval in intervals:\n",
    "                futures.append(executor.submit(fetch_and_update, symbol, interval, api, storage))\n",
    "        \n",
    "        # 모든 작업 완료 대기\n",
    "        concurrent.futures.wait(futures)\n",
    "\n",
    "# 실행 예제\n",
    "threaded_data_fetch(symbols, intervals, ins_public_api, api_storage)\n",
    "# print(api_storage)"
   ]
  },
  {
   "cell_type": "code",
   "execution_count": 26,
   "metadata": {},
   "outputs": [
    {
     "data": {
      "text/plain": [
       "[[1739623200000,\n",
       "  '97695.80',\n",
       "  '97700.00',\n",
       "  '97616.50',\n",
       "  '97688.70',\n",
       "  '231.921',\n",
       "  1739623499999,\n",
       "  '22651831.81300',\n",
       "  5161,\n",
       "  '130.951',\n",
       "  '12790778.66540',\n",
       "  '0']]"
      ]
     },
     "execution_count": 26,
     "metadata": {},
     "output_type": "execute_result"
    }
   ],
   "source": [
    "ins_public_api.fetch_klines_limit(symbol='BTCUSDT', interval='5m', limit=1)"
   ]
  },
  {
   "cell_type": "code",
   "execution_count": 31,
   "metadata": {},
   "outputs": [
    {
     "name": "stdout",
     "output_type": "stream",
     "text": [
      "사용 가능한 CPU 쓰레드 개수: 8\n"
     ]
    }
   ],
   "source": [
    "import os\n",
    "\n",
    "# CPU 코어 개수\n",
    "cpu_cores = os.cpu_count()\n",
    "\n",
    "print(f\"사용 가능한 CPU 쓰레드 개수: {cpu_cores}\")"
   ]
  },
  {
   "cell_type": "code",
   "execution_count": 14,
   "metadata": {},
   "outputs": [],
   "source": [
    "import datetime\n",
    "\n",
    "def dummy(interval):\n",
    "    current_time = datetime.datetime.now()    \n",
    "    if \"m\" in interval:\n",
    "        minutes = int(interval[:-1])\n",
    "        if current_time.minute % minutes == 0:\n",
    "            return True\n",
    "    elif \"h\" in interval:\n",
    "        hours = int(interval[:-1])\n",
    "        if current_time.hour % hours == 0:\n",
    "            return True\n",
    "    else:\n",
    "        hours = 24\n",
    "        if current_time.hour % hours == 0:\n",
    "            return True\n",
    "    return False"
   ]
  },
  {
   "cell_type": "code",
   "execution_count": 17,
   "metadata": {},
   "outputs": [
    {
     "data": {
      "text/plain": [
       "False"
      ]
     },
     "execution_count": 17,
     "metadata": {},
     "output_type": "execute_result"
    }
   ],
   "source": [
    "dummy('6m')"
   ]
  },
  {
   "cell_type": "code",
   "execution_count": 18,
   "metadata": {},
   "outputs": [
    {
     "data": {
      "text/plain": [
       "'3'"
      ]
     },
     "execution_count": 18,
     "metadata": {},
     "output_type": "execute_result"
    }
   ],
   "source": [
    "a = '3m'\n",
    "a[:-1]"
   ]
  },
  {
   "cell_type": "code",
   "execution_count": 27,
   "metadata": {},
   "outputs": [],
   "source": [
    "import datetime\n",
    "\n",
    "def is_time_match(interval):\n",
    "    now = datetime.datetime.now()\n",
    "\n",
    "    if interval.endswith(\"m\"):  # 분 단위 확인\n",
    "        return now.minute % int(interval[:-1]) == 0\n",
    "    elif interval.endswith(\"h\"):  # 시간 단위 확인\n",
    "        return now.hour % int(interval[:-1]) == 0\n",
    "    elif now.hour == 0 and now.minute == 0 and now.second == 0:  # 자정 확인\n",
    "        return True\n",
    "\n",
    "    return False"
   ]
  },
  {
   "cell_type": "code",
   "execution_count": 28,
   "metadata": {},
   "outputs": [
    {
     "data": {
      "text/plain": [
       "False"
      ]
     },
     "execution_count": 28,
     "metadata": {},
     "output_type": "execute_result"
    }
   ],
   "source": [
    "is_time_match('3m')"
   ]
  },
  {
   "cell_type": "code",
   "execution_count": null,
   "metadata": {},
   "outputs": [],
   "source": []
  }
 ],
 "metadata": {
  "kernelspec": {
   "display_name": "python",
   "language": "python",
   "name": "python3"
  },
  "language_info": {
   "codemirror_mode": {
    "name": "ipython",
    "version": 3
   },
   "file_extension": ".py",
   "mimetype": "text/x-python",
   "name": "python",
   "nbconvert_exporter": "python",
   "pygments_lexer": "ipython3",
   "version": "3.12.2"
  }
 },
 "nbformat": 4,
 "nbformat_minor": 2
}
