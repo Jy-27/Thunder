{
 "cells": [
  {
   "cell_type": "code",
   "execution_count": 8,
   "metadata": {},
   "outputs": [],
   "source": [
    "\n",
    "import os, sys\n",
    "home_path = os.path.expanduser(\"~\")\n",
    "sys.path.append(os.path.join(home_path, \"github\", \"Thunder\", \"Binance\"))\n",
    "import Workspace.Services.PublicData.Fetcher.FuturesMarketFetcher as futures_mk_futures\n",
    "import numpy as np\n",
    "\n",
    "import asyncio\n",
    "import nest_asyncio\n",
    "\n",
    "nest_asyncio.apply()"
   ]
  },
  {
   "cell_type": "code",
   "execution_count": 19,
   "metadata": {},
   "outputs": [
    {
     "name": "stdout",
     "output_type": "stream",
     "text": [
      "음수가 나오기 전까지의 개수: 3\n"
     ]
    }
   ],
   "source": [
    "data = [10,9,8,7,6,7,8,10]\n",
    "array = np.array(data, int)[::-1]\n",
    "count_drop = np.diff(array)\n",
    "\n",
    "import numpy as np\n",
    "\n",
    "count_drop = np.array([3, 2, 1, -1, 4, 5])\n",
    "\n",
    "# next()를 사용하여 첫 번째 음수가 나오기 전까지의 개수 찾기\n",
    "n = next((i for i, v in enumerate(count_drop) if v < 0), len(count_drop))\n",
    "\n",
    "print(\"음수가 나오기 전까지의 개수:\", n)\n"
   ]
  },
  {
   "cell_type": "code",
   "execution_count": null,
   "metadata": {},
   "outputs": [],
   "source": [
    "def count_consecutive_drops(values:np.ndarray):\n",
    "    values_reversed = values[::-1]\n",
    "    diff = np.diff(values)\n",
    "    return next((i for i, v in enumerate(diff) if v < 0), len(diff))"
   ]
  },
  {
   "cell_type": "code",
   "execution_count": 24,
   "metadata": {},
   "outputs": [
    {
     "data": {
      "text/plain": [
       "8"
      ]
     },
     "execution_count": 24,
     "metadata": {},
     "output_type": "execute_result"
    }
   ],
   "source": [
    "count_consecutive_drops(data)"
   ]
  },
  {
   "cell_type": "code",
   "execution_count": null,
   "metadata": {},
   "outputs": [],
   "source": []
  }
 ],
 "metadata": {
  "kernelspec": {
   "display_name": "base",
   "language": "python",
   "name": "python3"
  },
  "language_info": {
   "codemirror_mode": {
    "name": "ipython",
    "version": 3
   },
   "file_extension": ".py",
   "mimetype": "text/x-python",
   "name": "python",
   "nbconvert_exporter": "python",
   "pygments_lexer": "ipython3",
   "version": "3.12.7"
  }
 },
 "nbformat": 4,
 "nbformat_minor": 2
}
