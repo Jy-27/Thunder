{
 "cells": [
  {
   "cell_type": "code",
   "execution_count": 2,
   "metadata": {},
   "outputs": [
    {
     "name": "stdout",
     "output_type": "stream",
     "text": [
      "  📨 BTCUSDT_5m 수신 완료\n",
      "  📨 BTCUSDT_3m 수신 완료\n",
      "  📨 BTCUSDT_1m 수신 완료\n"
     ]
    }
   ],
   "source": [
    "import asyncio\n",
    "import nest_asyncio\n",
    "import concurrent.futures.process\n",
    "import numpy as np\n",
    "from Workspace.BackTest.DataFactory import FactoryManager\n",
    "import SystemConfig\n",
    "from typing import List, Dict, Any\n",
    "from Workspace.BackTest.Storage.StorageCollector import ClosingSyncStorage\n",
    "import Workspace.Utils.BaseUtils as base_utils\n",
    "\n",
    "nest_asyncio.apply()\n",
    "\n",
    "start_date = \"2025-01-01\"\n",
    "end_date = \"2025-01-5\"\n",
    "symbol = SystemConfig.Streaming.symbols\n",
    "intervals = SystemConfig.Streaming.intervals# + [\"1m\"]\n",
    "storage = ClosingSyncStorage()\n",
    "\n",
    "ins_factory = FactoryManager(start_date, end_date)\n",
    "\n",
    "symbols = [\"BTCUSDT\"]#, \"ETHUSDT\", \"ADAUSDT\"]\n",
    "data = asyncio.run(ins_factory.fetch_multiple_klines(symbols, intervals))\n",
    "\n",
    "process_data = ins_factory.process_for_analysis(data)\n",
    "base=process_data[\"BTCUSDT\"][\"1m\"]\n",
    "closing_3m = ins_factory.generate_kline_closing_sync(base, process_data[\"BTCUSDT\"][\"3m\"], \"3m\")\n",
    "closing_5m = ins_factory.generate_kline_closing_sync(base, process_data[\"BTCUSDT\"][\"5m\"], \"5m\")\n",
    "base_indices = ins_factory.generate_indices_arange(\"1m\", base)"
   ]
  },
  {
   "cell_type": "code",
   "execution_count": 3,
   "metadata": {},
   "outputs": [],
   "source": [
    "def generate_indices_by_interval(base_indices, interval:str, lookback_days:int=1):\n",
    "    index_step = base_utils.get_interval_minutes(interval)\n",
    "    day_step = base_utils.get_interval_minutes(\"1d\") * lookback_days\n",
    "    result = []\n",
    "    for current_index in base_indices:\n",
    "        start_idx = max(current_index-day_step, 0)\n",
    "        if start_idx == 0:\n",
    "            continue\n",
    "        condition = np.where((base_indices >= start_idx)&\n",
    "                            (base_indices < current_index)&\n",
    "                            (base_indices % index_step==0))\n",
    "        add_indices = np.append(condition, current_index)\n",
    "        result.append(np.append(condition, current_index))\n",
    "    return result"
   ]
  },
  {
   "cell_type": "code",
   "execution_count": 5,
   "metadata": {},
   "outputs": [],
   "source": [
    "indices_1m = generate_indices_by_interval(base_indices, '1m', 1)\n",
    "indices_3m = generate_indices_by_interval(base_indices, '3m', 1)\n",
    "indices_5m = generate_indices_by_interval(base_indices, '5m', 1)"
   ]
  },
  {
   "cell_type": "code",
   "execution_count": 6,
   "metadata": {},
   "outputs": [
    {
     "name": "stdout",
     "output_type": "stream",
     "text": [
      " 1m : 4320\n",
      " 1m : 4320\n",
      " 1m : 4320\n"
     ]
    }
   ],
   "source": [
    "print(f\" 1m : {len(indices_1m)}\")\n",
    "print(f\" 1m : {len(indices_3m)}\")\n",
    "print(f\" 1m : {len(indices_5m)}\")"
   ]
  },
  {
   "cell_type": "code",
   "execution_count": 16,
   "metadata": {},
   "outputs": [
    {
     "data": {
      "text/plain": [
       "np.int64(1)"
      ]
     },
     "execution_count": 16,
     "metadata": {},
     "output_type": "execute_result"
    }
   ],
   "source": [
    "base_indices[1]"
   ]
  },
  {
   "cell_type": "code",
   "execution_count": 33,
   "metadata": {},
   "outputs": [],
   "source": [
    "for i, v in enumerate(indices_3m):\n",
    "    base[v]\n",
    "    closing_3m[v]\n",
    "    closing_5m[v]"
   ]
  },
  {
   "cell_type": "code",
   "execution_count": null,
   "metadata": {},
   "outputs": [
    {
     "data": {
      "text/plain": [
       "False"
      ]
     },
     "execution_count": 10,
     "metadata": {},
     "output_type": "execute_result"
    }
   ],
   "source": [
    "from typing import List, Dict, Optional, Any\n",
    "import numpy as np\n",
    "import asyncio\n",
    "import os, sys\n",
    "import pickle\n",
    "\n",
    "home_path = os.path.expanduser(\"~\")\n",
    "sys.path.append(os.path.join(home_path, \"github\", \"Thunder\", \"Binance\"))\n",
    "\n",
    "path = os.path.join(home_path, \"github\", \"TestData\")\n",
    "-\n",
    "os.path.isdir(path)"
   ]
  }
 ],
 "metadata": {
  "kernelspec": {
   "display_name": "ame",
   "language": "python",
   "name": "python3"
  },
  "language_info": {
   "codemirror_mode": {
    "name": "ipython",
    "version": 3
   },
   "file_extension": ".py",
   "mimetype": "text/x-python",
   "name": "python",
   "nbconvert_exporter": "python",
   "pygments_lexer": "ipython3",
   "version": "3.10.16"
  }
 },
 "nbformat": 4,
 "nbformat_minor": 2
}
