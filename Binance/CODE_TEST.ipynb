{
 "cells": [
  {
   "cell_type": "code",
   "execution_count": 1,
   "metadata": {},
   "outputs": [],
   "source": [
    "import asyncio\n",
    "import nest_asyncio\n",
    "\n",
    "nest_asyncio.apply()"
   ]
  },
  {
   "cell_type": "code",
   "execution_count": 2,
   "metadata": {},
   "outputs": [],
   "source": [
    "queues_list = [\"ticker\", \"trade\", \"minTicker\", \"depth\", \"aggTrade\", \"kline_ws\", \"execution_ws\", \"kline_fetcher\", \"orderbook_fetcher\", \"fetch_all_storage\", \"send_exponential\", \"fetch_exponential\", \"send_analysis\", \"fetch_analysis\", \"fetch_analysis\", \"send_analysis\", \"send_trading_status\", \"fetch_trading_status\"]\n",
    "events_list = [\"stop_loop\", \"event_timer_start\", \"event_start_exponential\", \"event_done_exeponential\", \"event_request_receiver_data\", \"event_start_analysis\", \"event_done_analysis\", \"event_request_computed_results\", \"event_start_orders\", \"event_done_orders\", \"event_request_status\", \"event_start_monitor\", \"event_done_monitor\", \"event_request_message\", \"event_start_message\", \"event_done_message\"]"
   ]
  },
  {
   "cell_type": "code",
   "execution_count": null,
   "metadata": {},
   "outputs": [
    {
     "ename": "NameError",
     "evalue": "name 'queue_list' is not defined",
     "output_type": "error",
     "traceback": [
      "\u001b[0;31m---------------------------------------------------------------------------\u001b[0m",
      "\u001b[0;31mNameError\u001b[0m                                 Traceback (most recent call last)",
      "Cell \u001b[0;32mIn[3], line 2\u001b[0m\n\u001b[1;32m      1\u001b[0m queues \u001b[38;5;241m=\u001b[39m {}\n\u001b[0;32m----> 2\u001b[0m \u001b[38;5;28;01mfor\u001b[39;00m queue \u001b[38;5;129;01min\u001b[39;00m \u001b[43mqueue_list\u001b[49m:\n\u001b[1;32m      3\u001b[0m     queues[queue] \u001b[38;5;241m=\u001b[39m asyncio\u001b[38;5;241m.\u001b[39mQueue()\n\u001b[1;32m      4\u001b[0m events \u001b[38;5;241m=\u001b[39m {}\n",
      "\u001b[0;31mNameError\u001b[0m: name 'queue_list' is not defined"
     ]
    }
   ],
   "source": [
    "queues = {}\n",
    "for queue in queues_list:\n",
    "    queues[queue] = asyncio.Queue()\n",
    "events = {}\n",
    "for event in events_list:\n",
    "    events[event] = asyncio.Event()"
   ]
  },
  {
   "cell_type": "code",
   "execution_count": null,
   "metadata": {},
   "outputs": [],
   "source": []
  }
 ],
 "metadata": {
  "kernelspec": {
   "display_name": "ame",
   "language": "python",
   "name": "python3"
  },
  "language_info": {
   "codemirror_mode": {
    "name": "ipython",
    "version": 3
   },
   "file_extension": ".py",
   "mimetype": "text/x-python",
   "name": "python",
   "nbconvert_exporter": "python",
   "pygments_lexer": "ipython3",
   "version": "3.10.16"
  }
 },
 "nbformat": 4,
 "nbformat_minor": 2
}
