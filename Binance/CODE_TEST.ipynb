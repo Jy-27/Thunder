{
 "cells": [
  {
   "cell_type": "code",
   "execution_count": 1,
   "metadata": {},
   "outputs": [],
   "source": [
    "import os, sys\n",
    "home_path = os.path.expanduser(\"~\")\n",
    "sys.path.append(os.path.join(home_path, \"github\", \"Thunder\", \"Binance\"))"
   ]
  },
  {
   "cell_type": "code",
   "execution_count": 4,
   "metadata": {},
   "outputs": [],
   "source": [
    "from nest_asyncio import apply\n",
    "apply()\n",
    "from SystemTrading.TradingDataHub.MarketDataStorage import RecevierDataStorage\n",
    "from asyncio import Queue, Event\n",
    "\n",
    "\n",
    "dummy_queues = []\n",
    "dummy_events = []\n",
    "for _ in range(10):\n",
    "    dummy_queues.append(Queue())\n",
    "for _ in range(2):\n",
    "    dummy_events.append(Event())\n",
    "\n",
    "ins_receiver_storage = RecevierDataStorage(*dummy_queues, *dummy_events)\n"
   ]
  },
  {
   "cell_type": "code",
   "execution_count": null,
   "metadata": {},
   "outputs": [
    {
     "name": "stdout",
     "output_type": "stream",
     "text": [
      "queue_ticker\n",
      "queue_trade\n",
      "queue_minTicker\n",
      "queue_depth\n",
      "queue_aggTrade\n",
      "queue_kline_ws\n",
      "queue_execution_ws\n",
      "queue_kline_fetcher\n",
      "queue_orderbook_fetcher\n",
      "queue_send_all_storage\n",
      "event_stop_loop\n",
      "event_start_exponential\n",
      "stroage_ticker\n",
      "storage_trade\n",
      "storage_minTicker\n",
      "storage_depth\n",
      "storage_aggTrade\n",
      "storage_kline_ws\n",
      "storage_execution_ws\n",
      "storage_kline_fetcher\n",
      "storage_orderbook_fetcher\n"
     ]
    }
   ],
   "source": [
    "for var in vars(ins_receiver_storage):\n",
    "    if var.startswith(\"storage\"):\n",
    "        "
   ]
  },
  {
   "cell_type": "code",
   "execution_count": null,
   "metadata": {},
   "outputs": [],
   "source": [
    "for i in vars(RecevierDataStorage):\n",
    "    print(i)"
   ]
  },
  {
   "cell_type": "code",
   "execution_count": null,
   "metadata": {},
   "outputs": [],
   "source": [
    "RecevierDataStorage.__annotations__"
   ]
  },
  {
   "cell_type": "code",
   "execution_count": null,
   "metadata": {},
   "outputs": [],
   "source": []
  }
 ],
 "metadata": {
  "kernelspec": {
   "display_name": "ame",
   "language": "python",
   "name": "python3"
  },
  "language_info": {
   "codemirror_mode": {
    "name": "ipython",
    "version": 3
   },
   "file_extension": ".py",
   "mimetype": "text/x-python",
   "name": "python",
   "nbconvert_exporter": "python",
   "pygments_lexer": "ipython3",
   "version": "3.10.16"
  }
 },
 "nbformat": 4,
 "nbformat_minor": 2
}
