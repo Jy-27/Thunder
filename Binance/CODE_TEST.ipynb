{
 "cells": [
  {
   "cell_type": "code",
   "execution_count": 1,
   "metadata": {},
   "outputs": [],
   "source": [
    "import Processor.Order.Futures.Live as order_live\n",
    "import API.Queries.Private.Futures as private_api\n",
    "import API.Queries.Public.Futures as public_api\n",
    "import API.Reciver.Futures as reciver_api\n",
    "import Utils.TradingUtils as futures_utils\n",
    "import Utils.BaseUtils as base_utils\n",
    "\n",
    "\n",
    "ins_orders = order_live.Orders()\n",
    "ins_private_api = private_api.API()\n",
    "ins_public_api = public_api.API()\n",
    "\n",
    "# config info\n",
    "symbols = ['BTCUSDT', 'TRXUSDT', 'ETHUSDT']\n",
    "intervals = ['3m', '5m']\n",
    "\n",
    "ins_reciver_api = reciver_api.API(intervals=intervals)"
   ]
  },
  {
   "cell_type": "code",
   "execution_count": null,
   "metadata": {},
   "outputs": [],
   "source": []
  }
 ],
 "metadata": {
  "kernelspec": {
   "display_name": "python",
   "language": "python",
   "name": "python3"
  },
  "language_info": {
   "codemirror_mode": {
    "name": "ipython",
    "version": 3
   },
   "file_extension": ".py",
   "mimetype": "text/x-python",
   "name": "python",
   "nbconvert_exporter": "python",
   "pygments_lexer": "ipython3",
   "version": "3.12.2"
  }
 },
 "nbformat": 4,
 "nbformat_minor": 2
}
