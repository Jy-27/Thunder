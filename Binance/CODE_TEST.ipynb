{
 "cells": [
  {
   "cell_type": "code",
   "execution_count": 4,
   "metadata": {},
   "outputs": [
    {
     "ename": "HTTPError",
     "evalue": "400 Client Error: Bad Request for url: https://fapi.binance.com/fapi/v1/order?symbol=ADAUSDT&side=BUY&quantity=6.2&positionSide=BOTH&reduceOnly=False&type=MARKET&timestamp=1739521781520&signature=948a46e3dc23c275a9e59ab5d294c44ac478f47a8ce7264e3bdadef9db0d920d",
     "output_type": "error",
     "traceback": [
      "\u001b[0;31m---------------------------------------------------------------------------\u001b[0m",
      "\u001b[0;31mHTTPError\u001b[0m                                 Traceback (most recent call last)",
      "Cell \u001b[0;32mIn[4], line 29\u001b[0m\n\u001b[1;32m     25\u001b[0m     margin \u001b[38;5;241m=\u001b[39m futures_utils\u001b[38;5;241m.\u001b[39mCalculator\u001b[38;5;241m.\u001b[39minitial_margin(quantity[\u001b[38;5;124m'\u001b[39m\u001b[38;5;124mminSize\u001b[39m\u001b[38;5;124m'\u001b[39m], price, imr)\n\u001b[1;32m     27\u001b[0m     min_qty \u001b[38;5;241m=\u001b[39m quantity[\u001b[38;5;124m'\u001b[39m\u001b[38;5;124mminSize\u001b[39m\u001b[38;5;124m'\u001b[39m]\n\u001b[0;32m---> 29\u001b[0m     \u001b[43mins_private_api\u001b[49m\u001b[38;5;241;43m.\u001b[39;49m\u001b[43mposition_market_order\u001b[49m\u001b[43m(\u001b[49m\u001b[43msymbol\u001b[49m\u001b[43m,\u001b[49m\u001b[43m \u001b[49m\u001b[43mposition_side\u001b[49m\u001b[43m,\u001b[49m\u001b[43m \u001b[49m\u001b[43mmin_qty\u001b[49m\u001b[43m,\u001b[49m\u001b[43m \u001b[49m\u001b[38;5;124;43m\"\u001b[39;49m\u001b[38;5;124;43mBOTH\u001b[39;49m\u001b[38;5;124;43m\"\u001b[39;49m\u001b[43m,\u001b[49m\u001b[43m \u001b[49m\u001b[38;5;28;43;01mFalse\u001b[39;49;00m\u001b[43m)\u001b[49m\n\u001b[1;32m     30\u001b[0m     \u001b[38;5;66;03m# print(\"\\n\")\u001b[39;00m\n\u001b[1;32m     31\u001b[0m     \u001b[38;5;66;03m# print(f\"symbol: {symbol}\")\u001b[39;00m\n\u001b[1;32m     32\u001b[0m     \u001b[38;5;66;03m# print(f\"quantity: {quantity[\"minSize\"]}\")\u001b[39;00m\n\u001b[0;32m   (...)\u001b[0m\n\u001b[1;32m     37\u001b[0m \u001b[38;5;66;03m# account_data = ins_private_api.fetch_account_balance()\u001b[39;00m\n\u001b[1;32m     38\u001b[0m \u001b[38;5;66;03m# ins_orders.close_all_positions(account_data)\u001b[39;00m\n",
      "File \u001b[0;32m~/GitHub/Thunder/Binance/API/Private/Futures.py:152\u001b[0m, in \u001b[0;36mAPI.position_market_order\u001b[0;34m(self, symbol, side, quantity, position_side, reduce_only)\u001b[0m\n\u001b[1;32m    142\u001b[0m order_type \u001b[38;5;241m=\u001b[39m \u001b[38;5;124m\"\u001b[39m\u001b[38;5;124mMARKET\u001b[39m\u001b[38;5;124m\"\u001b[39m\n\u001b[1;32m    143\u001b[0m params \u001b[38;5;241m=\u001b[39m {\n\u001b[1;32m    144\u001b[0m     \u001b[38;5;124m\"\u001b[39m\u001b[38;5;124msymbol\u001b[39m\u001b[38;5;124m\"\u001b[39m: symbol,\n\u001b[1;32m    145\u001b[0m     \u001b[38;5;124m\"\u001b[39m\u001b[38;5;124mside\u001b[39m\u001b[38;5;124m\"\u001b[39m: side,\n\u001b[0;32m   (...)\u001b[0m\n\u001b[1;32m    150\u001b[0m     \u001b[38;5;124m\"\u001b[39m\u001b[38;5;124mtimestamp\u001b[39m\u001b[38;5;124m\"\u001b[39m: ms_timestamp,\n\u001b[1;32m    151\u001b[0m }\n\u001b[0;32m--> 152\u001b[0m \u001b[38;5;28;01mreturn\u001b[39;00m \u001b[38;5;28;43mself\u001b[39;49m\u001b[38;5;241;43m.\u001b[39;49m\u001b[43m_send_request\u001b[49m\u001b[43m(\u001b[49m\u001b[38;5;124;43m\"\u001b[39;49m\u001b[38;5;124;43mPOST\u001b[39;49m\u001b[38;5;124;43m\"\u001b[39;49m\u001b[43m,\u001b[49m\u001b[43m \u001b[49m\u001b[43mendpoint\u001b[49m\u001b[43m,\u001b[49m\u001b[43m \u001b[49m\u001b[43mparams\u001b[49m\u001b[43m)\u001b[49m\n",
      "File \u001b[0;32m~/GitHub/Thunder/Binance/API/Private/PrivateAPI.py:108\u001b[0m, in \u001b[0;36mPrivateAPI._send_request\u001b[0;34m(self, method, endpoint, params)\u001b[0m\n\u001b[1;32m     98\u001b[0m response \u001b[38;5;241m=\u001b[39m requests\u001b[38;5;241m.\u001b[39mrequest(method, url, headers\u001b[38;5;241m=\u001b[39mheaders, params\u001b[38;5;241m=\u001b[39mparams)\n\u001b[1;32m    100\u001b[0m \u001b[38;5;66;03m# if response.status_code != 200:\u001b[39;00m\n\u001b[1;32m    101\u001b[0m \u001b[38;5;66;03m#     print(\"Error Response:\", response.text)\u001b[39;00m\n\u001b[1;32m    102\u001b[0m \u001b[38;5;66;03m#     response.raise_for_status()\u001b[39;00m\n\u001b[0;32m   (...)\u001b[0m\n\u001b[1;32m    105\u001b[0m \u001b[38;5;66;03m# print(\"Response Status Code:\", response.status_code)\u001b[39;00m\n\u001b[1;32m    106\u001b[0m \u001b[38;5;66;03m# print(\"Response Text:\", response.text)\u001b[39;00m\n\u001b[0;32m--> 108\u001b[0m \u001b[43mresponse\u001b[49m\u001b[38;5;241;43m.\u001b[39;49m\u001b[43mraise_for_status\u001b[49m\u001b[43m(\u001b[49m\u001b[43m)\u001b[49m\n\u001b[1;32m    109\u001b[0m \u001b[38;5;28;01mreturn\u001b[39;00m response\u001b[38;5;241m.\u001b[39mjson()\n",
      "File \u001b[0;32m/usr/local/Caskroom/miniconda/base/envs/ame/lib/python3.12/site-packages/requests/models.py:1024\u001b[0m, in \u001b[0;36mResponse.raise_for_status\u001b[0;34m(self)\u001b[0m\n\u001b[1;32m   1019\u001b[0m     http_error_msg \u001b[38;5;241m=\u001b[39m (\n\u001b[1;32m   1020\u001b[0m         \u001b[38;5;124mf\u001b[39m\u001b[38;5;124m\"\u001b[39m\u001b[38;5;132;01m{\u001b[39;00m\u001b[38;5;28mself\u001b[39m\u001b[38;5;241m.\u001b[39mstatus_code\u001b[38;5;132;01m}\u001b[39;00m\u001b[38;5;124m Server Error: \u001b[39m\u001b[38;5;132;01m{\u001b[39;00mreason\u001b[38;5;132;01m}\u001b[39;00m\u001b[38;5;124m for url: \u001b[39m\u001b[38;5;132;01m{\u001b[39;00m\u001b[38;5;28mself\u001b[39m\u001b[38;5;241m.\u001b[39murl\u001b[38;5;132;01m}\u001b[39;00m\u001b[38;5;124m\"\u001b[39m\n\u001b[1;32m   1021\u001b[0m     )\n\u001b[1;32m   1023\u001b[0m \u001b[38;5;28;01mif\u001b[39;00m http_error_msg:\n\u001b[0;32m-> 1024\u001b[0m     \u001b[38;5;28;01mraise\u001b[39;00m HTTPError(http_error_msg, response\u001b[38;5;241m=\u001b[39m\u001b[38;5;28mself\u001b[39m)\n",
      "\u001b[0;31mHTTPError\u001b[0m: 400 Client Error: Bad Request for url: https://fapi.binance.com/fapi/v1/order?symbol=ADAUSDT&side=BUY&quantity=6.2&positionSide=BOTH&reduceOnly=False&type=MARKET&timestamp=1739521781520&signature=948a46e3dc23c275a9e59ab5d294c44ac478f47a8ce7264e3bdadef9db0d920d"
     ]
    }
   ],
   "source": [
    "import Processor.Order.Futures.Live\n",
    "import API.Private.Futures\n",
    "import API.Public.Futures\n",
    "import Utils.TradingUtils as futures_utils\n",
    "\n",
    "ins_orders = Processor.Order.Futures.Live.Orders()\n",
    "ins_private_api = API.Private.Futures.API()\n",
    "ins_public_api = API.Public.Futures.API()\n",
    "\n",
    "symbols = ['ADAUSDT', 'DOGEUSDT']\n",
    "\n",
    "balance = 1.2\n",
    "leverage = 5\n",
    "position_side = 'BUY'\n",
    "\n",
    "for symbol in symbols:\n",
    "    ins_orders.set_leverage(symbol, 2)\n",
    "    ins_orders.set_margin_type(symbol, False)\n",
    "    ticker_data = ins_public_api.fetch_mark_price(symbol)\n",
    "    price = float(ticker_data['markPrice'])\n",
    "    \n",
    "    quantity = ins_orders.position_size(symbol, price, leverage, balance)\n",
    "    \n",
    "    imr = futures_utils.Calculator.imr(leverage)\n",
    "    margin = futures_utils.Calculator.initial_margin(quantity['minSize'], price, imr)\n",
    "    \n",
    "    min_qty = quantity['minSize']\n",
    "    \n",
    "    ins_private_api.position_market_order(symbol, position_side, min_qty, \"BOTH\", False)\n",
    "    # print(\"\\n\")\n",
    "    # print(f\"symbol: {symbol}\")\n",
    "    # print(f\"quantity: {quantity[\"minSize\"]}\")\n",
    "    # print(f\"margin: {margin}\")\n",
    "    \n",
    "    \n",
    "\n",
    "# account_data = ins_private_api.fetch_account_balance()\n",
    "# ins_orders.close_all_positions(account_data)"
   ]
  },
  {
   "cell_type": "code",
   "execution_count": null,
   "metadata": {},
   "outputs": [],
   "source": [
    "futures_utils.Calculator.initial_margin()"
   ]
  }
 ],
 "metadata": {
  "kernelspec": {
   "display_name": "ame",
   "language": "python",
   "name": "python3"
  },
  "language_info": {
   "codemirror_mode": {
    "name": "ipython",
    "version": 3
   },
   "file_extension": ".py",
   "mimetype": "text/x-python",
   "name": "python",
   "nbconvert_exporter": "python",
   "pygments_lexer": "ipython3",
   "version": "3.12.2"
  }
 },
 "nbformat": 4,
 "nbformat_minor": 2
}
