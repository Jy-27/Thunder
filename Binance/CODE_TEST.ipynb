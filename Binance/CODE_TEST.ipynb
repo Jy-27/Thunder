{
 "cells": [
  {
   "cell_type": "code",
   "execution_count": 1,
   "metadata": {},
   "outputs": [],
   "source": [
    "import os, sys\n",
    "home_path = os.path.expanduser(\"~\")\n",
    "sys.path.append(os.path.join(home_path, \"github\", \"Thunder\", \"Binance\"))"
   ]
  },
  {
   "cell_type": "code",
   "execution_count": 59,
   "metadata": {},
   "outputs": [],
   "source": [
    "import SystemConfig\n",
    "\n",
    "symbols = tuple(SystemConfig.Streaming.symbols)\n",
    "\n",
    "from typing import Any, List\n",
    "import json\n",
    "\n",
    "\n",
    "class CalculationReport:\n",
    "    \"\"\"\n",
    "    분석용 계산결과를 저장하는 클라스이다.\n",
    "    지정된 속성값은 없으며, 업데이트대마다 전부 신규로 등록처리한다.\n",
    "    \"\"\"\n",
    "    \n",
    "    def __init__(self):\n",
    "        ...\n",
    "        \n",
    "    def set_data(self, attr_name:str, data:Any):\n",
    "        setattr(self, attr_name, data)\n",
    "    \n",
    "    def get_data(self, attr_name:str) -> Any:\n",
    "        if not isinstance(attr_name, str):\n",
    "            raise ValueError(f\"타입 입력 오류: {type(attr_name)}\")\n",
    "        if not hasattr(self, attr_name):\n",
    "            raise ValueError(f\"name 입력 오류: {attr_name}\")\n",
    "            \n",
    "        return getattr(self, attr_name)\n",
    "    \n",
    "    def get_fields(self) -> List:\n",
    "        return [key for key in vars(self).keys()]\n",
    "    \n",
    "    def to_dict(self):\n",
    "        result = {}\n",
    "        for attr in self.__dict__:\n",
    "            result[attr] = getattr(self, attr)\n",
    "        return result\n",
    "    \n",
    "    def clear(self):\n",
    "        for attr in self.__dict__:\n",
    "            delattr(self, attr)\n",
    "    \n",
    "    def __str__(self) -> str:\n",
    "        return json.dumps(vars(self), indent=2)\n",
    "\n",
    "    def __repr__(self):\n",
    "        return str(self.to_dict())\n",
    "\n",
    "\n",
    "class ComputedResults:\n",
    "    __slots__ = symbols\n",
    "    def __init__(self):\n",
    "        for slot in self.__slots__:\n",
    "            setattr(self, slot, CalculationReport())\n",
    "    \n",
    "    def to_dict(self):\n",
    "        result = {}\n",
    "        for slot in self.__slots__:\n",
    "            result[slot] = slot.to_dict()\n",
    "        return result\n",
    "\n",
    "    def __repr__(self):\n",
    "        return str(self.to_dict())"
   ]
  },
  {
   "cell_type": "code",
   "execution_count": 60,
   "metadata": {},
   "outputs": [],
   "source": [
    "dummy = CalculationReport()"
   ]
  },
  {
   "cell_type": "code",
   "execution_count": 61,
   "metadata": {},
   "outputs": [],
   "source": [
    "dummy.set_data(\"BTCUSDT\",[123,123,123])"
   ]
  },
  {
   "cell_type": "code",
   "execution_count": 64,
   "metadata": {},
   "outputs": [
    {
     "data": {
      "text/plain": [
       "'{\\n  \"BTCUSDT\": [\\n    123,\\n    123,\\n    123\\n  ]\\n}'"
      ]
     },
     "execution_count": 64,
     "metadata": {},
     "output_type": "execute_result"
    }
   ],
   "source": [
    "str(dummy)"
   ]
  },
  {
   "cell_type": "code",
   "execution_count": null,
   "metadata": {},
   "outputs": [],
   "source": []
  }
 ],
 "metadata": {
  "kernelspec": {
   "display_name": "python",
   "language": "python",
   "name": "python3"
  },
  "language_info": {
   "codemirror_mode": {
    "name": "ipython",
    "version": 3
   },
   "file_extension": ".py",
   "mimetype": "text/x-python",
   "name": "python",
   "nbconvert_exporter": "python",
   "pygments_lexer": "ipython3",
   "version": "3.12.2"
  }
 },
 "nbformat": 4,
 "nbformat_minor": 2
}
