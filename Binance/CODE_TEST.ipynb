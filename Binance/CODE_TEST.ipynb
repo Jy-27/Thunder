{
 "cells": [
  {
   "cell_type": "code",
   "execution_count": 2,
   "metadata": {},
   "outputs": [
    {
     "ename": "SyntaxError",
     "evalue": "'continue' not properly in loop (Analysis.py, line 195)",
     "output_type": "error",
     "traceback": [
      "Traceback \u001b[0;36m(most recent call last)\u001b[0m:\n",
      "\u001b[0m  File \u001b[1;32m/opt/anaconda3/envs/ame/lib/python3.10/site-packages/IPython/core/interactiveshell.py:3579\u001b[0m in \u001b[1;35mrun_code\u001b[0m\n    exec(code_obj, self.user_global_ns, self.user_ns)\u001b[0m\n",
      "\u001b[0;36m  Cell \u001b[0;32mIn[2], line 26\u001b[0;36m\n\u001b[0;31m    import Workspace.Processor.Analysis.Analysis as al\u001b[0;36m\n",
      "\u001b[0;36m  File \u001b[0;32m~/GitHub/Thunder/Binance/Workspace/Processor/Analysis/Analysis.py:195\u001b[0;36m\u001b[0m\n\u001b[0;31m    continue\u001b[0m\n\u001b[0m    ^\u001b[0m\n\u001b[0;31mSyntaxError\u001b[0m\u001b[0;31m:\u001b[0m 'continue' not properly in loop\n"
     ]
    }
   ],
   "source": [
    "import asyncio\n",
    "import nest_asyncio\n",
    "import SystemConfig\n",
    "from Workspace.DataStorage.NodeStorage import SubStorage, MainStorage\n",
    "from Workspace.Services.PublicData.Fetcher.FuturesMarketFetcher import FuturesMarketFetcher as futures_mk_fetcher\n",
    "import numpy as np\n",
    "\n",
    "symbols = SystemConfig.Streaming.symbols\n",
    "intervals = SystemConfig.Streaming.intervals\n",
    "convert_to_intervals = [f\"interval_{i}\" for i in intervals]\n",
    "\n",
    "obj = futures_mk_fetcher()\n",
    "\n",
    "sub_storage = SubStorage(convert_to_intervals)\n",
    "main_storage = MainStorage(symbols, sub_storage)\n",
    "\n",
    "nest_asyncio.apply()\n",
    "\n",
    "### TEST DATA ###\n",
    "symbol = 'BTCUSDT'\n",
    "for interval in intervals:\n",
    "    convert_to_interval = f\"interval_{interval}\"\n",
    "    data = obj.fetch_klines_limit(symbol, interval, 150)\n",
    "    main_storage.set_data(symbol, convert_to_interval, data)\n",
    "\n",
    "import Workspace.Processor.Analysis.Analysis as al\n",
    "\n",
    "ma = al.IndicatorMA(kline_datasets=main_storage.get_data('BTCUSDT', 'interval_3m'))\n",
    "macd = al.IndicatorMACD(data=main_storage.get_data('BTCUSDT', 'interval_3m'))"
   ]
  },
  {
   "cell_type": "code",
   "execution_count": null,
   "metadata": {},
   "outputs": [],
   "source": []
  },
  {
   "cell_type": "code",
   "execution_count": 3,
   "metadata": {},
   "outputs": [],
   "source": [
    "test_obj_2.run()"
   ]
  },
  {
   "cell_type": "code",
   "execution_count": 6,
   "metadata": {},
   "outputs": [
    {
     "ename": "AttributeError",
     "evalue": "'list' object has no attribute 'keys'",
     "output_type": "error",
     "traceback": [
      "\u001b[0;31m---------------------------------------------------------------------------\u001b[0m",
      "\u001b[0;31mAttributeError\u001b[0m                            Traceback (most recent call last)",
      "Cell \u001b[0;32mIn[6], line 1\u001b[0m\n\u001b[0;32m----> 1\u001b[0m \u001b[43mal\u001b[49m\u001b[38;5;241;43m.\u001b[39;49m\u001b[43mSellStrategy1\u001b[49m\u001b[43m(\u001b[49m\u001b[43mtest_obj\u001b[49m\u001b[43m,\u001b[49m\u001b[43m \u001b[49m\u001b[43mtest_obj_2\u001b[49m\u001b[43m)\u001b[49m\u001b[38;5;241;43m.\u001b[39;49m\u001b[43mrun\u001b[49m\u001b[43m(\u001b[49m\u001b[43m)\u001b[49m\n",
      "File \u001b[0;32m~/GitHub/Thunder/Binance/Workspace/Processor/Analysis/Analysis.py:170\u001b[0m, in \u001b[0;36mSellStrategy1.run\u001b[0;34m(self)\u001b[0m\n\u001b[1;32m    169\u001b[0m \u001b[38;5;28;01mdef\u001b[39;00m\u001b[38;5;250m \u001b[39m\u001b[38;5;21mrun\u001b[39m(\u001b[38;5;28mself\u001b[39m):\n\u001b[0;32m--> 170\u001b[0m     symbols \u001b[38;5;241m=\u001b[39m \u001b[38;5;28mlist\u001b[39m(\u001b[38;5;28;43mself\u001b[39;49m\u001b[38;5;241;43m.\u001b[39;49m\u001b[43mkline_datasets\u001b[49m\u001b[38;5;241;43m.\u001b[39;49m\u001b[43mkeys\u001b[49m())\n\u001b[1;32m    171\u001b[0m     result \u001b[38;5;241m=\u001b[39m {}\n\u001b[1;32m    172\u001b[0m     \u001b[38;5;28;01mfor\u001b[39;00m symbol \u001b[38;5;129;01min\u001b[39;00m symbols:\n",
      "\u001b[0;31mAttributeError\u001b[0m: 'list' object has no attribute 'keys'"
     ]
    }
   ],
   "source": [
    "al.SellStrategy1(test_obj, test_obj_2).run()"
   ]
  },
  {
   "cell_type": "code",
   "execution_count": null,
   "metadata": {},
   "outputs": [],
   "source": []
  }
 ],
 "metadata": {
  "kernelspec": {
   "display_name": "ame",
   "language": "python",
   "name": "python3"
  },
  "language_info": {
   "codemirror_mode": {
    "name": "ipython",
    "version": 3
   },
   "file_extension": ".py",
   "mimetype": "text/x-python",
   "name": "python",
   "nbconvert_exporter": "python",
   "pygments_lexer": "ipython3",
   "version": "3.10.16"
  }
 },
 "nbformat": 4,
 "nbformat_minor": 2
}
