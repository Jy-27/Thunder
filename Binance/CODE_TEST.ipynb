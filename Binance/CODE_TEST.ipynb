{
 "cells": [
  {
   "cell_type": "code",
   "execution_count": null,
   "metadata": {},
   "outputs": [
    {
     "name": "stdout",
     "output_type": "stream",
     "text": [
      "  📨 BTCUSDT_5m 수신 완료\n",
      "  📨 BTCUSDT_3m 수신 완료\n",
      "  📨 BTCUSDT_1m 수신 완료\n"
     ]
    }
   ],
   "source": [
    "import asyncio\n",
    "import nest_asyncio\n",
    "import concurrent.futures.process\n",
    "import numpy as np\n",
    "from Workspace.BackTest.DataFactory import FactoryManager\n",
    "import SystemConfig\n",
    "from typing import List, Dict, Any\n",
    "\n",
    "\n",
    "nest_asyncio.apply()\n",
    "\n",
    "start_date = \"2025-01-01\"\n",
    "end_date = \"2025-01-5\"\n",
    "symbol = SystemConfig.Streaming.symbols\n",
    "intervals = SystemConfig.Streaming.intervals + [\"1m\"]\n",
    "\n",
    "ins_factory = FactoryManager(start_date, end_date)\n",
    "\n",
    "symbols = [\"BTCUSDT\"]#, \"ETHUSDT\", \"ADAUSDT\"]\n",
    "data = asyncio.run(ins_factory.fetch_multiple_klines(symbols, intervals))\n",
    "\n",
    "process_data = ins_factory.process_for_analysis(data)"
   ]
  },
  {
   "cell_type": "code",
   "execution_count": null,
   "metadata": {},
   "outputs": [],
   "source": [
    "import Workspace.Utils.BaseUtils as base_utils\n",
    "\n",
    "def generate_kline_closing_sync_2(base_data:np.ndarray, selec_data:np.ndarray, interval:str):\n",
    "    result = {}\n",
    "    timestamp_range = base_utils.get_interval_ms_seconds(interval) - 1\n",
    "    temp_data = []\n",
    "    \n",
    "    \n",
    "    for (open_timestamp, open_price, high_price, low_price, close_price, \n",
    "     volume, close_timestamp, volume_total_usdt, trades_count, \n",
    "     taker_asset_volume, taker_quote_volume) in zip(*base_data.T):\n",
    "        # open_timestamp = 시작 타임스템프\n",
    "        # open_price = 시작 가격\n",
    "        # high_price = 최고 가격\n",
    "        # low_price = 최저 가격\n",
    "        # close_price = 마지막 가격\n",
    "        # volume = 거래량(단위 : coin)\n",
    "        # close_timestamp = 종료 타임스템프\n",
    "        # volume_total_usdt = 거래량(단위 : usdt)\n",
    "        # trades_count = 총 거래횟수\n",
    "        # taker_asset_volume =  시장가 주문 거래량(단위 : coin)\n",
    "        # taker_quote_volume = 시장가 주문 거래량(단위 : usdt)\n",
    "\n",
    "        condition = np.where(\n",
    "            (selec_data[:, 0] <= open_timestamp)\n",
    "            & (selec_data[:, 6] >= close_timestamp))\n",
    "\n",
    "        target_data = selec_data[condition]\n",
    "        \n",
    "        target_open_timestamp = target_data[0, 0]  # 단일값이 확실할 경우\n",
    "        target_close_timestamp = target_data[0, 6]  # 단일값이 확실할 경우\n",
    "\n",
    "        new_data_condition = np.where(\n",
    "            (base_data[:, 0] >= target_open_timestamp)\n",
    "            & (base_data[:, 6] <= close_timestamp)\n",
    "        )  # close_timestamp는 현재 data종료 시간 기준으로 해야한다.\n",
    "\n",
    "        new_base_data = base_data[new_data_condition]\n",
    "\n",
    "        timestamp_diff = new_base_data[-1, 6] - new_base_data[0, 0]\n",
    "        if timestamp_range == timestamp_diff:\n",
    "            new_data = target_data[0]\n",
    "        else:\n",
    "            new_data = [\n",
    "                target_open_timestamp,\n",
    "                new_base_data[0, 1],\n",
    "                np.max(new_base_data[:, 2]),\n",
    "                np.min(new_base_data[:, 3]),\n",
    "                new_base_data[-1, 4],\n",
    "                np.sum(new_base_data[:, 5]),\n",
    "                target_close_timestamp,\n",
    "                np.sum(new_base_data[:, 7]),\n",
    "                np.sum(new_base_data[:, 8]),\n",
    "                np.sum(new_base_data[:, 9]),\n",
    "                np.sum(new_base_data[:, 10]),\n",
    "                0,\n",
    "            ]\n",
    "        temp_data.append(new_data)\n",
    "    result[interval] = np.array(temp_data, float)\n",
    "    \n",
    "    return result"
   ]
  },
  {
   "cell_type": "code",
   "execution_count": 23,
   "metadata": {},
   "outputs": [],
   "source": [
    "base = process_data[\"BTCUSDT\"][\"1m\"]\n",
    "target = process_data[\"BTCUSDT\"][\"3m\"]"
   ]
  },
  {
   "cell_type": "code",
   "execution_count": 28,
   "metadata": {},
   "outputs": [
    {
     "data": {
      "text/plain": [
       "array([[0.00000000e+00, 0.00000000e+00, 0.00000000e+00, ...,\n",
       "        0.00000000e+00, 0.00000000e+00, 0.00000000e+00],\n",
       "       [1.73568960e+12, 9.35488000e+04, 9.36900000e+04, ...,\n",
       "        1.20141000e+02, 1.12466529e+07, 0.00000000e+00],\n",
       "       [1.73568978e+12, 9.36885000e+04, 9.36885000e+04, ...,\n",
       "        4.47990000e+01, 4.19559992e+06, 0.00000000e+00],\n",
       "       ...,\n",
       "       [1.73603466e+12, 9.82550000e+04, 9.82551000e+04, ...,\n",
       "        1.08860000e+01, 1.06945263e+06, 0.00000000e+00],\n",
       "       [1.73603484e+12, 9.82204000e+04, 9.82278000e+04, ...,\n",
       "        2.97120000e+01, 2.91821296e+06, 0.00000000e+00],\n",
       "       [1.73603502e+12, 9.82067000e+04, 9.82068000e+04, ...,\n",
       "        2.42400000e+01, 2.37975032e+06, 0.00000000e+00]], shape=(1921, 12))"
      ]
     },
     "execution_count": 28,
     "metadata": {},
     "output_type": "execute_result"
    }
   ],
   "source": [
    "target"
   ]
  },
  {
   "cell_type": "code",
   "execution_count": 29,
   "metadata": {},
   "outputs": [],
   "source": [
    "dummy = [1,2,3,4,5]\n",
    "a, b, c, d, e = dummy"
   ]
  },
  {
   "cell_type": "code",
   "execution_count": 30,
   "metadata": {},
   "outputs": [
    {
     "data": {
      "text/plain": [
       "1"
      ]
     },
     "execution_count": 30,
     "metadata": {},
     "output_type": "execute_result"
    }
   ],
   "source": [
    "a"
   ]
  },
  {
   "cell_type": "code",
   "execution_count": 31,
   "metadata": {},
   "outputs": [
    {
     "data": {
      "text/plain": [
       "2"
      ]
     },
     "execution_count": 31,
     "metadata": {},
     "output_type": "execute_result"
    }
   ],
   "source": [
    "b"
   ]
  },
  {
   "cell_type": "code",
   "execution_count": 32,
   "metadata": {},
   "outputs": [
    {
     "data": {
      "text/plain": [
       "3"
      ]
     },
     "execution_count": 32,
     "metadata": {},
     "output_type": "execute_result"
    }
   ],
   "source": [
    "c"
   ]
  },
  {
   "cell_type": "code",
   "execution_count": 33,
   "metadata": {},
   "outputs": [
    {
     "data": {
      "text/plain": [
       "4"
      ]
     },
     "execution_count": 33,
     "metadata": {},
     "output_type": "execute_result"
    }
   ],
   "source": [
    "d"
   ]
  },
  {
   "cell_type": "code",
   "execution_count": null,
   "metadata": {},
   "outputs": [],
   "source": [
    "E"
   ]
  }
 ],
 "metadata": {
  "kernelspec": {
   "display_name": "ame",
   "language": "python",
   "name": "python3"
  },
  "language_info": {
   "codemirror_mode": {
    "name": "ipython",
    "version": 3
   },
   "file_extension": ".py",
   "mimetype": "text/x-python",
   "name": "python",
   "nbconvert_exporter": "python",
   "pygments_lexer": "ipython3",
   "version": "3.10.16"
  }
 },
 "nbformat": 4,
 "nbformat_minor": 2
}
