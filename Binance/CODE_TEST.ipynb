{
 "cells": [
  {
   "cell_type": "code",
   "execution_count": 1,
   "metadata": {},
   "outputs": [],
   "source": [
    "import PublicAPI.Futures\n",
    "from futures_trading_utils import *\n",
    "\n",
    "ins_futures = PublicAPI.Futures.API()"
   ]
  },
  {
   "cell_type": "code",
   "execution_count": 11,
   "metadata": {},
   "outputs": [],
   "source": [
    "symbol = 'BTCUSDT'\n",
    "balance = 200\n",
    "leverage = 50\n",
    "mark_price = 96000\n",
    "\n",
    "exchange_data = ins_futures.fetch_exchange_info()\n",
    "symbol_detail = Extractor.symbol_detail(symbol, exchange_data)\n",
    "filter_data = Extractor.symbol_filters(symbol_detail['filters'])\n",
    "\n",
    "\n",
    "# print(min_qty)\n",
    "# print(step_size)\n",
    "# print(notional)\n",
    "\n",
    "def position_size(cls, symbol:str, mark_price:float, leverage:int, balance:float):\n",
    "    exchange_data = ins_futures.fetch_exchange_info()\n",
    "    symbol_detail = Extractor.symbol_detail(symbol, exchange_data)\n",
    "    filter_data = Extractor.symbol_filters(symbol_detail['filters'])\n",
    "    min_qty = filter_data['minQty']\n",
    "    step_size = filter_data['stepSize']\n",
    "    notional = filter_data['notional']\n",
    "\n",
    "    min_position_size = Calculator.min_position_size(mark_price=mark_price, min_qty=min_qty, step_size=step_size, notional=notional)\n",
    "    max_position_size = Calculator.max_position_size(mark_price=mark_price, leverage=leverage, step_size=step_size, balance=balance)\n",
    "\n",
    "    if min_position_size > max_position_size:\n",
    "        return 0\n",
    "    return max_position_size\n",
    "\n",
    "# print(f'MIN : {min_position_size}')\n",
    "# print(f'MAX : {max_position_size}')"
   ]
  },
  {
   "cell_type": "code",
   "execution_count": 12,
   "metadata": {},
   "outputs": [
    {
     "ename": "TypeError",
     "evalue": "position_size() missing 1 required positional argument: 'balance'",
     "output_type": "error",
     "traceback": [
      "\u001b[0;31m---------------------------------------------------------------------------\u001b[0m",
      "\u001b[0;31mTypeError\u001b[0m                                 Traceback (most recent call last)",
      "Cell \u001b[0;32mIn[12], line 1\u001b[0m\n\u001b[0;32m----> 1\u001b[0m \u001b[43mposition_size\u001b[49m\u001b[43m(\u001b[49m\u001b[43msymbol_detail\u001b[49m\u001b[43m,\u001b[49m\u001b[43m \u001b[49m\u001b[43mmark_price\u001b[49m\u001b[43m,\u001b[49m\u001b[43m \u001b[49m\u001b[43mleverage\u001b[49m\u001b[43m,\u001b[49m\u001b[43m \u001b[49m\u001b[43mbalance\u001b[49m\u001b[43m)\u001b[49m\n",
      "\u001b[0;31mTypeError\u001b[0m: position_size() missing 1 required positional argument: 'balance'"
     ]
    }
   ],
   "source": [
    "position_size(symbol_detail, mark_price, leverage, balance)"
   ]
  },
  {
   "cell_type": "code",
   "execution_count": null,
   "metadata": {},
   "outputs": [],
   "source": []
  }
 ],
 "metadata": {
  "kernelspec": {
   "display_name": "ame",
   "language": "python",
   "name": "python3"
  },
  "language_info": {
   "codemirror_mode": {
    "name": "ipython",
    "version": 3
   },
   "file_extension": ".py",
   "mimetype": "text/x-python",
   "name": "python",
   "nbconvert_exporter": "python",
   "pygments_lexer": "ipython3",
   "version": "3.12.2"
  }
 },
 "nbformat": 4,
 "nbformat_minor": 2
}
