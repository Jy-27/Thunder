{
 "cells": [
  {
   "cell_type": "markdown",
   "metadata": {},
   "source": [
    "# Data Analysis\n",
    "## 저장된 데이터를 이용하여 백테스트 분석자료를 구성한다.\n",
    "### 동시에 라이브 트레이딩의 분석자료 테스트용도로 사용한다"
   ]
  },
  {
   "cell_type": "code",
   "execution_count": 6,
   "metadata": {
    "vscode": {
     "languageId": "markdown"
    }
   },
   "outputs": [],
   "source": [
    "# 원인 없이 오류발생시 vscode를 재실행해야 한다."
   ]
  },
  {
   "cell_type": "code",
   "execution_count": 1,
   "metadata": {},
   "outputs": [
    {
     "name": "stdout",
     "output_type": "stream",
     "text": [
      "  🚀 storage 로딩 시작\n",
      "    📤 storage_closing 로딩완료\n",
      "    📤 storage_indices 로딩완료\n",
      "    🔎 intervals 추출완료: ['1m', '3m', '5m', '30m', '1h', '1d']\n",
      "  ✅ 데이터 준비 완료\n"
     ]
    }
   ],
   "source": [
    "import pickle\n",
    "import os, sys\n",
    "home_path = os.path.expanduser(\"~\")\n",
    "sys.path.append(os.path.join(home_path, \"github\", \"Thunder\", \"Binance\"))\n",
    "\n",
    "path_closing = os.path.join(home_path, \"github\", \"TestData\", \"closing.pkl\")\n",
    "path_indices = os.path.join(home_path, \"github\", \"TestData\", \"indices.pkl\")\n",
    "\n",
    "print(f\"  🚀 storage 로딩 시작\")\n",
    "with open(path_closing, \"rb\")as file:\n",
    "    storage_closing = pickle.load(file)\n",
    "print(f\"    📤 storage_closing 로딩완료\")\n",
    "with open(path_indices, \"rb\")as file:\n",
    "    storage_indices = pickle.load(file)\n",
    "print(f\"    📤 storage_indices 로딩완료\")\n",
    "intervals = [i.split(\"_\")[1] for i in storage_closing.__slots__]\n",
    "print(f\"    🔎 intervals 추출완료: {intervals}\")\n",
    "print(f\"  ✅ 데이터 준비 완료\")"
   ]
  },
  {
   "cell_type": "code",
   "execution_count": 2,
   "metadata": {},
   "outputs": [
    {
     "name": "stdout",
     "output_type": "stream",
     "text": [
      "  ✅ dummy data 준비 완료.\n"
     ]
    }
   ],
   "source": [
    "target_indieces = 100\n",
    "\n",
    "indices_1m = storage_indices.get_data(\"1m\", target_indieces)\n",
    "indices_3m = storage_indices.get_data(\"3m\", target_indieces)\n",
    "indices_5m = storage_indices.get_data(\"5m\", target_indieces)\n",
    "indices_30m = storage_indices.get_data(\"30m\", target_indieces)\n",
    "indices_1h = storage_indices.get_data(\"1h\", target_indieces)\n",
    "indices_1d = storage_indices.get_data(\"1d\", target_indieces)\n",
    "\n",
    "data_1m = storage_closing.get_data('1m', indices_1m)\n",
    "data_3m = storage_closing.get_data('3m', indices_3m)\n",
    "data_5m = storage_closing.get_data('5m', indices_5m)\n",
    "data_30m = storage_closing.get_data('30m', indices_5m)\n",
    "data_1h = storage_closing.get_data('1h', indices_5m)\n",
    "data_1d = storage_closing.get_data('1d', indices_5m)\n",
    "\n",
    "print(f\"  ✅ dummy data 준비 완료.\")"
   ]
  },
  {
   "cell_type": "code",
   "execution_count": 3,
   "metadata": {},
   "outputs": [],
   "source": [
    "import Workspace.Analysis.Analysis as al\n",
    "from Workspace.Analysis.Indicator import *\n",
    "\n",
    "def cals_sma(values:np.ndarray, *args):\n",
    "    result = {}\n",
    "    for i in args:\n",
    "        result[i] = MA.sma(values, i)\n",
    "    return result\n",
    "\n",
    "periods = (7, 25, 99)\n",
    "sma_1m = cals_sma(data_1m[:, 4], *periods)\n",
    "sma_30m = cals_sma(data_30m[:, 4], *periods)\n",
    "sma_5m = cals_sma(data_5m[:, 4], *periods)\n",
    "sma_1h = cals_sma(data_1h[:, 4], *periods)\n",
    "closed_price = data_1m[:,4][-1]\n",
    "up_m1 = closed_price < sma_1m[7][-1] < sma_1m[25][-1] < sma_1m[99][-1]\n",
    "up_m30 = closed_price < sma_30m[7][-1] < sma_30m[25][-1] < sma_30m[99][-1]\n",
    "up_m5 = closed_price < sma_5m[7][-1] < sma_5m[25][-1] < sma_5m[99][-1]\n",
    "up_1h = closed_price < sma_1h[7][-1] < sma_1h[25][-1] < sma_1h[99][-1]\n",
    "\n",
    "ema_m1_99 = np.all(np.diff(sma_1m[99]) < 0)\n",
    "ema_m30_99 = np.all(np.diff(sma_30m[99]) < 0)\n",
    "ema_m5_99 = np.all(np.diff(sma_5m[99]) < 0)\n",
    "ema_1h_99 = np.all(np.diff(sma_1h[99]) < 0)\n",
    "\n",
    "result:bool = all([up_m1, up_m30, up_m5, up_1h, ema_m1_99, ema_m30_99, ema_m5_99, ema_1h_99])"
   ]
  },
  {
   "cell_type": "code",
   "execution_count": 18,
   "metadata": {},
   "outputs": [],
   "source": [
    "from typing import Optional, List\n",
    "class Order_L:\n",
    "    def __init__(self, target_roi:float):\n",
    "        self.target_roi = target_roi\n",
    "        self.status:bool = False\n",
    "        self.entry_price:Optional[float] = None\n",
    "        self.high_price:Optional[float] = None\n",
    "        self.low_price:Optional[float] = None\n",
    "        self.trade_history:List = []\n",
    "\n",
    "    def update_low_price(self, value:float):\n",
    "        if self.status:\n",
    "            self.low_price = min(self.low_price, value)\n",
    "\n",
    "    def update_high_price(self, value:float):\n",
    "        if self.status:\n",
    "            # self.high_price = max(self.high_price, value)\n",
    "            self.high_price = value\n",
    "            \n",
    "    def update_entry_price(self, value:float):\n",
    "        if not self.status:\n",
    "            self.entry_price = value\n",
    "            self.status = True\n",
    "            self.high_price = value\n",
    "            self.low_price = value\n",
    "\n",
    "    def stop(self):\n",
    "        if self.status:\n",
    "            target_price = (self.low_price * (1 + self.target_roi))\n",
    "            is_stop = target_price < self.high_price\n",
    "            # print(f\" << {target_price:,.2f} / {self.low_price:,.2f}\")\n",
    "            if is_stop:\n",
    "                self.trade_history.append([self.entry_price, self.high_price])\n",
    "                self.clear()\n",
    "            return is_stop\n",
    "\n",
    "    def clear(self):\n",
    "        self.status = False\n",
    "        self.entry_price = None\n",
    "        self.high_price = None\n",
    "        self.low_price = None"
   ]
  },
  {
   "cell_type": "code",
   "execution_count": 21,
   "metadata": {},
   "outputs": [
    {
     "name": "stdout",
     "output_type": "stream",
     "text": [
      "2025-01-08 12:40:00\n",
      "2025-01-09 04:54:00\n",
      "2025-01-10 04:48:00\n",
      "2025-01-10 23:54:00\n",
      "2025-01-11 10:42:00\n",
      "2025-01-15 01:45:00\n",
      "2025-01-16 12:36:00\n",
      "2025-01-18 10:47:00\n",
      "2025-01-19 18:15:00\n",
      "2025-01-20 07:36:00\n",
      "2025-01-21 00:18:00\n",
      "2025-01-21 02:14:00\n",
      "2025-01-21 04:31:00\n",
      "2025-01-21 14:36:00\n",
      "2025-01-22 10:37:00\n",
      "2025-01-24 09:53:00\n",
      "2025-01-25 05:45:00\n",
      "2025-01-28 03:00:00\n",
      "2025-01-28 21:31:00\n",
      "2025-01-29 22:05:00\n"
     ]
    }
   ],
   "source": [
    "import Workspace.Utils.BaseUtils as base_utils\n",
    "\n",
    "def sma_analysis(index:int, *periods):\n",
    "    indices_1m = storage_indices.get_data(\"1m\", index)\n",
    "    indices_3m = storage_indices.get_data(\"3m\", index)\n",
    "    indices_5m = storage_indices.get_data(\"5m\", index)\n",
    "\n",
    "    data_1m = storage_closing.get_data('1m', indices_1m)\n",
    "    data_3m = storage_closing.get_data('3m', indices_3m)\n",
    "    data_5m = storage_closing.get_data('5m', indices_5m)\n",
    "\n",
    "    sma_1m = cals_sma(data_1m[:, 4], *periods)\n",
    "    sma_3m = cals_sma(data_3m[:, 4], *periods)\n",
    "    sma_5m = cals_sma(data_5m[:, 4], *periods)\n",
    "    \n",
    "    closed_price = data_1m[:,4][-1]\n",
    "    \n",
    "    up_m1 = closed_price < sma_1m[7][-1] < sma_1m[25][-1] < sma_1m[99][-1]\n",
    "    up_m3 = closed_price < sma_3m[7][-1] < sma_3m[25][-1] < sma_3m[99][-1]\n",
    "    up_m5 = closed_price < sma_5m[7][-1] < sma_5m[25][-1] < sma_5m[99][-1]\n",
    "\n",
    "    ema_m1_99 = np.all(np.diff(sma_1m[99])[-1] < 0)\n",
    "    ema_m3_99 = np.all(np.diff(sma_3m[99])[-1] < 0)\n",
    "    ema_m5_99 = np.all(np.diff(sma_5m[99])[-1] < 0)\n",
    "\n",
    "    return all([up_m1, up_m3, up_m5, ema_m1_99, ema_m3_99, ema_m5_99]), data_1m\n",
    "\n",
    "history = Order_L(0.025)\n",
    "\n",
    "index = 0\n",
    "periods = (7, 25, 99)\n",
    "\n",
    "is_run = True\n",
    "while is_run:\n",
    "    # print(1)\n",
    "    try:\n",
    "        result, data = sma_analysis(index, *periods)\n",
    "        \n",
    "        low_price = data[-1][4]\n",
    "        high_price = data[-1][2]\n",
    "        close_price= data[-1][4]\n",
    "        \n",
    "        history.update_high_price(high_price)\n",
    "        history.update_low_price(low_price)\n",
    "\n",
    "        if result and not history.status:\n",
    "            print(base_utils.convert_to_datetime(data[-1][0]))\n",
    "            # base_utils.std_print(base_utils.convert_to_datetime(data[-1][0]))\n",
    "            history.update_entry_price(close_price)\n",
    "        history.stop()\n",
    "    except:\n",
    "        is_run = False\n",
    "    index += 1"
   ]
  },
  {
   "cell_type": "code",
   "execution_count": 24,
   "metadata": {},
   "outputs": [
    {
     "name": "stdout",
     "output_type": "stream",
     "text": [
      "cals: 0.01\n",
      "cals: 0.00\n",
      "cals: -0.01\n",
      "cals: -0.01\n",
      "cals: 0.03\n",
      "cals: -0.03\n",
      "cals: -0.01\n",
      "cals: -0.01\n",
      "cals: -0.02\n",
      "cals: 0.01\n",
      "cals: 0.00\n",
      "cals: 0.01\n",
      "cals: 0.00\n",
      "cals: -0.02\n",
      "cals: 0.02\n",
      "cals: -0.02\n",
      "cals: 0.04\n",
      "cals: -0.02\n",
      "cals: -0.00\n",
      "cals: -0.02\n"
     ]
    }
   ],
   "source": [
    "data = []\n",
    "for a, b in history.trade_history:\n",
    "    diff = a-b\n",
    "    \n",
    "    cals = diff / a\n",
    "    data.append(cals)\n",
    "    print(f\"cals: {cals:,.2f}\")"
   ]
  },
  {
   "cell_type": "code",
   "execution_count": 16,
   "metadata": {},
   "outputs": [
    {
     "name": "stdout",
     "output_type": "stream",
     "text": [
      "True\n"
     ]
    }
   ],
   "source": [
    "signal = False\n",
    "if not signal:\n",
    "    print(True)"
   ]
  },
  {
   "cell_type": "code",
   "execution_count": null,
   "metadata": {},
   "outputs": [],
   "source": []
  }
 ],
 "metadata": {
  "kernelspec": {
   "display_name": "ame",
   "language": "python",
   "name": "python3"
  },
  "language_info": {
   "codemirror_mode": {
    "name": "ipython",
    "version": 3
   },
   "file_extension": ".py",
   "mimetype": "text/x-python",
   "name": "python",
   "nbconvert_exporter": "python",
   "pygments_lexer": "ipython3",
   "version": "3.10.16"
  }
 },
 "nbformat": 4,
 "nbformat_minor": 2
}
