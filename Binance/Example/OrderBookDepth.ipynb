{
 "cells": [
  {
   "cell_type": "code",
   "execution_count": 11,
   "metadata": {},
   "outputs": [],
   "source": [
    "import os, sys\n",
    "home_path = os.path.expanduser(\"~\")\n",
    "sys.path.append(os.path.join(home_path, \"github\", \"Thunder\", \"Binance\"))\n",
    "import Workspace.Services.PublicData.Fetcher.FuturesMarketFetcher as futures_mk_futures\n",
    "import numpy as np\n",
    "import pandas as pd\n",
    "import asyncio\n",
    "import nest_asyncio\n",
    "\n",
    "nest_asyncio.apply()\n",
    "market_fetcher = futures_mk_futures.FuturesMarketFetcher()\n",
    "symbol = \"BTCUSDT\"\n",
    "limit = 100"
   ]
  },
  {
   "cell_type": "code",
   "execution_count": null,
   "metadata": {},
   "outputs": [],
   "source": [
    "orderbook = asyncio.run(market_fetcher.fetch_order_book(symbol, limit))\n",
    "bids = orderbook[\"bids\"]\n",
    "asks = orderbook[\"asks\"]\n",
    "\n",
    "df_bids = pd.DataFrame(bids)\n",
    "df_asks = pd.DataFrame(asks)"
   ]
  },
  {
   "cell_type": "code",
   "execution_count": 15,
   "metadata": {},
   "outputs": [
    {
     "ename": "KeyError",
     "evalue": "'1'",
     "output_type": "error",
     "traceback": [
      "\u001b[0;31m---------------------------------------------------------------------------\u001b[0m",
      "\u001b[0;31mKeyError\u001b[0m                                  Traceback (most recent call last)",
      "Cell \u001b[0;32mIn[15], line 1\u001b[0m\n\u001b[0;32m----> 1\u001b[0m \u001b[43mdf_bids\u001b[49m\u001b[43m[\u001b[49m\u001b[38;5;124;43m\"\u001b[39;49m\u001b[38;5;124;43m1\u001b[39;49m\u001b[38;5;124;43m\"\u001b[39;49m\u001b[43m]\u001b[49m\u001b[38;5;241m.\u001b[39mmax\n",
      "File \u001b[0;32m/opt/anaconda3/envs/ame/lib/python3.10/site-packages/pandas/core/frame.py:4102\u001b[0m, in \u001b[0;36mDataFrame.__getitem__\u001b[0;34m(self, key)\u001b[0m\n\u001b[1;32m   4100\u001b[0m \u001b[38;5;28;01mif\u001b[39;00m \u001b[38;5;28mself\u001b[39m\u001b[38;5;241m.\u001b[39mcolumns\u001b[38;5;241m.\u001b[39mnlevels \u001b[38;5;241m>\u001b[39m \u001b[38;5;241m1\u001b[39m:\n\u001b[1;32m   4101\u001b[0m     \u001b[38;5;28;01mreturn\u001b[39;00m \u001b[38;5;28mself\u001b[39m\u001b[38;5;241m.\u001b[39m_getitem_multilevel(key)\n\u001b[0;32m-> 4102\u001b[0m indexer \u001b[38;5;241m=\u001b[39m \u001b[38;5;28;43mself\u001b[39;49m\u001b[38;5;241;43m.\u001b[39;49m\u001b[43mcolumns\u001b[49m\u001b[38;5;241;43m.\u001b[39;49m\u001b[43mget_loc\u001b[49m\u001b[43m(\u001b[49m\u001b[43mkey\u001b[49m\u001b[43m)\u001b[49m\n\u001b[1;32m   4103\u001b[0m \u001b[38;5;28;01mif\u001b[39;00m is_integer(indexer):\n\u001b[1;32m   4104\u001b[0m     indexer \u001b[38;5;241m=\u001b[39m [indexer]\n",
      "File \u001b[0;32m/opt/anaconda3/envs/ame/lib/python3.10/site-packages/pandas/core/indexes/range.py:417\u001b[0m, in \u001b[0;36mRangeIndex.get_loc\u001b[0;34m(self, key)\u001b[0m\n\u001b[1;32m    415\u001b[0m         \u001b[38;5;28;01mraise\u001b[39;00m \u001b[38;5;167;01mKeyError\u001b[39;00m(key) \u001b[38;5;28;01mfrom\u001b[39;00m\u001b[38;5;250m \u001b[39m\u001b[38;5;21;01merr\u001b[39;00m\n\u001b[1;32m    416\u001b[0m \u001b[38;5;28;01mif\u001b[39;00m \u001b[38;5;28misinstance\u001b[39m(key, Hashable):\n\u001b[0;32m--> 417\u001b[0m     \u001b[38;5;28;01mraise\u001b[39;00m \u001b[38;5;167;01mKeyError\u001b[39;00m(key)\n\u001b[1;32m    418\u001b[0m \u001b[38;5;28mself\u001b[39m\u001b[38;5;241m.\u001b[39m_check_indexing_error(key)\n\u001b[1;32m    419\u001b[0m \u001b[38;5;28;01mraise\u001b[39;00m \u001b[38;5;167;01mKeyError\u001b[39;00m(key)\n",
      "\u001b[0;31mKeyError\u001b[0m: '1'"
     ]
    }
   ],
   "source": [
    "df_bids[\"1\"].max"
   ]
  },
  {
   "cell_type": "code",
   "execution_count": 4,
   "metadata": {},
   "outputs": [
    {
     "data": {
      "text/html": [
       "<div>\n",
       "<style scoped>\n",
       "    .dataframe tbody tr th:only-of-type {\n",
       "        vertical-align: middle;\n",
       "    }\n",
       "\n",
       "    .dataframe tbody tr th {\n",
       "        vertical-align: top;\n",
       "    }\n",
       "\n",
       "    .dataframe thead th {\n",
       "        text-align: right;\n",
       "    }\n",
       "</style>\n",
       "<table border=\"1\" class=\"dataframe\">\n",
       "  <thead>\n",
       "    <tr style=\"text-align: right;\">\n",
       "      <th></th>\n",
       "      <th>lastUpdateId</th>\n",
       "      <th>E</th>\n",
       "      <th>T</th>\n",
       "      <th>bids</th>\n",
       "      <th>asks</th>\n",
       "    </tr>\n",
       "  </thead>\n",
       "  <tbody>\n",
       "    <tr>\n",
       "      <th>0</th>\n",
       "      <td>6933002103404</td>\n",
       "      <td>1741149792461</td>\n",
       "      <td>1741149792447</td>\n",
       "      <td>[87009.90, 5.258]</td>\n",
       "      <td>[87010.00, 0.654]</td>\n",
       "    </tr>\n",
       "    <tr>\n",
       "      <th>1</th>\n",
       "      <td>6933002103404</td>\n",
       "      <td>1741149792461</td>\n",
       "      <td>1741149792447</td>\n",
       "      <td>[87009.70, 0.003]</td>\n",
       "      <td>[87010.10, 0.002]</td>\n",
       "    </tr>\n",
       "    <tr>\n",
       "      <th>2</th>\n",
       "      <td>6933002103404</td>\n",
       "      <td>1741149792461</td>\n",
       "      <td>1741149792447</td>\n",
       "      <td>[87009.60, 0.046]</td>\n",
       "      <td>[87010.50, 0.002]</td>\n",
       "    </tr>\n",
       "    <tr>\n",
       "      <th>3</th>\n",
       "      <td>6933002103404</td>\n",
       "      <td>1741149792461</td>\n",
       "      <td>1741149792447</td>\n",
       "      <td>[87009.30, 0.002]</td>\n",
       "      <td>[87010.90, 0.007]</td>\n",
       "    </tr>\n",
       "    <tr>\n",
       "      <th>4</th>\n",
       "      <td>6933002103404</td>\n",
       "      <td>1741149792461</td>\n",
       "      <td>1741149792447</td>\n",
       "      <td>[87008.90, 0.292]</td>\n",
       "      <td>[87011.50, 0.126]</td>\n",
       "    </tr>\n",
       "    <tr>\n",
       "      <th>...</th>\n",
       "      <td>...</td>\n",
       "      <td>...</td>\n",
       "      <td>...</td>\n",
       "      <td>...</td>\n",
       "      <td>...</td>\n",
       "    </tr>\n",
       "    <tr>\n",
       "      <th>95</th>\n",
       "      <td>6933002103404</td>\n",
       "      <td>1741149792461</td>\n",
       "      <td>1741149792447</td>\n",
       "      <td>[86993.90, 2.688]</td>\n",
       "      <td>[87027.20, 1.459]</td>\n",
       "    </tr>\n",
       "    <tr>\n",
       "      <th>96</th>\n",
       "      <td>6933002103404</td>\n",
       "      <td>1741149792461</td>\n",
       "      <td>1741149792447</td>\n",
       "      <td>[86993.70, 0.090]</td>\n",
       "      <td>[87027.30, 0.120]</td>\n",
       "    </tr>\n",
       "    <tr>\n",
       "      <th>97</th>\n",
       "      <td>6933002103404</td>\n",
       "      <td>1741149792461</td>\n",
       "      <td>1741149792447</td>\n",
       "      <td>[86993.60, 0.094]</td>\n",
       "      <td>[87027.40, 0.003]</td>\n",
       "    </tr>\n",
       "    <tr>\n",
       "      <th>98</th>\n",
       "      <td>6933002103404</td>\n",
       "      <td>1741149792461</td>\n",
       "      <td>1741149792447</td>\n",
       "      <td>[86993.50, 0.160]</td>\n",
       "      <td>[87027.50, 0.055]</td>\n",
       "    </tr>\n",
       "    <tr>\n",
       "      <th>99</th>\n",
       "      <td>6933002103404</td>\n",
       "      <td>1741149792461</td>\n",
       "      <td>1741149792447</td>\n",
       "      <td>[86993.30, 0.004]</td>\n",
       "      <td>[87027.60, 0.036]</td>\n",
       "    </tr>\n",
       "  </tbody>\n",
       "</table>\n",
       "<p>100 rows × 5 columns</p>\n",
       "</div>"
      ],
      "text/plain": [
       "     lastUpdateId              E              T               bids  \\\n",
       "0   6933002103404  1741149792461  1741149792447  [87009.90, 5.258]   \n",
       "1   6933002103404  1741149792461  1741149792447  [87009.70, 0.003]   \n",
       "2   6933002103404  1741149792461  1741149792447  [87009.60, 0.046]   \n",
       "3   6933002103404  1741149792461  1741149792447  [87009.30, 0.002]   \n",
       "4   6933002103404  1741149792461  1741149792447  [87008.90, 0.292]   \n",
       "..            ...            ...            ...                ...   \n",
       "95  6933002103404  1741149792461  1741149792447  [86993.90, 2.688]   \n",
       "96  6933002103404  1741149792461  1741149792447  [86993.70, 0.090]   \n",
       "97  6933002103404  1741149792461  1741149792447  [86993.60, 0.094]   \n",
       "98  6933002103404  1741149792461  1741149792447  [86993.50, 0.160]   \n",
       "99  6933002103404  1741149792461  1741149792447  [86993.30, 0.004]   \n",
       "\n",
       "                 asks  \n",
       "0   [87010.00, 0.654]  \n",
       "1   [87010.10, 0.002]  \n",
       "2   [87010.50, 0.002]  \n",
       "3   [87010.90, 0.007]  \n",
       "4   [87011.50, 0.126]  \n",
       "..                ...  \n",
       "95  [87027.20, 1.459]  \n",
       "96  [87027.30, 0.120]  \n",
       "97  [87027.40, 0.003]  \n",
       "98  [87027.50, 0.055]  \n",
       "99  [87027.60, 0.036]  \n",
       "\n",
       "[100 rows x 5 columns]"
      ]
     },
     "execution_count": 4,
     "metadata": {},
     "output_type": "execute_result"
    }
   ],
   "source": [
    "df"
   ]
  },
  {
   "cell_type": "code",
   "execution_count": 42,
   "metadata": {},
   "outputs": [
    {
     "name": "stdout",
     "output_type": "stream",
     "text": [
      "origin_data: [10, 9, 8, 7, 6, 7, 8, 10]\n",
      "array_data : [10.  9.  8.  7.  6.  7.  8. 10.]\n",
      "diff       : [-1. -1. -1. -1.  1.  1.  2.]\n"
     ]
    }
   ],
   "source": [
    "print(f\"origin_data: {data}\")\n",
    "print(f\"array_data : {array}\")\n",
    "print(f\"diff       : {np.diff(array)}\")"
   ]
  },
  {
   "cell_type": "code",
   "execution_count": null,
   "metadata": {},
   "outputs": [],
   "source": []
  }
 ],
 "metadata": {
  "kernelspec": {
   "display_name": "ame",
   "language": "python",
   "name": "python3"
  },
  "language_info": {
   "codemirror_mode": {
    "name": "ipython",
    "version": 3
   },
   "file_extension": ".py",
   "mimetype": "text/x-python",
   "name": "python",
   "nbconvert_exporter": "python",
   "pygments_lexer": "ipython3",
   "version": "3.10.16"
  }
 },
 "nbformat": 4,
 "nbformat_minor": 2
}
