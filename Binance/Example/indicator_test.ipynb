{
 "cells": [
  {
   "cell_type": "code",
   "execution_count": null,
   "metadata": {},
   "outputs": [],
   "source": [
    "import asyncio\n",
    "import nest_asyncio\n",
    "import numpy as np\n",
    "\n",
    "import os, sys\n",
    "home_path = os.path.expanduser(\"~\")\n",
    "sys.path.append(os.path.join(home_path, \"github\", \"Thunder\", \"Binance\"))\n",
    "import Workspace.Services.PublicData.Fetcher.FuturesMarketFetcher as futures_mk_fetcher\n",
    "import Workspace.DataStorage.NodeStorage as storage\n",
    "import Workspace.Analysis.Indicator as indicator\n",
    "import SystemConfig\n",
    "\n",
    "nest_asyncio.apply()\n",
    "\n",
    "symbols = SystemConfig.Streaming.symbols\n",
    "intervals = SystemConfig.Streaming.intervals\n",
    "convert_to_intervals = [f\"interval_{i}\" for i in intervals]\n",
    "limit = 200\n",
    "\n",
    "sub_storage = storage.SubStorage(convert_to_intervals)\n",
    "main_storage = storage.MainStorage(symbols, sub_storage)\n",
    "\n",
    "obj = futures_mk_fetcher.FuturesMarketFetcher()\n",
    "\n",
    "for symbol in symbols:\n",
    "    for interval in intervals:\n",
    "        fetcher_data = obj.fetch_klines_limit(symbol, interval, limit)\n",
    "        conver_to_interval = f\"interval_{interval}\"\n",
    "        main_storage.set_data(symbol, conver_to_interval, fetcher_data)\n",
    "        \n",
    "get_data = main_storage.get_data(\"BTCUSDT\", \"interval_15m\")\n",
    "conver_to_array = np.array(get_data, float)\n",
    "prices = conver_to_array[:, 4]"
   ]
  },
  {
   "cell_type": "code",
   "execution_count": null,
   "metadata": {},
   "outputs": [],
   "source": [
    "low_prices = conver_to_array[:,1]\n",
    "high_prices = conver_to_array[:,2]\n",
    "close_prices = conver_to_array[:,4]\n",
    "\n",
    "# sma = indicator.IchimokuCloud.calculate(high, low, close)"
   ]
  },
  {
   "cell_type": "code",
   "execution_count": null,
   "metadata": {},
   "outputs": [],
   "source": [
    "import matplotlib.pyplot as plt\n",
    "\n",
    "# 일목균형표 계산\n",
    "ichimoku = indicator.IchimokuCloud.calculate(high_prices, low_prices, close_prices)\n",
    "\n",
    "# 그래프 그리기\n",
    "plt.figure(figsize=(10, 5))\n",
    "plt.plot(close_prices, label=\"Close Price\", color=\"black\", marker=\"o\")\n",
    "plt.plot([ichimoku[\"Conversion Line\"]] * len(close_prices), label=\"Conversion Line\", color=\"red\")\n",
    "plt.plot([ichimoku[\"Base Line\"]] * len(close_prices), label=\"Base Line\", color=\"blue\")\n",
    "plt.plot([ichimoku[\"Leading Span 1\"]] * len(close_prices), label=\"Leading Span 1\", color=\"green\", linestyle=\"dotted\")\n",
    "plt.plot([ichimoku[\"Leading Span 2\"]] * len(close_prices), label=\"Leading Span 2\", color=\"orange\", linestyle=\"dotted\")\n",
    "\n",
    "# 구름대 색상 채우기\n",
    "plt.fill_between(range(len(close_prices)), ichimoku[\"Leading Span 1\"], ichimoku[\"Leading Span 2\"], color='gray', alpha=0.2)\n",
    "\n",
    "plt.legend()\n",
    "plt.title(\"Ichimoku Cloud\")\n",
    "plt.xlabel(\"Time\")\n",
    "plt.ylabel(\"Price\")\n",
    "plt.grid()\n",
    "plt.show()\n"
   ]
  },
  {
   "cell_type": "code",
   "execution_count": null,
   "metadata": {},
   "outputs": [],
   "source": [
    "down"
   ]
  },
  {
   "cell_type": "code",
   "execution_count": 14,
   "metadata": {},
   "outputs": [],
   "source": [
    "order_message = {\n",
    "    \"symbol\":'BTCUSDT',\n",
    "    \"is_limit\":True,\n",
    "    \"target_price\":123123,\n",
    "    \"timestamp\":12312313,\n",
    "    \"side\":\"BUY\"\n",
    "    }"
   ]
  },
  {
   "cell_type": "code",
   "execution_count": null,
   "metadata": {},
   "outputs": [
    {
     "name": "stdout",
     "output_type": "stream",
     "text": [
      "{'symbol': 'BTCUSDT', 'is_limit': True, 'target_price': 123123, 'timestamp': 12312313, 'side': 'BUY'}\n"
     ]
    }
   ],
   "source": []
  },
  {
   "cell_type": "code",
   "execution_count": 19,
   "metadata": {},
   "outputs": [],
   "source": [
    "def dummy(kwargs):\n",
    "    return kwargs[\"symbol\"]"
   ]
  },
  {
   "cell_type": "code",
   "execution_count": null,
   "metadata": {},
   "outputs": [],
   "source": []
  },
  {
   "cell_type": "code",
   "execution_count": null,
   "metadata": {},
   "outputs": [],
   "source": []
  }
 ],
 "metadata": {
  "kernelspec": {
   "display_name": "ame",
   "language": "python",
   "name": "python3"
  },
  "language_info": {
   "codemirror_mode": {
    "name": "ipython",
    "version": 3
   },
   "file_extension": ".py",
   "mimetype": "text/x-python",
   "name": "python",
   "nbconvert_exporter": "python",
   "pygments_lexer": "ipython3",
   "version": "3.10.16"
  }
 },
 "nbformat": 4,
 "nbformat_minor": 2
}
