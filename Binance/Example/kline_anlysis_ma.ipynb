{
 "cells": [
  {
   "cell_type": "markdown",
   "metadata": {},
   "source": [
    "# 수신된 데이터를 분석함"
   ]
  },
  {
   "cell_type": "code",
   "execution_count": 1,
   "metadata": {},
   "outputs": [],
   "source": [
    "import asyncio\n",
    "\n",
    "import os, sys\n",
    "home_path = os.path.expanduser(\"~\")\n",
    "sys.path.append(os.path.join(home_path, \"github\", \"Thunder\", \"Binance\"))\n",
    "\n",
    "import nest_asyncio\n",
    "nest_asyncio.apply()\n",
    "\n",
    "from Workspace.Receiver.Futures.Public.KlineCycleFetcher import KlineCycleFetcher\n",
    "from SystemConfig import Streaming\n",
    "import Workspace.Utils.TradingUtils as tr_utils\n",
    "import Workspace.Receiver.Futures.Receiver_den_analy as receiver\n",
    "import Workspace.Analysis.Indicator as indicator\n",
    "\n",
    "from Workspace.DataStorage.CalculationReport import CalculationReport\n",
    "\n",
    "report = CalculationReport()\n",
    "\n",
    "symbol = Streaming.symbols[0]\n",
    "intervals = Streaming.intervals\n",
    "queue_async = asyncio.Queue()\n",
    "instance_kline_fethcer = KlineCycleFetcher(queue_async)\n",
    "storage = receiver.storage_history\n",
    "\n",
    "async def fetcher_data():\n",
    "    for interval in intervals:\n",
    "        await instance_kline_fethcer.fetch_and_queue(symbol, interval)\n",
    "        data = await instance_kline_fethcer.queue.get()\n",
    "        s, i, data = tr_utils.Extractor.unpack_message(data)\n",
    "        conver_to_interval = f\"interval_{i}\"\n",
    "        storage.set_data(s, conver_to_interval, data)\n",
    "        \n",
    "asyncio.run(fetcher_data())"
   ]
  },
  {
   "cell_type": "markdown",
   "metadata": {},
   "source": [
    "### stroage 데이터를 호출하기 위하여 convert_to_interval 값이 필요하다,"
   ]
  },
  {
   "cell_type": "code",
   "execution_count": 8,
   "metadata": {
    "vscode": {
     "languageId": "ruby"
    }
   },
   "outputs": [
    {
     "name": "stdout",
     "output_type": "stream",
     "text": [
      "ma_sma_btcusdt_interval_5m_7\n",
      "ma_sma_btcusdt_interval_5m_25\n",
      "ma_sma_btcusdt_interval_5m_99\n",
      "ma_sma_btcusdt_interval_30m_7\n",
      "ma_sma_btcusdt_interval_30m_25\n",
      "ma_sma_btcusdt_interval_30m_99\n",
      "ma_sma_btcusdt_interval_1h_7\n",
      "ma_sma_btcusdt_interval_1h_25\n",
      "ma_sma_btcusdt_interval_1h_99\n",
      "ma_sma_btcusdt_interval_1d_7\n",
      "ma_sma_btcusdt_interval_1d_25\n",
      "ma_sma_btcusdt_interval_1d_99\n"
     ]
    }
   ],
   "source": [
    "import numpy as np\n",
    "from typing import List\n",
    "import json\n",
    "\n",
    "class SMA:\n",
    "    def __init__(self, stroage, periods:List):\n",
    "        self.intervals = Streaming.intervals\n",
    "        self.symbol = Streaming.symbols\n",
    "        self.convert_to_interval = [f\"interval_{i}\" for i in self.intervals]\n",
    "        self.stroage = stroage\n",
    "        self.periods = periods\n",
    "\n",
    "        for attr in self.convert_to_interval:\n",
    "            setattr(self, attr, [])\n",
    "\n",
    "    def cals(self):\n",
    "        for i in self.convert_to_interval:\n",
    "            data = self.stroage.get_data(self.symbol[0], i)\n",
    "            convert_to_array = np.array(data, float)\n",
    "            for period in self.periods:\n",
    "                attr_name = f\"ma_sma_btcusdt_{i}_{period}\"\n",
    "                print(attr_name)\n",
    "                cals = indicator.MA.sma(convert_to_array[:, 4], period)\n",
    "                report.set_data(attr_name, cals)\n",
    "            \n",
    "instance_sma = SMA(storage, [7,25, 99])\n",
    "instance_sma.cals()"
   ]
  },
  {
   "cell_type": "code",
   "execution_count": 9,
   "metadata": {},
   "outputs": [
    {
     "data": {
      "text/plain": [
       "['ma_sma_btcusdt_interval_5m_7',\n",
       " 'ma_sma_btcusdt_interval_5m_25',\n",
       " 'ma_sma_btcusdt_interval_5m_99',\n",
       " 'ma_sma_btcusdt_interval_30m_7',\n",
       " 'ma_sma_btcusdt_interval_30m_25',\n",
       " 'ma_sma_btcusdt_interval_30m_99',\n",
       " 'ma_sma_btcusdt_interval_1h_7',\n",
       " 'ma_sma_btcusdt_interval_1h_25',\n",
       " 'ma_sma_btcusdt_interval_1h_99',\n",
       " 'ma_sma_btcusdt_interval_1d_7',\n",
       " 'ma_sma_btcusdt_interval_1d_25',\n",
       " 'ma_sma_btcusdt_interval_1d_99']"
      ]
     },
     "execution_count": 9,
     "metadata": {},
     "output_type": "execute_result"
    }
   ],
   "source": [
    "report.get_attr_fields()"
   ]
  },
  {
   "cell_type": "code",
   "execution_count": null,
   "metadata": {},
   "outputs": [],
   "source": []
  }
 ],
 "metadata": {
  "kernelspec": {
   "display_name": "ame",
   "language": "python",
   "name": "python3"
  },
  "language_info": {
   "codemirror_mode": {
    "name": "ipython",
    "version": 3
   },
   "file_extension": ".py",
   "mimetype": "text/x-python",
   "name": "python",
   "nbconvert_exporter": "python",
   "pygments_lexer": "ipython3",
   "version": "3.10.16"
  }
 },
 "nbformat": 4,
 "nbformat_minor": 2
}
