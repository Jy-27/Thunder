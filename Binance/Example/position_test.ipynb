{
 "cells": [
  {
   "cell_type": "code",
   "execution_count": 8,
   "metadata": {},
   "outputs": [],
   "source": [
    "import os, sys\n",
    "home_path = os.path.expanduser(\"~\")\n",
    "sys.path.append(os.path.join(home_path, \"github\", \"Thunder\", \"Binance\"))\n",
    "\n",
    "import Workspace.Services.PrivateAPI.Trading.FuturesTradingClient as futures_tr_client\n",
    "import Workspace.Processor.Order.PendingOrder as pending\n",
    "import SystemConfig\n",
    "import Workspace.Utils.BaseUtils as base_utils\n",
    "\n",
    "path = SystemConfig.Path.bianace\n",
    "symbols = SystemConfig.Streaming.symbols\n",
    "api = base_utils.load_json(path)\n",
    "client = futures_tr_client.FuturesTradingClient(**api)\n",
    "\n",
    "ins_pending = pending.PendingOrder(symbols, client)"
   ]
  },
  {
   "cell_type": "code",
   "execution_count": null,
   "metadata": {},
   "outputs": [],
   "source": []
  }
 ],
 "metadata": {
  "kernelspec": {
   "display_name": "ame",
   "language": "python",
   "name": "python3"
  },
  "language_info": {
   "codemirror_mode": {
    "name": "ipython",
    "version": 3
   },
   "file_extension": ".py",
   "mimetype": "text/x-python",
   "name": "python",
   "nbconvert_exporter": "python",
   "pygments_lexer": "ipython3",
   "version": "3.10.16"
  }
 },
 "nbformat": 4,
 "nbformat_minor": 2
}
