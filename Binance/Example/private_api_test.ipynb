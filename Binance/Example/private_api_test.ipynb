{
 "cells": [
  {
   "cell_type": "code",
   "execution_count": 9,
   "metadata": {},
   "outputs": [],
   "source": [
    "import os, sys\n",
    "home_path = os.path.expanduser(\"~\")\n",
    "sys.path.append(os.path.join(home_path, \"github\", \"Thunder\", \"Binance\"))\n",
    "\n",
    "import Workspace.Utils.BaseUtils as base_utils\n",
    "from Workspace.Services.PrivateAPI.Trading.FuturesTradingClient import FuturesTradingClient\n",
    "import SystemConfig\n",
    "import Workspace.DataStorage.OrderSheet as order_sheet\n",
    "\n",
    "symbols = SystemConfig.Streaming.symbols\n",
    "interval = SystemConfig.Streaming.intervals\n",
    "path = SystemConfig.Path.bianace\n",
    "api = base_utils.load_json(path)\n",
    "\n",
    "private_api = FuturesTradingClient(**api)"
   ]
  },
  {
   "cell_type": "code",
   "execution_count": 20,
   "metadata": {},
   "outputs": [],
   "source": [
    "order_ = private_api.fetch_order_status('ADAUSDT')"
   ]
  },
  {
   "cell_type": "code",
   "execution_count": 19,
   "metadata": {},
   "outputs": [
    {
     "data": {
      "text/plain": [
       "[{'orderId': 51249384274,\n",
       "  'symbol': 'ADAUSDT',\n",
       "  'status': 'FILLED',\n",
       "  'clientOrderId': 'ios_w5g1p5k27nfCGGAAEVuF',\n",
       "  'price': '0',\n",
       "  'avgPrice': '0.75900',\n",
       "  'origQty': '146',\n",
       "  'executedQty': '146',\n",
       "  'cumQuote': '110.81400',\n",
       "  'timeInForce': 'GTC',\n",
       "  'type': 'MARKET',\n",
       "  'reduceOnly': False,\n",
       "  'closePosition': False,\n",
       "  'side': 'SELL',\n",
       "  'positionSide': 'BOTH',\n",
       "  'stopPrice': '0',\n",
       "  'workingType': 'CONTRACT_PRICE',\n",
       "  'priceMatch': 'NONE',\n",
       "  'selfTradePreventionMode': 'EXPIRE_MAKER',\n",
       "  'goodTillDate': 0,\n",
       "  'priceProtect': False,\n",
       "  'origType': 'MARKET',\n",
       "  'time': 1741054839937,\n",
       "  'updateTime': 1741054839937},\n",
       " {'orderId': 51249531801,\n",
       "  'symbol': 'ADAUSDT',\n",
       "  'status': 'FILLED',\n",
       "  'clientOrderId': 'autoclose-1741054925510905372',\n",
       "  'price': '0.76874',\n",
       "  'avgPrice': '0.76590',\n",
       "  'origQty': '146',\n",
       "  'executedQty': '146',\n",
       "  'cumQuote': '111.82140',\n",
       "  'timeInForce': 'IOC',\n",
       "  'type': 'LIMIT',\n",
       "  'reduceOnly': False,\n",
       "  'closePosition': False,\n",
       "  'side': 'BUY',\n",
       "  'positionSide': 'BOTH',\n",
       "  'stopPrice': '0',\n",
       "  'workingType': 'CONTRACT_PRICE',\n",
       "  'priceMatch': 'NONE',\n",
       "  'selfTradePreventionMode': 'NONE',\n",
       "  'goodTillDate': 0,\n",
       "  'priceProtect': False,\n",
       "  'origType': 'LIMIT',\n",
       "  'time': 1741054925665,\n",
       "  'updateTime': 1741054925665},\n",
       " {'orderId': 51257123905,\n",
       "  'symbol': 'ADAUSDT',\n",
       "  'status': 'CANCELED',\n",
       "  'clientOrderId': 'ios_Y3W7JqdBqi66vWpaserq',\n",
       "  'price': '0.75340',\n",
       "  'avgPrice': '0.00000',\n",
       "  'origQty': '9',\n",
       "  'executedQty': '0',\n",
       "  'cumQuote': '0',\n",
       "  'timeInForce': 'GTC',\n",
       "  'type': 'LIMIT',\n",
       "  'reduceOnly': False,\n",
       "  'closePosition': False,\n",
       "  'side': 'BUY',\n",
       "  'positionSide': 'BOTH',\n",
       "  'stopPrice': '0',\n",
       "  'workingType': 'CONTRACT_PRICE',\n",
       "  'priceMatch': 'NONE',\n",
       "  'selfTradePreventionMode': 'EXPIRE_MAKER',\n",
       "  'goodTillDate': 0,\n",
       "  'priceProtect': False,\n",
       "  'origType': 'LIMIT',\n",
       "  'time': 1741061343893,\n",
       "  'updateTime': 1741061364327},\n",
       " {'orderId': 51260498872,\n",
       "  'symbol': 'ADAUSDT',\n",
       "  'status': 'CANCELED',\n",
       "  'clientOrderId': 'ios_7bxGh5KAhb2ruOAzJg8V',\n",
       "  'price': '0.75120',\n",
       "  'avgPrice': '0.00000',\n",
       "  'origQty': '10',\n",
       "  'executedQty': '0',\n",
       "  'cumQuote': '0',\n",
       "  'timeInForce': 'GTC',\n",
       "  'type': 'LIMIT',\n",
       "  'reduceOnly': False,\n",
       "  'closePosition': False,\n",
       "  'side': 'BUY',\n",
       "  'positionSide': 'BOTH',\n",
       "  'stopPrice': '0',\n",
       "  'workingType': 'CONTRACT_PRICE',\n",
       "  'priceMatch': 'NONE',\n",
       "  'selfTradePreventionMode': 'EXPIRE_MAKER',\n",
       "  'goodTillDate': 0,\n",
       "  'priceProtect': False,\n",
       "  'origType': 'LIMIT',\n",
       "  'time': 1741064405103,\n",
       "  'updateTime': 1741064596367},\n",
       " {'orderId': 51260819180,\n",
       "  'symbol': 'ADAUSDT',\n",
       "  'status': 'FILLED',\n",
       "  'clientOrderId': 'ios_cfY8J3ZbfKZUCyxZfDRM',\n",
       "  'price': '0',\n",
       "  'avgPrice': '0.80710',\n",
       "  'origQty': '7',\n",
       "  'executedQty': '7',\n",
       "  'cumQuote': '5.64970',\n",
       "  'timeInForce': 'GTC',\n",
       "  'type': 'MARKET',\n",
       "  'reduceOnly': False,\n",
       "  'closePosition': False,\n",
       "  'side': 'BUY',\n",
       "  'positionSide': 'BOTH',\n",
       "  'stopPrice': '0',\n",
       "  'workingType': 'CONTRACT_PRICE',\n",
       "  'priceMatch': 'NONE',\n",
       "  'selfTradePreventionMode': 'EXPIRE_MAKER',\n",
       "  'goodTillDate': 0,\n",
       "  'priceProtect': False,\n",
       "  'origType': 'MARKET',\n",
       "  'time': 1741064635271,\n",
       "  'updateTime': 1741064635271}]"
      ]
     },
     "execution_count": 19,
     "metadata": {},
     "output_type": "execute_result"
    }
   ],
   "source": [
    "private_api.fetch_order_history('ADAUSDT')[-5:]"
   ]
  },
  {
   "cell_type": "code",
   "execution_count": 21,
   "metadata": {},
   "outputs": [
    {
     "name": "stdout",
     "output_type": "stream",
     "text": [
      "[]\n"
     ]
    }
   ],
   "source": [
    "order_ = private_api.fetch_order_status('ADAUSDT')\n",
    "print(order_)"
   ]
  },
  {
   "cell_type": "code",
   "execution_count": null,
   "metadata": {},
   "outputs": [],
   "source": []
  }
 ],
 "metadata": {
  "kernelspec": {
   "display_name": "ame",
   "language": "python",
   "name": "python3"
  },
  "language_info": {
   "codemirror_mode": {
    "name": "ipython",
    "version": 3
   },
   "file_extension": ".py",
   "mimetype": "text/x-python",
   "name": "python",
   "nbconvert_exporter": "python",
   "pygments_lexer": "ipython3",
   "version": "3.10.16"
  }
 },
 "nbformat": 4,
 "nbformat_minor": 2
}
