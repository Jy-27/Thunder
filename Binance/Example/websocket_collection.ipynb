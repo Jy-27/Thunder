{
 "cells": [
  {
   "cell_type": "markdown",
   "metadata": {},
   "source": [
    "# Websocket Message를 종류별로 구성함.\n",
    "\n",
    "## 타입별로 웹소켓 데이터를 수신하고 분석용도로 사용한다.\n",
    "- ticker: 개별 심볼에 대한 전체 티커 정보 제공\n",
    "- trade: 개별 거래 정보 제공\n",
    "    - \"m\" : 매도자 관점 taker주문(시장가)\n",
    "- miniTicker: 심볼별 간소화된 티커 정보 제공\n",
    "- depth: 주문서 정보 제공\n",
    "- aggTrade: 집계된 거래 정보 제공"
   ]
  },
  {
   "cell_type": "code",
   "execution_count": null,
   "metadata": {},
   "outputs": [],
   "source": [
    "\n",
    "import asyncio\n",
    "import nest_asyncio\n",
    "from pprint import pprint\n",
    "from typing import List\n",
    "import os, sys\n",
    "home_path = os.path.expanduser(\"~\")\n",
    "sys.path.append(os.path.join(home_path, \"github\", \"Thunder\", \"Binance\"))\n",
    "from Workspace.Services.PublicData.Receiver.FuturesMarketWebsocket import FuturesMarketWebsocket\n",
    "\n",
    "nest_asyncio.apply()\n",
    "symbol = [\"BTCUSDT\"]\n",
    "instance = FuturesMarketWebsocket(symbol)\n",
    "ws_types = [\"ticker\", \"trade\", \"miniTicker\", \"depth\", \"aggTrade\"]\n",
    "\n",
    "class storage:\n",
    "    __slots__ = tuple(ws_types)\n",
    "    def __init__(self):\n",
    "        for attr in self.__slots__:\n",
    "            setattr(self, attr, [])\n",
    "\n",
    "    def set_data(self, ws_type:str, data:List):\n",
    "        setattr(self, ws_type, data)\n",
    "    \n",
    "    def get_data(self, ws_type:str):\n",
    "        return getattr(self, ws_type)\n",
    "\n",
    "storage_message = storage()"
   ]
  },
  {
   "cell_type": "code",
   "execution_count": null,
   "metadata": {},
   "outputs": [],
   "source": [
    "async def main(stream_type):\n",
    "    print(f\"  ⏳ Websocket Stream({stream_type}) 연결 시도.\")\n",
    "    await instance.open_stream_connection(stream_type)\n",
    "    print(f\"  🔗 Websocket Stream({stream_type}) 연결 완료.\")\n",
    "    message = await instance.receive_message()\n",
    "    print(f\"  📩 message 수신\")\n",
    "    pprint(message)\n",
    "    await instance.close_connection()\n",
    "    print(f\"  ⛓️‍💥 Websocket Stream({stream_type}) 연결 종료.\")\n",
    "\n",
    "async def ws_cycle(stream_type:str, count:int):\n",
    "    print(f\"  ⏳ Websocket Stream({stream_type}) 연결 시도.\")\n",
    "    await instance.open_stream_connection(stream_type)\n",
    "    print(f\"  🔗 Websocket Stream({stream_type}) 연결 완료.\")\n",
    "    print(f\"  📩 message 수신 시작\")\n",
    "    result = []\n",
    "    for _ in range(count):\n",
    "        message = await instance.receive_message()\n",
    "        result.append(message)\n",
    "    print(f\"  📩 message 수신 완료\")\n",
    "    await instance.close_connection()\n",
    "    print(f\"  ⛓️‍💥 Websocket Stream({stream_type}) 연결 종료.\")\n",
    "    return result"
   ]
  },
  {
   "cell_type": "code",
   "execution_count": null,
   "metadata": {},
   "outputs": [],
   "source": [
    "ws_type = ws_types[0]\n",
    "receiver_count = 10\n",
    "data = asyncio.run(ws_cycle(ws_type, receiver_count))\n",
    "storage_message.set_data(ws_type, data)\n",
    "print(storage_message.get_data(ws_type))"
   ]
  },
  {
   "cell_type": "code",
   "execution_count": null,
   "metadata": {},
   "outputs": [],
   "source": [
    "ws_type = ws_types[1]\n",
    "receiver_count = 2000\n",
    "data = asyncio.run(ws_cycle(ws_type, receiver_count))\n",
    "storage_message.set_data(ws_type, data)\n",
    "print(storage_message.get_data(ws_type))"
   ]
  },
  {
   "cell_type": "code",
   "execution_count": null,
   "metadata": {},
   "outputs": [],
   "source": [
    "ws_type = ws_types[2]\n",
    "receiver_count = 10\n",
    "data = asyncio.run(ws_cycle(ws_type, receiver_count))\n",
    "storage_message.set_data(ws_type, data)\n",
    "print(storage_message.get_data(ws_type))"
   ]
  },
  {
   "cell_type": "code",
   "execution_count": null,
   "metadata": {},
   "outputs": [],
   "source": [
    "ws_type = ws_types[3]\n",
    "receiver_count = 10\n",
    "data = asyncio.run(ws_cycle(ws_type, receiver_count))\n",
    "storage_message.set_data(ws_type, data)\n",
    "print(storage_message.get_data(ws_type))"
   ]
  },
  {
   "cell_type": "code",
   "execution_count": null,
   "metadata": {},
   "outputs": [],
   "source": [
    "ws_type = ws_types[4]\n",
    "receiver_count = 10\n",
    "data = asyncio.run(ws_cycle(ws_type, receiver_count))\n",
    "storage_message.set_data(ws_type, data)\n",
    "print(storage_message.get_data(ws_type))"
   ]
  }
 ],
 "metadata": {
  "kernelspec": {
   "display_name": "ame",
   "language": "python",
   "name": "python3"
  },
  "language_info": {
   "codemirror_mode": {
    "name": "ipython",
    "version": 3
   },
   "file_extension": ".py",
   "mimetype": "text/x-python",
   "name": "python",
   "nbconvert_exporter": "python",
   "pygments_lexer": "ipython3",
   "version": "3.10.16"
  }
 },
 "nbformat": 4,
 "nbformat_minor": 2
}
