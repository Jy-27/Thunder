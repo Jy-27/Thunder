{
 "cells": [
  {
   "cell_type": "code",
   "execution_count": 5,
   "metadata": {},
   "outputs": [],
   "source": [
    "import os\n",
    "import pickle"
   ]
  },
  {
   "cell_type": "code",
   "execution_count": 8,
   "metadata": {},
   "outputs": [],
   "source": [
    "with open('trade_history.pkl', 'rb')as file:\n",
    "    datas = pickle.load(file)"
   ]
  },
  {
   "cell_type": "code",
   "execution_count": 26,
   "metadata": {},
   "outputs": [],
   "source": [
    "trade_history = []\n",
    "for data in datas:\n",
    "    trade_log = {'symbol':data[0],\n",
    "                 'start_timestamp':data[1],\n",
    "                 'entry_price':data[2],\n",
    "                 'position':data[3],\n",
    "                 'quantity':data[4],\n",
    "                 'leverage':data[5],\n",
    "                 'trade_scenario':data[6],\n",
    "                 'test_mode':data[7],\n",
    "                 'stop_rate':data[8],\n",
    "                 'fee_rate':data[9],\n",
    "                 'init_stop_rate':data[10],\n",
    "                 'use_scale_stop':data[11],\n",
    "                 'adj_timer':data[12],\n",
    "                 'ad j_rate':data[13],\n",
    "                 'adj_interval':data[14],\n",
    "                 'adj_start_price':data[15],\n",
    "                 'stop_price':data[16],\n",
    "                 'stop_signal':data[17],\n",
    "                 'last_timestamp':data[18],\n",
    "                 'high_price':data[19],\n",
    "                 'low_price':data[20],\n",
    "                 'current_price':data[21],\n",
    "                 'initial_value':data[22],\n",
    "                 'current_value':data[23],\n",
    "                 'net_profit_loss':data[24],\n",
    "                 'net_profit_loss_rate':data[25],\n",
    "                 'gross_profit_loss':data[26],\n",
    "                 'gross_profit_loss_rate':data[27],\n",
    "                 'break_even_price':data[28],\n",
    "                 'entry_fee':data[29],\n",
    "                 'exit_fee':data[30]}\n",
    "    trade_history.append(trade_log)"
   ]
  },
  {
   "cell_type": "code",
   "execution_count": 27,
   "metadata": {},
   "outputs": [],
   "source": [
    "with open('total_data.pkl', 'wb')as file:\n",
    "    pickle.dump(trade_history, file)"
   ]
  },
  {
   "cell_type": "code",
   "execution_count": 28,
   "metadata": {},
   "outputs": [
    {
     "name": "stdout",
     "output_type": "stream",
     "text": [
      "2024-11-10 07:38:59\n",
      "2024-11-10 23:32:59\n"
     ]
    }
   ],
   "source": [
    "import utils\n",
    "print(utils._convert_to_datetime(1731191939999))\n",
    "print(utils._convert_to_datetime(1731249179999))"
   ]
  },
  {
   "cell_type": "code",
   "execution_count": null,
   "metadata": {},
   "outputs": [],
   "source": []
  }
 ],
 "metadata": {
  "kernelspec": {
   "display_name": "ame",
   "language": "python",
   "name": "python3"
  },
  "language_info": {
   "codemirror_mode": {
    "name": "ipython",
    "version": 3
   },
   "file_extension": ".py",
   "mimetype": "text/x-python",
   "name": "python",
   "nbconvert_exporter": "python",
   "pygments_lexer": "ipython3",
   "version": "3.12.2"
  }
 },
 "nbformat": 4,
 "nbformat_minor": 2
}
