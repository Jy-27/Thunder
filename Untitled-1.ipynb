{
 "cells": [
  {
   "cell_type": "code",
   "execution_count": 5,
   "metadata": {},
   "outputs": [],
   "source": [
    "import os\n",
    "import pickle"
   ]
  },
  {
   "cell_type": "code",
   "execution_count": 8,
   "metadata": {},
   "outputs": [],
   "source": [
    "with open('trade_history.pkl', 'rb')as file:\n",
    "    datas = pickle.load(file)"
   ]
  },
  {
   "cell_type": "code",
   "execution_count": 26,
   "metadata": {},
   "outputs": [],
   "source": [
    "trade_history = []\n",
    "for data in datas:\n",
    "    trade_log = {'symbol':data[0],\n",
    "                 'start_timestamp':data[1],\n",
    "                 'entry_price':data[2],\n",
    "                 'position':data[3],\n",
    "                 'quantity':data[4],\n",
    "                 'leverage':data[5],\n",
    "                 'trade_scenario':data[6],\n",
    "                 'test_mode':data[7],\n",
    "                 'stop_rate':data[8],\n",
    "                 'fee_rate':data[9],\n",
    "                 'init_stop_rate':data[10],\n",
    "                 'use_scale_stop':data[11],\n",
    "                 'adj_timer':data[12],\n",
    "                 'ad j_rate':data[13],\n",
    "                 'adj_interval':data[14],\n",
    "                 'adj_start_price':data[15],\n",
    "                 'stop_price':data[16],\n",
    "                 'stop_signal':data[17],\n",
    "                 'last_timestamp':data[18],\n",
    "                 'high_price':data[19],\n",
    "                 'low_price':data[20],\n",
    "                 'current_price':data[21],\n",
    "                 'initial_value':data[22],\n",
    "                 'current_value':data[23],\n",
    "                 'net_profit_loss':data[24],\n",
    "                 'net_profit_loss_rate':data[25],\n",
    "                 'gross_profit_loss':data[26],\n",
    "                 'gross_profit_loss_rate':data[27],\n",
    "                 'break_even_price':data[28],\n",
    "                 'entry_fee':data[29],\n",
    "                 'exit_fee':data[30]}\n",
    "    trade_history.append(trade_log)"
   ]
  },
  {
   "cell_type": "code",
   "execution_count": 27,
   "metadata": {},
   "outputs": [],
   "source": [
    "with open('total_data.pkl', 'wb')as file:\n",
    "    pickle.dump(trade_history, file)"
   ]
  },
  {
   "cell_type": "code",
   "execution_count": 28,
   "metadata": {},
   "outputs": [
    {
     "name": "stdout",
     "output_type": "stream",
     "text": [
      "2024-11-10 07:38:59\n",
      "2024-11-10 23:32:59\n"
     ]
    }
   ],
   "source": [
    "import utils\n",
    "print(utils._convert_to_datetime(1731191939999))\n",
    "print(utils._convert_to_datetime(1731249179999))"
   ]
  },
  {
   "cell_type": "code",
   "execution_count": 12,
   "metadata": {},
   "outputs": [
    {
     "ename": "ValueError",
     "evalue": "too many values to unpack (expected 4)",
     "output_type": "error",
     "traceback": [
      "\u001b[0;31m---------------------------------------------------------------------------\u001b[0m",
      "\u001b[0;31mValueError\u001b[0m                                Traceback (most recent call last)",
      "Cell \u001b[0;32mIn[12], line 10\u001b[0m\n\u001b[1;32m      7\u001b[0m slices \u001b[38;5;241m=\u001b[39m [data_5m[i:i\u001b[38;5;241m+\u001b[39m\u001b[38;5;241m2\u001b[39m] \u001b[38;5;28;01mfor\u001b[39;00m i \u001b[38;5;129;01min\u001b[39;00m \u001b[38;5;28mrange\u001b[39m(\u001b[38;5;241m-\u001b[39m\u001b[38;5;241m14\u001b[39m, \u001b[38;5;241m-\u001b[39m\u001b[38;5;241m1\u001b[39m, \u001b[38;5;241m3\u001b[39m)]\n\u001b[1;32m      9\u001b[0m \u001b[38;5;66;03m# 각각을 변수로 할당\u001b[39;00m\n\u001b[0;32m---> 10\u001b[0m data_slice_1, data_slice_2, data_slice_3, data_slice_4 \u001b[38;5;241m=\u001b[39m slices\n\u001b[1;32m     12\u001b[0m \u001b[38;5;66;03m# 결과 확인\u001b[39;00m\n\u001b[1;32m     13\u001b[0m {\n\u001b[1;32m     14\u001b[0m     \u001b[38;5;124m\"\u001b[39m\u001b[38;5;124mdata_5m\u001b[39m\u001b[38;5;124m\"\u001b[39m: data_5m[\u001b[38;5;241m-\u001b[39m\u001b[38;5;241m12\u001b[39m:],  \u001b[38;5;66;03m# 확인을 위해 마지막 12개만 표시\u001b[39;00m\n\u001b[1;32m     15\u001b[0m     \u001b[38;5;124m\"\u001b[39m\u001b[38;5;124mdata_slice_1\u001b[39m\u001b[38;5;124m\"\u001b[39m: data_slice_1,\n\u001b[0;32m   (...)\u001b[0m\n\u001b[1;32m     18\u001b[0m     \u001b[38;5;124m\"\u001b[39m\u001b[38;5;124mdata_slice_4\u001b[39m\u001b[38;5;124m\"\u001b[39m: data_slice_4,\n\u001b[1;32m     19\u001b[0m }\n",
      "\u001b[0;31mValueError\u001b[0m: too many values to unpack (expected 4)"
     ]
    }
   ],
   "source": [
    "import numpy as np\n",
    "\n",
    "# 더미 데이터 생성\n",
    "data_5m = np.arange(1, 101)  # 1부터 100까지의 숫자를 포함한 배열\n",
    "\n",
    "# 슬라이스 분리\n",
    "slices = [data_5m[i:i+2] for i in range(-14, -1, 3)]\n",
    "\n",
    "# 각각을 변수로 할당\n",
    "data_slice_1, data_slice_2, data_slice_3, data_slice_4 = slices\n",
    "\n",
    "# 결과 확인\n",
    "{\n",
    "    \"data_5m\": data_5m[-12:],  # 확인을 위해 마지막 12개만 표시\n",
    "    \"data_slice_1\": data_slice_1,\n",
    "    \"data_slice_2\": data_slice_2,\n",
    "    \"data_slice_3\": data_slice_3,\n",
    "    \"data_slice_4\": data_slice_4,\n",
    "}"
   ]
  },
  {
   "cell_type": "code",
   "execution_count": 4,
   "metadata": {},
   "outputs": [
    {
     "data": {
      "text/plain": [
       "array([89, 90])"
      ]
     },
     "execution_count": 4,
     "metadata": {},
     "output_type": "execute_result"
    }
   ],
   "source": [
    "data_slice_1"
   ]
  },
  {
   "cell_type": "code",
   "execution_count": 13,
   "metadata": {},
   "outputs": [],
   "source": [
    "# data_5m = data_container.get_data(\"interval_5m\")\n",
    "data_slice_1 = data_5m[-13:-9]\n",
    "data_slice_2 = data_5m[-9:-6]\n",
    "data_slice_3 = data_5m[-6:-4]\n",
    "data_slice_4 = data_5m[-3:-1]"
   ]
  },
  {
   "cell_type": "code",
   "execution_count": 39,
   "metadata": {},
   "outputs": [
    {
     "name": "stdout",
     "output_type": "stream",
     "text": [
      "[89 90 91]\n",
      "[92 93 94]\n",
      "[95 96 97]\n",
      "[ 98  99 100]\n"
     ]
    }
   ],
   "source": [
    "print(data_5m[-12:-9])\n",
    "print(data_5m[-9:-6])\n",
    "print(data_5m[-6:-3])\n",
    "print(data_5m[-3:])"
   ]
  },
  {
   "cell_type": "code",
   "execution_count": 1,
   "metadata": {},
   "outputs": [
    {
     "ename": "NameError",
     "evalue": "name 'data_5m' is not defined",
     "output_type": "error",
     "traceback": [
      "\u001b[0;31m---------------------------------------------------------------------------\u001b[0m",
      "\u001b[0;31mNameError\u001b[0m                                 Traceback (most recent call last)",
      "Cell \u001b[0;32mIn[1], line 1\u001b[0m\n\u001b[0;32m----> 1\u001b[0m \u001b[43mdata_5m\u001b[49m[\u001b[38;5;241m-\u001b[39m\u001b[38;5;241m4\u001b[39m:]\n",
      "\u001b[0;31mNameError\u001b[0m: name 'data_5m' is not defined"
     ]
    }
   ],
   "source": [
    "data_5m[-4:]"
   ]
  },
  {
   "cell_type": "code",
   "execution_count": 29,
   "metadata": {},
   "outputs": [
    {
     "data": {
      "text/plain": [
       "100"
      ]
     },
     "execution_count": 29,
     "metadata": {},
     "output_type": "execute_result"
    }
   ],
   "source": [
    "data_5m[-1]"
   ]
  },
  {
   "cell_type": "code",
   "execution_count": 40,
   "metadata": {},
   "outputs": [],
   "source": [
    "slices = [data_5m[i:i+3] for i in range(-12, 0, 3)]\n",
    "\n",
    "# 각각 변수로 할당\n",
    "data_slice_1, data_slice_2, data_slice_3, data_slice_4 = slices"
   ]
  },
  {
   "cell_type": "code",
   "execution_count": 53,
   "metadata": {},
   "outputs": [],
   "source": [
    "a = np.sum(data_slice_1>90)\n",
    "b = np.sum(data_slice_1>90)\n",
    "c = np.sum(data_slice_1>90)\n",
    "d = np.sum(data_slice_1>90)"
   ]
  },
  {
   "cell_type": "code",
   "execution_count": 54,
   "metadata": {},
   "outputs": [],
   "source": [
    "data = np.array([a,b,c,d])"
   ]
  },
  {
   "cell_type": "code",
   "execution_count": 55,
   "metadata": {},
   "outputs": [
    {
     "data": {
      "text/plain": [
       "array([1, 1, 1, 1])"
      ]
     },
     "execution_count": 55,
     "metadata": {},
     "output_type": "execute_result"
    }
   ],
   "source": [
    "data"
   ]
  },
  {
   "cell_type": "code",
   "execution_count": 1,
   "metadata": {},
   "outputs": [],
   "source": [
    "import time"
   ]
  },
  {
   "cell_type": "code",
   "execution_count": 2,
   "metadata": {},
   "outputs": [],
   "source": [
    "import utils"
   ]
  },
  {
   "cell_type": "code",
   "execution_count": 3,
   "metadata": {},
   "outputs": [
    {
     "data": {
      "text/plain": [
       "'1970-01-21 11:28:54'"
      ]
     },
     "execution_count": 3,
     "metadata": {},
     "output_type": "execute_result"
    }
   ],
   "source": [
    "utils._convert_to_datetime(time.time())"
   ]
  },
  {
   "cell_type": "code",
   "execution_count": 3,
   "metadata": {},
   "outputs": [],
   "source": [
    "import numpy as np\n",
    "a = [1,2,3,4,5,6,7,8,9,10]\n",
    "array = np.array(a)"
   ]
  },
  {
   "cell_type": "code",
   "execution_count": 5,
   "metadata": {},
   "outputs": [
    {
     "data": {
      "text/plain": [
       "array([ 7,  8,  9, 10])"
      ]
     },
     "execution_count": 5,
     "metadata": {},
     "output_type": "execute_result"
    }
   ],
   "source": [
    "array[-4:]"
   ]
  },
  {
   "cell_type": "code",
   "execution_count": 6,
   "metadata": {},
   "outputs": [
    {
     "data": {
      "text/plain": [
       "array([4, 5, 6])"
      ]
     },
     "execution_count": 6,
     "metadata": {},
     "output_type": "execute_result"
    }
   ],
   "source": [
    "array[-7:-4]"
   ]
  },
  {
   "cell_type": "code",
   "execution_count": null,
   "metadata": {},
   "outputs": [],
   "source": []
  }
 ],
 "metadata": {
  "kernelspec": {
   "display_name": "python",
   "language": "python",
   "name": "python3"
  },
  "language_info": {
   "codemirror_mode": {
    "name": "ipython",
    "version": 3
   },
   "file_extension": ".py",
   "mimetype": "text/x-python",
   "name": "python",
   "nbconvert_exporter": "python",
   "pygments_lexer": "ipython3",
   "version": "3.12.2"
  }
 },
 "nbformat": 4,
 "nbformat_minor": 2
}
