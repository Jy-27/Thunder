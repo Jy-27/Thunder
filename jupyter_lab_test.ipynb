{
 "cells": [
  {
   "cell_type": "code",
   "execution_count": 1,
   "metadata": {},
   "outputs": [],
   "source": [
    "from SimulateTrading import *\n",
    "from LiveTrading import *\n",
    "\n",
    "# from RealTrading import *\n",
    "import TradeComputation\n",
    "\n",
    "\n",
    "if __name__ == \"__main__\":\n",
    "    symbols = [\n",
    "        \"agldusdt\",\n",
    "        \"xrpusdt\",\n",
    "        \"dogeusdt\",\n",
    "        \"suiusdt\",\n",
    "        \"btcusdt\",\n",
    "        \"ethusdt\",\n",
    "    ]  # 확인하고자 하는 심볼 정보\n",
    "    market = \"futures\"\n",
    "    # intervals = [\"1m\", \"5m\", \"15m\"]  # 백테스트 적용 interval값(다운로드 항목)\n",
    "    ### 수신받을 데이터의 기간 ###\n",
    "    kline_period = 1\n",
    "    start_date = \"2025-1-1 09:00:00\"  # 시작 시간\n",
    "    end_date = \"2025-1-14 08:59:59\"  # 종료 시간\n",
    "    safety_balance_ratio = 0.2  # 잔고 안전금액 지정 비율\n",
    "    stop_loss_rate = 0.65  # 스톱 로스 비율\n",
    "    is_download = False  # 기존 데이터로 할경우 False, 신규 다운로드 True\n",
    "    is_dynamic_adjustment = (\n",
    "        True  # 시간 흐름에 따른 시작가 변동률 반영(stoploss에 영향미침.)\n",
    "    )\n",
    "    dynamic_adjustment_rate = 0.001  # 시간 흐름에 따른 시작가 변동율\n",
    "    dynamic_adjustment_interval = \"3m\"  # 변동율 반영 스텝\n",
    "    use_scale_stop = True  # final손절(False), Scale손절(True)\n",
    "    seed_money = 250  # 시작금액\n",
    "    leverage = 3  # 레버리지\n",
    "    init_stop_rate = 0.025  # 시작 손절가\n",
    "    is_order_break = True  # 반복 손실 발생시 주문 거절여부\n",
    "    allowed_loss_streak = 2  # 반복 손실 발생 유예횟수\n",
    "    loss_recovery_interval = \"4h\"  # 반복 손실 시간 범위\n",
    "    max_held_symbols = 4  # 동시 거래 가능 수량\n",
    "    is_profit_preservation = True  # 수익보존여부\n",
    "    ### Ticker Setting Option ###\n",
    "    comparison = \"above\"  # above : 이상, below : 이하\n",
    "    absolute = False  # True : 비율 절대값, False : 비율 실제값\n",
    "    value = 250_000_000  # 거래대금 : 단위 USD\n",
    "    target_percent = 0.035  # 변동 비율폭 : 음수 가능\n",
    "    \n",
    "    quote_type = \"usdt\"  # 쌍거래 거래화폐\n",
    "    TEST_MODE = True\n",
    "\n",
    "    ins_backtest = BackTesterManager(\n",
    "        symbols=symbols,\n",
    "        market=market,\n",
    "        kline_period=kline_period,\n",
    "        max_held_symbols=max_held_symbols,\n",
    "        start_date=start_date,\n",
    "        end_date=end_date,\n",
    "        safe_asset_ratio=safety_balance_ratio,\n",
    "        stop_loss_rate=stop_loss_rate,\n",
    "        is_download=is_download,\n",
    "        is_dynamic_adjustment=is_dynamic_adjustment,\n",
    "        dynamic_adjustment_rate=dynamic_adjustment_rate,\n",
    "        is_use_scale_stop=use_scale_stop,\n",
    "        seed_money=seed_money,\n",
    "        requested_leverage=leverage,\n",
    "        init_stop_rate=init_stop_rate,\n",
    "        dynamic_adjustment_interval=dynamic_adjustment_interval,\n",
    "        is_order_break=is_order_break,\n",
    "        allowed_loss_streak=allowed_loss_streak,\n",
    "        loss_recovery_interval=loss_recovery_interval,\n",
    "        comparison=comparison,\n",
    "        absolute=absolute,\n",
    "        value=value,\n",
    "        percent=target_percent,\n",
    "        quote_type=quote_type,\n",
    "        is_profit_preservation=is_profit_preservation,\n",
    "    )\n",
    "\n",
    "    ins_livetrading = LiveTradingManager(\n",
    "        seed_money=seed_money,\n",
    "        market=market,\n",
    "        kline_period=kline_period,\n",
    "        safe_asset_ratio=safety_balance_ratio,\n",
    "        max_held_symbols=max_held_symbols,\n",
    "        use_scale_stop=use_scale_stop,\n",
    "        init_stop_rate=init_stop_rate,\n",
    "        stop_loss_rate=stop_loss_rate,\n",
    "        symbols_comparison_mode=comparison,\n",
    "        symbols_use_absolute_value=absolute,\n",
    "        symbols_transaction_volume=value,\n",
    "        symbols_price_change_threshold=target_percent,\n",
    "        requested_leverage=leverage,\n",
    "    )"
   ]
  },
  {
   "cell_type": "code",
   "execution_count": 2,
   "metadata": {},
   "outputs": [
    {
     "name": "stdout",
     "output_type": "stream",
     "text": [
      "seed money 조정 : 250.00 -> 4.89\n",
      "TradingLog(symbol='futures_ZENUSDT',\n",
      "           start_timestamp=1736964362272,\n",
      "           entry_price=28.836,\n",
      "           position=1,\n",
      "           quantity=0.2,\n",
      "           leverage=2,\n",
      "           trade_scenario=0,\n",
      "           test_mode=False,\n",
      "           stop_rate=0.65,\n",
      "           fee_rate=0.05,\n",
      "           init_stop_rate=0.025,\n",
      "           use_scale_stop=True,\n",
      "           is_dynamic_adjustment=True,\n",
      "           dynamic_adjustment_rate=0.0007,\n",
      "           dynamic_adjustment_interval='3m',\n",
      "           adj_start_price=28.115099999999998,\n",
      "           stop_price=28.367414999999998,\n",
      "           stop_signal=False,\n",
      "           last_timestamp=1736964362272,\n",
      "           high_price=28.836,\n",
      "           low_price=28.836,\n",
      "           current_price=28.836,\n",
      "           initial_value=3.1133,\n",
      "           current_value=2.8836,\n",
      "           net_profit_loss=0.0,\n",
      "           net_profit_loss_rate=0.0,\n",
      "           gross_profit_loss=-0.2274168000000003,\n",
      "           gross_profit_loss_rate=-0.07304686345678228,\n",
      "           break_even_price=29.973084,\n",
      "           entry_fee=0.2274168000000003,\n",
      "           exit_fee=0)\n"
     ]
    }
   ],
   "source": [
    "import asyncio\n",
    "import nest_asyncio\n",
    "\n",
    "nest_asyncio.apply()\n",
    "asyncio.run(ins_livetrading.start_update_account())"
   ]
  },
  {
   "cell_type": "code",
   "execution_count": 5,
   "metadata": {},
   "outputs": [
    {
     "data": {
      "text/plain": [
       "False"
      ]
     },
     "execution_count": 5,
     "metadata": {},
     "output_type": "execute_result"
    }
   ],
   "source": [
    "ins_livetrading.ins_portfolio.update_log_data(symbol='ZENUSDT', price=32.75, timestamp=int(time.time()*1000))"
   ]
  },
  {
   "cell_type": "code",
   "execution_count": 6,
   "metadata": {},
   "outputs": [
    {
     "name": "stdout",
     "output_type": "stream",
     "text": [
      "TradingLog(symbol='futures_ZENUSDT',\n",
      "           start_timestamp=1736964362272,\n",
      "           entry_price=28.836,\n",
      "           position=1,\n",
      "           quantity=0.2,\n",
      "           leverage=2,\n",
      "           trade_scenario=0,\n",
      "           test_mode=False,\n",
      "           stop_rate=0.65,\n",
      "           fee_rate=0.05,\n",
      "           init_stop_rate=0.025,\n",
      "           use_scale_stop=True,\n",
      "           is_dynamic_adjustment=True,\n",
      "           dynamic_adjustment_rate=0.0007,\n",
      "           dynamic_adjustment_interval='3m',\n",
      "           adj_start_price=29.1647304,\n",
      "           stop_price=30.41957476,\n",
      "           stop_signal=False,\n",
      "           last_timestamp=1736973862212,\n",
      "           high_price=32.75,\n",
      "           low_price=28.836,\n",
      "           current_price=32.75,\n",
      "           initial_value=3.1133,\n",
      "           current_value=3.2750000000000004,\n",
      "           net_profit_loss=0.7828000000000004,\n",
      "           net_profit_loss_rate=0.2514373815565478,\n",
      "           gross_profit_loss=0.5553832000000001,\n",
      "           gross_profit_loss_rate=0.17839051809976553,\n",
      "           break_even_price=29.973084,\n",
      "           entry_fee=0.2274168000000003,\n",
      "           exit_fee=0)\n"
     ]
    }
   ],
   "source": [
    "from pprint import pprint\n",
    "pprint(ins_livetrading.ins_portfolio.data_container.get_data('futures_ZENUSDT'))"
   ]
  },
  {
   "cell_type": "code",
   "execution_count": 1,
   "metadata": {},
   "outputs": [],
   "source": [
    "import TradeClient\n",
    "import asyncio\n",
    "import nest_asyncio\n",
    "\n",
    "nest_asyncio.apply()\n",
    "\n",
    "ins_ = TradeClient.FuturesOrder()"
   ]
  },
  {
   "cell_type": "code",
   "execution_count": 2,
   "metadata": {},
   "outputs": [
    {
     "data": {
      "text/plain": [
       "0.169"
      ]
     },
     "execution_count": 2,
     "metadata": {},
     "output_type": "execute_result"
    }
   ],
   "source": [
    "asyncio.run(ins_.get_min_trade_quantity('LTCUSDT'))"
   ]
  },
  {
   "cell_type": "code",
   "execution_count": 3,
   "metadata": {},
   "outputs": [
    {
     "data": {
      "text/plain": [
       "0.042"
      ]
     },
     "execution_count": 3,
     "metadata": {},
     "output_type": "execute_result"
    }
   ],
   "source": [
    "asyncio.run(ins_.get_max_trade_quantity(symbol='LTCUSDT', leverage=1, balance=5))"
   ]
  },
  {
   "cell_type": "code",
   "execution_count": 7,
   "metadata": {},
   "outputs": [
    {
     "name": "stdout",
     "output_type": "stream",
     "text": [
      "[{'symbol': 'LTCUSDT', 'brackets': [{'bracket': 1, 'initialLeverage': 75, 'notionalCap': 10000, 'notionalFloor': 0, 'maintMarginRatio': 0.005, 'cum': 0.0}, {'bracket': 2, 'initialLeverage': 50, 'notionalCap': 50000, 'notionalFloor': 10000, 'maintMarginRatio': 0.01, 'cum': 50.0}, {'bracket': 3, 'initialLeverage': 40, 'notionalCap': 160000, 'notionalFloor': 50000, 'maintMarginRatio': 0.015, 'cum': 300.0}, {'bracket': 4, 'initialLeverage': 25, 'notionalCap': 800000, 'notionalFloor': 160000, 'maintMarginRatio': 0.02, 'cum': 1100.0}, {'bracket': 5, 'initialLeverage': 20, 'notionalCap': 1600000, 'notionalFloor': 800000, 'maintMarginRatio': 0.025, 'cum': 5100.0}, {'bracket': 6, 'initialLeverage': 10, 'notionalCap': 8000000, 'notionalFloor': 1600000, 'maintMarginRatio': 0.05, 'cum': 45100.0}, {'bracket': 7, 'initialLeverage': 5, 'notionalCap': 16000000, 'notionalFloor': 8000000, 'maintMarginRatio': 0.1, 'cum': 445100.0}, {'bracket': 8, 'initialLeverage': 4, 'notionalCap': 20000000, 'notionalFloor': 16000000, 'maintMarginRatio': 0.125, 'cum': 845100.0}, {'bracket': 9, 'initialLeverage': 2, 'notionalCap': 40000000, 'notionalFloor': 20000000, 'maintMarginRatio': 0.25, 'cum': 3345100.0}, {'bracket': 10, 'initialLeverage': 1, 'notionalCap': 80000000, 'notionalFloor': 40000000, 'maintMarginRatio': 0.5, 'cum': 13345100.0}]}]\n"
     ]
    }
   ],
   "source": [
    "from pprint import pprint\n",
    "data = asyncio.run(ins_.get_max_leverage('LTCUSDT'))\n"
   ]
  },
  {
   "cell_type": "code",
   "execution_count": 10,
   "metadata": {},
   "outputs": [],
   "source": [
    "signal = [{'symbol': 'LTCUSDT', 'brackets': [{'bracket': 1, 'initialLeverage': 75, 'notionalCap': 10000, 'notionalFloor': 0, 'maintMarginRatio': 0.005, 'cum': 0.0}, {'bracket': 2, 'initialLeverage': 50, 'notionalCap': 50000, 'notionalFloor': 10000, 'maintMarginRatio': 0.01, 'cum': 50.0}, {'bracket': 3, 'initialLeverage': 40, 'notionalCap': 160000, 'notionalFloor': 50000, 'maintMarginRatio': 0.015, 'cum': 300.0}, {'bracket': 4, 'initialLeverage': 25, 'notionalCap': 800000, 'notionalFloor': 160000, 'maintMarginRatio': 0.02, 'cum': 1100.0}, {'bracket': 5, 'initialLeverage': 20, 'notionalCap': 1600000, 'notionalFloor': 800000, 'maintMarginRatio': 0.025, 'cum': 5100.0}, {'bracket': 6, 'initialLeverage': 10, 'notionalCap': 8000000, 'notionalFloor': 1600000, 'maintMarginRatio': 0.05, 'cum': 45100.0}, {'bracket': 7, 'initialLeverage': 5, 'notionalCap': 16000000, 'notionalFloor': 8000000, 'maintMarginRatio': 0.1, 'cum': 445100.0}, {'bracket': 8, 'initialLeverage': 4, 'notionalCap': 20000000, 'notionalFloor': 16000000, 'maintMarginRatio': 0.125, 'cum': 845100.0}, {'bracket': 9, 'initialLeverage': 2, 'notionalCap': 40000000, 'notionalFloor': 20000000, 'maintMarginRatio': 0.25, 'cum': 3345100.0}, {'bracket': 10, 'initialLeverage': 1, 'notionalCap': 80000000, 'notionalFloor': 40000000, 'maintMarginRatio': 0.5, 'cum': 13345100.0}]}]"
   ]
  },
  {
   "cell_type": "code",
   "execution_count": 11,
   "metadata": {},
   "outputs": [
    {
     "name": "stdout",
     "output_type": "stream",
     "text": [
      "{'symbol': 'LTCUSDT', 'brackets': [{'bracket': 1, 'initialLeverage': 75, 'notionalCap': 10000, 'notionalFloor': 0, 'maintMarginRatio': 0.005, 'cum': 0.0}, {'bracket': 2, 'initialLeverage': 50, 'notionalCap': 50000, 'notionalFloor': 10000, 'maintMarginRatio': 0.01, 'cum': 50.0}, {'bracket': 3, 'initialLeverage': 40, 'notionalCap': 160000, 'notionalFloor': 50000, 'maintMarginRatio': 0.015, 'cum': 300.0}, {'bracket': 4, 'initialLeverage': 25, 'notionalCap': 800000, 'notionalFloor': 160000, 'maintMarginRatio': 0.02, 'cum': 1100.0}, {'bracket': 5, 'initialLeverage': 20, 'notionalCap': 1600000, 'notionalFloor': 800000, 'maintMarginRatio': 0.025, 'cum': 5100.0}, {'bracket': 6, 'initialLeverage': 10, 'notionalCap': 8000000, 'notionalFloor': 1600000, 'maintMarginRatio': 0.05, 'cum': 45100.0}, {'bracket': 7, 'initialLeverage': 5, 'notionalCap': 16000000, 'notionalFloor': 8000000, 'maintMarginRatio': 0.1, 'cum': 445100.0}, {'bracket': 8, 'initialLeverage': 4, 'notionalCap': 20000000, 'notionalFloor': 16000000, 'maintMarginRatio': 0.125, 'cum': 845100.0}, {'bracket': 9, 'initialLeverage': 2, 'notionalCap': 40000000, 'notionalFloor': 20000000, 'maintMarginRatio': 0.25, 'cum': 3345100.0}, {'bracket': 10, 'initialLeverage': 1, 'notionalCap': 80000000, 'notionalFloor': 40000000, 'maintMarginRatio': 0.5, 'cum': 13345100.0}]}\n"
     ]
    }
   ],
   "source": [
    "for i in signal:\n",
    "    print(i)"
   ]
  },
  {
   "cell_type": "code",
   "execution_count": null,
   "metadata": {},
   "outputs": [],
   "source": []
  }
 ],
 "metadata": {
  "kernelspec": {
   "display_name": "python",
   "language": "python",
   "name": "python3"
  },
  "language_info": {
   "codemirror_mode": {
    "name": "ipython",
    "version": 3
   },
   "file_extension": ".py",
   "mimetype": "text/x-python",
   "name": "python",
   "nbconvert_exporter": "python",
   "pygments_lexer": "ipython3",
   "version": "3.12.2"
  }
 },
 "nbformat": 4,
 "nbformat_minor": 2
}
