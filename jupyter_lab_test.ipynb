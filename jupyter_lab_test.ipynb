{
 "cells": [
  {
   "cell_type": "code",
   "execution_count": 1,
   "metadata": {},
   "outputs": [],
   "source": [
    "import LiveTrading\n",
    "import asyncio\n",
    "import nest_asyncio\n",
    "import utils\n",
    "import TradeClient\n",
    "\n",
    "nest_asyncio.apply()\n",
    "\n",
    "symbols = [\n",
    "    \"agldusdt\",\n",
    "    \"xrpusdt\",\n",
    "    \"dogeusdt\",\n",
    "    \"suiusdt\",\n",
    "    \"btcusdt\",\n",
    "    \"ethusdt\",\n",
    "]  # 확인하고자 하는 심볼 정보\n",
    "market = \"futures\"\n",
    "# intervals = [\"1m\", \"5m\", \"15m\"]  # 백테스트 적용 interval값(다운로드 항목)\n",
    "### 수신받을 데이터의 기간 ###\n",
    "kline_period = 1\n",
    "start_date = \"2025-1-1 09:00:00\"  # 시작 시간\n",
    "end_date = \"2025-1-14 08:59:59\"  # 종료 시간\n",
    "safety_balance_ratio = 0.2  # 잔고 안전금액 지정 비율\n",
    "stop_loss_rate = 0.65  # 스톱 로스 비율\n",
    "is_download = False  # 기존 데이터로 할경우 False, 신규 다운로드 True\n",
    "is_dynamic_adjustment = (\n",
    "    True  # 시간 흐름에 따른 시작가 변동률 반영(stoploss에 영향미침.)\n",
    ")\n",
    "dynamic_adjustment_rate = 0.001  # 시간 흐름에 따른 시작가 변동율 (토마호크 미사일)\n",
    "dynamic_adjustment_interval = \"3m\"  # 변동율 반영 스텝\n",
    "use_scale_stop = True  # final손절(False), Scale손절(True)\n",
    "seed_money = 250  # 시작금액\n",
    "leverage = 5  # 레버리지\n",
    "init_stop_rate = 0.025  # 시작 손절가\n",
    "is_order_break = True  # 반복 손실 발생시 주문 거절여부\n",
    "allowed_loss_streak = 2  # 반복 손실 발생 유예횟수\n",
    "loss_recovery_interval = \"4h\"  # 반복 손실 시간 범위\n",
    "max_held_symbols = 3  # 동시 거래 가능 수량\n",
    "is_profit_preservation = True  # 수익보존여부\n",
    "### Ticker Setting Option ###\n",
    "comparison = \"above\"  # above : 이상, below : 이하\n",
    "absolute = False  # True : 비율 절대값, False : 비율 실제값\n",
    "value = 250_000_000  # 거래대금 : 단위 USD\n",
    "target_percent = 0.035  # 변동 비율폭 : 음수 가능\n",
    "\n",
    "quote_type = \"usdt\"  # 쌍거래 거래화폐\n",
    "\n",
    "ins_client = TradeClient.FuturesOrder()\n",
    "ins_livetrading = LiveTrading.LiveTradingManager(\n",
    "    seed_money=seed_money,\n",
    "    market=market,\n",
    "    kline_period=kline_period,\n",
    "    safe_asset_ratio=safety_balance_ratio,\n",
    "    max_held_symbols=max_held_symbols,\n",
    "    use_scale_stop=use_scale_stop,\n",
    "    init_stop_rate=init_stop_rate,\n",
    "    stop_loss_rate=stop_loss_rate,\n",
    "    symbols_comparison_mode=comparison,\n",
    "    symbols_use_absolute_value=absolute,\n",
    "    symbols_transaction_volume=value,\n",
    "    symbols_price_change_threshold=target_percent,\n",
    "    requested_leverage=leverage,\n",
    ")"
   ]
  },
  {
   "cell_type": "markdown",
   "metadata": {},
   "source": []
  },
  {
   "cell_type": "code",
   "execution_count": 2,
   "metadata": {},
   "outputs": [
    {
     "name": "stdout",
     "output_type": "stream",
     "text": [
      "seed money 조정 : 250.00 -> 5.06\n",
      "TradingLog(symbol='futures_TRXUSDT',\n",
      "           start_timestamp=1737149920872,\n",
      "           entry_price=0.24852,\n",
      "           position=1,\n",
      "           quantity=21,\n",
      "           leverage=15,\n",
      "           trade_scenario=0,\n",
      "           test_mode=False,\n",
      "           stop_rate=0.65,\n",
      "           fee_rate=0.05,\n",
      "           init_stop_rate=0.025,\n",
      "           use_scale_stop=True,\n",
      "           is_dynamic_adjustment=True,\n",
      "           dynamic_adjustment_rate=0.0007,\n",
      "           dynamic_adjustment_interval='3m',\n",
      "           adj_start_price=0.242307,\n",
      "           stop_price=0.24448155,\n",
      "           stop_signal=False,\n",
      "           last_timestamp=1737149920872,\n",
      "           high_price=0.24852,\n",
      "           low_price=0.24852,\n",
      "           current_price=0.24852,\n",
      "           initial_value=0.34768753,\n",
      "           current_value=0.34792799999999996,\n",
      "           net_profit_loss=0.0,\n",
      "           net_profit_loss_rate=0.0,\n",
      "           gross_profit_loss=0.0020993999999999735,\n",
      "           gross_profit_loss_rate=0.006038180316676797,\n",
      "           break_even_price=0.24842002857142856,\n",
      "           entry_fee=-0.0020993999999999735,\n",
      "           exit_fee=0)\n"
     ]
    }
   ],
   "source": [
    "asyncio.run(ins_livetrading.start_update_account())"
   ]
  },
  {
   "cell_type": "code",
   "execution_count": 7,
   "metadata": {},
   "outputs": [
    {
     "name": "stdout",
     "output_type": "stream",
     "text": [
      "{'symbol': 'TRXUSDT', 'side': 'SELL', 'type': 'MARKET', 'quantity': 21.0, 'timestamp': 1737150141966, 'positionSide': 'BOTH', 'reduceOnly': 'true'}\n",
      "TradingLog(symbol='futures_TRXUSDT',\n",
      "           start_timestamp=1737149920872,\n",
      "           entry_price=0.24852,\n",
      "           position=1,\n",
      "           quantity=21,\n",
      "           leverage=15,\n",
      "           trade_scenario=0,\n",
      "           test_mode=False,\n",
      "           stop_rate=0.65,\n",
      "           fee_rate=0.05,\n",
      "           init_stop_rate=0.025,\n",
      "           use_scale_stop=True,\n",
      "           is_dynamic_adjustment=True,\n",
      "           dynamic_adjustment_rate=0.0007,\n",
      "           dynamic_adjustment_interval='3m',\n",
      "           adj_start_price=0.242480964,\n",
      "           stop_price=0.2445946266,\n",
      "           stop_signal=False,\n",
      "           last_timestamp=1737150142042,\n",
      "           high_price=0.24852,\n",
      "           low_price=0.24824,\n",
      "           current_price=0.24824,\n",
      "           initial_value=0.34768753,\n",
      "           current_value=0.3495828500000004,\n",
      "           net_profit_loss=-0.005880000000000052,\n",
      "           net_profit_loss_rate=-0.01691173681149868,\n",
      "           gross_profit_loss=-0.0037806000000000783,\n",
      "           gross_profit_loss_rate=-0.010873556494821883,\n",
      "           break_even_price=0.24842002857142856,\n",
      "           entry_fee=-0.0020993999999999735,\n",
      "           exit_fee=0.00260652)\n"
     ]
    },
    {
     "data": {
      "text/plain": [
       "{'orderId': 13733052869,\n",
       " 'symbol': 'TRXUSDT',\n",
       " 'status': 'NEW',\n",
       " 'clientOrderId': '2GgFRkJaov7nOdEbbf3kB2',\n",
       " 'price': '0.00000',\n",
       " 'avgPrice': '0.00',\n",
       " 'origQty': '21',\n",
       " 'executedQty': '0',\n",
       " 'cumQty': '0',\n",
       " 'cumQuote': '0.00000',\n",
       " 'timeInForce': 'GTC',\n",
       " 'type': 'MARKET',\n",
       " 'reduceOnly': True,\n",
       " 'closePosition': False,\n",
       " 'side': 'SELL',\n",
       " 'positionSide': 'BOTH',\n",
       " 'stopPrice': '0.00000',\n",
       " 'workingType': 'CONTRACT_PRICE',\n",
       " 'priceProtect': False,\n",
       " 'origType': 'MARKET',\n",
       " 'priceMatch': 'NONE',\n",
       " 'selfTradePreventionMode': 'EXPIRE_MAKER',\n",
       " 'goodTillDate': 0,\n",
       " 'updateTime': 1737150142042}"
      ]
     },
     "execution_count": 7,
     "metadata": {},
     "output_type": "execute_result"
    }
   ],
   "source": [
    "asyncio.run(ins_livetrading.submit_order_close_signal('TRXUSDT'))"
   ]
  },
  {
   "cell_type": "code",
   "execution_count": 1,
   "metadata": {},
   "outputs": [],
   "source": [
    "import numpy as np"
   ]
  },
  {
   "cell_type": "code",
   "execution_count": 12,
   "metadata": {},
   "outputs": [
    {
     "name": "stdout",
     "output_type": "stream",
     "text": [
      "True 길이: 2\n"
     ]
    }
   ],
   "source": [
    "import numpy as np\n",
    "\n",
    "# 초기 데이터\n",
    "array_ = np.array([1, 0, 1, 2, 3, 4, 0, 3, 2, 1, 2, 3])\n",
    "diff_array = np.diff(array_)\n",
    "data = diff_array[::-1]\n",
    "\n",
    "# True 길이 계산\n",
    "true_len = next((i for i, val in enumerate(data) if val <= 0), len(data))\n",
    "\n",
    "print(\"True 길이:\", true_len)"
   ]
  },
  {
   "cell_type": "code",
   "execution_count": 28,
   "metadata": {},
   "outputs": [
    {
     "name": "stdout",
     "output_type": "stream",
     "text": [
      "True 길이: 3\n"
     ]
    }
   ],
   "source": [
    "import numpy as np\n",
    "\n",
    "# 초기 데이터\n",
    "array_ = np.array([1, 0, 1, 2, 3, 4, 0, 3, 4, 3, 2, 1])\n",
    "diff_array = np.diff(array_)\n",
    "data = diff_array[::-1]\n",
    "\n",
    "# 백터화된 연산으로 True 길이 계산\n",
    "condition = data > 0\n",
    "true_len = np.argmax(condition) if np.any(condition) else len(data)\n",
    "\n",
    "print(\"True 길이:\", true_len)"
   ]
  },
  {
   "cell_type": "code",
   "execution_count": 18,
   "metadata": {},
   "outputs": [
    {
     "data": {
      "text/plain": [
       "array([2, 3])"
      ]
     },
     "execution_count": 18,
     "metadata": {},
     "output_type": "execute_result"
    }
   ],
   "source": [
    "array_[-2:]"
   ]
  },
  {
   "cell_type": "code",
   "execution_count": 21,
   "metadata": {},
   "outputs": [],
   "source": [
    "target = 2"
   ]
  },
  {
   "cell_type": "code",
   "execution_count": 23,
   "metadata": {},
   "outputs": [
    {
     "data": {
      "text/plain": [
       "-4"
      ]
     },
     "execution_count": 23,
     "metadata": {},
     "output_type": "execute_result"
    }
   ],
   "source": [
    "-2 * target"
   ]
  },
  {
   "cell_type": "code",
   "execution_count": 24,
   "metadata": {},
   "outputs": [],
   "source": [
    "import utils"
   ]
  },
  {
   "cell_type": "code",
   "execution_count": 26,
   "metadata": {},
   "outputs": [
    {
     "name": "stdout",
     "output_type": "stream",
     "text": [
      "0 - Open Time\n",
      "1 - Open\n",
      "2 - High\n",
      "3 - Low\n",
      "4 - Close\n",
      "5 - Volume\n",
      "6 - Close Time\n",
      "7 - Quote Asset Volume\n",
      "8 - Number of Trades\n",
      "9 - Taker Buy Base Asset Volume\n",
      "10 - Taker Buy Quote Asset Volume\n",
      "11 - Ignore\n"
     ]
    }
   ],
   "source": [
    "for idx, data in enumerate(utils._info_kline_columns()):\n",
    "    print(f'{idx} - {data}')"
   ]
  },
  {
   "cell_type": "code",
   "execution_count": null,
   "metadata": {},
   "outputs": [],
   "source": []
  },
  {
   "cell_type": "code",
   "execution_count": null,
   "metadata": {},
   "outputs": [],
   "source": []
  }
 ],
 "metadata": {
  "kernelspec": {
   "display_name": "python",
   "language": "python",
   "name": "python3"
  },
  "language_info": {
   "codemirror_mode": {
    "name": "ipython",
    "version": 3
   },
   "file_extension": ".py",
   "mimetype": "text/x-python",
   "name": "python",
   "nbconvert_exporter": "python",
   "pygments_lexer": "ipython3",
   "version": "3.12.2"
  }
 },
 "nbformat": 4,
 "nbformat_minor": 2
}
