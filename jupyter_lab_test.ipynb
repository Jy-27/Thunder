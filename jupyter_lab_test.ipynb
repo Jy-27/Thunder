{
 "cells": [
  {
   "cell_type": "code",
   "execution_count": 1,
   "metadata": {},
   "outputs": [
    {
     "name": "stdout",
     "output_type": "stream",
     "text": [
      "seed money 조정 : 10.00 -> 6.23\n",
      "1. 예수금 (API)    : 5.19937658\n",
      "2. 예수금 (Memory) : 5.19976705\n",
      "3. 차 이          : -0.00039047000000014265\n"
     ]
    }
   ],
   "source": [
    "import LiveTrading\n",
    "import asyncio\n",
    "import nest_asyncio\n",
    "import TradeClient\n",
    "import MarketDataFetcher\n",
    "import time\n",
    "from pprint import pprint\n",
    "\n",
    "nest_asyncio.apply()\n",
    "\n",
    "# 클라이언트\n",
    "c_obj = TradeClient.FuturesOrder()\n",
    "\n",
    "# 마켓 \n",
    "m_obj = MarketDataFetcher.FuturesMarket()\n",
    "\n",
    "# 라이브트레이드\n",
    "t_obj = LiveTrading.LiveTradingManager(seed_money=10, market='futures', requested_leverage=5, kline_period=2, stop_loss_rate=0.35, init_stop_rate=0.015)\n",
    "asyncio.run(t_obj.start_update_account())\n",
    "\n",
    "api_total_balance = asyncio.run(c_obj.get_available_balance())\n",
    "memory_total_balance = t_obj.ins_portfolio.available_balance\n",
    "\n",
    "symbol = 'APTUSDT'\n",
    "dummy_signal = (True, 1, 0)\n",
    "\n",
    "print(f'1. 예수금 (API)    : {api_total_balance}')\n",
    "print(f'2. 예수금 (Memory) : {memory_total_balance}')\n",
    "print(f'3. 차 이          : {api_total_balance-memory_total_balance}')"
   ]
  },
  {
   "cell_type": "code",
   "execution_count": null,
   "metadata": {},
   "outputs": [],
   "source": [
    "# asyncio.run(t_obj.submit_order_open_signal(symbol=symbol, scenario_data=dummy_signal))"
   ]
  },
  {
   "cell_type": "code",
   "execution_count": 2,
   "metadata": {},
   "outputs": [
    {
     "name": "stdout",
     "output_type": "stream",
     "text": [
      "TradingLog(symbol='futures_APTUSDT',\n",
      "           start_timestamp=1736830051582,\n",
      "           entry_price=8.5578,\n",
      "           position=1,\n",
      "           quantity=0.6,\n",
      "           leverage=5,\n",
      "           trade_scenario=0,\n",
      "           test_mode=False,\n",
      "           stop_rate=0.35,\n",
      "           fee_rate=0.05,\n",
      "           init_stop_rate=0.015,\n",
      "           use_scale_stop=True,\n",
      "           is_dynamic_adjustment=True,\n",
      "           dynamic_adjustment_rate=0.0007,\n",
      "           dynamic_adjustment_interval='3m',\n",
      "           adj_start_price=8.43542346,\n",
      "           stop_price=8.519388211,\n",
      "           stop_signal=False,\n",
      "           last_timestamp=1736830245143,\n",
      "           high_price=8.5646,\n",
      "           low_price=8.5578,\n",
      "           current_price=8.5646,\n",
      "           initial_value=1.02787359,\n",
      "           current_value=1.027752,\n",
      "           net_profit_loss=0.0040800000000000836,\n",
      "           net_profit_loss_rate=0.003969359695291017,\n",
      "           gross_profit_loss=0.004470470000000004,\n",
      "           gross_profit_loss_rate=0.004349241038482178,\n",
      "           break_even_price=8.557149216666668,\n",
      "           entry_fee=-0.0003904699999999206,\n",
      "           exit_fee=0)\n"
     ]
    }
   ],
   "source": [
    "new_price = float(asyncio.run(m_obj.fetch_symbol_price(symbol))['price'])\n",
    "timestamp = int(time.time()*1000)\n",
    "\n",
    "t_obj.ins_portfolio.update_log_data(symbol=symbol, price=new_price, timestamp=timestamp)\n",
    "pprint(t_obj.ins_portfolio.data_container.get_data(f'futures_{symbol}'))"
   ]
  },
  {
   "cell_type": "code",
   "execution_count": 3,
   "metadata": {},
   "outputs": [
    {
     "name": "stdout",
     "output_type": "stream",
     "text": [
      "{'futures_APTUSDT': [[1736830051582, 1736830248815, 1, 5, 0.6, 8.5578, 8.5668, 8.5578, 8.5668, 8.520818211, 1.02787359, 1.028016, 0.005400000000000204, 0.005790470000000125, -0.0003904699999999206, 0, 0]]}\n",
      "TradingLog(symbol='futures_APTUSDT',\n",
      "           start_timestamp=1736830051582,\n",
      "           entry_price=8.5578,\n",
      "           position=1,\n",
      "           quantity=0.6,\n",
      "           leverage=5,\n",
      "           trade_scenario=0,\n",
      "           test_mode=False,\n",
      "           stop_rate=0.35,\n",
      "           fee_rate=0.05,\n",
      "           init_stop_rate=0.015,\n",
      "           use_scale_stop=True,\n",
      "           is_dynamic_adjustment=True,\n",
      "           dynamic_adjustment_rate=0.0007,\n",
      "           dynamic_adjustment_interval='3m',\n",
      "           adj_start_price=8.43542346,\n",
      "           stop_price=8.520818211,\n",
      "           stop_signal=False,\n",
      "           last_timestamp=1736830248815,\n",
      "           high_price=8.5668,\n",
      "           low_price=8.5578,\n",
      "           current_price=8.5668,\n",
      "           initial_value=1.02787359,\n",
      "           current_value=1.0336640600000002,\n",
      "           net_profit_loss=0.005400000000000204,\n",
      "           net_profit_loss_rate=0.005253564302591143,\n",
      "           gross_profit_loss=0.005790470000000125,\n",
      "           gross_profit_loss_rate=0.0056334456457823034,\n",
      "           break_even_price=8.557149216666668,\n",
      "           entry_fee=-0.0003904699999999206,\n",
      "           exit_fee=0.00257004)\n",
      "True\n"
     ]
    },
    {
     "data": {
      "text/plain": [
       "{'orderId': 13411832266,\n",
       " 'symbol': 'APTUSDT',\n",
       " 'status': 'NEW',\n",
       " 'clientOrderId': 'r4xJEIJmr3N2ZahfKL0j7d',\n",
       " 'price': '0.00000',\n",
       " 'avgPrice': '0.00',\n",
       " 'origQty': '0.6',\n",
       " 'executedQty': '0.0',\n",
       " 'cumQty': '0.0',\n",
       " 'cumQuote': '0.000000',\n",
       " 'timeInForce': 'GTC',\n",
       " 'type': 'MARKET',\n",
       " 'reduceOnly': True,\n",
       " 'closePosition': False,\n",
       " 'side': 'SELL',\n",
       " 'positionSide': 'BOTH',\n",
       " 'stopPrice': '0.00000',\n",
       " 'workingType': 'CONTRACT_PRICE',\n",
       " 'priceProtect': False,\n",
       " 'origType': 'MARKET',\n",
       " 'priceMatch': 'NONE',\n",
       " 'selfTradePreventionMode': 'EXPIRE_MAKER',\n",
       " 'goodTillDate': 0,\n",
       " 'updateTime': 1736830248815}"
      ]
     },
     "execution_count": 3,
     "metadata": {},
     "output_type": "execute_result"
    }
   ],
   "source": [
    "asyncio.run(t_obj.submit_order_close_signal(symbol))"
   ]
  },
  {
   "cell_type": "code",
   "execution_count": 4,
   "metadata": {},
   "outputs": [
    {
     "name": "stdout",
     "output_type": "stream",
     "text": [
      "1. 예수금 (API)    : 6.2304706\n",
      "2. 예수금 (Memory) : 6.2304706\n",
      "3. 차 이          : 0.0\n"
     ]
    }
   ],
   "source": [
    "api_total_balance = asyncio.run(c_obj.get_available_balance())\n",
    "memory_total_balance = t_obj.ins_portfolio.available_balance\n",
    "\n",
    "print(f'1. 예수금 (API)    : {api_total_balance}')\n",
    "print(f'2. 예수금 (Memory) : {memory_total_balance}')\n",
    "print(f'3. 차 이          : {api_total_balance-memory_total_balance}')"
   ]
  },
  {
   "cell_type": "code",
   "execution_count": 5,
   "metadata": {},
   "outputs": [
    {
     "data": {
      "text/plain": [
       "0.0028299600000005753"
      ]
     },
     "execution_count": 5,
     "metadata": {},
     "output_type": "execute_result"
    }
   ],
   "source": [
    "t_obj.ins_portfolio.profit_loss"
   ]
  },
  {
   "cell_type": "code",
   "execution_count": null,
   "metadata": {},
   "outputs": [],
   "source": []
  },
  {
   "cell_type": "code",
   "execution_count": null,
   "metadata": {},
   "outputs": [],
   "source": []
  }
 ],
 "metadata": {
  "kernelspec": {
   "display_name": "ame",
   "language": "python",
   "name": "python3"
  },
  "language_info": {
   "codemirror_mode": {
    "name": "ipython",
    "version": 3
   },
   "file_extension": ".py",
   "mimetype": "text/x-python",
   "name": "python",
   "nbconvert_exporter": "python",
   "pygments_lexer": "ipython3",
   "version": "3.12.2"
  }
 },
 "nbformat": 4,
 "nbformat_minor": 2
}
