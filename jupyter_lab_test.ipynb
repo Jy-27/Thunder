{
 "cells": [
  {
   "cell_type": "code",
   "execution_count": 6,
   "metadata": {},
   "outputs": [],
   "source": [
    "import TradeClient\n",
    "import asyncio\n",
    "import nest_asyncio\n",
    "\n",
    "nest_asyncio.apply()"
   ]
  },
  {
   "cell_type": "code",
   "execution_count": 7,
   "metadata": {},
   "outputs": [],
   "source": [
    "ins_futures= TradeClient.FuturesOrder()"
   ]
  },
  {
   "cell_type": "code",
   "execution_count": 8,
   "metadata": {},
   "outputs": [],
   "source": [
    "data = asyncio.run(ins_futures.submit_order(symbol='XRPUSDT',\n",
    "                                            side='SELL',\n",
    "                                            order_type='MARKET',\n",
    "                                            quantity=2.2))"
   ]
  },
  {
   "cell_type": "code",
   "execution_count": null,
   "metadata": {},
   "outputs": [
    {
     "data": {
      "text/plain": [
       "{'orderId': 81138501598,\n",
       " 'symbol': 'XRPUSDT',\n",
       " 'status': 'NEW',\n",
       " 'clientOrderId': 'UdeDw0htcquppDKPa03HRD',\n",
       " 'price': '0.0000',\n",
       " 'avgPrice': '0.00',\n",
       " 'origQty': '2.2',\n",
       " 'executedQty': '0.0',\n",
       " 'cumQty': '0.0',\n",
       " 'cumQuote': '0.00000',\n",
       " 'timeInForce': 'GTC',\n",
       " 'type': 'MARKET',\n",
       " 'reduceOnly': False,\n",
       " 'closePosition': False,\n",
       " 'side': 'SELL',\n",
       " 'positionSide': 'BOTH',\n",
       " 'stopPrice': '0.0000',\n",
       " 'workingType': 'CONTRACT_PRICE',\n",
       " 'priceProtect': False,\n",
       " 'origType': 'MARKET',\n",
       " 'priceMatch': 'NONE',\n",
       " 'selfTradePreventionMode': 'EXPIRE_MAKER',\n",
       " 'goodTillDate': 0,\n",
       " 'updateTime': 1736494433210}"
      ]
     },
     "execution_count": 9,
     "metadata": {},
     "output_type": "execute_result"
    }
   ],
   "source": [
    "data"
   ]
  },
  {
   "cell_type": "code",
   "execution_count": 10,
   "metadata": {},
   "outputs": [],
   "source": [
    "data_open = asyncio.run(ins_futures.submit_order(symbol='XRPUSDT',\n",
    "                                                 side='BUY',\n",
    "                                                 order_type='MARKET',\n",
    "                                                 quantity=2.2))"
   ]
  },
  {
   "cell_type": "code",
   "execution_count": 11,
   "metadata": {},
   "outputs": [
    {
     "data": {
      "text/plain": [
       "{'orderId': 81138603631,\n",
       " 'symbol': 'XRPUSDT',\n",
       " 'status': 'NEW',\n",
       " 'clientOrderId': 'Y5dlphpFIHB1PgbDl7TeJR',\n",
       " 'price': '0.0000',\n",
       " 'avgPrice': '0.00',\n",
       " 'origQty': '2.2',\n",
       " 'executedQty': '0.0',\n",
       " 'cumQty': '0.0',\n",
       " 'cumQuote': '0.00000',\n",
       " 'timeInForce': 'GTC',\n",
       " 'type': 'MARKET',\n",
       " 'reduceOnly': False,\n",
       " 'closePosition': False,\n",
       " 'side': 'BUY',\n",
       " 'positionSide': 'BOTH',\n",
       " 'stopPrice': '0.0000',\n",
       " 'workingType': 'CONTRACT_PRICE',\n",
       " 'priceProtect': False,\n",
       " 'origType': 'MARKET',\n",
       " 'priceMatch': 'NONE',\n",
       " 'selfTradePreventionMode': 'EXPIRE_MAKER',\n",
       " 'goodTillDate': 0,\n",
       " 'updateTime': 1736494482390}"
      ]
     },
     "execution_count": 11,
     "metadata": {},
     "output_type": "execute_result"
    }
   ],
   "source": [
    "data_open"
   ]
  },
  {
   "cell_type": "code",
   "execution_count": 14,
   "metadata": {},
   "outputs": [
    {
     "data": {
      "text/plain": [
       "{'XRPUSDT': {'initialMargin': 5.10246,\n",
       "  'maintMargin': 0.0255123,\n",
       "  'unrealizedProfit': 0.02156,\n",
       "  'positionInitialMargin': 5.10246,\n",
       "  'openOrderInitialMargin': 0,\n",
       "  'leverage': 1,\n",
       "  'isolated': True,\n",
       "  'entryPrice': 2.3095,\n",
       "  'breakEvenPrice': 2.31065475,\n",
       "  'maxNotional': 100000000.0,\n",
       "  'positionSide': 'BOTH',\n",
       "  'positionAmt': 2.2,\n",
       "  'notional': 5.10246,\n",
       "  'isolatedWallet': 5.08300023,\n",
       "  'updateTime': 1736494482390,\n",
       "  'bidNotional': 0,\n",
       "  'askNotional': 0},\n",
       " 'STEEMUSDT': {'initialMargin': 5.25331721,\n",
       "  'maintMargin': 0.07879975,\n",
       "  'unrealizedProfit': -0.04180722,\n",
       "  'positionInitialMargin': 5.25331721,\n",
       "  'openOrderInitialMargin': 0,\n",
       "  'leverage': 1,\n",
       "  'isolated': True,\n",
       "  'entryPrice': 0.27429,\n",
       "  'breakEvenPrice': 0.274152855,\n",
       "  'maxNotional': 2000000.0,\n",
       "  'positionSide': 'BOTH',\n",
       "  'positionAmt': -19,\n",
       "  'notional': -5.25331722,\n",
       "  'isolatedWallet': 5.20890424,\n",
       "  'updateTime': 1736490464951,\n",
       "  'bidNotional': 0,\n",
       "  'askNotional': 0}}"
      ]
     },
     "execution_count": 14,
     "metadata": {},
     "output_type": "execute_result"
    }
   ],
   "source": [
    "asyncio.run(ins_futures.get_account_balance())"
   ]
  },
  {
   "cell_type": "code",
   "execution_count": 12,
   "metadata": {},
   "outputs": [],
   "source": [
    "import utils"
   ]
  },
  {
   "cell_type": "code",
   "execution_count": 13,
   "metadata": {},
   "outputs": [
    {
     "data": {
      "text/plain": [
       "'2025-01-10 16:34:42'"
      ]
     },
     "execution_count": 13,
     "metadata": {},
     "output_type": "execute_result"
    }
   ],
   "source": [
    "utils._convert_to_datetime(1736494482390)"
   ]
  },
  {
   "cell_type": "code",
   "execution_count": 16,
   "metadata": {},
   "outputs": [
    {
     "data": {
      "text/plain": [
       "['Open Time',\n",
       " 'Open',\n",
       " 'High',\n",
       " 'Low',\n",
       " 'Close',\n",
       " 'Volume',\n",
       " 'Close Time',\n",
       " 'Quote Asset Volume',\n",
       " 'Number of Trades',\n",
       " 'Taker Buy Base Asset Volume',\n",
       " 'Taker Buy Quote Asset Volume',\n",
       " 'Ignore']"
      ]
     },
     "execution_count": 16,
     "metadata": {},
     "output_type": "execute_result"
    }
   ],
   "source": [
    "utils._info_kline_columns()"
   ]
  },
  {
   "cell_type": "code",
   "execution_count": 17,
   "metadata": {},
   "outputs": [],
   "source": [
    "import time"
   ]
  },
  {
   "cell_type": "code",
   "execution_count": 19,
   "metadata": {},
   "outputs": [
    {
     "data": {
      "text/plain": [
       "1736497191737.3992"
      ]
     },
     "execution_count": 19,
     "metadata": {},
     "output_type": "execute_result"
    }
   ],
   "source": [
    "time.time() * 1000"
   ]
  },
  {
   "cell_type": "code",
   "execution_count": null,
   "metadata": {},
   "outputs": [],
   "source": []
  }
 ],
 "metadata": {
  "kernelspec": {
   "display_name": "ame",
   "language": "python",
   "name": "python3"
  },
  "language_info": {
   "codemirror_mode": {
    "name": "ipython",
    "version": 3
   },
   "file_extension": ".py",
   "mimetype": "text/x-python",
   "name": "python",
   "nbconvert_exporter": "python",
   "pygments_lexer": "ipython3",
   "version": "3.12.2"
  }
 },
 "nbformat": 4,
 "nbformat_minor": 2
}
