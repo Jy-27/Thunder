{
 "cells": [
  {
   "cell_type": "code",
   "execution_count": 1,
   "metadata": {},
   "outputs": [
    {
     "name": "stdout",
     "output_type": "stream",
     "text": [
      "seed money 조정 : 10.00 -> 7.14\n",
      "거래가능 예수금 : 7.14171554\n",
      "총 평가금액    : 7.14171554\n",
      "{'avgPrice': '0.00',\n",
      " 'clientOrderId': 'zlaqJEIgBBRLRtGtI0QfGt',\n",
      " 'closePosition': False,\n",
      " 'cumQty': '0.0',\n",
      " 'cumQuote': '0.00000',\n",
      " 'executedQty': '0.0',\n",
      " 'goodTillDate': 0,\n",
      " 'orderId': 81635223178,\n",
      " 'origQty': '4.8',\n",
      " 'origType': 'MARKET',\n",
      " 'positionSide': 'BOTH',\n",
      " 'price': '0.0000',\n",
      " 'priceMatch': 'NONE',\n",
      " 'priceProtect': False,\n",
      " 'reduceOnly': False,\n",
      " 'selfTradePreventionMode': 'EXPIRE_MAKER',\n",
      " 'side': 'SELL',\n",
      " 'status': 'NEW',\n",
      " 'stopPrice': '0.0000',\n",
      " 'symbol': 'XRPUSDT',\n",
      " 'timeInForce': 'GTC',\n",
      " 'type': 'MARKET',\n",
      " 'updateTime': 1736738672815,\n",
      " 'workingType': 'CONTRACT_PRICE'}\n",
      "TradingLog(symbol='futures_XRPUSDT',\n",
      "           start_timestamp=1736738672815,\n",
      "           entry_price=2.5068,\n",
      "           position=2,\n",
      "           quantity=4.8,\n",
      "           leverage=5,\n",
      "           trade_scenario=1,\n",
      "           test_mode=False,\n",
      "           stop_rate=0.065,\n",
      "           fee_rate=0.05,\n",
      "           init_stop_rate=0.035,\n",
      "           use_scale_stop=True,\n",
      "           is_dynamic_adjustment=True,\n",
      "           dynamic_adjustment_rate=0.0007,\n",
      "           dynamic_adjustment_interval='3m',\n",
      "           adj_start_price=2.594538,\n",
      "           stop_price=2.68797897,\n",
      "           stop_signal=False,\n",
      "           last_timestamp=1736738678037,\n",
      "           high_price=2.5078,\n",
      "           low_price=2.5068,\n",
      "           current_price=2.5078,\n",
      "           initial_value=2.4065280000000002,\n",
      "           current_value=2.405568,\n",
      "           net_profit_loss=-0.004799999999999471,\n",
      "           net_profit_loss_rate=-0.00199457475666166,\n",
      "           gross_profit_loss=-0.01683503999999947,\n",
      "           gross_profit_loss_rate=-0.006995572044039991,\n",
      "           break_even_price=2.5093073,\n",
      "           entry_fee=0.0060163199999999995,\n",
      "           exit_fee=0.00601872)\n"
     ]
    }
   ],
   "source": [
    "import LiveTrading\n",
    "import asyncio\n",
    "import nest_asyncio\n",
    "import TradeClient\n",
    "import MarketDataFetcher\n",
    "import time\n",
    "from pprint import pprint\n",
    "\n",
    "nest_asyncio.apply()\n",
    "\n",
    "# 클라이언트\n",
    "c_obj = TradeClient.FuturesOrder()\n",
    "\n",
    "# 마켓 \n",
    "m_obj = MarketDataFetcher.FuturesMarket()\n",
    "\n",
    "# 라이브트레이드\n",
    "t_obj = LiveTrading.LiveTradingManager(seed_money=10, market='futures', requested_leverage=5)\n",
    "asyncio.run(t_obj.start_update_account())\n",
    "\n",
    "dummy_signal = (True, 2, 1)\n",
    "\n",
    "symbol = 'XRPUSDT'\n",
    "\n",
    "async def balance_print():\n",
    "    available_ = asyncio.run(c_obj.get_available_balance())\n",
    "    total_ = asyncio.run(c_obj.get_total_wallet_balance())\n",
    "    print(f'거래가능 예수금 : {available_}')\n",
    "    print(f'총 평가금액    : {total_}')\n",
    "    return (available_, total_)\n",
    "\n",
    "ava, ttl = asyncio.run(balance_print())\n",
    "\n",
    "order_massage = asyncio.run(t_obj.submit_order_open_signal(symbol=symbol, scenario_data=dummy_signal))\n",
    "pprint(order_massage)\n",
    "time.sleep(2)\n",
    "price = float(asyncio.run(m_obj.fetch_symbol_price(symbol))['price'])\n",
    "timestamp = int(time.time() * 1000)\n",
    "t_obj.ins_portfolio.update_log_data(symbol=f'futures_{symbol}', price=price, timestamp=timestamp)\n",
    "close_signal = asyncio.run(t_obj.submit_order_close_signal(symbol))"
   ]
  },
  {
   "cell_type": "code",
   "execution_count": 2,
   "metadata": {},
   "outputs": [
    {
     "data": {
      "text/plain": [
       "{'orderId': 81635233052,\n",
       " 'symbol': 'XRPUSDT',\n",
       " 'status': 'NEW',\n",
       " 'clientOrderId': 'R1T5oUH7VlTZPDZ1mIaCpb',\n",
       " 'price': '0.0000',\n",
       " 'avgPrice': '0.00',\n",
       " 'origQty': '4.8',\n",
       " 'executedQty': '0.0',\n",
       " 'cumQty': '0.0',\n",
       " 'cumQuote': '0.00000',\n",
       " 'timeInForce': 'GTC',\n",
       " 'type': 'MARKET',\n",
       " 'reduceOnly': True,\n",
       " 'closePosition': False,\n",
       " 'side': 'BUY',\n",
       " 'positionSide': 'BOTH',\n",
       " 'stopPrice': '0.0000',\n",
       " 'workingType': 'CONTRACT_PRICE',\n",
       " 'priceProtect': False,\n",
       " 'origType': 'MARKET',\n",
       " 'priceMatch': 'NONE',\n",
       " 'selfTradePreventionMode': 'EXPIRE_MAKER',\n",
       " 'goodTillDate': 0,\n",
       " 'updateTime': 1736738677857}"
      ]
     },
     "execution_count": 2,
     "metadata": {},
     "output_type": "execute_result"
    }
   ],
   "source": [
    "close_signal"
   ]
  },
  {
   "cell_type": "code",
   "execution_count": 3,
   "metadata": {},
   "outputs": [
    {
     "name": "stdout",
     "output_type": "stream",
     "text": [
      "거래가능 예수금 : 7.12488051\n",
      "총 평가금액    : 7.12488051\n"
     ]
    }
   ],
   "source": [
    "t_obj.ins_portfolio.total_balance\n",
    "ava, ttl = asyncio.run(balance_print())"
   ]
  },
  {
   "cell_type": "code",
   "execution_count": 6,
   "metadata": {},
   "outputs": [
    {
     "name": "stdout",
     "output_type": "stream",
     "text": [
      "진행중 : 0\n",
      "예수금 : 7.12488051\n",
      "TTL  : 7.12488051\n",
      "TTL  : -0.016835030000000195\n"
     ]
    }
   ],
   "source": [
    "print(f'진행중 : {t_obj.ins_portfolio.active_value}')\n",
    "print(f'예수금 : {t_obj.ins_portfolio.cash_balance}')\n",
    "print(f'TTL  : {t_obj.ins_portfolio.total_balance}')\n",
    "print(f'TTL  : {t_obj.ins_portfolio.profit_loss}')"
   ]
  },
  {
   "cell_type": "code",
   "execution_count": 7,
   "metadata": {},
   "outputs": [
    {
     "data": {
      "text/plain": [
       "0.02"
      ]
     },
     "execution_count": 7,
     "metadata": {},
     "output_type": "execute_result"
    }
   ],
   "source": [
    "t_obj.safe_asset_ratio"
   ]
  },
  {
   "cell_type": "code",
   "execution_count": null,
   "metadata": {},
   "outputs": [],
   "source": []
  },
  {
   "cell_type": "code",
   "execution_count": null,
   "metadata": {},
   "outputs": [],
   "source": [
    "ava, ttl = asyncio.run(balance_print())\n",
    "init_data = ttl - ava\n",
    "port_init = t_obj.ins_portfolio.data_container.get_data(f\"futures_{symbol}\").initial_value\n",
    "print(init_data)"
   ]
  },
  {
   "cell_type": "code",
   "execution_count": null,
   "metadata": {},
   "outputs": [],
   "source": [
    "price = float(asyncio.run(m_obj.fetch_symbol_price(symbol))['price'])\n",
    "timestamp = int(time.time() * 1000)\n",
    "t_obj.ins_portfolio.update_log_data(symbol=f'futures_{symbol}', price=price, timestamp=timestamp)\n",
    "close_signal = asyncio.run(t_obj.submit_order_close_signal(symbol))"
   ]
  },
  {
   "cell_type": "code",
   "execution_count": null,
   "metadata": {},
   "outputs": [],
   "source": [
    "print(asyncio.run(c_obj.get_total_wallet_balance()))\n",
    "print(t_obj.ins_portfolio.total_balance)\n",
    "pprint(t_obj.ins_portfolio.__dict__)\n",
    "      "
   ]
  },
  {
   "cell_type": "markdown",
   "metadata": {},
   "source": [
    "a = 0.123456789"
   ]
  },
  {
   "cell_type": "code",
   "execution_count": null,
   "metadata": {},
   "outputs": [],
   "source": [
    "a = 0.123456789\n",
    "print(round(a, 8))"
   ]
  },
  {
   "cell_type": "code",
   "execution_count": null,
   "metadata": {},
   "outputs": [],
   "source": [
    "asyncio.run(c_obj.get_available_balance())"
   ]
  },
  {
   "cell_type": "code",
   "execution_count": null,
   "metadata": {},
   "outputs": [],
   "source": [
    "asyncio.run(c_obj.fetch_order_history('XRPUSDT'))[-1]"
   ]
  },
  {
   "cell_type": "code",
   "execution_count": null,
   "metadata": {},
   "outputs": [],
   "source": [
    "(2.7*2.52680) * 0.99"
   ]
  },
  {
   "cell_type": "code",
   "execution_count": null,
   "metadata": {},
   "outputs": [],
   "source": [
    "pprint(t_obj.ins_portfolio.trade_history)"
   ]
  },
  {
   "cell_type": "code",
   "execution_count": 38,
   "metadata": {},
   "outputs": [],
   "source": [
    "a ={\"a\":123}"
   ]
  },
  {
   "cell_type": "code",
   "execution_count": null,
   "metadata": {},
   "outputs": [],
   "source": [
    "if a:\n",
    "    print(True)"
   ]
  },
  {
   "cell_type": "code",
   "execution_count": null,
   "metadata": {},
   "outputs": [],
   "source": []
  }
 ],
 "metadata": {
  "kernelspec": {
   "display_name": "ame",
   "language": "python",
   "name": "ame"
  },
  "language_info": {
   "codemirror_mode": {
    "name": "ipython",
    "version": 3
   },
   "file_extension": ".py",
   "mimetype": "text/x-python",
   "name": "python",
   "nbconvert_exporter": "python",
   "pygments_lexer": "ipython3",
   "version": "3.12.2"
  }
 },
 "nbformat": 4,
 "nbformat_minor": 2
}
