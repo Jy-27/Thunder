{
 "cells": [
  {
   "cell_type": "code",
   "execution_count": 1,
   "metadata": {},
   "outputs": [
    {
     "ename": "TypeError",
     "evalue": "TradingLog.__init__() got an unexpected keyword argument 'quantity'",
     "output_type": "error",
     "traceback": [
      "\u001b[0;31m---------------------------------------------------------------------------\u001b[0m",
      "\u001b[0;31mTypeError\u001b[0m                                 Traceback (most recent call last)",
      "Cell \u001b[0;32mIn[1], line 58\u001b[0m\n\u001b[1;32m     56\u001b[0m data \u001b[38;5;241m=\u001b[39m []\n\u001b[1;32m     57\u001b[0m \u001b[38;5;28;01mfor\u001b[39;00m log \u001b[38;5;129;01min\u001b[39;00m trade_data:\n\u001b[0;32m---> 58\u001b[0m     trading_log \u001b[38;5;241m=\u001b[39m \u001b[43mDataStoreage\u001b[49m\u001b[38;5;241;43m.\u001b[39;49m\u001b[43mTradingLog\u001b[49m\u001b[43m(\u001b[49m\u001b[38;5;241;43m*\u001b[39;49m\u001b[38;5;241;43m*\u001b[39;49m\u001b[43mlog\u001b[49m\u001b[43m)\u001b[49m\n\u001b[1;32m     59\u001b[0m     data\u001b[38;5;241m.\u001b[39mappend(__extract_values(trading_log))\n\u001b[1;32m     61\u001b[0m open_position \u001b[38;5;241m=\u001b[39m np\u001b[38;5;241m.\u001b[39marray(data[\u001b[38;5;241m-\u001b[39m\u001b[38;5;241m20\u001b[39m:]\u001b[38;5;241m.\u001b[39mcopy())\n",
      "\u001b[0;31mTypeError\u001b[0m: TradingLog.__init__() got an unexpected keyword argument 'quantity'"
     ]
    }
   ],
   "source": [
    "import numpy as np\n",
    "import utils\n",
    "import ConfigSetting\n",
    "import WalletHandler\n",
    "import DataStoreage\n",
    "from typing import List\n",
    "from copy import copy\n",
    "\n",
    "ins_wallet = WalletHandler.WalletManager(current_timestamp=1733073419999)\n",
    "\n",
    "path = ConfigSetting.SystemConfig.path_test_trade_history.value\n",
    "trade_data = utils._load_json(path)\n",
    "\n",
    "def __extract_values(data: DataStoreage.TradingLog) -> List:\n",
    "    \"\"\"\n",
    "    트레이딩 로그 데이터에서 필요한 부분만 추출한다.\n",
    "    추후 np.ndarray 백터연산처리를 위하여 symbol값을 10진수로 변환하였다.\n",
    "    \n",
    "    해당값 수정이 필요할경우 연결된 모든 code를 수정해야하므로 주의가 필요하다.\n",
    "    수정사항이 많아질경우 Dict형태로 생성 후 언팩처리하는것도 염두할 필요가 있다.\n",
    "    \n",
    "        1. 기능: TradingLog에서 필요한 값만 추출 및 반환.\n",
    "        2. 매개변수: 해당없음.\n",
    "        3. 반환값: list[float]형태의 자료\n",
    "    \n",
    "    \"\"\"\n",
    "    # symbol값을 문자형태로 반환시 백터연산을 할 수 없으므로 10진수 형태로 변환한다.\n",
    "    symbol_decimal = utils._text_to_decimal(data.symbol)\n",
    "    #start timestamp\n",
    "    start_timestamp = data.start_timestamp\n",
    "    #시나리오 번호\n",
    "    strategy = data.strategy_no\n",
    "    # 기초 자금\n",
    "    initial_value = data.initial_margin\n",
    "    # 포지션 (1:long, 2:short)\n",
    "    position = data.position\n",
    "    # 수량\n",
    "    positions_size = data.position_size\n",
    "    # 손익금액\n",
    "    net_pnl = data.net_pnl\n",
    "    # 진입 수수료\n",
    "    entry_fee = data.entry_fee\n",
    "    # 종료 수수료\n",
    "    exit_fee = data.exit_fee\n",
    "    return [\n",
    "        symbol_decimal,#0\n",
    "        start_timestamp,#1\n",
    "        strategy,#2\n",
    "        initial_value,#3\n",
    "        position,#4\n",
    "        position_size,#5\n",
    "        net_pnl,#6\n",
    "        entry_fee,#7\n",
    "        exit_fee,#8\n",
    "    ]\n",
    "data = []\n",
    "for log in trade_data:\n",
    "    trading_log = DataStoreage.TradingLog(**log)\n",
    "    data.append(__extract_values(trading_log))\n",
    "\n",
    "open_position = np.array(data[-20:].copy())\n",
    "close_position = np.array(data[:-20].copy())\n"
   ]
  },
  {
   "cell_type": "code",
   "execution_count": 39,
   "metadata": {},
   "outputs": [],
   "source": [
    "symbol_de = 69108410721085108310681084\n",
    "position = 2\n",
    "\n",
    "indices =np.where((open_position[:,0]==symbol_de)&\n",
    "                  (open_position[:,4]==position))"
   ]
  },
  {
   "cell_type": "code",
   "execution_count": 41,
   "metadata": {},
   "outputs": [
    {
     "data": {
      "text/plain": [
       "7"
      ]
     },
     "execution_count": 41,
     "metadata": {},
     "output_type": "execute_result"
    }
   ],
   "source": [
    "len(indices[0])"
   ]
  },
  {
   "cell_type": "code",
   "execution_count": 35,
   "metadata": {},
   "outputs": [
    {
     "data": {
      "text/plain": [
       "array([ True, False,  True,  True,  True, False,  True,  True,  True,\n",
       "        True, False,  True,  True,  True,  True,  True, False,  True,\n",
       "        True,  True])"
      ]
     },
     "execution_count": 35,
     "metadata": {},
     "output_type": "execute_result"
    }
   ],
   "source": [
    "open_position[:,4]==2"
   ]
  },
  {
   "cell_type": "code",
   "execution_count": 36,
   "metadata": {},
   "outputs": [
    {
     "data": {
      "text/plain": [
       "array([ True, False,  True, False,  True, False, False,  True, False,\n",
       "        True, False, False, False,  True, False,  True, False, False,\n",
       "       False, False])"
      ]
     },
     "execution_count": 36,
     "metadata": {},
     "output_type": "execute_result"
    }
   ],
   "source": [
    "open_position[:,0]==symbol_de"
   ]
  },
  {
   "cell_type": "code",
   "execution_count": 42,
   "metadata": {},
   "outputs": [
    {
     "data": {
      "text/plain": [
       "['0: Open Time',\n",
       " '1: Open',\n",
       " '2: High',\n",
       " '3: Low',\n",
       " '4: Close',\n",
       " '5: Volume',\n",
       " '6: Close Time',\n",
       " '7: Quote Asset Volume',\n",
       " '8: Number of Trades',\n",
       " '9: Taker Buy Base Asset Volume',\n",
       " '10: Taker Buy Quote Asset Volume',\n",
       " '11: Ignore']"
      ]
     },
     "execution_count": 42,
     "metadata": {},
     "output_type": "execute_result"
    }
   ],
   "source": [
    "utils._info_kline_columns()"
   ]
  },
  {
   "cell_type": "code",
   "execution_count": null,
   "metadata": {},
   "outputs": [],
   "source": []
  }
 ],
 "metadata": {
  "kernelspec": {
   "display_name": "ame",
   "language": "python",
   "name": "python3"
  },
  "language_info": {
   "codemirror_mode": {
    "name": "ipython",
    "version": 3
   },
   "file_extension": ".py",
   "mimetype": "text/x-python",
   "name": "python",
   "nbconvert_exporter": "python",
   "pygments_lexer": "ipython3",
   "version": "3.12.2"
  }
 },
 "nbformat": 4,
 "nbformat_minor": 2
}
