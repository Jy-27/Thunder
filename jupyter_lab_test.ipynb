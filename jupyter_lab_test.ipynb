{
 "cells": [
  {
   "cell_type": "code",
   "execution_count": null,
   "metadata": {},
   "outputs": [],
   "source": [
    "from enum import Enum\n",
    "from typing import List, Union, Optional\n",
    "import os\n",
    "import utils\n",
    "\n",
    "class TradingConfig(Enum):\n",
    "    symbols: Union[List[str], str] = ['BTCUSDT', 'TRUMPUSDT', 'XRPUSDT']  # 거래 심볼\n",
    "    reconnect_cycle_hours:int = 1   #웹소켓 재접속 주기(hour) \n",
    "    safety_ratio: float = 0.2  # 계좌 안전 비율\n",
    "    max_leverage: int = 20  # 최대 레버리지\n",
    "    min_leverage: int = 2   # 최소 레버리지\n",
    "    reference_leverage: int = 1  # 참고용 레버리지\n",
    "    seed_funds: Optional[float] = None  # 초기 자본금 / None값일경우 계좌 전체 금액 반영됨.\n",
    "    market_type: str = 'futures'  # 시장 유형\n",
    "    stop_loss_threshold: float = 0.65  # 손절 기준 비율\n",
    "    dynamic_stop_loss: bool = True  # 동적 손절 비율 사용 여부\n",
    "    adjustment_rate: float = 0.005  # 동적 조정 비율\n",
    "    adjustment_interval: str = '3m'  # 동적 조정 주기\n",
    "    initial_stop_loss: float = 0.025  # 초기 손절 비율\n",
    "    reject_repeated_loss_orders: bool = True  # 반복 손실 시 주문 거부\n",
    "    allowed_loss_streaks: int = 1  # 허용된 연속 손실 횟수\n",
    "    loss_reset_interval: str = '4h'  # 연속 손실 기준 시간\n",
    "    max_open_positions: int = 2  # 최대 동시 거래 심볼 수\n",
    "    enable_profit_preservation: bool = True  # 수익 보존 기능 활성화 여부\n",
    "    use_scaled_stop_loss: bool = True  # 조정 가능한 손절가 사용 여부\n",
    "    analysis_window_days: int = 0  # 데이터 분석 창(day)\n",
    "    is_hedge_enabled:bool = False #헤지거래 설정여부.\n",
    "\n",
    "class TestConfig(Enum):\n",
    "    start_datetime: str = '2025-1-20 09:00:00'  # 백테스트 시작 날짜\n",
    "    end_datetime: str = '2025-1-21 08:59:59'  # 백테스트 종료 날짜\n",
    "    download_new_data: bool = False  # 새로운 데이터 다운로드 여부\n",
    "\n",
    "while True:\n",
    "    user_input = input(\"TEST MODE ? (y/n): \").strip().lower()\n",
    "    if user_input == \"y\":\n",
    "        TEST_MODE = True\n",
    "        break\n",
    "    elif user_input == \"n\":\n",
    "        TEST_MODE = False\n",
    "        break\n",
    "    else:\n",
    "        print(\"잘못된 입력입니다. 'y' 또는 'n'을 입력하세요.\")\n",
    "\n",
    "\n",
    "def validate_config(test_config: TestConfig, trading_config: TradingConfig, mode:bool=TEST_MODE):\n",
    "    def __error_title(config:Union[TestConfig, TradingConfig]):\n",
    "        name = repr(config).split(\"'\")[1]\n",
    "        text = f\"*-=-=-=-=-=-* ERROR ( {name} ) *-=-=-=-=-=-*\"\n",
    "        width = 80  # 출력할 총 너비\n",
    "        centered_text = text.center(width)\n",
    "        print(f'{centered_text}\\n')\n",
    "        \n",
    "    ### TestConfig 검토 파트 ###\n",
    "    # TEST MODE 일경우\n",
    "    if mode:\n",
    "        start_timestamp = utils._convert_to_timestamp_ms(test_config.start_datetime.value)\n",
    "        end_timestamp = utils._convert_to_timestamp_ms(test_config.end_datetime.value)\n",
    "        \n",
    "        if start_timestamp > end_timestamp:\n",
    "            raise ValueError(f'종료시간이 시작시간보다 큼')\n",
    "\n",
    "        start_time_std = '09:00:00'\n",
    "        end_time_std = '08:59:59'\n",
    "        \n",
    "        config_start_date = test_config.start_datetime.value\n",
    "        config_end_date = test_config.end_datetime.value\n",
    "        \n",
    "        if not start_time_std in config_start_date:# and end_time_std in config_end_date:\n",
    "            __error_title(test_config)\n",
    "            print(f'1. 오류내용: 시작 시간 데이터 입력 오류')\n",
    "            print(f'2. 해결방법: {TestConfig.start_datetime}를 09:00:00로 수정')\n",
    "            raise ValueError(f'데이터 오류 >> config 정보 수정')\n",
    "        \n",
    "        if not end_time_std in config_end_date:\n",
    "            __error_title(test_config)\n",
    "            print(f'1. 오류내용: 종료 시간 데이터 입력 오류')\n",
    "            print(f'2. 해결방법: {TestConfig.end_datetime}를 08:59:59로 수정')\n",
    "            raise ValueError(f'데이터 오류 >> config 정보 수정')\n",
    "        \n",
    "        path_kline_data = '/Users/nnn/GitHub/DataStore/kline_data.json'\n",
    "        path_closing_sync_data = '/Users/nnn/GitHub/DataStore/closing_sync_data.pkl'\n",
    "        if not os.path.exists(path_kline_data) and test_config.download_new_data.value:\n",
    "            __error_title(test_config)\n",
    "            print(f'1. 오류내용: 저장된 kline_data.json 이 없음.')\n",
    "            print(f'2. 해결방법: {TestConfig.download_new_data}를 True로 수정필요')\n",
    "            raise ValueError(f'데이터 오류 >> 신규 다운로드 필요함.')\n",
    "        \n",
    "        if not os.path.exists(path_closing_sync_data) and test_config.download_new_data.value:\n",
    "            __error_title(test_config)\n",
    "            print(f'1. 오류내용: 저장된 closing_sync_data.pkl 이 없음.')\n",
    "            print(f'2. 해결방법: {TestConfig.download_new_data}를 True로 수정필요')\n",
    "            raise ValueError(f'데이터 오류 >> 신규 다운로드 필요함.')\n",
    "        \n",
    "        kline_data = utils._load_json(path_kline_data)\n",
    "        kline_data_symbols = list(kline_data.keys())\n",
    "        \n",
    "        if kline_data_symbols != trading_config.symbols.value:\n",
    "            __error_title(test_config)\n",
    "            print(f'1. 오류내용: kline data의 symbol정보 불일치')\n",
    "            print(f'2. 해결방법: {TestConfig.download_new_data}를 True로 수정필요')\n",
    "            raise ValueError(f'데이터 오류 >> 신규 다운로드 필요함.')\n",
    "        \n",
    "        intervals = list(kline_data[kline_data_symbols[0]].keys())\n",
    "        select_data = kline_data[kline_data_symbols[0]][intervals[0]]\n",
    "        \n",
    "        is_start_timestamp = select_data[0][0] == start_timestamp\n",
    "        is_end_timestamp = select_data[-1][6] == end_timestamp\n",
    "        if not is_start_timestamp and not is_end_timestamp:\n",
    "            __error_title()\n",
    "            print(f'1. 오류내용: kline data의 기간정보 불일치')\n",
    "            print(f'2. 해결방법: {TestConfig.download_new_data}를 True로 수정필요')\n",
    "            raise ValueError(f'데이터 오류 >> 신규 다운로드 필요함.')\n",
    "\n",
    "validate_config(test_config=TestConfig, trading_config=TradingConfig)"
   ]
  },
  {
   "cell_type": "code",
   "execution_count": 6,
   "metadata": {},
   "outputs": [
    {
     "ename": "AttributeError",
     "evalue": "<enum 'TestConfig'> has no attribute 'value'",
     "output_type": "error",
     "traceback": [
      "\u001b[0;31m---------------------------------------------------------------------------\u001b[0m",
      "\u001b[0;31mAttributeError\u001b[0m                            Traceback (most recent call last)",
      "Cell \u001b[0;32mIn[6], line 1\u001b[0m\n\u001b[0;32m----> 1\u001b[0m \u001b[43mTestConfig\u001b[49m\u001b[38;5;241;43m.\u001b[39;49m\u001b[43mvalue\u001b[49m\n",
      "File \u001b[0;32m/usr/local/Caskroom/miniconda/base/envs/ame/lib/python3.12/enum.py:202\u001b[0m, in \u001b[0;36mproperty.__get__\u001b[0;34m(self, instance, ownerclass)\u001b[0m\n\u001b[1;32m    200\u001b[0m         \u001b[38;5;28;01mreturn\u001b[39;00m \u001b[38;5;28mself\u001b[39m\u001b[38;5;241m.\u001b[39mmember\n\u001b[1;32m    201\u001b[0m     \u001b[38;5;28;01melse\u001b[39;00m:\n\u001b[0;32m--> 202\u001b[0m         \u001b[38;5;28;01mraise\u001b[39;00m \u001b[38;5;167;01mAttributeError\u001b[39;00m(\n\u001b[1;32m    203\u001b[0m                 \u001b[38;5;124m'\u001b[39m\u001b[38;5;132;01m%r\u001b[39;00m\u001b[38;5;124m has no attribute \u001b[39m\u001b[38;5;132;01m%r\u001b[39;00m\u001b[38;5;124m'\u001b[39m \u001b[38;5;241m%\u001b[39m (ownerclass, \u001b[38;5;28mself\u001b[39m\u001b[38;5;241m.\u001b[39mname)\n\u001b[1;32m    204\u001b[0m                 )\n\u001b[1;32m    205\u001b[0m \u001b[38;5;28;01mif\u001b[39;00m \u001b[38;5;28mself\u001b[39m\u001b[38;5;241m.\u001b[39mfget \u001b[38;5;129;01mis\u001b[39;00m \u001b[38;5;129;01mnot\u001b[39;00m \u001b[38;5;28;01mNone\u001b[39;00m:\n\u001b[1;32m    206\u001b[0m     \u001b[38;5;66;03m# use previous enum.property\u001b[39;00m\n\u001b[1;32m    207\u001b[0m     \u001b[38;5;28;01mreturn\u001b[39;00m \u001b[38;5;28mself\u001b[39m\u001b[38;5;241m.\u001b[39mfget(instance)\n",
      "\u001b[0;31mAttributeError\u001b[0m: <enum 'TestConfig'> has no attribute 'value'"
     ]
    }
   ],
   "source": [
    "TestConfig.value"
   ]
  },
  {
   "cell_type": "code",
   "execution_count": 77,
   "metadata": {},
   "outputs": [
    {
     "name": "stdout",
     "output_type": "stream",
     "text": [
      "2025-01-20 09:00:00\n",
      "2025-01-22 08:59:59\n"
     ]
    }
   ],
   "source": [
    "print(utils._convert_to_datetime(kline_data['BTCUSDT']['1m'][0][0]))\n",
    "print(utils._convert_to_datetime(kline_data['BTCUSDT']['1m'][-1][6]))\n"
   ]
  },
  {
   "cell_type": "code",
   "execution_count": 73,
   "metadata": {},
   "outputs": [
    {
     "data": {
      "text/plain": [
       "dict_keys(['BTCUSDT', 'TRUMPUSDT'])"
      ]
     },
     "execution_count": 73,
     "metadata": {},
     "output_type": "execute_result"
    }
   ],
   "source": [
    "a"
   ]
  },
  {
   "cell_type": "code",
   "execution_count": 69,
   "metadata": {},
   "outputs": [
    {
     "data": {
      "text/plain": [
       "['BTCUSDT', 'TRUMPUSDT', 'XRPUSDT']"
      ]
     },
     "execution_count": 69,
     "metadata": {},
     "output_type": "execute_result"
    }
   ],
   "source": [
    "TradingConfig.symbols.value"
   ]
  },
  {
   "cell_type": "code",
   "execution_count": null,
   "metadata": {},
   "outputs": [],
   "source": []
  }
 ],
 "metadata": {
  "kernelspec": {
   "display_name": "ame",
   "language": "python",
   "name": "python3"
  },
  "language_info": {
   "codemirror_mode": {
    "name": "ipython",
    "version": 3
   },
   "file_extension": ".py",
   "mimetype": "text/x-python",
   "name": "python",
   "nbconvert_exporter": "python",
   "pygments_lexer": "ipython3",
   "version": "3.12.2"
  }
 },
 "nbformat": 4,
 "nbformat_minor": 2
}
