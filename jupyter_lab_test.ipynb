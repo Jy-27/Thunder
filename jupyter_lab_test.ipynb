{
 "cells": [
  {
   "cell_type": "code",
   "execution_count": 5,
   "metadata": {},
   "outputs": [
    {
     "name": "stdout",
     "output_type": "stream",
     "text": [
      "{1: {}, 2: {'BTCUSDT': [0, 2, 1, 0]}}\n",
      "{1: {}, 2: {'BTCUSDT': [0, 2, 1, 0], 'TRXUSDT': [0, 2, 1, 0]}}\n",
      "{1: {}, 2: {'BTCUSDT': [0, 2, 1, 0], 'TRXUSDT': [0, 2, 1, 0], 'XRPUSDT': [0, 2, 1, 0]}}\n",
      "{1: {}, 2: {'BTCUSDT': [0, 2, 1, 0], 'TRXUSDT': [0, 2, 1, 0], 'XRPUSDT': [0, 2, 1, 0], 'ADAUSDT': [0, 2, 1, 0]}}\n",
      "{1: {}, 2: {'BTCUSDT': [0, 2, 1, 0], 'TRXUSDT': [0, 2, 1, 0], 'XRPUSDT': [0, 2, 1, 0], 'ADAUSDT': [0, 2, 1, 0], 'ETHUSDT': [0, 2, 1, 0]}}\n",
      "{1: {'BTCUSDT': [0, 1, 1, 0]}, 2: {'BTCUSDT': [0, 2, 1, 0], 'TRXUSDT': [0, 2, 1, 0], 'XRPUSDT': [0, 2, 1, 0], 'ADAUSDT': [0, 2, 1, 0], 'ETHUSDT': [0, 2, 1, 0]}}\n",
      "{1: {'BTCUSDT': [0, 1, 1, 0], 'TRXUSDT': [0, 1, 1, 0]}, 2: {'BTCUSDT': [0, 2, 1, 0], 'TRXUSDT': [0, 2, 1, 0], 'XRPUSDT': [0, 2, 1, 0], 'ADAUSDT': [0, 2, 1, 0], 'ETHUSDT': [0, 2, 1, 0]}}\n",
      "{1: {'BTCUSDT': [0, 1, 1, 0], 'TRXUSDT': [0, 1, 1, 0], 'XRPUSDT': [0, 1, 1, 0]}, 2: {'BTCUSDT': [0, 2, 1, 0], 'TRXUSDT': [0, 2, 1, 0], 'XRPUSDT': [0, 2, 1, 0], 'ADAUSDT': [0, 2, 1, 0], 'ETHUSDT': [0, 2, 1, 0]}}\n",
      "{1: {'BTCUSDT': [0, 1, 1, 0], 'TRXUSDT': [0, 1, 1, 0], 'XRPUSDT': [0, 1, 1, 0], 'ADAUSDT': [0, 1, 1, 0]}, 2: {'BTCUSDT': [0, 2, 1, 0], 'TRXUSDT': [0, 2, 1, 0], 'XRPUSDT': [0, 2, 1, 0], 'ADAUSDT': [0, 2, 1, 0], 'ETHUSDT': [0, 2, 1, 0]}}\n",
      "{1: {'BTCUSDT': [0, 1, 1, 0], 'TRXUSDT': [0, 1, 1, 0], 'XRPUSDT': [0, 1, 1, 0], 'ADAUSDT': [0, 1, 1, 0], 'ETHUSDT': [0, 1, 1, 0]}, 2: {'BTCUSDT': [0, 2, 1, 0], 'TRXUSDT': [0, 2, 1, 0], 'XRPUSDT': [0, 2, 1, 0], 'ADAUSDT': [0, 2, 1, 0], 'ETHUSDT': [0, 2, 1, 0]}}\n"
     ]
    }
   ],
   "source": [
    "import TradeClient\n",
    "import asyncio\n",
    "import nest_asyncio\n",
    "import Analysis_new\n",
    "import MarketDataFetcher\n",
    "import DataStoreage\n",
    "from typing import List, Union, Final\n",
    "nest_asyncio.apply()\n",
    "\n",
    "ins_market = MarketDataFetcher.FuturesMarket()\n",
    "\n",
    "symbols = ['BTCUSDT', 'TRXUSDT', 'XRPUSDT', 'ADAUSDT', 'ETHUSDT']\n",
    "data = {}\n",
    "for symbol in symbols:\n",
    "    data[symbol] = DataStoreage.KlineData()\n",
    "    kline_data = asyncio.run(ins_market.fetch_klines_limit(symbol=symbol, interval='3m', limit=100))\n",
    "    data[symbol].set_data(kline_data)\n",
    "\n",
    "ins_analysis = Analysis_new.AnalysisManager(data)\n",
    "ins_analysis.get_success_signal()"
   ]
  },
  {
   "cell_type": "code",
   "execution_count": 6,
   "metadata": {},
   "outputs": [
    {
     "name": "stdout",
     "output_type": "stream",
     "text": [
      "{'BTCUSDT': [0, 2, 1, 0], 'TRXUSDT': [0, 2, 1, 0], 'XRPUSDT': [0, 2, 1, 0], 'ADAUSDT': [0, 2, 1, 0], 'ETHUSDT': [0, 2, 1, 0]}\n",
      "{'BTCUSDT': [0, 1, 1, 0], 'TRXUSDT': [0, 1, 1, 0], 'XRPUSDT': [0, 1, 1, 0], 'ADAUSDT': [0, 1, 1, 0], 'ETHUSDT': [0, 1, 1, 0]}\n"
     ]
    }
   ],
   "source": [
    "print(ins_analysis.ins_sell_strategy_1.result)\n",
    "print(ins_analysis.ins_buy_strategy_1.result)"
   ]
  },
  {
   "cell_type": "code",
   "execution_count": 9,
   "metadata": {},
   "outputs": [
    {
     "name": "stdout",
     "output_type": "stream",
     "text": [
      "TradingLog(symbol='BTCUSDT',\n",
      "           position_type=1,\n",
      "           quantity=123.1,\n",
      "           hedge_enable=False,\n",
      "           leverage=15,\n",
      "           open_price=100,\n",
      "           high_price=100,\n",
      "           low_price=100,\n",
      "           close_price=100,\n",
      "           start_timestamp=1738094838212,\n",
      "           end_timestamp=None,\n",
      "           scale_stop_enable=True,\n",
      "           initial_stop_rate=0.015,\n",
      "           trailing_stop_rate=0.65,\n",
      "           reverse_position_ratio=0,\n",
      "           time_based_adjustment_rate=0.0007,\n",
      "           adjusted_interval='3m',\n",
      "           adjusted_entry_price=None,\n",
      "           stop_trigger_enable=False,\n",
      "           stop_loss_price=None,\n",
      "           initial_value=820.6666666666666,\n",
      "           current_value=820.6666666666666,\n",
      "           net_pnl=None,\n",
      "           net_pnl_rate=None,\n",
      "           gross_pnl=None,\n",
      "           gross_pnl_rate=None,\n",
      "           test_mode=True,\n",
      "           entry_fee=0,\n",
      "           exit_fee=0)\n"
     ]
    }
   ],
   "source": [
    "from dataclasses import dataclass\n",
    "from typing import Optional, Dict, List, Any, Union, Final\n",
    "import utils\n",
    "\n",
    "@dataclass\n",
    "class TradingLog:\n",
    "    \"\"\"\n",
    "    Position 진입 주문 시 관련 정보를 기록하며, 이 데이터를 기반으로 거래 내역 및 현재 지갑 상태를 관리한다.\n",
    "    힌트에서 Optional(None)으로 설정된 항목들은 거래 종료 후 또는 사후에 추가될 데이터들을 나타내며,\n",
    "    속성값 배열의 정렬을 고려하여 기본값을 None으로 미설정 및 세부 설정은 삭제하였다.\n",
    "    \"\"\"\n",
    "    \n",
    "    ### 주문 관련 정보\n",
    "    symbol: str  # 심볼 (예: BTCUSDT)\n",
    "    position_type: int  # 포지션 유형 (1: Long, 2: Short)\n",
    "    quantity: float  # 주문 수량\n",
    "    hedge_enable: bool  # 헤지 여부 (진행 중인 포지션과 반대 방향의 주문 여부)\n",
    "    leverage: int  # 레버리지 배율\n",
    "    \n",
    "    ### 가격 정보\n",
    "    open_price: float  # 진입 가격 (Open Price)\n",
    "    high_price: float  # 최고 가격\n",
    "    low_price: float  # 최저 가격\n",
    "    close_price: float  # 현재 가격 (Close Price)\n",
    "    \n",
    "    ### 시간 정보\n",
    "    start_timestamp: int  # 시작 타임스탬프\n",
    "    end_timestamp: Optional[int]=None  # 현재 시간 타임스탬프(포지션 종료 시점)\n",
    "    \n",
    "    ### 손절 및 종료 설정\n",
    "    scale_stop_enable: bool = True  # final 손절율 or scale 손절율 적용 여부\n",
    "    initial_stop_rate:float = 0.015  # 초기 손절 비율\n",
    "    trailing_stop_rate: float = 0.65  # 트레일링 손절 비율 (후기 손절 비율)\n",
    "    reverse_position_ratio: float = 0  # 포지션과 반대의 흐름 비율 (반대 캔들 비율)\n",
    "    time_based_adjustment_rate: float = 0.0007  # 시간 흐름에 따른 비율 조정 값\n",
    "    adjusted_interval:str = '3m'    # 조종 변동 step\n",
    "    adjusted_entry_price: Optional[float]=None  # 조정된 진입 가격 (StopLoss 기준)\n",
    "    stop_trigger_enable: bool=False      # 종료 신호 활성화 여부\n",
    "    stop_loss_price: Optional[float]=None  # 손절 가격 또는 종료 가격\n",
    "\n",
    "    ### 포지션 평가\n",
    "    initial_value: Optional[float]=None  # 진입 시점의 평가 가치 (수수료 제외)\n",
    "    current_value: Optional[float]=None  # 현재(종료) 시점의 평가 가치 (수수료 제외)\n",
    "    net_pnl: Optional[float]=None  # 순 손익 금액 (Net Profit or Loss, 수수료 제외)\n",
    "    net_pnl_rate: Optional[float]=None  # 순 손익 비율 (Net Profit or Loss Rate, 수수료 제외)\n",
    "    gross_pnl: Optional[float]=None  # 총 손익 금액 (Gross Profit or Loss, 수수료 포함)\n",
    "    gross_pnl_rate: Optional[float]=None  # 총 손익 비율 (Gross Profit or Loss Rate, 수수료 포함)\n",
    "    \n",
    "    ### 시스템 세팅\n",
    "    test_mode: bool = False\n",
    "    \n",
    "    ### 수수료 관련\n",
    "    entry_fee: float=0  # 진입 수수료\n",
    "    exit_fee: float=0  # 종료 수수료\n",
    "    \n",
    "    def __post_init__(self):\n",
    "        \"\"\"\n",
    "        TradingLog 선언시 진입금액과 현재금액을 계산한다.\n",
    "        \"\"\"\n",
    "        # 진입금액(마진)을 계산한다.\n",
    "        if self.initial_value is None:\n",
    "            self.initial_value = (self.open_price * self.quantity) / self.leverage\n",
    "        # 현재금액을 계산한다.\n",
    "        if self.current_value is None:\n",
    "            self.current_value = (self.close_price * self.quantity) / self.leverage\n",
    "    \n",
    "    def update_trade_data(self, timestamp:int, price:Optional[Union[float, int]]=None):\n",
    "        \"\"\"\n",
    "        신규 데이터를 TradingLog데이터에 반영 및 연산한다.\n",
    "        \"\"\"\n",
    "        # 현재시간을 업데이트한다.\n",
    "        self.end_timestamp = timestamp\n",
    "        # price 데이터 입력시 포지션에 맞게 high_price or low_price를 업데이트 한다.\n",
    "        if price is not None:\n",
    "            if self.position_type == 1:\n",
    "                self.high_price = max(self.high_price, price)\n",
    "            elif self.position_type == 2:\n",
    "                self.low_price = min(self.low_price, price)\n",
    "        \n",
    "        # 현재 평가금액을 계산한다.\n",
    "        self.__cals_value()\n",
    "        # 손절 또는 종료연산에 필요한 값을 계산하고 포지션 종료여부를 결정한다.\n",
    "        self.__cals_stop_loss()\n",
    "        # self.test_mode가 True일 경우에만 동작하며 수수료(진입/종료)를 계산한다.\n",
    "        self.__cals_fees()\n",
    "    \n",
    "    def __cals_fees(self):\n",
    "        \"\"\"\n",
    "        self.test_mode가 True일 경우에만 수수료를 계산한다. 백테스트 전용 함수다.\n",
    "        \"\"\"\n",
    "        # 수수료는 시장가 기준으로 0.05%를 적용했으며, 정확한 공식 적용이 어려우므로 슬리피지는 별도 적용하지 않는다.\n",
    "        FEE_RATE:Final[float] = 0.0005\n",
    "        # 테스트 모드 여부를 확인한다.\n",
    "        if self.test_mode:\n",
    "            # 진입 수수료를 계산한다.\n",
    "            self.entry_fee = (self.open_price * self.quantity * FEE_RATE)\n",
    "            # 종료 수수료를 계산한다.\n",
    "            self.exit_fee = (self.close_price * self.quantity * FEE_RATE)\n",
    "    \n",
    "    def __cals_value(self):\n",
    "        \"\"\"\n",
    "        현재 평가금액, PNL을 계산한다. \n",
    "        \"\"\"\n",
    "        \n",
    "        # 현재 평가금액 계산한다.\n",
    "        self.current_value = (self.close_price * self.quantity) / self.leverage\n",
    "        \n",
    "        # 포지션에 따라서 수수료 제외한 pnl을 계산한다.\n",
    "        if self.position_type == 1:\n",
    "            self.net_pnl = self.current_value - self.initial_value\n",
    "        elif self.position_type == 2:\n",
    "            self.net_pnl = self.initial_value - self.current_value\n",
    "        # 수수료 제외한 pnl의 비율을 계산한다.\n",
    "        self.net_pnl_rate = self.net_pnl / self.initial_value\n",
    "        # 수수료 총 합계를 계산한다.\n",
    "        total_fee = self.entry_fee + self.exit_fee\n",
    "        # 수수료 비용을 포함한 pnl을 계산한다.\n",
    "        self.gross_pnl = self.net_pnl - total_fee\n",
    "        # 수수료 비용을 포함한 pnl비율을 계산한다.\n",
    "        self.gross_pnl_rate = self.gross_pnl / self.initial_value\n",
    "    \n",
    "    \n",
    "    def __cals_stop_loss(self):\n",
    "        \"\"\"\n",
    "        스탑 또는 종료 관련값을 계산한다.\n",
    "        \"\"\"\n",
    "        # interval값에 대한 밀리초 값을 구한다.\n",
    "        target_ms_seconds = utils._get_interval_ms_seconds(self.adjusted_interval)\n",
    "        # interval값 오입력시 프로그램 종료한다.\n",
    "        if target_ms_seconds is None:\n",
    "            # interval 값은 바이낸스 interval값을 기준으로 한다.\n",
    "            raise ValueError(f'interval값이 유효하지 않음:{self.adjusted_interval}')\n",
    "        # 종료 타임스템프와 시작타임스템프의 차이를 구한다.\n",
    "        time_diff = self.end_timestamp - self.start_timestamp\n",
    "        # 거래발생부터 현재시간을 interval값으로 나누어 횟수를 구하고 지정된 비율을 곱하여 추가적용할 비율을 계산한다.\n",
    "        dynamic_time_rate = int(time_diff / target_ms_seconds) * self.time_based_adjustment_rate\n",
    "        \n",
    "        # 포지션이 롱일경우 스탑로스를 계산한다.\n",
    "        if self.position_type == 1:\n",
    "            # 설정상 scale_stop_enable이 참 일경우\n",
    "            if self.scale_stop_enable:\n",
    "                # 스탑로스 비율을 계산한다.\n",
    "                stop_loss_rate = self.initial_stop_rate - (self.reverse_position_ratio + dynamic_time_rate)\n",
    "                # 유동적 시작가를 계산한다.\n",
    "                self.adjusted_entry_price = self.open_price * (1-stop_loss_rate)\n",
    "                # 포지션을 종료 금액을 계산한다.\n",
    "                self.stop_loss_price = self.adjusted_entry_price + ((self.high_price - self.adjusted_entry_price) * (1-stop_loss_rate))\n",
    "            # 설정상 scale_stop_enable이 거짓일 경우\n",
    "            else:\n",
    "                # 포지션 종료 금액을 계산한다.\n",
    "                self.stop_loss_price = self.high_price * (1-self.trailing_stop_rate)\n",
    "            # 현재가격이 포지션 종료금액 이하시 True변환\n",
    "            self.stop_trigger_enable = True if self.stop_loss_price <= self.close_price else False\n",
    "\n",
    "        # 포지션이 숏일경우 스탑로스를 계산한다.\n",
    "        elif self.position_type == 2:\n",
    "            # 설정상 scale_stop_enable이 참 일경우\n",
    "            if self.scale_stop_enable:\n",
    "                # 스탑로스 비율을 계산한다.\n",
    "                stop_loss_rate = self.initial_stop_rate - (self.reverse_position_ratio + dynamic_time_rate)\n",
    "                # 유동적 시작가를 계산한다.\n",
    "                self.adjusted_entry_price = self.open_price * (1+stop_loss_rate)\n",
    "                # 포지션을 종료 금액을 계산한다.\n",
    "                self.stop_loss_price = self.adjusted_entry_price - ((self.adjusted_entry_price - self.low_price) * (1-stop_loss_rate))\n",
    "            \n",
    "            else:\n",
    "                # 포지션 종료 금액을 계산한다.\n",
    "                self.stop_loss_price = self.low_price * (1+self.trailing_stop_rate)\n",
    "            # 현재가격이 포지션 종료금액 이상시 True 반환\n",
    "            self.stop_trigger_enable = True if self.stop_loss_price >= self.close_price else False\n",
    "\n",
    "                \n",
    "                \n",
    "from pprint import pprint\n",
    "import time\n",
    "    \n",
    "trade_log = TradingLog(\n",
    "    symbol='BTCUSDT',\n",
    "    start_timestamp=int(time.time()*1000)-(60000*3*60),\n",
    "    end_timestamp=None,\n",
    "    position_type=1,\n",
    "    quantity=123.1,\n",
    "    hedge_enable=False,\n",
    "    leverage=15,\n",
    "    open_price=100,\n",
    "    high_price=100,\n",
    "    low_price=100,\n",
    "    close_price=100,\n",
    "    test_mode=True\n",
    ")\n",
    "\n",
    "pprint(trade_log)"
   ]
  },
  {
   "cell_type": "code",
   "execution_count": 10,
   "metadata": {},
   "outputs": [
    {
     "name": "stdout",
     "output_type": "stream",
     "text": [
      "TradingLog(symbol='BTCUSDT',\n",
      "           position_type=1,\n",
      "           quantity=123.1,\n",
      "           hedge_enable=False,\n",
      "           leverage=15,\n",
      "           open_price=100,\n",
      "           high_price=200,\n",
      "           low_price=100,\n",
      "           close_price=100,\n",
      "           start_timestamp=1738094838212,\n",
      "           end_timestamp=1738102038415,\n",
      "           scale_stop_enable=True,\n",
      "           initial_stop_rate=0.015,\n",
      "           trailing_stop_rate=0.65,\n",
      "           reverse_position_ratio=0,\n",
      "           time_based_adjustment_rate=0.0007,\n",
      "           adjusted_interval='3m',\n",
      "           adjusted_entry_price=101.29999999999998,\n",
      "           stop_trigger_enable=False,\n",
      "           stop_loss_price=201.2831,\n",
      "           initial_value=820.6666666666666,\n",
      "           current_value=820.6666666666666,\n",
      "           net_pnl=0.0,\n",
      "           net_pnl_rate=0.0,\n",
      "           gross_pnl=0.0,\n",
      "           gross_pnl_rate=0.0,\n",
      "           test_mode=True,\n",
      "           entry_fee=6.155,\n",
      "           exit_fee=6.155)\n"
     ]
    }
   ],
   "source": [
    "trade_log.update_trade_data(timestamp=int(time.time()*1000)-(60000*3*20), price=200)\n",
    "pprint(trade_log)"
   ]
  },
  {
   "cell_type": "code",
   "execution_count": 11,
   "metadata": {},
   "outputs": [
    {
     "name": "stdout",
     "output_type": "stream",
     "text": [
      "TradingLog(symbol='BTCUSDT',\n",
      "           position_type=1,\n",
      "           quantity=123.1,\n",
      "           hedge_enable=False,\n",
      "           leverage=15,\n",
      "           open_price=100,\n",
      "           high_price=200,\n",
      "           low_price=100,\n",
      "           close_price=100,\n",
      "           start_timestamp=1738094838212,\n",
      "           end_timestamp=1738105638642,\n",
      "           scale_stop_enable=True,\n",
      "           initial_stop_rate=0.015,\n",
      "           trailing_stop_rate=0.65,\n",
      "           reverse_position_ratio=0,\n",
      "           time_based_adjustment_rate=0.0007,\n",
      "           adjusted_interval='3m',\n",
      "           adjusted_entry_price=102.69999999999999,\n",
      "           stop_trigger_enable=False,\n",
      "           stop_loss_price=202.62709999999998,\n",
      "           initial_value=820.6666666666666,\n",
      "           current_value=820.6666666666666,\n",
      "           net_pnl=0.0,\n",
      "           net_pnl_rate=0.0,\n",
      "           gross_pnl=-12.31,\n",
      "           gross_pnl_rate=-0.015000000000000001,\n",
      "           test_mode=True,\n",
      "           entry_fee=6.155,\n",
      "           exit_fee=6.155)\n"
     ]
    }
   ],
   "source": [
    "trade_log.update_trade_data(timestamp=int(time.time()*1000), price=200)\n",
    "pprint(trade_log)"
   ]
  },
  {
   "cell_type": "code",
   "execution_count": 12,
   "metadata": {},
   "outputs": [
    {
     "name": "stdout",
     "output_type": "stream",
     "text": [
      "TradingLog(symbol='BTCUSDT',\n",
      "           position_type=1,\n",
      "           quantity=123.1,\n",
      "           hedge_enable=False,\n",
      "           leverage=15,\n",
      "           open_price=100,\n",
      "           high_price=200,\n",
      "           low_price=100,\n",
      "           close_price=100,\n",
      "           start_timestamp=1738094838212,\n",
      "           end_timestamp=1738105638863,\n",
      "           scale_stop_enable=True,\n",
      "           initial_stop_rate=0.015,\n",
      "           trailing_stop_rate=0.65,\n",
      "           reverse_position_ratio=0.2,\n",
      "           time_based_adjustment_rate=0.0007,\n",
      "           adjusted_interval='3m',\n",
      "           adjusted_entry_price=122.7,\n",
      "           stop_trigger_enable=False,\n",
      "           stop_loss_price=217.5471,\n",
      "           initial_value=820.6666666666666,\n",
      "           current_value=820.6666666666666,\n",
      "           net_pnl=0.0,\n",
      "           net_pnl_rate=0.0,\n",
      "           gross_pnl=-12.31,\n",
      "           gross_pnl_rate=-0.015000000000000001,\n",
      "           test_mode=True,\n",
      "           entry_fee=6.155,\n",
      "           exit_fee=6.155)\n"
     ]
    }
   ],
   "source": [
    "trade_log.reverse_position_ratio = 0.2\n",
    "trade_log.update_trade_data(timestamp=int(time.time()*1000), price=200)\n",
    "pprint(trade_log)"
   ]
  },
  {
   "cell_type": "code",
   "execution_count": 13,
   "metadata": {},
   "outputs": [
    {
     "data": {
      "text/plain": [
       "0.014"
      ]
     },
     "execution_count": 13,
     "metadata": {},
     "output_type": "execute_result"
    }
   ],
   "source": [
    "0.0007*20"
   ]
  },
  {
   "cell_type": "code",
   "execution_count": null,
   "metadata": {},
   "outputs": [],
   "source": [
    "import numpy as np\n",
    "a = [1,2,3,4,5]\n",
    "array = np.array(a)\n",
    "np.where(array>1)"
   ]
  },
  {
   "cell_type": "code",
   "execution_count": null,
   "metadata": {},
   "outputs": [],
   "source": [
    "np.where(array>1)"
   ]
  },
  {
   "cell_type": "code",
   "execution_count": null,
   "metadata": {},
   "outputs": [],
   "source": [
    "vars(ins_analysis).keys()"
   ]
  },
  {
   "cell_type": "code",
   "execution_count": 2,
   "metadata": {},
   "outputs": [],
   "source": [
    "signal ={1:[], 2:[]}\n"
   ]
  },
  {
   "cell_type": "code",
   "execution_count": 3,
   "metadata": {},
   "outputs": [
    {
     "data": {
      "text/plain": [
       "{1: [], 2: []}"
      ]
     },
     "execution_count": 3,
     "metadata": {},
     "output_type": "execute_result"
    }
   ],
   "source": [
    "signal"
   ]
  },
  {
   "cell_type": "code",
   "execution_count": null,
   "metadata": {},
   "outputs": [],
   "source": []
  }
 ],
 "metadata": {
  "kernelspec": {
   "display_name": "python",
   "language": "python",
   "name": "python3"
  },
  "language_info": {
   "codemirror_mode": {
    "name": "ipython",
    "version": 3
   },
   "file_extension": ".py",
   "mimetype": "text/x-python",
   "name": "python",
   "nbconvert_exporter": "python",
   "pygments_lexer": "ipython3",
   "version": "3.12.2"
  }
 },
 "nbformat": 4,
 "nbformat_minor": 2
}
