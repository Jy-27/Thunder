{
 "cells": [
  {
   "cell_type": "code",
   "execution_count": 1,
   "metadata": {},
   "outputs": [],
   "source": [
    "import TradeClient\n",
    "import asyncio\n",
    "import nest_asyncio\n",
    "\n",
    "nest_asyncio.apply()"
   ]
  },
  {
   "cell_type": "code",
   "execution_count": 2,
   "metadata": {},
   "outputs": [],
   "source": [
    "ins_futures= TradeClient.FuturesOrder()"
   ]
  },
  {
   "cell_type": "code",
   "execution_count": 7,
   "metadata": {},
   "outputs": [],
   "source": [
    "data = asyncio.run(ins_futures.get_account_balance())"
   ]
  },
  {
   "cell_type": "code",
   "execution_count": 8,
   "metadata": {},
   "outputs": [
    {
     "data": {
      "text/plain": [
       "2"
      ]
     },
     "execution_count": 8,
     "metadata": {},
     "output_type": "execute_result"
    }
   ],
   "source": [
    "len(data)"
   ]
  },
  {
   "cell_type": "code",
   "execution_count": 6,
   "metadata": {},
   "outputs": [
    {
     "data": {
      "text/plain": [
       "'2025-01-11 10:46:25'"
      ]
     },
     "execution_count": 6,
     "metadata": {},
     "output_type": "execute_result"
    }
   ],
   "source": [
    "utils._convert_to_datetime(1736559985813)"
   ]
  },
  {
   "cell_type": "code",
   "execution_count": 9,
   "metadata": {},
   "outputs": [
    {
     "data": {
      "text/plain": [
       "{'XRPUSDT': {'initialMargin': 5.15636,\n",
       "  'maintMargin': 0.0257818,\n",
       "  'unrealizedProfit': 0.07546,\n",
       "  'positionInitialMargin': 5.15636,\n",
       "  'openOrderInitialMargin': 0,\n",
       "  'leverage': 1,\n",
       "  'isolated': True,\n",
       "  'entryPrice': 2.3095,\n",
       "  'breakEvenPrice': 2.31065475,\n",
       "  'maxNotional': 100000000.0,\n",
       "  'positionSide': 'BOTH',\n",
       "  'positionAmt': 2.2,\n",
       "  'notional': 5.15636,\n",
       "  'isolatedWallet': 5.08147368,\n",
       "  'updateTime': 1736553600616,\n",
       "  'bidNotional': 0,\n",
       "  'askNotional': 0},\n",
       " 'STEEMUSDT': {'initialMargin': 0.28021005,\n",
       "  'maintMargin': 0.00420315,\n",
       "  'unrealizedProfit': -0.00592005,\n",
       "  'positionInitialMargin': 0.28021005,\n",
       "  'openOrderInitialMargin': 0,\n",
       "  'leverage': 1,\n",
       "  'isolated': True,\n",
       "  'entryPrice': 0.27429,\n",
       "  'breakEvenPrice': 0.136489305,\n",
       "  'maxNotional': 2000000.0,\n",
       "  'positionSide': 'BOTH',\n",
       "  'positionAmt': -1,\n",
       "  'notional': -0.28021005,\n",
       "  'isolatedWallet': 0.27281394,\n",
       "  'updateTime': 1736559985813,\n",
       "  'bidNotional': 0,\n",
       "  'askNotional': 0}}"
      ]
     },
     "execution_count": 9,
     "metadata": {},
     "output_type": "execute_result"
    }
   ],
   "source": [
    "data"
   ]
  },
  {
   "cell_type": "code",
   "execution_count": 10,
   "metadata": {},
   "outputs": [],
   "source": [
    "data2 = asyncio.run(ins_futures.get_account_balance())"
   ]
  },
  {
   "cell_type": "code",
   "execution_count": 20,
   "metadata": {},
   "outputs": [
    {
     "name": "stdout",
     "output_type": "stream",
     "text": [
      "XRPUSDT\n",
      "STEEMUSDT\n"
     ]
    }
   ],
   "source": [
    "for i, a in data.items():\n",
    "    print(i)"
   ]
  },
  {
   "cell_type": "code",
   "execution_count": 18,
   "metadata": {},
   "outputs": [
    {
     "name": "stdout",
     "output_type": "stream",
     "text": [
      "True\n"
     ]
    }
   ],
   "source": [
    "if not data2:\n",
    "    print(True)"
   ]
  },
  {
   "cell_type": "code",
   "execution_count": 19,
   "metadata": {},
   "outputs": [
    {
     "name": "stdout",
     "output_type": "stream",
     "text": [
      "True\n"
     ]
    }
   ],
   "source": [
    "if data:\n",
    "    print(True)"
   ]
  },
  {
   "cell_type": "code",
   "execution_count": 25,
   "metadata": {},
   "outputs": [],
   "source": [
    "    # klline 매개변수에 들어갈 유효 limit\n",
    "    def __get_valid_kline_limit(self, interval: str) -> Dict:\n",
    "        # 상수 설정\n",
    "        VALID_INTERVAL_UNITS = [\"m\", \"h\", \"d\", \"w\", \"M\"]\n",
    "        MINUTES_PER_DAY = 1_440\n",
    "        MAX_KLINE_LIMIT = 1_000\n",
    "\n",
    "        # interval 유효성 검사\n",
    "        interval_unit = interval[-1]\n",
    "        interval_value = int(interval[:-1])\n",
    "\n",
    "        if interval not in self.KLINE_INTERVALS:\n",
    "            raise ValueError(f\"유효하지 않은 interval입니다: {interval}\")\n",
    "\n",
    "        # 분 단위로 interval 변환\n",
    "        interval_minutes = interval_value * {\"m\": 1, \"h\": 60, \"d\": 1440}[interval_unit]\n",
    "\n",
    "        # 최대 수집 가능 일 수 및 제한 계산\n",
    "        intervals_per_day = MINUTES_PER_DAY / interval_minutes\n",
    "        max_days = int(MAX_KLINE_LIMIT / intervals_per_day)\n",
    "        max_limit = int(intervals_per_day * max_days)\n",
    "\n",
    "        # 결과 반환\n",
    "        return (max_days, max_limit)\n",
    "\n",
    "    # kline 매개변수에 들어가는 limit을 day기준으로 개수를 계산한다.\n",
    "    def __get_kline_limit_by_days(self, interval: str, days: int) -> int:\n",
    "        \"\"\"\n",
    "        1. 기능 : kline 매개변수에 들어갈 day 기간 만큼 interval의 limit값을 구한다.\n",
    "        2. 매개변수\n",
    "            1) interval : KLINE_INTERVALS 속성 참조\n",
    "            2) day : 기간을 정한다.\n",
    "        \"\"\"\n",
    "        day, limit = self.__get_valid_kline_limit(interval=interval)\n",
    "        if day == 0:\n",
    "            return 1000\n",
    "        max_klines_per_day = (limit / day) * days\n",
    "\n",
    "        if max_klines_per_day > 1_000:\n",
    "            print(\n",
    "                f\"The calculated limit exceeds the maximum allowed value: {max_klines_per_day}. Limiting to 1,000.\"\n",
    "            )\n",
    "            return 1_000\n",
    "\n",
    "        return int(max_klines_per_day)\n",
    "\n",
    "    # kline전체를 days기준 범위로 업데이트한다.\n",
    "    async def update_all_klines(self, days: int = 1):\n",
    "        \"\"\"\n",
    "        1. 기능 : 현재 선택된 ticker에 대한 모든 interval kline을 수신한다.\n",
    "        2. 매개변수\n",
    "            1) max_recordes : max 1_000, 조회할 데이터의 길이를 정한다.\n",
    "        \"\"\"\n",
    "        # 활성화된 티커가 준비될 때까지 대기\n",
    "        while not self.active_tickers:\n",
    "            await asyncio.sleep(\n",
    "                2\n",
    "            )  # utils._wait_time_sleep을 asyncio.sleep으로 대체하여 비동기 방식으로 대기\n",
    "\n",
    "        # 모든 활성화된 티커에 대해 데이터를 수집 및 업데이트\n",
    "        for ticker in self.active_tickers:\n",
    "            for interval in self.KLINE_INTERVALS:\n",
    "                if interval.endswith(\"d\"):\n",
    "                    limit_ = 30\n",
    "                else:\n",
    "                    limit_ = self.__get_kline_limit_by_days(interval=interval, days=days)\n",
    "                # Kline 데이터를 수집하고 self.kline_data에 업데이트\n",
    "                self.kline_data[ticker][interval] = (\n",
    "                    await self.market_instance.fetch_klines_limit(\n",
    "                        symbol=ticker,\n",
    "                        interval=interval,\n",
    "                        limit=limit_,\n",
    "                    )\n",
    "                )"
   ]
  },
  {
   "cell_type": "code",
   "execution_count": 33,
   "metadata": {},
   "outputs": [],
   "source": [
    "def _get_kline_limit_by_days(interval: str, days: int) -> int:\n",
    "    \"\"\"\n",
    "    1. 기능 : kline 매개변수에 들어갈 day 기간 만큼 interval의 limit값을 구한다.\n",
    "    2. 매개변수\n",
    "        1) interval : KLINE_INTERVALS 속성 참조\n",
    "        2) day : 기간을 정한다.\n",
    "    \"\"\"\n",
    "    day, limit = _get_valid_kline_limit(interval=interval)\n",
    "    if day == 0:\n",
    "        return 1000\n",
    "    max_klines_per_day = (limit / day) * days\n",
    "\n",
    "    if max_klines_per_day > 1_000:\n",
    "        print(\n",
    "            f\"The calculated limit exceeds the maximum allowed value: {max_klines_per_day}. Limiting to 1,000.\"\n",
    "        )\n",
    "        return 1_000\n",
    "\n",
    "    return int(max_klines_per_day)"
   ]
  },
  {
   "cell_type": "code",
   "execution_count": 34,
   "metadata": {},
   "outputs": [
    {
     "data": {
      "text/plain": [
       "576"
      ]
     },
     "execution_count": 34,
     "metadata": {},
     "output_type": "execute_result"
    }
   ],
   "source": [
    "_get_kline_limit_by_days(interval='5m', days=2)"
   ]
  },
  {
   "cell_type": "code",
   "execution_count": 35,
   "metadata": {},
   "outputs": [],
   "source": [
    "def _generate_time_intervals():\n",
    "    time_intervals: Dict[str, Dict] = {\n",
    "        \"minutes\": {},  # 분 단위 타임라인\n",
    "        \"hours\": {},  # 시간 단위 타임라인\n",
    "    }\n",
    "\n",
    "    # 각 분 초기화\n",
    "    for minute in range(60):\n",
    "        time_intervals[\"minutes\"][minute] = []\n",
    "\n",
    "    # 각 시간 초기화\n",
    "    for hour in range(24):\n",
    "        time_intervals[\"hours\"][hour] = []\n",
    "\n",
    "    # 분 단위 간격 설정\n",
    "    minute_intervals = {\"1m\": 1, \"3m\": 3, \"5m\": 5, \"15m\": 15, \"30m\": 30}\n",
    "\n",
    "    # 시간 단위 간격 설정\n",
    "    hour_intervals = {\"1h\": 1, \"2h\": 2, \"4h\": 4, \"6h\": 6, \"8h\": 8, \"12h\": 12}\n",
    "\n",
    "    for interval in ['5m', '15m', '1h','4h','12','1d']:\n",
    "        if str(interval).endswith(\"m\"):\n",
    "            for min in range(0, 60, minute_intervals.get(interval, 0)):\n",
    "                time_intervals[\"minutes\"][min].append(interval)\n",
    "        elif str(interval).endswith(\"h\"):\n",
    "            for hr in range(0, 24, hour_intervals.get(interval, 0)):\n",
    "                time_intervals[\"hours\"][hr].append(interval)\n",
    "        else:\n",
    "            time_intervals[\"hours\"][0].append(interval)\n",
    "\n",
    "    # 비어 있는 key 제거\n",
    "    time_intervals[\"minutes\"] = {\n",
    "        minute: intervals\n",
    "        for minute, intervals in time_intervals[\"minutes\"].items()\n",
    "        if intervals\n",
    "    }\n",
    "    time_intervals[\"hours\"] = {\n",
    "        hour: intervals\n",
    "        for hour, intervals in time_intervals[\"hours\"].items()\n",
    "        if intervals\n",
    "    }\n",
    "    return time_intervals"
   ]
  },
  {
   "cell_type": "code",
   "execution_count": 36,
   "metadata": {},
   "outputs": [
    {
     "data": {
      "text/plain": [
       "{'minutes': {0: ['5m', '15m'],\n",
       "  5: ['5m'],\n",
       "  10: ['5m'],\n",
       "  15: ['5m', '15m'],\n",
       "  20: ['5m'],\n",
       "  25: ['5m'],\n",
       "  30: ['5m', '15m'],\n",
       "  35: ['5m'],\n",
       "  40: ['5m'],\n",
       "  45: ['5m', '15m'],\n",
       "  50: ['5m'],\n",
       "  55: ['5m']},\n",
       " 'hours': {0: ['1h', '4h', '12', '1d'],\n",
       "  1: ['1h'],\n",
       "  2: ['1h'],\n",
       "  3: ['1h'],\n",
       "  4: ['1h', '4h'],\n",
       "  5: ['1h'],\n",
       "  6: ['1h'],\n",
       "  7: ['1h'],\n",
       "  8: ['1h', '4h'],\n",
       "  9: ['1h'],\n",
       "  10: ['1h'],\n",
       "  11: ['1h'],\n",
       "  12: ['1h', '4h'],\n",
       "  13: ['1h'],\n",
       "  14: ['1h'],\n",
       "  15: ['1h'],\n",
       "  16: ['1h', '4h'],\n",
       "  17: ['1h'],\n",
       "  18: ['1h'],\n",
       "  19: ['1h'],\n",
       "  20: ['1h', '4h'],\n",
       "  21: ['1h'],\n",
       "  22: ['1h'],\n",
       "  23: ['1h']}}"
      ]
     },
     "execution_count": 36,
     "metadata": {},
     "output_type": "execute_result"
    }
   ],
   "source": [
    "_generate_time_intervals()"
   ]
  },
  {
   "cell_type": "code",
   "execution_count": 1,
   "metadata": {},
   "outputs": [
    {
     "ename": "NameError",
     "evalue": "name 'time' is not defined",
     "output_type": "error",
     "traceback": [
      "\u001b[0;31m---------------------------------------------------------------------------\u001b[0m",
      "\u001b[0;31mNameError\u001b[0m                                 Traceback (most recent call last)",
      "Cell \u001b[0;32mIn[1], line 1\u001b[0m\n\u001b[0;32m----> 1\u001b[0m \u001b[43mtime\u001b[49m\u001b[38;5;241m.\u001b[39mtime()\n",
      "\u001b[0;31mNameError\u001b[0m: name 'time' is not defined"
     ]
    }
   ],
   "source": [
    "time.time()"
   ]
  },
  {
   "cell_type": "code",
   "execution_count": 2,
   "metadata": {},
   "outputs": [],
   "source": [
    "import time"
   ]
  },
  {
   "cell_type": "code",
   "execution_count": 4,
   "metadata": {},
   "outputs": [
    {
     "data": {
      "text/plain": [
       "1736574851747"
      ]
     },
     "execution_count": 4,
     "metadata": {},
     "output_type": "execute_result"
    }
   ],
   "source": [
    "int(time.time() * 1000)"
   ]
  },
  {
   "cell_type": "code",
   "execution_count": null,
   "metadata": {},
   "outputs": [],
   "source": []
  }
 ],
 "metadata": {
  "kernelspec": {
   "display_name": "python",
   "language": "python",
   "name": "python3"
  },
  "language_info": {
   "codemirror_mode": {
    "name": "ipython",
    "version": 3
   },
   "file_extension": ".py",
   "mimetype": "text/x-python",
   "name": "python",
   "nbconvert_exporter": "python",
   "pygments_lexer": "ipython3",
   "version": "3.12.2"
  }
 },
 "nbformat": 4,
 "nbformat_minor": 2
}
