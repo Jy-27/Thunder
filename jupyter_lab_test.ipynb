{
 "cells": [
  {
   "cell_type": "code",
   "execution_count": 24,
   "metadata": {},
   "outputs": [
    {
     "name": "stdout",
     "output_type": "stream",
     "text": [
      "seed money 조정 : 10.00 -> 7.69\n",
      "거래가능 예수금 : 0.05564748\n",
      "총 평가금액    : 7.68916386\n"
     ]
    }
   ],
   "source": [
    "import LiveTrading\n",
    "import asyncio\n",
    "import nest_asyncio\n",
    "import TradeClient\n",
    "import MarketDataFetcher\n",
    "import time\n",
    "from pprint import pprint\n",
    "\n",
    "nest_asyncio.apply()\n",
    "\n",
    "# 클라이언트\n",
    "c_obj = TradeClient.FuturesOrder()\n",
    "\n",
    "# 마켓 \n",
    "m_obj = MarketDataFetcher.FuturesMarket()\n",
    "\n",
    "# 라이브트레이드\n",
    "t_obj = LiveTrading.LiveTradingManager(seed_money=10, market='futures', requested_leverage=5, kline_period=2, stop_loss_rate=0.35, init_stop_rate=0.015)\n",
    "asyncio.run(t_obj.start_update_account())\n",
    "\n",
    "dummy_signal = (True, 2, 1)\n",
    "\n",
    "symbol = 'AGLDUSDT'\n",
    "\n",
    "async def balance_print():\n",
    "    available_ = asyncio.run(c_obj.get_available_balance())\n",
    "    total_ = asyncio.run(c_obj.get_total_wallet_balance())\n",
    "    print(f'거래가능 예수금 : {available_}')\n",
    "    print(f'총 평가금액    : {total_}')\n",
    "    return (available_, total_)\n",
    "\n",
    "ava, ttl = asyncio.run(balance_print())\n",
    "price = float(asyncio.run(m_obj.fetch_symbol_price(symbol))['price'])\n",
    "timestamp = int(time.time() * 1000)\n",
    "t_obj.ins_portfolio.update_log_data(symbol=symbol, price=price, timestamp=timestamp)\n",
    "log_ = t_obj.ins_portfolio.data_container.get_data(f'futures_{symbol}')\n",
    "# pprint(log_)"
   ]
  },
  {
   "cell_type": "code",
   "execution_count": 25,
   "metadata": {},
   "outputs": [
    {
     "data": {
      "text/plain": [
       "1.922820356"
      ]
     },
     "execution_count": 25,
     "metadata": {},
     "output_type": "execute_result"
    }
   ],
   "source": [
    "log_.stop_price"
   ]
  },
  {
   "cell_type": "code",
   "execution_count": 28,
   "metadata": {},
   "outputs": [
    {
     "data": {
      "text/plain": [
       "19.42857142857143"
      ]
     },
     "execution_count": 28,
     "metadata": {},
     "output_type": "execute_result"
    }
   ],
   "source": [
    "(1.36 / 7)*100"
   ]
  },
  {
   "cell_type": "code",
   "execution_count": null,
   "metadata": {},
   "outputs": [],
   "source": [
    "price = float(asyncio.run(m_obj.fetch_symbol_price(symbol))['price'])\n",
    "timestamp = int(time.time() * 1000)\n",
    "t_obj.ins_portfolio.update_log_data(symbol=f'futures_{symbol}', price=price, timestamp=timestamp)\n",
    "close_signal = asyncio.run(t_obj.submit_order_close_signal(symbol))"
   ]
  },
  {
   "cell_type": "code",
   "execution_count": null,
   "metadata": {},
   "outputs": [],
   "source": [
    "print(asyncio.run(c_obj.get_total_wallet_balance()))\n",
    "print(t_obj.ins_portfolio.total_balance)\n",
    "pprint(t_obj.ins_portfolio.__dict__)\n",
    "      "
   ]
  },
  {
   "cell_type": "markdown",
   "metadata": {},
   "source": [
    "a = 0.123456789"
   ]
  },
  {
   "cell_type": "code",
   "execution_count": null,
   "metadata": {},
   "outputs": [],
   "source": [
    "a = 0.123456789\n",
    "print(round(a, 8))"
   ]
  },
  {
   "cell_type": "code",
   "execution_count": null,
   "metadata": {},
   "outputs": [],
   "source": [
    "asyncio.run(c_obj.get_available_balance())"
   ]
  },
  {
   "cell_type": "code",
   "execution_count": null,
   "metadata": {},
   "outputs": [],
   "source": [
    "asyncio.run(c_obj.fetch_order_history('XRPUSDT'))[-1]"
   ]
  },
  {
   "cell_type": "code",
   "execution_count": null,
   "metadata": {},
   "outputs": [],
   "source": [
    "(2.7*2.52680) * 0.99"
   ]
  },
  {
   "cell_type": "code",
   "execution_count": null,
   "metadata": {},
   "outputs": [],
   "source": [
    "pprint(t_obj.ins_portfolio.trade_history)"
   ]
  },
  {
   "cell_type": "code",
   "execution_count": 38,
   "metadata": {},
   "outputs": [],
   "source": [
    "a ={\"a\":123}"
   ]
  },
  {
   "cell_type": "code",
   "execution_count": null,
   "metadata": {},
   "outputs": [],
   "source": [
    "if a:\n",
    "    print(True)"
   ]
  },
  {
   "cell_type": "code",
   "execution_count": 11,
   "metadata": {},
   "outputs": [
    {
     "ename": "AttributeError",
     "evalue": "No attribute named '123'",
     "output_type": "error",
     "traceback": [
      "\u001b[0;31m---------------------------------------------------------------------------\u001b[0m",
      "\u001b[0;31mAttributeError\u001b[0m                            Traceback (most recent call last)",
      "Cell \u001b[0;32mIn[11], line 1\u001b[0m\n\u001b[0;32m----> 1\u001b[0m data \u001b[38;5;241m=\u001b[39m \u001b[43mt_obj\u001b[49m\u001b[38;5;241;43m.\u001b[39;49m\u001b[43mins_portfolio\u001b[49m\u001b[38;5;241;43m.\u001b[39;49m\u001b[43mdata_container\u001b[49m\u001b[38;5;241;43m.\u001b[39;49m\u001b[43mget_data\u001b[49m\u001b[43m(\u001b[49m\u001b[43mdata_name\u001b[49m\u001b[38;5;241;43m=\u001b[39;49m\u001b[38;5;124;43m'\u001b[39;49m\u001b[38;5;124;43m123\u001b[39;49m\u001b[38;5;124;43m'\u001b[39;49m\u001b[43m)\u001b[49m\n",
      "File \u001b[0;32m~/GitHub/Thunder/utils.py:182\u001b[0m, in \u001b[0;36mDataContainer.get_data\u001b[0;34m(self, data_name)\u001b[0m\n\u001b[1;32m    180\u001b[0m     \u001b[38;5;28;01mreturn\u001b[39;00m \u001b[38;5;28mgetattr\u001b[39m(\u001b[38;5;28mself\u001b[39m, data_name)\n\u001b[1;32m    181\u001b[0m \u001b[38;5;28;01melse\u001b[39;00m:\n\u001b[0;32m--> 182\u001b[0m     \u001b[38;5;28;01mraise\u001b[39;00m \u001b[38;5;167;01mAttributeError\u001b[39;00m(\u001b[38;5;124mf\u001b[39m\u001b[38;5;124m\"\u001b[39m\u001b[38;5;124mNo attribute named \u001b[39m\u001b[38;5;124m'\u001b[39m\u001b[38;5;132;01m{\u001b[39;00mdata_name\u001b[38;5;132;01m}\u001b[39;00m\u001b[38;5;124m'\u001b[39m\u001b[38;5;124m\"\u001b[39m)\n",
      "\u001b[0;31mAttributeError\u001b[0m: No attribute named '123'"
     ]
    }
   ],
   "source": [
    "data = t_obj.ins_portfolio.data_container.get_data(data_name='123')"
   ]
  },
  {
   "cell_type": "code",
   "execution_count": null,
   "metadata": {},
   "outputs": [],
   "source": []
  }
 ],
 "metadata": {
  "kernelspec": {
   "display_name": "ame",
   "language": "python",
   "name": "python3"
  },
  "language_info": {
   "codemirror_mode": {
    "name": "ipython",
    "version": 3
   },
   "file_extension": ".py",
   "mimetype": "text/x-python",
   "name": "python",
   "nbconvert_exporter": "python",
   "pygments_lexer": "ipython3",
   "version": "3.12.2"
  }
 },
 "nbformat": 4,
 "nbformat_minor": 2
}
