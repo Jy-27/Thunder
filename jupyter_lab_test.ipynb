{
 "cells": [
  {
   "cell_type": "code",
   "execution_count": 13,
   "metadata": {},
   "outputs": [],
   "source": [
    "import MarketDataFetcher\n",
    "import asyncio\n",
    "import nest_asyncio\n",
    "import utils\n",
    "import json\n",
    "import numpy as np\n",
    "import pickle\n",
    "\n",
    "nest_asyncio.apply()\n",
    "\n",
    "obj = MarketDataFetcher.FuturesMarket()\n",
    "data = asyncio.run(obj.fetch_klines_limit(symbol='BTCUSDT', interval='3m', limit=1_000))\n",
    "array = np.array(data, float)"
   ]
  },
  {
   "cell_type": "code",
   "execution_count": 14,
   "metadata": {},
   "outputs": [],
   "source": [
    "save_path = '/Users/cjupit/Desktop/btc.pickle'\n",
    "with open(save_path, 'wb')as file:\n",
    "    pickle.dump(array, file)"
   ]
  },
  {
   "cell_type": "code",
   "execution_count": 15,
   "metadata": {},
   "outputs": [
    {
     "data": {
      "text/plain": [
       "['0: Open Time',\n",
       " '1: Open',\n",
       " '2: High',\n",
       " '3: Low',\n",
       " '4: Close',\n",
       " '5: Volume',\n",
       " '6: Close Time',\n",
       " '7: Quote Asset Volume',\n",
       " '8: Number of Trades',\n",
       " '9: Taker Buy Base Asset Volume',\n",
       " '10: Taker Buy Quote Asset Volume',\n",
       " '11: Ignore']"
      ]
     },
     "execution_count": 15,
     "metadata": {},
     "output_type": "execute_result"
    }
   ],
   "source": [
    "utils._info_kline_columns()"
   ]
  },
  {
   "cell_type": "code",
   "execution_count": null,
   "metadata": {},
   "outputs": [],
   "source": []
  }
 ],
 "metadata": {
  "kernelspec": {
   "display_name": "python",
   "language": "python",
   "name": "python3"
  },
  "language_info": {
   "codemirror_mode": {
    "name": "ipython",
    "version": 3
   },
   "file_extension": ".py",
   "mimetype": "text/x-python",
   "name": "python",
   "nbconvert_exporter": "python",
   "pygments_lexer": "ipython3",
   "version": "3.12.2"
  }
 },
 "nbformat": 4,
 "nbformat_minor": 2
}
