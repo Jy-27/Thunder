{
 "cells": [
  {
   "cell_type": "code",
   "execution_count": null,
   "metadata": {},
   "outputs": [],
   "source": [
    "import asyncio\n",
    "import TradingDataManager\n",
    "import nest_asyncio\n",
    "import utils\n",
    "import numpy as np\n",
    "from typing import Optional, List, Dict, Union\n",
    "\n",
    "nest_asyncio.apply()\n",
    "\n",
    "obj_trading = TradingDataManager.FuturesDataControl()\n",
    "print('OBJ 선언')\n",
    "obj_trading.active_tickers = asyncio.run(obj_trading.fetch_essential_tickers())\n",
    "print('tickers update complete!')\n",
    "asyncio.run(obj_trading.update_all_klines())\n",
    "print('kline update complete!')"
   ]
  },
  {
   "cell_type": "code",
   "execution_count": null,
   "metadata": {},
   "outputs": [],
   "source": [
    "asyncio.run(obj_trading.fetch_active_positions())\n",
    "asyncio.run(obj_trading.sumit_close_order_signal(ticker='NEIROUSDT'))"
   ]
  },
  {
   "cell_type": "code",
   "execution_count": null,
   "metadata": {},
   "outputs": [],
   "source": [
    "asyncio.run(obj_trading.fetch_active_positions())\n",
    "obj_trading.account_balance_summary"
   ]
  },
  {
   "cell_type": "code",
   "execution_count": 100,
   "metadata": {},
   "outputs": [],
   "source": [
    "def _close_signal(current_price:float, safety_ratio:float=0.7, start_ratio:float=0.025):\n",
    "    quantity = -10\n",
    "    entry_price = 0.5121\n",
    "    reference_price = 0.5120\n",
    "    \n",
    "    if quantity is None or entry_price is None or reference_price is None :\n",
    "        return None\n",
    "\n",
    "    if quantity > 0:\n",
    "        start_price = entry_price * (1-start_ratio)\n",
    "        target_price = start_price + ((reference_price - start_price) * safety_ratio)\n",
    "        print(target_price)\n",
    "        if target_price > current_price:\n",
    "            return True\n",
    "        else:\n",
    "            return False\n",
    "    else:\n",
    "        start_price = entry_price * (1+start_ratio)\n",
    "        target_price = start_price - ((start_price-reference_price) * safety_ratio)\n",
    "        print(target_price)\n",
    "        if target_price < current_price:\n",
    "            return True\n",
    "        else:\n",
    "            return False"
   ]
  },
  {
   "cell_type": "code",
   "execution_count": 101,
   "metadata": {},
   "outputs": [
    {
     "name": "stdout",
     "output_type": "stream",
     "text": [
      "0.5158707499999999\n"
     ]
    },
    {
     "data": {
      "text/plain": [
       "False"
      ]
     },
     "execution_count": 101,
     "metadata": {},
     "output_type": "execute_result"
    }
   ],
   "source": [
    "_close_signal(current_price=0.5120)"
   ]
  },
  {
   "cell_type": "code",
   "execution_count": 103,
   "metadata": {},
   "outputs": [
    {
     "data": {
      "text/plain": [
       "1.0075600585937499"
      ]
     },
     "execution_count": 103,
     "metadata": {},
     "output_type": "execute_result"
    }
   ],
   "source": [
    "0.5158707499999999/ 0.512"
   ]
  },
  {
   "cell_type": "code",
   "execution_count": 87,
   "metadata": {},
   "outputs": [
    {
     "data": {
      "text/plain": [
       "0.0041784000000000265"
      ]
     },
     "execution_count": 87,
     "metadata": {},
     "output_type": "execute_result"
    }
   ],
   "source": [
    "0.5125 - 0.5083215999999999"
   ]
  },
  {
   "cell_type": "code",
   "execution_count": 90,
   "metadata": {},
   "outputs": [
    {
     "data": {
      "text/plain": [
       "0.8219993012297779"
      ]
     },
     "execution_count": 90,
     "metadata": {},
     "output_type": "execute_result"
    }
   ],
   "source": [
    "(0.0041784000000000265 / 0.5083215999999999) * 100"
   ]
  },
  {
   "cell_type": "code",
   "execution_count": null,
   "metadata": {},
   "outputs": [],
   "source": []
  }
 ],
 "metadata": {
  "kernelspec": {
   "display_name": "ame",
   "language": "python",
   "name": "python3"
  },
  "language_info": {
   "codemirror_mode": {
    "name": "ipython",
    "version": 3
   },
   "file_extension": ".py",
   "mimetype": "text/x-python",
   "name": "python",
   "nbconvert_exporter": "python",
   "pygments_lexer": "ipython3",
   "version": "3.12.2"
  }
 },
 "nbformat": 4,
 "nbformat_minor": 2
}
