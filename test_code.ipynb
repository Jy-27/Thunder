{
 "cells": [
  {
   "cell_type": "code",
   "execution_count": 1,
   "metadata": {},
   "outputs": [],
   "source": [
    "import BinanceTradeClient\n",
    "import asyncio\n",
    "import nest_asyncio\n",
    "\n",
    "nest_asyncio.apply()"
   ]
  },
  {
   "cell_type": "code",
   "execution_count": 2,
   "metadata": {},
   "outputs": [
    {
     "data": {
      "text/plain": [
       "'마진 타입이 이미 설정된 상태입니다 - ISOLATED'"
      ]
     },
     "execution_count": 2,
     "metadata": {},
     "output_type": "execute_result"
    }
   ],
   "source": [
    "obj = BinanceTradeClient.FuturesOrderManager()\n",
    "symbol = 'dogeusdt'\n",
    "asyncio.run(obj.set_leverage(symbol=symbol, leverage=1))\n",
    "asyncio.run(obj.set_margin_type(symbol=symbol, margin_type='isolated'))"
   ]
  },
  {
   "cell_type": "code",
   "execution_count": 6,
   "metadata": {},
   "outputs": [
    {
     "ename": "TypeError",
     "evalue": "FuturesOrderManager.submit_order() missing 1 required positional argument: 'side'",
     "output_type": "error",
     "traceback": [
      "\u001b[0;31m---------------------------------------------------------------------------\u001b[0m",
      "\u001b[0;31mTypeError\u001b[0m                                 Traceback (most recent call last)",
      "Cell \u001b[0;32mIn[6], line 2\u001b[0m\n\u001b[1;32m      1\u001b[0m qty \u001b[38;5;241m=\u001b[39m asyncio\u001b[38;5;241m.\u001b[39mrun(obj\u001b[38;5;241m.\u001b[39mget_min_trade_quantity(symbol\u001b[38;5;241m=\u001b[39msymbol))\n\u001b[0;32m----> 2\u001b[0m asyncio\u001b[38;5;241m.\u001b[39mrun(\u001b[43mobj\u001b[49m\u001b[38;5;241;43m.\u001b[39;49m\u001b[43msubmit_order\u001b[49m\u001b[43m(\u001b[49m\u001b[43msymbol\u001b[49m\u001b[38;5;241;43m=\u001b[39;49m\u001b[38;5;124;43m'\u001b[39;49m\u001b[38;5;124;43mDOGEUSDT\u001b[39;49m\u001b[38;5;124;43m'\u001b[39;49m\u001b[43m,\u001b[49m\n\u001b[1;32m      3\u001b[0m \u001b[43m                             \u001b[49m\u001b[43morder_type\u001b[49m\u001b[38;5;241;43m=\u001b[39;49m\u001b[38;5;124;43m'\u001b[39;49m\u001b[38;5;124;43mmarket\u001b[39;49m\u001b[38;5;124;43m'\u001b[39;49m\u001b[43m,\u001b[49m\n\u001b[1;32m      4\u001b[0m \u001b[43m                             \u001b[49m\u001b[43mquantity\u001b[49m\u001b[38;5;241;43m=\u001b[39;49m\u001b[43mqty\u001b[49m\u001b[43m)\u001b[49m)\n",
      "\u001b[0;31mTypeError\u001b[0m: FuturesOrderManager.submit_order() missing 1 required positional argument: 'side'"
     ]
    }
   ],
   "source": [
    "qty = asyncio.run(obj.get_min_trade_quantity(symbol=symbol))\n",
    "asyncio.run(obj.submit_order(symbol='DOGEUSDT',\n",
    "                             order_type='market',\n",
    "                             quantity=qty))"
   ]
  },
  {
   "cell_type": "code",
   "execution_count": 3,
   "metadata": {},
   "outputs": [
    {
     "data": {
      "text/plain": [
       "{'DOGEUSDT': {'initialMargin': 5.02541,\n",
       "  'maintMargin': 0.02512705,\n",
       "  'unrealizedProfit': 0.00372,\n",
       "  'positionInitialMargin': 5.02541,\n",
       "  'openOrderInitialMargin': 0,\n",
       "  'leverage': 1,\n",
       "  'isolated': True,\n",
       "  'entryPrice': 0.16199,\n",
       "  'breakEvenPrice': 0.162070995,\n",
       "  'maxNotional': 150000000.0,\n",
       "  'positionSide': 'BOTH',\n",
       "  'positionAmt': 31,\n",
       "  'notional': 5.02541,\n",
       "  'isolatedWallet': 5.02500436,\n",
       "  'updateTime': 1730781905303,\n",
       "  'bidNotional': 0,\n",
       "  'askNotional': 0}}"
      ]
     },
     "execution_count": 3,
     "metadata": {},
     "output_type": "execute_result"
    }
   ],
   "source": [
    "asyncio.run(obj.get_account_balance())"
   ]
  },
  {
   "cell_type": "code",
   "execution_count": 8,
   "metadata": {},
   "outputs": [
    {
     "name": "stdout",
     "output_type": "stream",
     "text": [
      "{}\n"
     ]
    }
   ],
   "source": [
    "asyncio.run(obj.submit_close_position(symbol='dogeusdt', order_type='market'))"
   ]
  },
  {
   "cell_type": "code",
   "execution_count": null,
   "metadata": {},
   "outputs": [],
   "source": []
  }
 ],
 "metadata": {
  "kernelspec": {
   "display_name": "ame",
   "language": "python",
   "name": "python3"
  },
  "language_info": {
   "codemirror_mode": {
    "name": "ipython",
    "version": 3
   },
   "file_extension": ".py",
   "mimetype": "text/x-python",
   "name": "python",
   "nbconvert_exporter": "python",
   "pygments_lexer": "ipython3",
   "version": "3.12.2"
  }
 },
 "nbformat": 4,
 "nbformat_minor": 2
}
