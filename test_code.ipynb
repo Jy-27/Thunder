{
 "cells": [
  {
   "cell_type": "code",
   "execution_count": 5,
   "metadata": {},
   "outputs": [
    {
     "name": "stdout",
     "output_type": "stream",
     "text": [
      "OBJ 선언\n",
      "tickers update complete!\n",
      "Kline 전체 update완료\n",
      "kline update complete!\n"
     ]
    }
   ],
   "source": [
    "import asyncio\n",
    "import TradingDataManager\n",
    "import nest_asyncio\n",
    "import utils\n",
    "import numpy as np\n",
    "from typing import Optional, List, Dict, Union\n",
    "\n",
    "nest_asyncio.apply()\n",
    "\n",
    "obj_trading = TradingDataManager.FuturesDataControl()\n",
    "print('OBJ 선언')\n",
    "obj_trading.active_tickers = asyncio.run(obj_trading.fetch_essential_tickers())\n",
    "print('tickers update complete!')\n",
    "asyncio.run(obj_trading.update_all_klines())\n",
    "print('kline update complete!')"
   ]
  },
  {
   "cell_type": "code",
   "execution_count": 8,
   "metadata": {},
   "outputs": [
    {
     "name": "stdout",
     "output_type": "stream",
     "text": [
      "PEOPLEUSDT\n"
     ]
    },
    {
     "ename": "ValueError",
     "evalue": "PEOPLEUSDT - kline 데이터가 유효하지 않음.",
     "output_type": "error",
     "traceback": [
      "\u001b[0;31m---------------------------------------------------------------------------\u001b[0m",
      "\u001b[0;31mValueError\u001b[0m                                Traceback (most recent call last)",
      "Cell \u001b[0;32mIn[8], line 7\u001b[0m\n\u001b[1;32m      5\u001b[0m \u001b[38;5;28;01mfor\u001b[39;00m i \u001b[38;5;129;01min\u001b[39;00m obj\u001b[38;5;241m.\u001b[39mtickers:\n\u001b[1;32m      6\u001b[0m     \u001b[38;5;28mprint\u001b[39m(i)\n\u001b[0;32m----> 7\u001b[0m     \u001b[38;5;28mprint\u001b[39m(\u001b[43mobj\u001b[49m\u001b[38;5;241;43m.\u001b[39;49m\u001b[43mcase1_conditions\u001b[49m\u001b[43m(\u001b[49m\u001b[43mi\u001b[49m\u001b[43m)\u001b[49m)\n",
      "File \u001b[0;32m~/GitHub/Thunder/Analysis.py:211\u001b[0m, in \u001b[0;36mAnalysisManager.case1_conditions\u001b[0;34m(self, ticker)\u001b[0m\n\u001b[1;32m    209\u001b[0m \u001b[38;5;66;03m# 데이터 유효성 점검\u001b[39;00m\n\u001b[1;32m    210\u001b[0m \u001b[38;5;28;01mif\u001b[39;00m \u001b[38;5;129;01mnot\u001b[39;00m \u001b[38;5;28mself\u001b[39m\u001b[38;5;241m.\u001b[39m_validate_kline_data(ticker\u001b[38;5;241m=\u001b[39mticker):\n\u001b[0;32m--> 211\u001b[0m     \u001b[38;5;28;01mraise\u001b[39;00m \u001b[38;5;167;01mValueError\u001b[39;00m(\u001b[38;5;124mf\u001b[39m\u001b[38;5;124m'\u001b[39m\u001b[38;5;132;01m{\u001b[39;00mticker\u001b[38;5;132;01m}\u001b[39;00m\u001b[38;5;124m - kline 데이터가 유효하지 않음.\u001b[39m\u001b[38;5;124m'\u001b[39m)\n\u001b[1;32m    213\u001b[0m ticker_data \u001b[38;5;241m=\u001b[39m \u001b[38;5;28mself\u001b[39m\u001b[38;5;241m.\u001b[39mkline_data\u001b[38;5;241m.\u001b[39mget(ticker, {})\n\u001b[1;32m    214\u001b[0m trend_data_for_high_low \u001b[38;5;241m=\u001b[39m \u001b[38;5;28mself\u001b[39m\u001b[38;5;241m.\u001b[39m_compute_trend_scores(ticker_data\u001b[38;5;241m.\u001b[39mget(trend_check_interval, {}))\n",
      "\u001b[0;31mValueError\u001b[0m: PEOPLEUSDT - kline 데이터가 유효하지 않음."
     ]
    }
   ],
   "source": [
    "import Analysis\n",
    "obj = Analysis.AnalysisManager(kline_data=obj_trading.kline_data,\n",
    "                               intervals=obj_trading.KLINE_INTERVALS,\n",
    "                               tickers=obj_trading.active_tickers)\n",
    "for i in obj.tickers:\n",
    "    print(i)\n",
    "    print(obj.case1_conditions(i))"
   ]
  },
  {
   "cell_type": "code",
   "execution_count": 12,
   "metadata": {},
   "outputs": [],
   "source": [
    "ticker = 'BTCUSDT'\n",
    "kline_data_for_ticker = obj.kline_data.get(ticker, {})\n",
    "\n",
    "# 티커의 kline 데이터가 존재하고 딕셔너리인지 확인\n",
    "if not isinstance(kline_data_for_ticker, dict) or not kline_data_for_ticker:\n",
    "    print(False)\n",
    "\n",
    "# 각 interval의 데이터가 존재하고 올바른지 확인\n",
    "for interval in obj.intervals:\n",
    "    interval_data = kline_data_for_ticker.get(interval, {})\n",
    "    "
   ]
  },
  {
   "cell_type": "code",
   "execution_count": null,
   "metadata": {},
   "outputs": [],
   "source": [
    "obj.kline_data.keys()"
   ]
  },
  {
   "cell_type": "code",
   "execution_count": null,
   "metadata": {},
   "outputs": [],
   "source": []
  }
 ],
 "metadata": {
  "kernelspec": {
   "display_name": "ame",
   "language": "python",
   "name": "python3"
  },
  "language_info": {
   "codemirror_mode": {
    "name": "ipython",
    "version": 3
   },
   "file_extension": ".py",
   "mimetype": "text/x-python",
   "name": "python",
   "nbconvert_exporter": "python",
   "pygments_lexer": "ipython3",
   "version": "3.12.2"
  }
 },
 "nbformat": 4,
 "nbformat_minor": 2
}
