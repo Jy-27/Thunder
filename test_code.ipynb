{
 "cells": [
  {
   "cell_type": "code",
   "execution_count": null,
   "metadata": {},
   "outputs": [],
   "source": [
    "import asyncio\n",
    "import TradingDataManager\n",
    "import nest_asyncio\n",
    "import utils\n",
    "import numpy as np\n",
    "from typing import Optional, List, Dict, Union\n",
    "\n",
    "nest_asyncio.apply()\n",
    "\n",
    "obj_trading = TradingDataManager.FuturesDataControl()\n",
    "print('OBJ 선언')\n",
    "obj_trading.active_tickers = asyncio.run(obj_trading.fetch_essential_tickers())\n",
    "print('tickers update complete!')\n",
    "asyncio.run(obj_trading.update_all_klines())\n",
    "print('kline update complete!')"
   ]
  },
  {
   "cell_type": "code",
   "execution_count": null,
   "metadata": {},
   "outputs": [],
   "source": [
    "import Analysis\n",
    "obj = Analysis.AnalysisManager()\n",
    "obj.update_data(kline_data=obj_trading.kline_data,\n",
    "                 intervals=obj_trading.KLINE_INTERVALS,\n",
    "                 tickers=obj_trading.active_tickers)\n",
    "for ticker in obj.tickers:\n",
    "    check = obj.case1_conditions(ticker)\n",
    "    if check[4]:\n",
    "        print(f'{ticker}-{check}')"
   ]
  },
  {
   "cell_type": "code",
   "execution_count": null,
   "metadata": {},
   "outputs": [],
   "source": []
  }
 ],
 "metadata": {
  "kernelspec": {
   "display_name": "ame",
   "language": "python",
   "name": "python3"
  },
  "language_info": {
   "codemirror_mode": {
    "name": "ipython",
    "version": 3
   },
   "file_extension": ".py",
   "mimetype": "text/x-python",
   "name": "python",
   "nbconvert_exporter": "python",
   "pygments_lexer": "ipython3",
   "version": "3.12.2"
  }
 },
 "nbformat": 4,
 "nbformat_minor": 2
}
