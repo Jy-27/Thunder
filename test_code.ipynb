{
 "cells": [
  {
   "cell_type": "code",
   "execution_count": null,
   "metadata": {},
   "outputs": [],
   "source": [
    "import MarketDataFetcher\n",
    "import asyncio\n",
    "import nest_asyncio\n",
    "import TradingDataManager\n",
    "import datetime\n",
    "import utils\n",
    "from typing import Final, List, Dict\n",
    "nest_asyncio.apply()\n",
    "\n",
    "KLINE_INTERVALS: Final[List] = [\n",
    "    \"3m\", \"5m\", \"15m\", \"30m\",\n",
    "    \"1h\", \"2h\", \"4h\", \"6h\", \"8h\", \"12h\",\n",
    "    \"1d\", \"3d\",\n",
    "    \"1w\",\n",
    "    \"1M\"\n",
    "    ]\n",
    "TICKERS = [\n",
    "    'btcusdt',\n",
    "    'xrpusdt',\n",
    "    'adausdt'\n",
    "    ]\n",
    "\n",
    "data = {}\n",
    "obj = TradingDataManager.FuturesDataControl()"
   ]
  },
  {
   "cell_type": "code",
   "execution_count": null,
   "metadata": {},
   "outputs": [],
   "source": [
    "data = asyncio.run(obj.fetch_historical_kline_hour_min(symbol='btcusdt', interval='3m', start_date=\"2020-1-1 00:00:00\", end_date=datetime.datetime.now()))"
   ]
  },
  {
   "cell_type": "code",
   "execution_count": null,
   "metadata": {},
   "outputs": [],
   "source": [
    "# len(data)\n",
    "for i in data:\n",
    "    start_timestamp = i[6]\n",
    "    print(utils._convert_to_datetime(start_timestamp))"
   ]
  },
  {
   "cell_type": "code",
   "execution_count": 9,
   "metadata": {},
   "outputs": [],
   "source": [
    "import pandas as pd\n",
    "df_ = pd.DataFrame(data)"
   ]
  },
  {
   "cell_type": "code",
   "execution_count": 11,
   "metadata": {},
   "outputs": [],
   "source": [
    "import numpy as np"
   ]
  },
  {
   "cell_type": "code",
   "execution_count": 12,
   "metadata": {},
   "outputs": [],
   "source": [
    "np_data= np.array(data, dtype=float)"
   ]
  },
  {
   "cell_type": "code",
   "execution_count": 14,
   "metadata": {},
   "outputs": [
    {
     "data": {
      "text/plain": [
       "882815"
      ]
     },
     "execution_count": 14,
     "metadata": {},
     "output_type": "execute_result"
    }
   ],
   "source": [
    "len(np_data)"
   ]
  },
  {
   "cell_type": "code",
   "execution_count": 17,
   "metadata": {},
   "outputs": [],
   "source": [
    "last_column_sum = np.sum(np_data[:, -3])"
   ]
  },
  {
   "cell_type": "code",
   "execution_count": 18,
   "metadata": {},
   "outputs": [
    {
     "data": {
      "text/plain": [
       "349311487.76299995"
      ]
     },
     "execution_count": 18,
     "metadata": {},
     "output_type": "execute_result"
    }
   ],
   "source": [
    "last_column_sum"
   ]
  },
  {
   "cell_type": "code",
   "execution_count": 20,
   "metadata": {},
   "outputs": [
    {
     "data": {
      "text/plain": [
       "int"
      ]
     },
     "execution_count": 20,
     "metadata": {},
     "output_type": "execute_result"
    }
   ],
   "source": [
    "type(utils._get_time_component().hour)"
   ]
  },
  {
   "cell_type": "code",
   "execution_count": null,
   "metadata": {},
   "outputs": [],
   "source": []
  }
 ],
 "metadata": {
  "kernelspec": {
   "display_name": "ame",
   "language": "python",
   "name": "python3"
  },
  "language_info": {
   "codemirror_mode": {
    "name": "ipython",
    "version": 3
   },
   "file_extension": ".py",
   "mimetype": "text/x-python",
   "name": "python",
   "nbconvert_exporter": "python",
   "pygments_lexer": "ipython3",
   "version": "3.12.2"
  }
 },
 "nbformat": 4,
 "nbformat_minor": 2
}
