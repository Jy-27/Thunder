{
 "cells": [
  {
   "cell_type": "code",
   "execution_count": null,
   "metadata": {},
   "outputs": [],
   "source": [
    "import numpy as np\n",
    "import os\n",
    "import utils\n",
    "import BackTester\n",
    "import Analysis\n",
    "from typing import Dict, List\n",
    "\n",
    "directory = '/Users/nnn/GitHub/DataStore'\n",
    "\n",
    "path_data = os.path.join(directory, 'merge.json')\n",
    "path_idx = os.path.join(directory, 'indices_data.json')\n",
    "\n",
    "ins_analy = Analysis.AnalysisManager()\n",
    "\n",
    "print('merge_data 로딩 시작.')\n",
    "merge_data = utils._load_json(file_path=path_data)\n",
    "print(f'merge_data 로딩완료 - {len(merge_data)}')\n",
    "print('indices_data 로딩시작.')\n",
    "indices_data = utils._load_json(file_path=path_idx)\n",
    "print(f'indices_data 로딩완료 - {len(indices_data)}')\n",
    "\n",
    "symbols = ['NOTUSDT', 'TIAUSDT', 'FETUSDT', 'XLMUSDT', 'SANDUSDT', 'DOTUSDT', 'ALGOUSDT']\n",
    "\n",
    "obj = BackTester.IntervalKlineExtractor(symbols=symbols, kline_data=merge_data, index_data=indices_data)\n",
    "obj.intervals = ['1m', '5m', '1h']\n",
    "# dummy= obj.generate_real_time_kline(indices_data=indices_data, kline_data=merge_data)"
   ]
  },
  {
   "cell_type": "markdown",
   "metadata": {},
   "source": [
    "START!!\n"
   ]
  },
  {
   "cell_type": "code",
   "execution_count": 1,
   "metadata": {},
   "outputs": [],
   "source": [
    "import BinanceBackTest as BBT\n",
    "import asyncio\n",
    "import nest_asyncio\n",
    "import utils\n",
    "import Analysis\n",
    "\n",
    "nest_asyncio.apply()"
   ]
  },
  {
   "cell_type": "code",
   "execution_count": 2,
   "metadata": {},
   "outputs": [],
   "source": [
    "dummy_symbols = ['BTCUSDT', 'XRPUSDT']\n",
    "dummy_interval = ['1m','3m','5m','1h']\n",
    "dummy_start_date = '2024-11-01 00:00:00'\n",
    "dummy_end_date = '2024-11-10 00:00:00'"
   ]
  },
  {
   "cell_type": "code",
   "execution_count": 3,
   "metadata": {},
   "outputs": [],
   "source": [
    "back_test_obj = BBT.DataManager(symbols=dummy_symbols,\n",
    "                      intervals=dummy_interval,\n",
    "                      start_date=dummy_start_date,\n",
    "                      end_date=dummy_end_date)\n",
    "# kline_data = asyncio.run(back_test_obj.get_futures_kilne_data(symbols=dummy_symbols))\n",
    "# indices_data = back_test_obj.get_matching_indices(kline_data=kline_data)\n",
    "# real_time_data = back_test_obj.generate_real_time_kline_data(indices_data=indices_data, kline_data=kline_data)"
   ]
  },
  {
   "cell_type": "code",
   "execution_count": 4,
   "metadata": {},
   "outputs": [],
   "source": [
    "length, real_data = asyncio.run(back_test_obj.download_data_run())"
   ]
  },
  {
   "cell_type": "code",
   "execution_count": 5,
   "metadata": {},
   "outputs": [
    {
     "data": {
      "text/plain": [
       "12999"
      ]
     },
     "execution_count": 5,
     "metadata": {},
     "output_type": "execute_result"
    }
   ],
   "source": [
    "length"
   ]
  },
  {
   "cell_type": "code",
   "execution_count": null,
   "metadata": {},
   "outputs": [],
   "source": [
    "for i in range(step, target_range, 1):\n",
    "    back_test_obj.get_kline_data_by_range(end_index=i, kline_data=real_time_data, step=step, idx_data=indices_data)\n",
    "    utils._std_print(i)"
   ]
  },
  {
   "cell_type": "code",
   "execution_count": null,
   "metadata": {},
   "outputs": [],
   "source": [
    "real_time_data.get('BTCUSDT').get('3m')"
   ]
  },
  {
   "cell_type": "code",
   "execution_count": null,
   "metadata": {},
   "outputs": [],
   "source": []
  }
 ],
 "metadata": {
  "kernelspec": {
   "display_name": "python",
   "language": "python",
   "name": "python3"
  },
  "language_info": {
   "codemirror_mode": {
    "name": "ipython",
    "version": 3
   },
   "file_extension": ".py",
   "mimetype": "text/x-python",
   "name": "python",
   "nbconvert_exporter": "python",
   "pygments_lexer": "ipython3",
   "version": "3.12.2"
  }
 },
 "nbformat": 4,
 "nbformat_minor": 2
}
