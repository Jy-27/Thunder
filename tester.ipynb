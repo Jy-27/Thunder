{
 "cells": [
  {
   "cell_type": "code",
   "execution_count": 3,
   "metadata": {},
   "outputs": [],
   "source": [
    "import os\n",
    "import asyncio\n",
    "import nest_asyncio\n",
    "import BinanceBackTest\n",
    "import numpy as np\n",
    "import utils\n",
    "\n",
    "nest_asyncio.apply()\n",
    "\n",
    "symbols = ['BTCUSDT', 'ADAUSDT', 'XRPUSDT']\n",
    "intervals = ['1m', '5m', '1h']\n",
    "start_date = '2024-01-01'\n",
    "end_date = '2024-08-28'\n",
    "obj = BinanceBackTest.DataManager(symbols=symbols,\n",
    "                                  intervals=intervals,\n",
    "                                  start_date=start_date,\n",
    "                                  end_date=end_date)\n",
    "kline_data = asyncio.run(obj.generate_kline_interval_data(save=True))\n",
    "kline_data = utils._convert_to_array(kline_data=kline_data)\n",
    "closing_data = obj.generate_kline_closing_sync(kline_data=kline_data, save=True)"
   ]
  },
  {
   "cell_type": "code",
   "execution_count": null,
   "metadata": {},
   "outputs": [],
   "source": []
  },
  {
   "cell_type": "code",
   "execution_count": null,
   "metadata": {},
   "outputs": [],
   "source": [
    "kline_data = asyncio.run(obj.generate_kline_interval_data())\n",
    "kline_data = utils._convert_to_array(kline_data=kline_data)"
   ]
  },
  {
   "cell_type": "code",
   "execution_count": null,
   "metadata": {},
   "outputs": [],
   "source": [
    "objkline_data"
   ]
  },
  {
   "cell_type": "code",
   "execution_count": null,
   "metadata": {},
   "outputs": [],
   "source": [
    "np.sum(output_data[symbol]['1m'][:4], axis=0) -output_data[symbol]['5m'][3]"
   ]
  },
  {
   "cell_type": "code",
   "execution_count": null,
   "metadata": {},
   "outputs": [],
   "source": [
    "np.set_printoptions(suppress=True, precision=20)\n",
    "n = 0\n",
    "# kline_data.round(decimals=3)\n",
    "for i in range(4, 10000, 5):\n",
    "    data = output_data[symbol]['5m'][i]-kline_data[symbol]['5m'][n]\n",
    "    n +=1\n",
    "    print(data[8])\n",
    "    print(f'n - {n}')"
   ]
  },
  {
   "cell_type": "code",
   "execution_count": null,
   "metadata": {},
   "outputs": [],
   "source": [
    "data[8]"
   ]
  },
  {
   "cell_type": "code",
   "execution_count": null,
   "metadata": {},
   "outputs": [],
   "source": []
  }
 ],
 "metadata": {
  "kernelspec": {
   "display_name": "python",
   "language": "python",
   "name": "python3"
  },
  "language_info": {
   "codemirror_mode": {
    "name": "ipython",
    "version": 3
   },
   "file_extension": ".py",
   "mimetype": "text/x-python",
   "name": "python",
   "nbconvert_exporter": "python",
   "pygments_lexer": "ipython3",
   "version": "3.12.2"
  }
 },
 "nbformat": 4,
 "nbformat_minor": 2
}
