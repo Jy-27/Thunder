{
 "cells": [
  {
   "cell_type": "code",
   "execution_count": 1,
   "metadata": {},
   "outputs": [
    {
     "data": {
      "text/plain": [
       "'\\nidx를 넣으면 kline 데이터가 closing_sync_data와 매칭되어 반환되는 함수.\\n'"
      ]
     },
     "execution_count": 1,
     "metadata": {},
     "output_type": "execute_result"
    }
   ],
   "source": [
    "import nest_asyncio\n",
    "import asyncio\n",
    "import BinanceTradeClient\n",
    "import MarketDataFetcher\n",
    "import BinanceBackTest\n",
    "import utils\n",
    "\n",
    "nest_asyncio.apply()\n",
    "\n",
    "obj = BinanceBackTest.DataManager(symbols='BTCUSDT', intervals=['1m','5m', '1h'], start_date='2024-11-01 00:00:00', end_date='2024-11-10 00:00:00')\n",
    "range_length_data, kline_data, indices_data, closing_sync_data = asyncio.run(\n",
    "    obj.read_data_run(download_if_missing=False)\n",
    ")\n",
    "\n",
    "\"\"\"\n",
    "idx를 넣으면 kline 데이터가 closing_sync_data와 매칭되어 반환되는 함수.\n",
    "\"\"\""
   ]
  },
  {
   "cell_type": "code",
   "execution_count": 11,
   "metadata": {},
   "outputs": [],
   "source": [
    "idx = 650\n",
    "# data = obj.sync_kline_data(idx=)\n",
    "data = obj.sync_kline_data(idx=idx, kline_data=kline_data, idx_mapping=indices_data, sync_data=closing_sync_data)\n"
   ]
  },
  {
   "cell_type": "code",
   "execution_count": 12,
   "metadata": {},
   "outputs": [
    {
     "data": {
      "text/plain": [
       "array([1.73249640e+12, 9.77632000e+04, 9.79003000e+04, 9.69299000e+04,\n",
       "       9.71893000e+04, 8.41452500e+03, 1.73250000e+12, 8.18902906e+08,\n",
       "       1.88228000e+05, 3.83872600e+03, 3.73533161e+08, 0.00000000e+00])"
      ]
     },
     "execution_count": 12,
     "metadata": {},
     "output_type": "execute_result"
    }
   ],
   "source": [
    "data.get('BTCUSDT').get('1h')[indices_data[650][2]]"
   ]
  },
  {
   "cell_type": "code",
   "execution_count": 10,
   "metadata": {},
   "outputs": [
    {
     "data": {
      "text/plain": [
       "array([1.73249640e+12, 9.77632000e+04, 9.79003000e+04, 9.69299000e+04,\n",
       "       9.71893000e+04, 8.41452500e+03, 1.73250000e+12, 8.18902906e+08,\n",
       "       1.88228000e+05, 3.83872600e+03, 3.73533161e+08, 0.00000000e+00])"
      ]
     },
     "execution_count": 10,
     "metadata": {},
     "output_type": "execute_result"
    }
   ],
   "source": [
    "closing_sync_data.get('BTCUSDT').get('1h')[650]"
   ]
  },
  {
   "cell_type": "code",
   "execution_count": null,
   "metadata": {},
   "outputs": [],
   "source": []
  }
 ],
 "metadata": {
  "kernelspec": {
   "display_name": "ame",
   "language": "python",
   "name": "python3"
  },
  "language_info": {
   "codemirror_mode": {
    "name": "ipython",
    "version": 3
   },
   "file_extension": ".py",
   "mimetype": "text/x-python",
   "name": "python",
   "nbconvert_exporter": "python",
   "pygments_lexer": "ipython3",
   "version": "3.12.2"
  }
 },
 "nbformat": 4,
 "nbformat_minor": 2
}
