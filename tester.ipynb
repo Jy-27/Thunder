{
 "cells": [
  {
   "cell_type": "code",
   "execution_count": 1,
   "metadata": {},
   "outputs": [],
   "source": [
    "import numpy as np\n",
    "import os\n",
    "import utils"
   ]
  },
  {
   "cell_type": "code",
   "execution_count": 4,
   "metadata": {},
   "outputs": [
    {
     "name": "stdout",
     "output_type": "stream",
     "text": [
      "merge_data 로딩 시작.\n",
      "merge_data 로딩완료 - 7\n",
      "indices_data 로딩시작.\n",
      "indices_data 로딩완료 - 9000\n"
     ]
    }
   ],
   "source": [
    "directory = '/Users/cjupit/Documents/GitHub/DataStore'\n",
    "\n",
    "path_data = os.path.join(directory, 'merge.json')\n",
    "path_idx = os.path.join(directory, 'indices_data.json')\n",
    "\n",
    "print('merge_data 로딩 시작.')\n",
    "merge_data = utils._load_json(file_path=path_data)\n",
    "print(f'merge_data 로딩완료 - {len(merge_data)}')\n",
    "print('indices_data 로딩시작.')\n",
    "indices_data = utils._load_json(file_path=path_idx)\n",
    "print(f'indices_data 로딩완료 - {len(indices_data)}')"
   ]
  },
  {
   "cell_type": "code",
   "execution_count": null,
   "metadata": {},
   "outputs": [],
   "source": [
    "# class >> KlineDataExtractor\n",
    "def generate_real_time_kline(self, indices_data:List[List[int]], kline_data):\n",
    "    target_interval = intervals[0]  #class 반영시 self.intervals[0]으로 전환할 것.\n",
    "    \n",
    "    for symbol, kline_data_symbol in kline_data.items():\n",
    "        dummy_data = {}\n",
    "        for i, data in enumerate(kline_data.get(target_interval)):\n",
    "            interval_map = self.__map_intervals_to_indices(index_values=i)\n",
    "            for interval, kline_data_interval in kline_data_symbol.items():\n",
    "                dummy_data[interval] = []\n",
    "                "
   ]
  },
  {
   "cell_type": "code",
   "execution_count": null,
   "metadata": {},
   "outputs": [],
   "source": [
    "merge_data"
   ]
  }
 ],
 "metadata": {
  "kernelspec": {
   "display_name": "python",
   "language": "python",
   "name": "python3"
  },
  "language_info": {
   "codemirror_mode": {
    "name": "ipython",
    "version": 3
   },
   "file_extension": ".py",
   "mimetype": "text/x-python",
   "name": "python",
   "nbconvert_exporter": "python",
   "pygments_lexer": "ipython3",
   "version": "3.12.2"
  }
 },
 "nbformat": 4,
 "nbformat_minor": 2
}
