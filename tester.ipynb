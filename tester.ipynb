{
 "cells": [
  {
   "cell_type": "code",
   "execution_count": 1,
   "metadata": {},
   "outputs": [],
   "source": [
    "import utils\n",
    "import numpy as np\n",
    "import DataProcess\n",
    "\n",
    "data = utils._load_json(file_path='/Users/cjupit/Documents/GitHub/DataStore/kline_data.json')\n",
    "\n",
    "map_symbol = {}\n",
    "map_interval = {}\n",
    "\n",
    "intervals = list(data.get('BTCUSDT').keys())\n",
    "symbols = list(data.keys())\n",
    "\n",
    "container_ = utils.DataContainer()\n",
    "\n",
    "for idx_i, interval in enumerate(intervals):\n",
    "    map_interval[interval] = idx_i\n",
    "    add_data = []\n",
    "    for idx_s, symbol in enumerate(symbols):\n",
    "        map_symbol[symbol] = idx_s\n",
    "        add_data.append(np.array(object=data[symbol][interval], dtype=np.float32))\n",
    "    \n",
    "    container_.set_data(data_name=f'interval_{interval}', data=add_data)\n",
    "\n",
    "\n",
    "# for interval, data in dummy.items():\n",
    "#     np_array = np.array(object=data, dtype=np.float32)\n",
    "#     container_.set_data(data_name=f'interval_{interval}', data=np_array)\n",
    "    "
   ]
  },
  {
   "cell_type": "code",
   "execution_count": 5,
   "metadata": {},
   "outputs": [
    {
     "ename": "AttributeError",
     "evalue": "No attribute named 'interval_15m'",
     "output_type": "error",
     "traceback": [
      "\u001b[0;31m---------------------------------------------------------------------------\u001b[0m",
      "\u001b[0;31mAttributeError\u001b[0m                            Traceback (most recent call last)",
      "Cell \u001b[0;32mIn[5], line 1\u001b[0m\n\u001b[0;32m----> 1\u001b[0m \u001b[43mcontainer_\u001b[49m\u001b[38;5;241;43m.\u001b[39;49m\u001b[43mget_data\u001b[49m\u001b[43m(\u001b[49m\u001b[38;5;124;43m'\u001b[39;49m\u001b[38;5;124;43minterval_15m\u001b[39;49m\u001b[38;5;124;43m'\u001b[39;49m\u001b[43m)\u001b[49m\n",
      "File \u001b[0;32m~/Documents/GitHub/Thunder/utils.py:334\u001b[0m, in \u001b[0;36mDataContainer.get_data\u001b[0;34m(self, data_name)\u001b[0m\n\u001b[1;32m    332\u001b[0m     \u001b[38;5;28;01mreturn\u001b[39;00m \u001b[38;5;28mgetattr\u001b[39m(\u001b[38;5;28mself\u001b[39m, data_name)\n\u001b[1;32m    333\u001b[0m \u001b[38;5;28;01melse\u001b[39;00m:\n\u001b[0;32m--> 334\u001b[0m     \u001b[38;5;28;01mraise\u001b[39;00m \u001b[38;5;167;01mAttributeError\u001b[39;00m(\u001b[38;5;124mf\u001b[39m\u001b[38;5;124m\"\u001b[39m\u001b[38;5;124mNo attribute named \u001b[39m\u001b[38;5;124m'\u001b[39m\u001b[38;5;132;01m{\u001b[39;00mdata_name\u001b[38;5;132;01m}\u001b[39;00m\u001b[38;5;124m'\u001b[39m\u001b[38;5;124m\"\u001b[39m)\n",
      "\u001b[0;31mAttributeError\u001b[0m: No attribute named 'interval_15m'"
     ]
    }
   ],
   "source": [
    "container_.get_data('interval_15m')"
   ]
  },
  {
   "cell_type": "code",
   "execution_count": null,
   "metadata": {},
   "outputs": [],
   "source": [
    "container_.get_data('interval_1m')"
   ]
  },
  {
   "cell_type": "code",
   "execution_count": null,
   "metadata": {},
   "outputs": [],
   "source": []
  }
 ],
 "metadata": {
  "kernelspec": {
   "display_name": "python",
   "language": "python",
   "name": "python3"
  },
  "language_info": {
   "codemirror_mode": {
    "name": "ipython",
    "version": 3
   },
   "file_extension": ".py",
   "mimetype": "text/x-python",
   "name": "python",
   "nbconvert_exporter": "python",
   "pygments_lexer": "ipython3",
   "version": "3.12.2"
  }
 },
 "nbformat": 4,
 "nbformat_minor": 2
}
