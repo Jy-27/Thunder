{
 "cells": [
  {
   "cell_type": "code",
   "execution_count": 1,
   "metadata": {},
   "outputs": [],
   "source": [
    "import os"
   ]
  },
  {
   "cell_type": "code",
   "execution_count": 4,
   "metadata": {},
   "outputs": [],
   "source": [
    "current_path = os.getcwd()\n",
    "parent_path = os.path.dirname(current_path)\n",
    "DIRECTORY = 'DataStore'\n",
    "path = os.path.join(parent_path, DIRECTORY)"
   ]
  },
  {
   "cell_type": "code",
   "execution_count": 5,
   "metadata": {},
   "outputs": [
    {
     "data": {
      "text/plain": [
       "'/Users/nnn/GitHub/DataStore'"
      ]
     },
     "execution_count": 5,
     "metadata": {},
     "output_type": "execute_result"
    }
   ],
   "source": [
    "path"
   ]
  },
  {
   "cell_type": "code",
   "execution_count": null,
   "metadata": {},
   "outputs": [],
   "source": [
    "import os\n",
    "\n",
    "\n",
    "def get_path(self, direcotry_name:str = 'DataStore')\n",
    "# 현재 작업 디렉토리\n",
    "    current_path = os.getcwd()\n",
    "    # 상위 폴더 경로\n",
    "    parent_path = os.path.dirname(current_path)\n",
    "    # 최종 경로 생성\n",
    "    path = os.path.join(parent_path, direcotry_name)\n",
    "\n",
    "    # 폴더 유효성 확인\n",
    "    if not os.path.exists(path):\n",
    "        print(f\"경로가 존재하지 않습니다: {path}\")\n",
    "    return path\n"
   ]
  }
 ],
 "metadata": {
  "kernelspec": {
   "display_name": "ame",
   "language": "python",
   "name": "python3"
  },
  "language_info": {
   "codemirror_mode": {
    "name": "ipython",
    "version": 3
   },
   "file_extension": ".py",
   "mimetype": "text/x-python",
   "name": "python",
   "nbconvert_exporter": "python",
   "pygments_lexer": "ipython3",
   "version": "3.12.2"
  }
 },
 "nbformat": 4,
 "nbformat_minor": 2
}
