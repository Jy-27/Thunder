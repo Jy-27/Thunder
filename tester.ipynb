{
 "cells": [
  {
   "cell_type": "code",
   "execution_count": 2,
   "metadata": {},
   "outputs": [],
   "source": [
    "import numpy as np"
   ]
  },
  {
   "cell_type": "code",
   "execution_count": 14,
   "metadata": {},
   "outputs": [],
   "source": [
    "def ex(col_idx:int, kline_data_lv2):\n",
    "    column_values = kline_data_lv2[::-1, col_idx]\n",
    "    \n",
    "    diffs = np.diff(column_values)\n",
    "    is_decreasing = diffs < 0\n",
    "    long_point = np.argmax(~is_decreasing) + 1 if np.any(~is_decreasing) else len(column_values)\n",
    "    \n",
    "    is_decreasing = diffs > 0\n",
    "    short_point = np.argmax(~is_decreasing) + 1 if np.any(~is_decreasing) else len(column_values)\n",
    "    \n",
    "    if long_point > short_point:\n",
    "        return (True, long_point)\n",
    "    else:\n",
    "        return (False, short_point)"
   ]
  },
  {
   "cell_type": "code",
   "execution_count": 16,
   "metadata": {},
   "outputs": [
    {
     "name": "stdout",
     "output_type": "stream",
     "text": [
      "(False, 5)\n"
     ]
    }
   ],
   "source": [
    "import numpy as np\n",
    "\n",
    "# 예제 데이터\n",
    "kline_data_lv2 = np.array([\n",
    "    [10, 27, 30],\n",
    "    [9, 24, 29],\n",
    "    [8, 25, 28],\n",
    "    [7, 26, 27],\n",
    "    [6, 27, 26]\n",
    "])\n",
    "\n",
    "result = ex(0, kline_data_lv2)\n",
    "print(result)  # (True, 4) 또는 (False, 2)"
   ]
  },
  {
   "cell_type": "code",
   "execution_count": 17,
   "metadata": {},
   "outputs": [
    {
     "name": "stdout",
     "output_type": "stream",
     "text": [
      "1\n",
      "2\n",
      "3\n",
      "4\n"
     ]
    }
   ],
   "source": [
    "for i in range(1, 5, 1):\n",
    "    print(i)"
   ]
  },
  {
   "cell_type": "code",
   "execution_count": 1,
   "metadata": {},
   "outputs": [],
   "source": [
    "a = {}\n",
    "a['b'] = 1\n",
    "a['c'] = 2"
   ]
  },
  {
   "cell_type": "code",
   "execution_count": 2,
   "metadata": {},
   "outputs": [
    {
     "data": {
      "text/plain": [
       "{'b': 1, 'c': 2}"
      ]
     },
     "execution_count": 2,
     "metadata": {},
     "output_type": "execute_result"
    }
   ],
   "source": [
    "a"
   ]
  },
  {
   "cell_type": "code",
   "execution_count": null,
   "metadata": {},
   "outputs": [],
   "source": []
  }
 ],
 "metadata": {
  "kernelspec": {
   "display_name": "ame",
   "language": "python",
   "name": "python3"
  },
  "language_info": {
   "codemirror_mode": {
    "name": "ipython",
    "version": 3
   },
   "file_extension": ".py",
   "mimetype": "text/x-python",
   "name": "python",
   "nbconvert_exporter": "python",
   "pygments_lexer": "ipython3",
   "version": "3.12.2"
  }
 },
 "nbformat": 4,
 "nbformat_minor": 2
}
