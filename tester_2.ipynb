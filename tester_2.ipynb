{
 "cells": [
  {
   "cell_type": "code",
   "execution_count": 1,
   "metadata": {},
   "outputs": [
    {
     "name": "stdout",
     "output_type": "stream",
     "text": [
      "작업시작 >> 2024-12-09 21:21:28.173591\n",
      "instance 로딩 완료 >> 2024-12-09 21:21:28.177460\n"
     ]
    },
    {
     "data": {
      "text/plain": [
       "{'count': 8,\n",
       " 'targetValue': 640,\n",
       " 'safetyValue': 224.0,\n",
       " 'usableValue': 416.0,\n",
       " 'tradeValue': 52.0}"
      ]
     },
     "execution_count": 1,
     "metadata": {},
     "output_type": "execute_result"
    }
   ],
   "source": [
    "from BinanceBackTest import *\n",
    "import asyncio\n",
    "import nest_asyncio\n",
    "import os\n",
    "import utils\n",
    "from pprint import pprint\n",
    "import Analysis\n",
    "import DataProcess\n",
    "from collections import defaultdict\n",
    "from datetime import datetime\n",
    "\n",
    "nest_asyncio.apply()\n",
    "\n",
    "print(f\"작업시작 >> {datetime.now()}\")\n",
    "\n",
    "# symbols 지정\n",
    "symbols = [\n",
    "    \"BTCUSDT\",\n",
    "    \"XRPUSDT\",\n",
    "    \"ADAUSDT\",\n",
    "    # \"NOTUSDT\",\n",
    "    # \"SANDUSDT\",\n",
    "    # \"ARKMUSDT\",\n",
    "    # \"SOLUSDT\",\n",
    "    \"DOGEUSDT\",\n",
    "]\n",
    "# interval 지정.\n",
    "# intervals = [\"1m\", \"5m\", \"1h\"]\n",
    "intervals = [\"1m\", \"3m\", \"5m\", \"1h\"]\n",
    "\n",
    "# 적용할 데이터의 기간 지정.\n",
    "start_date = \"2024-8-1\"\n",
    "end_date = \"2024-8-7\"\n",
    "\n",
    "\n",
    "print(f\"instance 로딩 완료 >> {datetime.now()}\")\n",
    "obj_process = DataProcess.TradeStopper()\n",
    "obj_analy = Analysis.AnalysisManager(back_test=True)\n",
    "obj_analy.intervals = intervals\n",
    "obj_order = OrderManager()\n",
    "obj_con = DataProcess.OrderConstraint()\n",
    "obj_data = DataManager(symbols=symbols,\n",
    "                       intervals=intervals,\n",
    "                       start_date=start_date,\n",
    "                       end_date=end_date)\n",
    "\n",
    "path = os.path.join(os.path.dirname(os.getcwd()), 'DataStore/closing_sync_data.pkl')\n",
    "# data = utils._load_json(file_path=path)\n",
    "# kline_data = asyncio.run(obj_data.generate_kline_interval_data(save=True))\n",
    "\n",
    "# kline_data = utils._convert_to_array(kline_data=kline_data)\n",
    "# kline_data = obj_data.generate_kline_closing_sync(kline_data=kline_data, save=True)\n",
    "# symbol_map, interval_map, data_c = utils._convert_to_container(kline_data)\n",
    "# obj_data.get_indices_data(data_container=data_c, lookback_days=1)\n",
    "\n",
    "with open(path, 'rb')as file:\n",
    "    data = pickle.load(file)\n",
    "\n",
    "obj_analysis = Analysis.AnalysisManager()\n",
    "\n",
    "\n",
    "\n",
    "trade_data = []\n",
    "\n",
    "#손익비용 저장할 변수\n",
    "pnl_data = defaultdict(float)\n",
    "pnl_count = defaultdict(int)\n",
    "\n",
    "#초기 투자 자본\n",
    "seed_money = 1000\n",
    "\n",
    "# 가장 지갑 생성\n",
    "obj_wallet = WalletManager(initial_fund=seed_money)\n",
    "\n",
    "obj_con.calc_fund(1000)"
   ]
  },
  {
   "cell_type": "code",
   "execution_count": 2,
   "metadata": {},
   "outputs": [],
   "source": [
    "\n",
    "data = data['BTCUSDT']['5m']\n",
    "obj_analysis.case_1_data_length(kline_data_lv3=data)\n",
    "obj_analysis.case_2_candle_length(kline_data_lv3=data)\n",
    "obj_analysis.case_3_continuous_trend_position(kline_data_lv3=data)\n",
    "obj_analysis.case_4_process_neg_counts(kline_data_lv3=data, col=7)\n",
    "obj_analysis.case_5_diff_neg_counts(kline_data_lv3=data, col1=1, col2=4)"
   ]
  },
  {
   "cell_type": "code",
   "execution_count": 3,
   "metadata": {},
   "outputs": [],
   "source": [
    "status, order_signal_open = asyncio.run(\n",
    "    obj_order.generate_order_open_signal(\n",
    "        symbol='XRPUSDT',\n",
    "        position=1,\n",
    "        # position=reset_position,\n",
    "        leverage=5,\n",
    "        balance=52,\n",
    "        entry_price=0.5,\n",
    "        open_timestamp=0,\n",
    "    )\n",
    ")"
   ]
  },
  {
   "cell_type": "code",
   "execution_count": 4,
   "metadata": {},
   "outputs": [
    {
     "data": {
      "text/plain": [
       "({'available_funds': 989.105,\n",
       "  'locked_funds': {'number_of_stocks': 1,\n",
       "   'profit_and_loss': 0.0,\n",
       "   'maintenance_margin': 10.83,\n",
       "   'profit_margin_ratio': 0},\n",
       "  'total_assets': 999.9350000000001},\n",
       " 10.83)"
      ]
     },
     "execution_count": 4,
     "metadata": {},
     "output_type": "execute_result"
    }
   ],
   "source": [
    "order_signal_open\n",
    "obj_process.initialize_trading_data(\n",
    "    symbol='XRPUSDT',\n",
    "    position=order_signal_open[\"position\"],\n",
    "    entry_price=order_signal_open[\"entryPrice\"],\n",
    ")\n",
    "obj_wallet.add_funds(order_signal=order_signal_open)#, fee_cost)"
   ]
  },
  {
   "cell_type": "code",
   "execution_count": 5,
   "metadata": {},
   "outputs": [
    {
     "name": "stdout",
     "output_type": "stream",
     "text": [
      "{'available_funds': 989.105,\n",
      " 'locked_funds': {'maintenance_margin': 10.83,\n",
      "                  'number_of_stocks': 1,\n",
      "                  'profit_and_loss': 0.0,\n",
      "                  'profit_margin_ratio': 0},\n",
      " 'total_assets': 999.9350000000001}\n"
     ]
    }
   ],
   "source": [
    "pprint(obj_wallet.balance_info)\n",
    "trade_data.append(order_signal_open)\n",
    "trade_data.append(obj_wallet.balance_info)"
   ]
  },
  {
   "cell_type": "code",
   "execution_count": 6,
   "metadata": {},
   "outputs": [
    {
     "data": {
      "text/plain": [
       "{'available_funds': 989.105,\n",
       " 'locked_funds': {'number_of_stocks': 1,\n",
       "  'profit_and_loss': 54.15,\n",
       "  'maintenance_margin': 10.83,\n",
       "  'profit_margin_ratio': 5.0},\n",
       " 'total_assets': 1054.085}"
      ]
     },
     "execution_count": 6,
     "metadata": {},
     "output_type": "execute_result"
    }
   ],
   "source": [
    "obj_wallet.get_wallet_status(symbol='XRPUSDT', current_price=1)"
   ]
  },
  {
   "cell_type": "code",
   "execution_count": 7,
   "metadata": {},
   "outputs": [
    {
     "data": {
      "text/plain": [
       "0.0"
      ]
     },
     "execution_count": 7,
     "metadata": {},
     "output_type": "execute_result"
    }
   ],
   "source": [
    "obj_order.get_calc_pnl(current_price=0.5, entry_price=0.5, quantity=109, position='long')"
   ]
  },
  {
   "cell_type": "code",
   "execution_count": 8,
   "metadata": {},
   "outputs": [
    {
     "ename": "AttributeError",
     "evalue": "'OrderManager' object has no attribute 'get_wallet_status'",
     "output_type": "error",
     "traceback": [
      "\u001b[0;31m---------------------------------------------------------------------------\u001b[0m",
      "\u001b[0;31mAttributeError\u001b[0m                            Traceback (most recent call last)",
      "Cell \u001b[0;32mIn[8], line 1\u001b[0m\n\u001b[0;32m----> 1\u001b[0m \u001b[43mobj_order\u001b[49m\u001b[38;5;241;43m.\u001b[39;49m\u001b[43mgenerate_order_close_signal\u001b[49m\u001b[43m(\u001b[49m\n\u001b[1;32m      2\u001b[0m \u001b[43m                \u001b[49m\u001b[43msymbol\u001b[49m\u001b[38;5;241;43m=\u001b[39;49m\u001b[38;5;124;43m'\u001b[39;49m\u001b[38;5;124;43mXRPUSDT\u001b[39;49m\u001b[38;5;124;43m'\u001b[39;49m\u001b[43m,\u001b[49m\n\u001b[1;32m      3\u001b[0m \u001b[43m                \u001b[49m\u001b[43mcurrent_price\u001b[49m\u001b[38;5;241;43m=\u001b[39;49m\u001b[38;5;241;43m0.45\u001b[39;49m\u001b[43m,\u001b[49m\n\u001b[1;32m      4\u001b[0m \u001b[43m                \u001b[49m\u001b[43mwallet_data\u001b[49m\u001b[38;5;241;43m=\u001b[39;49m\u001b[43mobj_wallet\u001b[49m\u001b[38;5;241;43m.\u001b[39;49m\u001b[43maccount_balances\u001b[49m\u001b[43m,\u001b[49m\n\u001b[1;32m      5\u001b[0m \u001b[43m            \u001b[49m\u001b[43m)\u001b[49m\n",
      "File \u001b[0;32m~/Documents/GitHub/Thunder/BinanceBackTest.py:571\u001b[0m, in \u001b[0;36mOrderManager.generate_order_close_signal\u001b[0;34m(self, symbol, current_price, wallet_data, fee)\u001b[0m\n\u001b[1;32m    560\u001b[0m \u001b[38;5;250m\u001b[39m\u001b[38;5;124;03m\"\"\"\u001b[39;00m\n\u001b[1;32m    561\u001b[0m \u001b[38;5;124;03m1. 기능 : 가상의 매각 주문 접수에 따른 매각 시 총 가치를 계산\u001b[39;00m\n\u001b[1;32m    562\u001b[0m \u001b[38;5;124;03m2. 매개변수\u001b[39;00m\n\u001b[0;32m   (...)\u001b[0m\n\u001b[1;32m    568\u001b[0m \u001b[38;5;124;03m    >> 별다른 신호를 발생하는 것이 아닌, 손익 관련 계산값만 반환함.\u001b[39;00m\n\u001b[1;32m    569\u001b[0m \u001b[38;5;124;03m\"\"\"\u001b[39;00m\n\u001b[1;32m    570\u001b[0m \u001b[38;5;66;03m# 대상 심볼 데이터 가져오기\u001b[39;00m\n\u001b[0;32m--> 571\u001b[0m \u001b[38;5;28;43mself\u001b[39;49m\u001b[38;5;241;43m.\u001b[39;49m\u001b[43mget_wallet_status\u001b[49m(symbol\u001b[38;5;241m=\u001b[39msymbol, current_price\u001b[38;5;241m=\u001b[39mcurrent_price)\n\u001b[1;32m    572\u001b[0m target_data \u001b[38;5;241m=\u001b[39m wallet_data\u001b[38;5;241m.\u001b[39mget(symbol)\n\u001b[1;32m    573\u001b[0m \u001b[38;5;28;01mif\u001b[39;00m \u001b[38;5;129;01mnot\u001b[39;00m \u001b[38;5;28misinstance\u001b[39m(target_data, \u001b[38;5;28mdict\u001b[39m) \u001b[38;5;129;01mor\u001b[39;00m \u001b[38;5;129;01mnot\u001b[39;00m target_data:\n",
      "\u001b[0;31mAttributeError\u001b[0m: 'OrderManager' object has no attribute 'get_wallet_status'"
     ]
    }
   ],
   "source": [
    "obj_order.generate_order_close_signal(\n",
    "                symbol='XRPUSDT',\n",
    "                current_price=0.45,\n",
    "                wallet_data=obj_wallet.account_balances,\n",
    "            )"
   ]
  },
  {
   "cell_type": "code",
   "execution_count": 9,
   "metadata": {},
   "outputs": [
    {
     "data": {
      "text/plain": [
       "({'available_funds': 1054.23065,\n",
       "  'locked_funds': {'number_of_stocks': 0,\n",
       "   'profit_and_loss': 0,\n",
       "   'maintenance_margin': 0,\n",
       "   'profit_margin_ratio': 0},\n",
       "  'total_assets': 1054.23065},\n",
       " 54.35)"
      ]
     },
     "execution_count": 9,
     "metadata": {},
     "output_type": "execute_result"
    }
   ],
   "source": [
    "obj_wallet.remove_funds('XRPUSDT')"
   ]
  },
  {
   "cell_type": "code",
   "execution_count": null,
   "metadata": {},
   "outputs": [],
   "source": [
    "order_signal_open"
   ]
  },
  {
   "cell_type": "code",
   "execution_count": null,
   "metadata": {},
   "outputs": [],
   "source": [
    "print(obj_process.__dict__)\n",
    "obj_process.remove_trading_data('XRPUSDT')\n",
    "obj_process.__dict__"
   ]
  },
  {
   "cell_type": "code",
   "execution_count": null,
   "metadata": {},
   "outputs": [],
   "source": [
    "obj_process.__dict__"
   ]
  },
  {
   "cell_type": "code",
   "execution_count": null,
   "metadata": {},
   "outputs": [],
   "source": []
  }
 ],
 "metadata": {
  "kernelspec": {
   "display_name": "python",
   "language": "python",
   "name": "python3"
  },
  "language_info": {
   "codemirror_mode": {
    "name": "ipython",
    "version": 3
   },
   "file_extension": ".py",
   "mimetype": "text/x-python",
   "name": "python",
   "nbconvert_exporter": "python",
   "pygments_lexer": "ipython3",
   "version": "3.12.2"
  }
 },
 "nbformat": 4,
 "nbformat_minor": 2
}
