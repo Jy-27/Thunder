{
 "cells": [
  {
   "cell_type": "code",
   "execution_count": 37,
   "metadata": {},
   "outputs": [],
   "source": [
    "from dataclasses import dataclass, field\n",
    "from typing import Optional, Union, get_args, Dict\n",
    "\n",
    "@dataclass\n",
    "class TradeOrder:\n",
    "    symbol: str\n",
    "    tradeTimestamp: int\n",
    "    entry_price: Union[float, int]\n",
    "    position: int\n",
    "    quantity: float\n",
    "    leverage: int\n",
    "    fee_rate: float = 0.05\n",
    "    current_price: Optional[Union[float, int]] = None\n",
    "    break_event_price: Optional[float] = None\n",
    "    fee_open: Optional[Union[float, int]] = None\n",
    "    fee_close: Optional[Union[float, int]] = None\n",
    "    memo: Optional[str] = None\n",
    "\n",
    "    def __post_init__(self):\n",
    "        # 자동화된 타입 검증\n",
    "        for field in fields(self):\n",
    "            value = getattr(self, field.name)\n",
    "            if value is not None:\n",
    "                if hasattr(field.type, '__origin__'):  # 복합 타입 (e.g., Union)\n",
    "                    expected_types = get_args(field.type)\n",
    "                else:  # 기본 타입 (e.g., str, int, float)\n",
    "                    expected_types = (field.type,)\n",
    "                \n",
    "                if not isinstance(value, expected_types):\n",
    "                    raise ValueError(f\"{field.name} 값 입력 오류: {value} / 기대 타입 {expected_types}\")\n",
    "        \n",
    "        # current_price 초기값 설정\n",
    "        if self.current_price is None:\n",
    "            self.current_price = self.entry_price\n",
    "        \n",
    "        # 레버리지 값 검증\n",
    "        if self.leverage <= 0:\n",
    "            raise ValueError(f\"레버리지는 최소 1 이상이어야 합니다. 현재 값: {self.leverage}\")\n",
    "        \n",
    "        # 초기 수수료 계산\n",
    "        self.__update_fee()\n",
    "    \n",
    "    def __update_fee(self):\n",
    "        \"\"\"수수료를 계산하여 업데이트\"\"\"\n",
    "        adjusted_fee_rate = self.fee_rate / 1_000  # self.fee_rate 사용\n",
    "        self.fee_open = self.entry_price * adjusted_fee_rate * self.quantity\n",
    "        self.fee_close = self.current_price * adjusted_fee_rate * self.quantity\n",
    "        self.break_event_price = self.entry_price + self.fee_open\n",
    "\n",
    "    def update_current_price(self, current_price: float):\n",
    "        \"\"\"현재 가격 업데이트 및 수수료 재계산\"\"\"\n",
    "        self.current_price = current_price\n",
    "        self.__update_fee()\n",
    "    \n",
    "    def __repr__(self):\n",
    "        \"\"\"사용자 정의 출력 형식\"\"\"\n",
    "        return (\n",
    "            f\"TradeOrder(symbol='{self.symbol}', tradeTimestamp={self.tradeTimestamp}, \"\n",
    "            f\"entry_price={self.entry_price:.6f}, position={self.position}, quantity={self.quantity}, \"\n",
    "            f\"leverage={self.leverage}, fee_rate={self.fee_rate}, current_price={self.current_price:.6f}, \"\n",
    "            f\"break_event_price={self.break_event_price}, fee_open={self.fee_open:.6f}, \"\n",
    "            f\"fee_close={self.fee_close:.6f}, memo={self.memo})\"\n",
    "        )"
   ]
  },
  {
   "cell_type": "code",
   "execution_count": 38,
   "metadata": {},
   "outputs": [
    {
     "name": "stdout",
     "output_type": "stream",
     "text": [
      "{'timestamp': 1630000000, 'value': '1m_data'}\n"
     ]
    }
   ],
   "source": [
    "@dataclass(slots=True)\n",
    "class DynamicDataStore:\n",
    "    intervals: dict = field(default_factory=dict)  # 동적 간격 관리\n",
    "\n",
    "# 사용 예시\n",
    "data_store = DynamicDataStore()\n",
    "data_store.intervals['1m'] = {\"timestamp\": 1630000000, \"value\": \"1m_data\"}\n",
    "print(data_store.intervals['1m'])  # {'timestamp': 1630000000, 'value': '1m_data'}"
   ]
  },
  {
   "cell_type": "code",
   "execution_count": 29,
   "metadata": {},
   "outputs": [],
   "source": [
    "xrpusdt_.update_current_price(current_price=1.15)"
   ]
  },
  {
   "cell_type": "code",
   "execution_count": 31,
   "metadata": {},
   "outputs": [
    {
     "data": {
      "text/plain": [
       "TradeOrder(symbol='XRPUSDT', tradeTimestamp=12, entry_price=1.256300, position=5, quantity=9.6, leverage=5, fee_rate=0.05, current_price=1.150000, break_event_price=1.2569030239999999, fee_open=0.000603, fee_close=0.000552, memo=None)"
      ]
     },
     "execution_count": 31,
     "metadata": {},
     "output_type": "execute_result"
    }
   ],
   "source": [
    "xrpusdt_"
   ]
  },
  {
   "cell_type": "code",
   "execution_count": null,
   "metadata": {},
   "outputs": [],
   "source": [
    ">>> asyncio.run(obj.submit_order(symbol='ADAUSDT', side='SELL', price=1.015, quantity=5, order_type='STOP_MARKET'))\n",
    "{'orderId': 46915674924, 'symbol': 'ADAUSDT', 'status': 'NEW', 'clientOrderId': '8GSV2rVnGLMBnO4HDwSb1Y', 'price': '0.00000', 'avgPrice': '0.00', 'origQty': '5', 'executedQty': '0', 'cumQty': '0', 'cumQuote': '0.00000', 'timeInForce': 'GTC', 'type': 'STOP_MARKET', 'reduceOnly': False, 'closePosition': False, 'side': 'SELL', 'positionSide': 'BOTH', 'stopPrice': '1.01500', 'workingType': 'CONTRACT_PRICE', 'priceProtect': False, 'origType': 'STOP_MARKET', 'priceMatch': 'NONE', 'selfTradePreventionMode': 'EXPIRE_MAKER', 'goodTillDate': 0, 'updateTime': 1733915429075}\n",
    ">>> asyncio.run(obj.submit_order(symbol='ADAUSDT', side='SELL', quantity=5, order_type='MARKET'))\n",
    "{'orderId': 46916207450, 'symbol': 'ADAUSDT', 'status': 'NEW', 'clientOrderId': '476bSE3TUnGfOp6AsVCq12', 'price': '0.00000', 'avgPrice': '0.00', 'origQty': '5', 'executedQty': '0', 'cumQty': '0', 'cumQuote': '0.00000', 'timeInForce': 'GTC', 'type': 'MARKET', 'reduceOnly': False, 'closePosition': False, 'side': 'SELL', 'positionSide': 'BOTH', 'stopPrice': '0.00000', 'workingType': 'CONTRACT_PRICE', 'priceProtect': False, 'origType': 'MARKET', 'priceMatch': 'NONE', 'selfTradePreventionMode': 'EXPIRE_MAKER', 'goodTillDate': 0, 'updateTime': 1733916764850}\n",
    ">>>"
   ]
  }
 ],
 "metadata": {
  "kernelspec": {
   "display_name": "python",
   "language": "python",
   "name": "python3"
  },
  "language_info": {
   "codemirror_mode": {
    "name": "ipython",
    "version": 3
   },
   "file_extension": ".py",
   "mimetype": "text/x-python",
   "name": "python",
   "nbconvert_exporter": "python",
   "pygments_lexer": "ipython3",
   "version": "3.12.2"
  }
 },
 "nbformat": 4,
 "nbformat_minor": 2
}
