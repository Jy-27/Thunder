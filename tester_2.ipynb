{
 "cells": [
  {
   "cell_type": "code",
   "execution_count": 6,
   "metadata": {},
   "outputs": [],
   "source": [
    "import utils\n",
    "from pprint import pprint\n",
    "import numpy as np\n",
    "\n",
    "data = utils._load_json('202.json')"
   ]
  },
  {
   "cell_type": "code",
   "execution_count": null,
   "metadata": {},
   "outputs": [],
   "source": [
    "for array_data in data[0].get('closed_positions')['DOGEUSDT']:\n",
    "    # array_data = np.array(i)\n",
    "    # min_idx = np.argmin(array_data[:, 10])\n",
    "    start_date = utils._convert_to_datetime(array_data[0])\n",
    "    end_date = utils._convert_to_datetime(array_data[7])\n",
    "    \n",
    "    entry_price = array_data[8]\n",
    "    exit_price = array_data[9]\n",
    "    print(entry_price)\n",
    "    \n",
    "    # if all_data[symbol][2] == 1:\n",
    "    #     pnl_percent = ((exit_price-entry_price) / entry_price)* 100\n",
    "    # else:\n",
    "    #     pnl_percent = ((entry_price-exit_price) / entry_price) * 100\n",
    "    \n",
    "    print('='* 20)\n",
    "    print(symbol)\n",
    "    print(min_idx)\n",
    "    print(f'position : {array_data[2]}')\n",
    "    print(f'START : {start_date}')\n",
    "    print(f'START : {end_date}')\n",
    "    print(f'PNL : {array_data[-5]:.2f} USDT')\n",
    "    print('='* 20)\n",
    "    print(array_data)\n",
    "    print('\\n')    \n",
    "    "
   ]
  },
  {
   "cell_type": "code",
   "execution_count": 5,
   "metadata": {},
   "outputs": [],
   "source": [
    "all_data = data[0].get('closed_positions')"
   ]
  },
  {
   "cell_type": "code",
   "execution_count": null,
   "metadata": {},
   "outputs": [],
   "source": [
    "(all_data['DOGEUSDT'][50][8] -all_data['DOGEUSDT'][50][9]) /all_data['DOGEUSDT'][50][8]"
   ]
  },
  {
   "cell_type": "code",
   "execution_count": null,
   "metadata": {},
   "outputs": [],
   "source": []
  },
  {
   "cell_type": "code",
   "execution_count": 1,
   "metadata": {},
   "outputs": [],
   "source": [
    "import datetime"
   ]
  },
  {
   "cell_type": "code",
   "execution_count": 2,
   "metadata": {},
   "outputs": [
    {
     "data": {
      "text/plain": [
       "datetime.datetime(2024, 12, 23, 19, 10, 45, 97098)"
      ]
     },
     "execution_count": 2,
     "metadata": {},
     "output_type": "execute_result"
    }
   ],
   "source": [
    "datetime.datetime.now()"
   ]
  },
  {
   "cell_type": "code",
   "execution_count": 3,
   "metadata": {},
   "outputs": [],
   "source": [
    "import time"
   ]
  },
  {
   "cell_type": "code",
   "execution_count": 6,
   "metadata": {},
   "outputs": [],
   "source": [
    "        million_seconds = 1_000\n",
    "        timestamp_now = int(time.time() * million_seconds)"
   ]
  },
  {
   "cell_type": "code",
   "execution_count": 7,
   "metadata": {},
   "outputs": [
    {
     "data": {
      "text/plain": [
       "1734948782143"
      ]
     },
     "execution_count": 7,
     "metadata": {},
     "output_type": "execute_result"
    }
   ],
   "source": [
    "timestamp_now"
   ]
  },
  {
   "cell_type": "code",
   "execution_count": 9,
   "metadata": {},
   "outputs": [],
   "source": [
    "a = []"
   ]
  },
  {
   "cell_type": "code",
   "execution_count": 10,
   "metadata": {},
   "outputs": [
    {
     "data": {
      "text/plain": [
       "True"
      ]
     },
     "execution_count": 10,
     "metadata": {},
     "output_type": "execute_result"
    }
   ],
   "source": [
    "a == []"
   ]
  },
  {
   "cell_type": "code",
   "execution_count": 11,
   "metadata": {},
   "outputs": [
    {
     "data": {
      "text/plain": [
       "300000"
      ]
     },
     "execution_count": 11,
     "metadata": {},
     "output_type": "execute_result"
    }
   ],
   "source": [
    "60*5*1000"
   ]
  },
  {
   "cell_type": "code",
   "execution_count": 13,
   "metadata": {},
   "outputs": [],
   "source": [
    "adjust_interval = '3m'\n",
    "INTERVAL_MS_SECONDS: dict ={\n",
    "    '1m': 60_000,\n",
    "    '3m': 180_000,\n",
    "    '5m': 300_000,\n",
    "    '15m': 900_000,\n",
    "    '30m': 1_800_000,\n",
    "    '1h': 3_600_000,\n",
    "    '2h': 7_200_000,\n",
    "    '4h': 14_400_000,\n",
    "    '6h': 21_600_000,\n",
    "    '8h': 28_800_000,\n",
    "    '12h': 43_200_000,\n",
    "    '1d': 86_400_000,\n",
    "    '3d': 259_200_000,\n",
    "    '1w': 604_800_000,\n",
    "    '1M': 2_592_000_000\n",
    "    }\n",
    "\n",
    "if adjust_interval not in INTERVAL_MS_SECONDS:\n",
    "    raise ValueError(f\"adjust_interval 값이 유효하지 않음 : {adjust_interval}\")"
   ]
  },
  {
   "cell_type": "code",
   "execution_count": 17,
   "metadata": {},
   "outputs": [
    {
     "data": {
      "text/plain": [
       "1"
      ]
     },
     "execution_count": 17,
     "metadata": {},
     "output_type": "execute_result"
    }
   ],
   "source": [
    "int(1.1)"
   ]
  },
  {
   "cell_type": "code",
   "execution_count": null,
   "metadata": {},
   "outputs": [],
   "source": []
  }
 ],
 "metadata": {
  "kernelspec": {
   "display_name": "python",
   "language": "python",
   "name": "python3"
  },
  "language_info": {
   "codemirror_mode": {
    "name": "ipython",
    "version": 3
   },
   "file_extension": ".py",
   "mimetype": "text/x-python",
   "name": "python",
   "nbconvert_exporter": "python",
   "pygments_lexer": "ipython3",
   "version": "3.12.2"
  }
 },
 "nbformat": 4,
 "nbformat_minor": 2
}
