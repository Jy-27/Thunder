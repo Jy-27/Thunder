{
 "cells": [
  {
   "cell_type": "code",
   "execution_count": 1,
   "metadata": {},
   "outputs": [
    {
     "name": "stdout",
     "output_type": "stream",
     "text": [
      "작업시작 >> 2024-12-09 07:28:00.232926\n",
      "instance 로딩 완료 >> 2024-12-09 07:28:00.233303\n",
      "START\n"
     ]
    }
   ],
   "source": [
    "from BinanceBackTest import *\n",
    "import asyncio\n",
    "import nest_asyncio\n",
    "import os\n",
    "import utils\n",
    "from pprint import pprint\n",
    "import Analysis\n",
    "import DataProcess\n",
    "from collections import defaultdict\n",
    "from datetime import datetime\n",
    "\n",
    "nest_asyncio.apply()\n",
    "\n",
    "print(f\"작업시작 >> {datetime.now()}\")\n",
    "\n",
    "# symbols 지정\n",
    "symbols = [\n",
    "    \"BTCUSDT\",\n",
    "    \"XRPUSDT\",\n",
    "    \"ADAUSDT\",\n",
    "    # \"NOTUSDT\",\n",
    "    # \"SANDUSDT\",\n",
    "    # \"ARKMUSDT\",\n",
    "    # \"SOLUSDT\",\n",
    "    \"DOGEUSDT\",\n",
    "]\n",
    "# interval 지정.\n",
    "# intervals = [\"1m\", \"5m\", \"1h\"]\n",
    "intervals = [\"1m\", \"3m\", \"5m\", \"1h\"]\n",
    "\n",
    "# 적용할 데이터의 기간 지정.\n",
    "start_date = \"2024-8-1\"\n",
    "end_date = \"2024-8-7\"\n",
    "\n",
    "\n",
    "print(f\"instance 로딩 완료 >> {datetime.now()}\")\n",
    "obj_process = DataProcess.TradeStopper()\n",
    "obj_analy = Analysis.AnalysisManager(back_test=True)\n",
    "obj_analy.intervals = intervals\n",
    "obj_order = OrderManager()\n",
    "obj_con = DataProcess.OrderConstraint()\n",
    "obj_data = DataManager(symbols=symbols,\n",
    "                       intervals=intervals,\n",
    "                       start_date=start_date,\n",
    "                       end_date=end_date)\n",
    "\n",
    "# path = os.path.join(os.path.dirname(os.getcwd()), 'DataStore/kline_data.json')\n",
    "# data = utils._load_json(file_path=path)\n",
    "kline_data = asyncio.run(obj_data.generate_kline_interval_data(save=True))\n",
    "\n",
    "kline_data = utils._convert_to_array(kline_data=kline_data)\n",
    "kline_data = obj_data.generate_kline_closing_sync(kline_data=kline_data, save=True)\n",
    "symbol_map, interval_map, data_c = utils._convert_to_container(kline_data)\n",
    "obj_data.get_indices_data(data_container=data_c, lookback_days=1)\n",
    "\n",
    "obj_analysis = Analysis.AnalysisManager()\n",
    "\n",
    "\n",
    "\n",
    "trade_data = []\n",
    "\n",
    "#손익비용 저장할 변수\n",
    "pnl_data = defaultdict(float)\n",
    "pnl_count = defaultdict(int)\n",
    "\n",
    "#초기 투자 자본\n",
    "seed_money = 1000\n",
    "\n",
    "# 가장 지갑 생성\n",
    "obj_wallet = WalletManager(initial_fund=seed_money)"
   ]
  },
  {
   "cell_type": "code",
   "execution_count": 2,
   "metadata": {},
   "outputs": [],
   "source": [
    "status, order_signal_open = asyncio.run(\n",
    "    obj_order.generate_order_open_signal(\n",
    "        symbol='XRPUSDT',\n",
    "        position=1,\n",
    "        # position=reset_position,\n",
    "        leverage=5,\n",
    "        balance=10,\n",
    "        entry_price=0.5,\n",
    "        open_timestamp=0,\n",
    "    )\n",
    ")"
   ]
  },
  {
   "cell_type": "code",
   "execution_count": 3,
   "metadata": {},
   "outputs": [
    {
     "data": {
      "text/plain": [
       "({'available_funds': 998.08,\n",
       "  'locked_funds': {'number_of_stocks': 1,\n",
       "   'profit_and_loss': 0.0,\n",
       "   'maintenance_margin': 1.92,\n",
       "   'profit_margin_ratio': 0},\n",
       "  'total_assets': 999.9875},\n",
       " 1.92)"
      ]
     },
     "execution_count": 3,
     "metadata": {},
     "output_type": "execute_result"
    }
   ],
   "source": [
    "order_signal_open\n",
    "obj_process.initialize_trading_data(\n",
    "    symbol='XRPUSDT',\n",
    "    position=order_signal_open[\"position\"],\n",
    "    entry_price=order_signal_open[\"entryPrice\"],\n",
    ")\n",
    "obj_wallet.add_funds(order_signal=order_signal_open)#, fee_cost)"
   ]
  },
  {
   "cell_type": "code",
   "execution_count": 4,
   "metadata": {},
   "outputs": [
    {
     "name": "stdout",
     "output_type": "stream",
     "text": [
      "{'available_funds': 998.08,\n",
      " 'locked_funds': {'maintenance_margin': 1.92,\n",
      "                  'number_of_stocks': 1,\n",
      "                  'profit_and_loss': 0.0,\n",
      "                  'profit_margin_ratio': 0},\n",
      " 'total_assets': 999.9875}\n"
     ]
    }
   ],
   "source": [
    "pprint(obj_wallet.balance_info)\n",
    "trade_data.append(order_signal_open)\n",
    "trade_data.append(obj_wallet.balance_info)"
   ]
  },
  {
   "cell_type": "code",
   "execution_count": 5,
   "metadata": {},
   "outputs": [
    {
     "data": {
      "text/plain": [
       "{'symbol': 'XRPUSDT',\n",
       " 'tradeTimestamp': 0,\n",
       " 'tradeDate': '1970-01-01 09:00:00',\n",
       " 'entryPrice': 0.5,\n",
       " 'currentPrice': 0.5,\n",
       " 'position': 'LONG',\n",
       " 'quantity': 19.2,\n",
       " 'margin': 1.92,\n",
       " 'breakEventPrice': 0.50025,\n",
       " 'leverage': 5,\n",
       " 'liq.Price': 0.45,\n",
       " 'fee_cost': 0.0125,\n",
       " 'memo': None}"
      ]
     },
     "execution_count": 5,
     "metadata": {},
     "output_type": "execute_result"
    }
   ],
   "source": [
    "order_signal_open"
   ]
  },
  {
   "cell_type": "code",
   "execution_count": 10,
   "metadata": {},
   "outputs": [
    {
     "data": {
      "text/plain": [
       "{'available_funds': 998.08,\n",
       " 'locked_funds': {'number_of_stocks': 1,\n",
       "  'profit_and_loss': 0.0,\n",
       "  'maintenance_margin': 1.92,\n",
       "  'profit_margin_ratio': 0},\n",
       " 'total_assets': 1000.0}"
      ]
     },
     "execution_count": 10,
     "metadata": {},
     "output_type": "execute_result"
    }
   ],
   "source": [
    "obj_wallet.get_wallet_status(symbol='XRPUSDT', current_price=0.5)"
   ]
  },
  {
   "cell_type": "code",
   "execution_count": 11,
   "metadata": {},
   "outputs": [
    {
     "data": {
      "text/plain": [
       "{'available_funds': 998.08,\n",
       " 'locked_funds': {'number_of_stocks': 1,\n",
       "  'profit_and_loss': 0.0,\n",
       "  'maintenance_margin': 1.92,\n",
       "  'profit_margin_ratio': 0},\n",
       " 'total_assets': 1000.0}"
      ]
     },
     "execution_count": 11,
     "metadata": {},
     "output_type": "execute_result"
    }
   ],
   "source": [
    "obj_wallet.balance_info"
   ]
  },
  {
   "cell_type": "code",
   "execution_count": null,
   "metadata": {},
   "outputs": [],
   "source": [
    "c.get_data('interval_3m')"
   ]
  },
  {
   "cell_type": "code",
   "execution_count": null,
   "metadata": {},
   "outputs": [],
   "source": [
    "symbol = 'BTCUSDT'\n",
    "target_interval = '3m'\n",
    "\n",
    "symbols = list(kline_data.keys())\n",
    "interval = list(kline_data[symbols[0]].keys())\n",
    "\n",
    "result = {}\n",
    "empty_data = []\n",
    "for i in kline_data[symbol][target_interval]:\n",
    "    open_timestamp = i[0]\n",
    "    close_timestamp = i[6]\n",
    "    condition = np.where((\n",
    "        kline_data[symbol]['1m'][:,0]>=open_timestamp)&\n",
    "    (kline_data[symbol]['1m'][:,6]<=close_timestamp))[0]\n",
    "    for n in condition:\n",
    "        if n == condition[-1]:\n",
    "            empty_data.append(i)\n",
    "            continue\n",
    "        if n == condition[0]:\n",
    "            new_data = [\n",
    "                open_timestamp,\n",
    "                kline_data[symbol]['1m'][n][1],\n",
    "                kline_data[symbol]['1m'][n][2],\n",
    "                kline_data[symbol]['1m'][n][3],\n",
    "                kline_data[symbol]['1m'][n][4],\n",
    "                kline_data[symbol]['1m'][n][5],\n",
    "                close_timestamp,\n",
    "                kline_data[symbol]['1m'][n][7],\n",
    "                kline_data[symbol]['1m'][n][8],\n",
    "                kline_data[symbol]['1m'][n][9],\n",
    "                kline_data[symbol]['1m'][n][10],\n",
    "                0,\n",
    "            ]\n",
    "        else:\n",
    "            new_data = [\n",
    "                open_timestamp,\n",
    "                kline_data[symbol]['1m'][n][1],\n",
    "                max(kline_data[symbol]['1m'][n][2], empty_data[-1][2]),\n",
    "                min(kline_data[symbol]['1m'][n][3], empty_data[-1][3]),\n",
    "                kline_data[symbol]['1m'][n][4],\n",
    "                kline_data[symbol]['1m'][n][5] + empty_data[-1][5],\n",
    "                close_timestamp,\n",
    "                kline_data[symbol]['1m'][n][7] + empty_data[-1][7],\n",
    "                kline_data[symbol]['1m'][n][8] + empty_data[-1][8],\n",
    "                kline_data[symbol]['1m'][n][9] + empty_data[-1][9],\n",
    "                kline_data[symbol]['1m'][n][10] + empty_data[-1][10],\n",
    "                0,\n",
    "            ]\n",
    "        empty_data.append(new_data)"
   ]
  },
  {
   "cell_type": "code",
   "execution_count": null,
   "metadata": {},
   "outputs": [],
   "source": [
    "n"
   ]
  },
  {
   "cell_type": "code",
   "execution_count": null,
   "metadata": {},
   "outputs": [],
   "source": [
    "import utils\n",
    "\n",
    "symbol = 'BTCUSDT'\n",
    "target_interval = '3m'\n",
    "\n",
    "symbols = list(kline_data.keys())\n",
    "interval = list(kline_data[symbols[0]].keys())\n",
    "\n",
    "result = {}\n",
    "\n",
    "# convert_data = self.convert_kline_data_array(kline_data=kline_data)\n",
    "obj = utils.DataContainer()\n",
    "\n",
    "main_data = []\n",
    "for symbol, kline_data_symbol in kline_data.items():\n",
    "    a_ = [kline_data[symbol][intervals[0]]]\n",
    "    for interval, _ in kline_data_symbol.items():\n",
    "        if interval == intervals[0]:\n",
    "            continue\n",
    "        d_ = []\n",
    "        for i in dummy[symbol][target_interval]:\n",
    "            open_timestamp = i[0]\n",
    "            close_timestamp = i[6]\n",
    "            condition = np.where((\n",
    "                dummy[symbol]['1m'][:,0]>=open_timestamp)&\n",
    "            (dummy[symbol]['1m'][:,6]<=close_timestamp))[0]\n",
    "            for n in condition:\n",
    "                if n == condition[-1]:\n",
    "                    empty_data.append(i)\n",
    "                    continue\n",
    "                if n == condition[0]:\n",
    "                    new_data = [\n",
    "                        open_timestamp,\n",
    "                        dummy[symbol]['1m'][n][1],\n",
    "                        dummy[symbol]['1m'][n][2],\n",
    "                        dummy[symbol]['1m'][n][3],\n",
    "                        dummy[symbol]['1m'][n][4],\n",
    "                        dummy[symbol]['1m'][n][5],\n",
    "                        close_timestamp,\n",
    "                        dummy[symbol]['1m'][n][7],\n",
    "                        dummy[symbol]['1m'][n][8],\n",
    "                        dummy[symbol]['1m'][n][9],\n",
    "                        dummy[symbol]['1m'][n][10],\n",
    "                        0,\n",
    "                    ]\n",
    "                else:\n",
    "                    new_data = [\n",
    "                        open_timestamp,\n",
    "                        dummy[symbol]['1m'][n][1],\n",
    "                        max(dummy[symbol]['1m'][n][2], empty_data[-1][2]),\n",
    "                        min(dummy[symbol]['1m'][n][3], empty_data[-1][3]),\n",
    "                        dummy[symbol]['1m'][n][4],\n",
    "                        dummy[symbol]['1m'][n][5] + empty_data[-1][5],\n",
    "                        close_timestamp,\n",
    "                        dummy[symbol]['1m'][n][7] + empty_data[-1][7],\n",
    "                        dummy[symbol]['1m'][n][8] + empty_data[-1][8],\n",
    "                        dummy[symbol]['1m'][n][9] + empty_data[-1][9],\n",
    "                        dummy[symbol]['1m'][n][10] + empty_data[-1][10],\n",
    "                        0,\n",
    "                    ]\n",
    "            # obj.set_data(data_name=f'interval_{interval}', data=[new_data])\n",
    "                d_.append(new_data)\n",
    "        main_data.append(d_)\n",
    "    # main_data = np.array(main_data)\n"
   ]
  },
  {
   "cell_type": "code",
   "execution_count": null,
   "metadata": {},
   "outputs": [],
   "source": [
    "main_data"
   ]
  },
  {
   "cell_type": "code",
   "execution_count": null,
   "metadata": {},
   "outputs": [],
   "source": [
    "symbol = 'BTCUSDT'\n",
    "target_interval = '3m'\n",
    "\n",
    "def ex(kline_data :dict):\n",
    "    symbols = list(kline_data.keys())\n",
    "    intervals = list(kline_data[symbols[0]].keys())\n",
    "\n",
    "    result = {}\n",
    "    \n",
    "    symbol_map = {}\n",
    "    interval_map = {}\n",
    "    \n",
    "    \n",
    "    for idx_s, (symbol, kline_data_symbol) in enumerate(kline_data.items()):\n",
    "        symbol_map[symbol] = idx_s\n",
    "        result[symbol] = {}\n",
    "        for idx_i, (interval, kline_data_interval) in enumerate(kline_data_symbol.items()):\n",
    "            interval_map[interval] = idx_i\n",
    "            \n",
    "            if interval == intervals[0]:\n",
    "                result[symbol][interval] = kline_data_interval\n",
    "                continue\n",
    "            \n",
    "            \n",
    "            empty_data = []\n",
    "            for kline_data_interval in kline_data[symbol][intervals[1:]]:\n",
    "                open_timestamp = kline_data_interval[0]\n",
    "                close_timestamp = kline_data_interval[6]\n",
    "                condition = np.where((\n",
    "                    kline_data[symbol]['1m'][:,0]>=open_timestamp)&\n",
    "                (kline_data[symbol]['1m'][:,6]<=close_timestamp))[0]\n",
    "                for n in condition:\n",
    "                    if n == condition[-1]:\n",
    "                        empty_data.append(kline_data_interval)\n",
    "                        continue\n",
    "                    if n == condition[0]:\n",
    "                        new_data = [\n",
    "                            open_timestamp,\n",
    "                            kline_data[symbol]['1m'][n][1],\n",
    "                            kline_data[symbol]['1m'][n][2],\n",
    "                            kline_data[symbol]['1m'][n][3],\n",
    "                            kline_data[symbol]['1m'][n][4],\n",
    "                            kline_data[symbol]['1m'][n][5],\n",
    "                            close_timestamp,\n",
    "                            kline_data[symbol]['1m'][n][7],\n",
    "                            kline_data[symbol]['1m'][n][8],\n",
    "                            kline_data[symbol]['1m'][n][9],\n",
    "                            kline_data[symbol]['1m'][n][10],\n",
    "                            0,\n",
    "                        ]\n",
    "                    else:\n",
    "                        new_data = [\n",
    "                            open_timestamp,\n",
    "                            kline_data[symbol]['1m'][n][1],\n",
    "                            max(kline_data[symbol]['1m'][n][2], empty_data[-1][2]),\n",
    "                            min(kline_data[symbol]['1m'][n][3], empty_data[-1][3]),\n",
    "                            dumkline_datay[symbol]['1m'][n][4],\n",
    "                            kline_data[symbol]['1m'][n][5] + empty_data[-1][5],\n",
    "                            close_timestamp,\n",
    "                            kline_data[symbol]['1m'][n][7] + empty_data[-1][7],\n",
    "                            kline_data[symbol]['1m'][n][8] + empty_data[-1][8],\n",
    "                            kline_data[symbol]['1m'][n][9] + empty_data[-1][9],\n",
    "                            kline_data[symbol]['1m'][n][10] + empty_data[-1][10],\n",
    "                            0,\n",
    "                        ]\n",
    "                    empty_data.append(new_data)\n",
    "            result[symbol][interval] = empty_data\n",
    "            \n",
    "            \n",
    "        \n",
    "    \n",
    "    "
   ]
  },
  {
   "cell_type": "code",
   "execution_count": null,
   "metadata": {},
   "outputs": [],
   "source": [
    "path = os.path.join(os.path.dirname(os.getcwd()), 'DataStore/kline_data.json')\n",
    "\n",
    "kline_data = utils._load_json(path)\n",
    "\n",
    "def convert_to_container(kline_data):\n",
    "    container_data = utils.DataContainer()\n",
    "    \n",
    "    map_symbol = {}\n",
    "    map_interval = {}\n",
    "    \n",
    "    symbols = list(kline_data.keys())\n",
    "    intervals = list(kline_data[symbols[0]].keys())\n",
    "    \n",
    "    for idx_i, interval in enumerate(intervals):\n",
    "        map_interval[interval] = idx_i\n",
    "    \n",
    "        dummy_data = []\n",
    "        \n",
    "        for idx_s, symbol in enumerate(symbols):\n",
    "            map_symbol[symbol] = idx_s\n",
    "    \n",
    "            target_data = kline_data[symbol][interval]\n",
    "            dummy_data.append(target_data)\n",
    "    \n",
    "        dummy_data = np.array(dummy_data)\n",
    "        container_data.set_data(data_name = f'interval_{interval}', data=dummy_data)\n",
    "    return map_symbol, map_interval, container_data"
   ]
  }
 ],
 "metadata": {
  "kernelspec": {
   "display_name": "python",
   "language": "python",
   "name": "python3"
  },
  "language_info": {
   "codemirror_mode": {
    "name": "ipython",
    "version": 3
   },
   "file_extension": ".py",
   "mimetype": "text/x-python",
   "name": "python",
   "nbconvert_exporter": "python",
   "pygments_lexer": "ipython3",
   "version": "3.12.2"
  }
 },
 "nbformat": 4,
 "nbformat_minor": 2
}
