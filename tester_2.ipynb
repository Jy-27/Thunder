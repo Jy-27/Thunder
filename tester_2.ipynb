{
 "cells": [
  {
   "cell_type": "code",
   "execution_count": 1,
   "metadata": {},
   "outputs": [],
   "source": [
    "import Analysis"
   ]
  },
  {
   "cell_type": "code",
   "execution_count": 2,
   "metadata": {},
   "outputs": [],
   "source": [
    "data =Analysis.IntervalConfig()"
   ]
  },
  {
   "cell_type": "code",
   "execution_count": 3,
   "metadata": {},
   "outputs": [
    {
     "name": "stdout",
     "output_type": "stream",
     "text": [
      "{'interval_1m': 0, 'interval_3m': 1, 'interval_5m': 2, 'interval_15m': 3}\n"
     ]
    }
   ],
   "source": [
    "print(data.interval_maps)"
   ]
  },
  {
   "cell_type": "code",
   "execution_count": 4,
   "metadata": {},
   "outputs": [
    {
     "name": "stdout",
     "output_type": "stream",
     "text": [
      "['1m', '3m', '5m', '15m']\n"
     ]
    }
   ],
   "source": [
    "print(data.target_interval)"
   ]
  },
  {
   "cell_type": "code",
   "execution_count": 11,
   "metadata": {},
   "outputs": [
    {
     "name": "stdout",
     "output_type": "stream",
     "text": [
      "13\n",
      "16\n",
      "21\n",
      "28\n",
      "37\n",
      "48\n",
      "62\n",
      "81\n",
      "106\n",
      "137\n",
      "179\n",
      "232\n",
      "302\n",
      "393\n",
      "511\n",
      "665\n",
      "865\n",
      "1124\n",
      "1461\n",
      "1900\n",
      "2470\n",
      "3211\n",
      "4175\n",
      "5428\n",
      "7056\n",
      "9173\n",
      "11925\n",
      "15502\n",
      "20153\n",
      "26199\n",
      "34059\n",
      "44277\n",
      "57561\n",
      "74829\n",
      "97278\n",
      "126462\n",
      "164400\n",
      "213721\n",
      "277837\n",
      "361188\n",
      "469545\n",
      "610408\n",
      "793531\n",
      "1031590\n",
      "1341068\n",
      "1743388\n",
      "2266405\n",
      "2946326\n",
      "3830224\n",
      "4979292\n",
      "6473079\n",
      "8415003\n",
      "10939505\n",
      "14221356\n",
      "18487763\n",
      "24034092\n",
      "31244320\n",
      "40617616\n",
      "52802901\n",
      "68643771\n",
      "89236903\n",
      "116007974\n",
      "150810366\n",
      "196053476\n",
      "254869519\n",
      "331330375\n",
      "430729487\n",
      "559948334\n",
      "727932834\n",
      "946312684\n",
      "1230206489\n",
      "1599268436\n"
     ]
    }
   ],
   "source": [
    "start_price = 10\n",
    "target = 1500000000\n",
    "while target >= start_price:\n",
    "    start_price *= 1.3\n",
    "    print(int(start_price))"
   ]
  },
  {
   "cell_type": "code",
   "execution_count": 3,
   "metadata": {},
   "outputs": [
    {
     "data": {
      "text/plain": [
       "7.5"
      ]
     },
     "execution_count": 3,
     "metadata": {},
     "output_type": "execute_result"
    }
   ],
   "source": [
    "15*0.5"
   ]
  },
  {
   "cell_type": "code",
   "execution_count": null,
   "metadata": {},
   "outputs": [],
   "source": []
  }
 ],
 "metadata": {
  "kernelspec": {
   "display_name": "python",
   "language": "python",
   "name": "python3"
  },
  "language_info": {
   "codemirror_mode": {
    "name": "ipython",
    "version": 3
   },
   "file_extension": ".py",
   "mimetype": "text/x-python",
   "name": "python",
   "nbconvert_exporter": "python",
   "pygments_lexer": "ipython3",
   "version": "3.12.2"
  }
 },
 "nbformat": 4,
 "nbformat_minor": 2
}
