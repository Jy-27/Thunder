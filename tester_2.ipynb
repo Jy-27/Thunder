{
 "cells": [
  {
   "cell_type": "code",
   "execution_count": 6,
   "metadata": {},
   "outputs": [],
   "source": [
    "import utils\n",
    "from pprint import pprint\n",
    "import numpy as np\n",
    "\n",
    "data = utils._load_json('202.json')"
   ]
  },
  {
   "cell_type": "code",
   "execution_count": null,
   "metadata": {},
   "outputs": [],
   "source": [
    "for array_data in data[0].get('closed_positions')['DOGEUSDT']:\n",
    "    # array_data = np.array(i)\n",
    "    # min_idx = np.argmin(array_data[:, 10])\n",
    "    start_date = utils._convert_to_datetime(array_data[0])\n",
    "    end_date = utils._convert_to_datetime(array_data[7])\n",
    "    \n",
    "    entry_price = array_data[8]\n",
    "    exit_price = array_data[9]\n",
    "    print(entry_price)\n",
    "    \n",
    "    # if all_data[symbol][2] == 1:\n",
    "    #     pnl_percent = ((exit_price-entry_price) / entry_price)* 100\n",
    "    # else:\n",
    "    #     pnl_percent = ((entry_price-exit_price) / entry_price) * 100\n",
    "    \n",
    "    print('='* 20)\n",
    "    print(symbol)\n",
    "    print(min_idx)\n",
    "    print(f'position : {array_data[2]}')\n",
    "    print(f'START : {start_date}')\n",
    "    print(f'START : {end_date}')\n",
    "    print(f'PNL : {array_data[-5]:.2f} USDT')\n",
    "    print('='* 20)\n",
    "    print(array_data)\n",
    "    print('\\n')    \n",
    "    "
   ]
  },
  {
   "cell_type": "code",
   "execution_count": 5,
   "metadata": {},
   "outputs": [],
   "source": [
    "all_data = data[0].get('closed_positions')"
   ]
  },
  {
   "cell_type": "code",
   "execution_count": null,
   "metadata": {},
   "outputs": [],
   "source": [
    "(all_data['DOGEUSDT'][50][8] -all_data['DOGEUSDT'][50][9]) /all_data['DOGEUSDT'][50][8]"
   ]
  },
  {
   "cell_type": "code",
   "execution_count": null,
   "metadata": {},
   "outputs": [],
   "source": []
  },
  {
   "cell_type": "code",
   "execution_count": null,
   "metadata": {},
   "outputs": [],
   "source": []
  }
 ],
 "metadata": {
  "kernelspec": {
   "display_name": "python",
   "language": "python",
   "name": "python3"
  },
  "language_info": {
   "codemirror_mode": {
    "name": "ipython",
    "version": 3
   },
   "file_extension": ".py",
   "mimetype": "text/x-python",
   "name": "python",
   "nbconvert_exporter": "python",
   "pygments_lexer": "ipython3",
   "version": "3.12.2"
  }
 },
 "nbformat": 4,
 "nbformat_minor": 2
}
