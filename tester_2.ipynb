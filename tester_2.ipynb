{
 "cells": [
  {
   "cell_type": "code",
   "execution_count": 1,
   "metadata": {},
   "outputs": [],
   "source": [
    "import utils\n",
    "import DataProcess\n",
    "from pprint import pprint"
   ]
  },
  {
   "cell_type": "code",
   "execution_count": 2,
   "metadata": {},
   "outputs": [],
   "source": [
    "obj = DataProcess.StopLoss(adjust_interval='5m', adjust_rate=0.0001)"
   ]
  },
  {
   "cell_type": "code",
   "execution_count": 3,
   "metadata": {},
   "outputs": [],
   "source": [
    "start_timestamp = utils._convert_to_timestamp_ms('2024-12-20 00:00:00')\n"
   ]
  },
  {
   "cell_type": "code",
   "execution_count": 4,
   "metadata": {},
   "outputs": [],
   "source": [
    "log_data = DataProcess.TradingLog(symbol='BTCUSDT',\n",
    "                                  start_timestamp=start_timestamp,\n",
    "                                  entry_price = 65000,\n",
    "                                  position=1,\n",
    "                                  quantity=1_000,\n",
    "                                  leverage=10,\n",
    "                                  trade_scenario='case_1')"
   ]
  },
  {
   "cell_type": "code",
   "execution_count": 5,
   "metadata": {},
   "outputs": [
    {
     "name": "stdout",
     "output_type": "stream",
     "text": [
      "TradingLog(symbol='BTCUSDT',\n",
      "           start_timestamp=1734620400000,\n",
      "           entry_price=65000,\n",
      "           position=1,\n",
      "           quantity=1000,\n",
      "           leverage=10,\n",
      "           trade_scenario='case_1',\n",
      "           adj_start_price=None,\n",
      "           fee_rate=0.05,\n",
      "           stop_price=None,\n",
      "           exit_signal=False,\n",
      "           last_timestamp=1734620400000,\n",
      "           high_price=65000,\n",
      "           low_price=65000,\n",
      "           current_price=65000,\n",
      "           initial_value=6500000.0,\n",
      "           current_value=6500000.0,\n",
      "           profit_loss=-65000.0,\n",
      "           break_even_price=65065.0,\n",
      "           entry_fee=32500.0,\n",
      "           exit_fee=32500.0)\n"
     ]
    }
   ],
   "source": [
    "pprint(log_data)"
   ]
  },
  {
   "cell_type": "code",
   "execution_count": 6,
   "metadata": {},
   "outputs": [],
   "source": [
    "obj.initialize_data(log_data)"
   ]
  },
  {
   "cell_type": "code",
   "execution_count": 7,
   "metadata": {},
   "outputs": [
    {
     "name": "stdout",
     "output_type": "stream",
     "text": [
      "64517.5\n",
      "{'BTCUSDT': TradingLog(symbol='BTCUSDT',\n",
      "                       start_timestamp=1734620400000,\n",
      "                       entry_price=65000,\n",
      "                       position=1,\n",
      "                       quantity=1000,\n",
      "                       leverage=10,\n",
      "                       trade_scenario='case_1',\n",
      "                       adj_start_price=None,\n",
      "                       fee_rate=0.05,\n",
      "                       stop_price=65254.375,\n",
      "                       exit_signal=False,\n",
      "                       last_timestamp=1734620400000,\n",
      "                       high_price=65500,\n",
      "                       low_price=65000,\n",
      "                       current_price=65500,\n",
      "                       initial_value=6500000.0,\n",
      "                       current_value=6550000.0,\n",
      "                       profit_loss=434750.0,\n",
      "                       break_even_price=65065.25,\n",
      "                       entry_fee=32500.0,\n",
      "                       exit_fee=32750.0)}\n"
     ]
    }
   ],
   "source": [
    "obj.update_trading_log(symbol='BTCUSDT', current_price=65500, current_timestamp=start_timestamp)\n",
    "pprint(obj.trading_log)"
   ]
  },
  {
   "cell_type": "code",
   "execution_count": 12,
   "metadata": {},
   "outputs": [
    {
     "name": "stdout",
     "output_type": "stream",
     "text": [
      "64556.8\n"
     ]
    }
   ],
   "source": [
    "end_timestamp = utils._convert_to_timestamp_ms('2024-12-20 00:30:00')\n",
    "\n",
    "obj.update_trading_log(symbol='BTCUSDT', current_price=65500, current_timestamp=end_timestamp)"
   ]
  },
  {
   "cell_type": "code",
   "execution_count": 13,
   "metadata": {},
   "outputs": [
    {
     "data": {
      "text/plain": [
       "0.050761421319796954"
      ]
     },
     "execution_count": 13,
     "metadata": {},
     "output_type": "execute_result"
    }
   ],
   "source": [
    "((64550.25-64517.5) / 64517.5)*100"
   ]
  },
  {
   "cell_type": "code",
   "execution_count": 14,
   "metadata": {},
   "outputs": [
    {
     "name": "stdout",
     "output_type": "stream",
     "text": [
      "{'BTCUSDT': TradingLog(symbol='BTCUSDT',\n",
      "                       start_timestamp=1734620400000,\n",
      "                       entry_price=65000,\n",
      "                       position=1,\n",
      "                       quantity=1000,\n",
      "                       leverage=10,\n",
      "                       trade_scenario='case_1',\n",
      "                       adj_start_price=None,\n",
      "                       fee_rate=0.05,\n",
      "                       stop_price=68639.2,\n",
      "                       exit_signal=True,\n",
      "                       last_timestamp=1734622200000,\n",
      "                       high_price=70000,\n",
      "                       low_price=65000,\n",
      "                       current_price=65500,\n",
      "                       initial_value=6500000.0,\n",
      "                       current_value=6550000.0,\n",
      "                       profit_loss=434750.0,\n",
      "                       break_even_price=65065.25,\n",
      "                       entry_fee=32500.0,\n",
      "                       exit_fee=32750.0)}\n"
     ]
    }
   ],
   "source": [
    "pprint(obj.trading_log)"
   ]
  },
  {
   "cell_type": "code",
   "execution_count": 11,
   "metadata": {},
   "outputs": [
    {
     "name": "stdout",
     "output_type": "stream",
     "text": [
      "68971.0\n",
      "{'BTCUSDT': TradingLog(symbol='BTCUSDT',\n",
      "                       start_timestamp=1734620400000,\n",
      "                       entry_price=65000,\n",
      "                       position=1,\n",
      "                       quantity=1000,\n",
      "                       leverage=10,\n",
      "                       trade_scenario='case_1',\n",
      "                       adj_start_price=None,\n",
      "                       fee_rate=0.05,\n",
      "                       stop_price=69742.75,\n",
      "                       exit_signal=False,\n",
      "                       last_timestamp=1734621300000,\n",
      "                       high_price=70000,\n",
      "                       low_price=65000,\n",
      "                       current_price=70000,\n",
      "                       initial_value=6500000.0,\n",
      "                       current_value=7000000.0,\n",
      "                       profit_loss=4932500.0,\n",
      "                       break_even_price=65067.5,\n",
      "                       entry_fee=32500.0,\n",
      "                       exit_fee=35000.0)}\n"
     ]
    }
   ],
   "source": [
    "obj.update_trading_log(symbol='BTCUSDT', current_price=70000, current_timestamp=end_timestamp)\n",
    "pprint(obj.trading_log)"
   ]
  },
  {
   "cell_type": "code",
   "execution_count": null,
   "metadata": {},
   "outputs": [],
   "source": []
  },
  {
   "cell_type": "code",
   "execution_count": null,
   "metadata": {},
   "outputs": [],
   "source": []
  }
 ],
 "metadata": {
  "kernelspec": {
   "display_name": "ame",
   "language": "python",
   "name": "python3"
  },
  "language_info": {
   "codemirror_mode": {
    "name": "ipython",
    "version": 3
   },
   "file_extension": ".py",
   "mimetype": "text/x-python",
   "name": "python",
   "nbconvert_exporter": "python",
   "pygments_lexer": "ipython3",
   "version": "3.12.2"
  }
 },
 "nbformat": 4,
 "nbformat_minor": 2
}
