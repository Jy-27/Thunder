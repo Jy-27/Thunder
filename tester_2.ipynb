{
 "cells": [
  {
   "cell_type": "code",
   "execution_count": null,
   "metadata": {},
   "outputs": [
    {
     "name": "stdout",
     "output_type": "stream",
     "text": [
      "[False False False False False False False False False  True False False\n",
      " False False False]\n",
      "[False False False False False False False False False False False False\n",
      " False False False]\n"
     ]
    },
    {
     "ename": "TypeError",
     "evalue": "cannot unpack non-iterable NoneType object",
     "output_type": "error",
     "traceback": [
      "\u001b[0;31m---------------------------------------------------------------------------\u001b[0m",
      "\u001b[0;31mTypeError\u001b[0m                                 Traceback (most recent call last)",
      "Cell \u001b[0;32mIn[10], line 53\u001b[0m\n\u001b[1;32m     50\u001b[0m volumes \u001b[38;5;241m=\u001b[39m np\u001b[38;5;241m.\u001b[39marray([\u001b[38;5;241m500\u001b[39m, \u001b[38;5;241m520\u001b[39m, \u001b[38;5;241m480\u001b[39m, \u001b[38;5;241m600\u001b[39m, \u001b[38;5;241m620\u001b[39m, \u001b[38;5;241m450\u001b[39m, \u001b[38;5;241m430\u001b[39m, \u001b[38;5;241m500\u001b[39m, \u001b[38;5;241m550\u001b[39m, \u001b[38;5;241m580\u001b[39m, \u001b[38;5;241m600\u001b[39m, \u001b[38;5;241m620\u001b[39m, \u001b[38;5;241m610\u001b[39m, \u001b[38;5;241m590\u001b[39m, \u001b[38;5;241m580\u001b[39m])\n\u001b[1;32m     52\u001b[0m \u001b[38;5;66;03m# MACD 계산 및 거래 전략 실행\u001b[39;00m\n\u001b[0;32m---> 53\u001b[0m signals, macd, signal, histogram \u001b[38;5;241m=\u001b[39m macd_and_strategy_numpy(prices, volumes)\n\u001b[1;32m     55\u001b[0m \u001b[38;5;66;03m# 결과 출력\u001b[39;00m\n\u001b[1;32m     56\u001b[0m \u001b[38;5;28;01mfor\u001b[39;00m i, (price, volume, signal_label) \u001b[38;5;129;01min\u001b[39;00m \u001b[38;5;28menumerate\u001b[39m(\u001b[38;5;28mzip\u001b[39m(prices, volumes, signals)):\n",
      "\u001b[0;31mTypeError\u001b[0m: cannot unpack non-iterable NoneType object"
     ]
    }
   ],
   "source": [
    "import numpy as np\n",
    "\n",
    "def macd_and_strategy_numpy(data, short_window=12, long_window=26, signal_window=9, volume_threshold=500):\n",
    "    \"\"\"\n",
    "    NumPy 기반 MACD 계산과 거래 전략 수행\n",
    "    :param prices: ndarray, 종가 데이터\n",
    "    :param volumes: ndarray, 거래량 데이터\n",
    "    :param short_window: Short EMA 기간 (기본값: 12)\n",
    "    :param long_window: Long EMA 기간 (기본값: 26)\n",
    "    :param signal_window: Signal EMA 기간 (기본값: 9)\n",
    "    :param volume_threshold: 거래량 임계값 (기본값: 500)\n",
    "    :return: 신호 배열 ('buy', 'sell', None), MACD, Signal, Histogram (ndarray)\n",
    "    \"\"\"\n",
    "    # EMA 계산 함수\n",
    "    \n",
    "    prices = data[:,8]\n",
    "    volumes = data[:, ]\n",
    "    \n",
    "    def ema(values, window):\n",
    "        alpha = 2 / (window + 1)\n",
    "        ema_values = np.zeros_like(values)\n",
    "        ema_values[0] = values[0]\n",
    "        for i in range(1, len(values)):\n",
    "            ema_values[i] = alpha * values[i] + (1 - alpha) * ema_values[i - 1]\n",
    "        return ema_values\n",
    "\n",
    "    # MACD 계산\n",
    "    ema_short = ema(prices, short_window)\n",
    "    ema_long = ema(prices, long_window)\n",
    "    macd = ema_short - ema_long\n",
    "    signal = ema(macd, signal_window)\n",
    "    histogram = macd - signal\n",
    "\n",
    "    # print(ema_short)\n",
    "    # print(ema_long)\n",
    "    # print(macd)\n",
    "    # print(signal)\n",
    "    # print(histogram)\n",
    "\n",
    "    # 거래 전략 신호 계산\n",
    "    buy_signals = (macd > signal) & (np.roll(macd, 1) <= np.roll(signal, 1)) & (volumes > volume_threshold)\n",
    "    print(buy_signals)\n",
    "    sell_signals = (macd < signal) & (np.roll(macd, 1) >= np.roll(signal, 1))\n",
    "    print(sell_signals)\n",
    "\n",
    "    if buy_signals:\n",
    "        return 1\n",
    "    elif sell_signals:\n",
    "        return 2\n",
    "    else:\n",
    "        return 0\n",
    "\n",
    "\n",
    "# 예제 데이터\n",
    "prices = np.array([100, 102, 104, 103, 101, 99, 98, 100, 102, 105, 108, 107, 106, 104, 103])\n",
    "volumes = np.array([500, 520, 480, 600, 620, 450, 430, 500, 550, 580, 600, 620, 610, 590, 580])\n",
    "\n",
    "# MACD 계산 및 거래 전략 실행\n",
    "signals, macd, signal, histogram = macd_and_strategy_numpy(prices, volumes)\n",
    "\n",
    "# 결과 출력\n",
    "for i, (price, volume, signal_label) in enumerate(zip(prices, volumes, signals)):\n",
    "    print(f\"Index: {i}, Price: {price}, Volume: {volume}, Signal: {signal_label}\")\n"
   ]
  },
  {
   "cell_type": "code",
   "execution_count": 3,
   "metadata": {},
   "outputs": [
    {
     "data": {
      "text/plain": [
       "array([None, None, None, None, None, None, None, None, None, 1, None,\n",
       "       None, None, None, None], dtype=object)"
      ]
     },
     "execution_count": 3,
     "metadata": {},
     "output_type": "execute_result"
    }
   ],
   "source": [
    "signals"
   ]
  },
  {
   "cell_type": "code",
   "execution_count": 4,
   "metadata": {},
   "outputs": [
    {
     "data": {
      "text/plain": [
       "array([0, 0, 0, 0, 0, 0, 0, 0, 0, 1, 2, 3, 3, 3, 3])"
      ]
     },
     "execution_count": 4,
     "metadata": {},
     "output_type": "execute_result"
    }
   ],
   "source": [
    "macd"
   ]
  },
  {
   "cell_type": "code",
   "execution_count": 5,
   "metadata": {},
   "outputs": [
    {
     "data": {
      "text/plain": [
       "array([0, 0, 0, 0, 0, 0, 0, 0, 0, 0, 0, 0, 0, 0, 0])"
      ]
     },
     "execution_count": 5,
     "metadata": {},
     "output_type": "execute_result"
    }
   ],
   "source": [
    "signal"
   ]
  },
  {
   "cell_type": "code",
   "execution_count": 6,
   "metadata": {},
   "outputs": [
    {
     "data": {
      "text/plain": [
       "array([0, 0, 0, 0, 0, 0, 0, 0, 0, 1, 2, 3, 3, 3, 3])"
      ]
     },
     "execution_count": 6,
     "metadata": {},
     "output_type": "execute_result"
    }
   ],
   "source": [
    "histogram"
   ]
  },
  {
   "cell_type": "code",
   "execution_count": null,
   "metadata": {},
   "outputs": [],
   "source": []
  }
 ],
 "metadata": {
  "kernelspec": {
   "display_name": "ame",
   "language": "python",
   "name": "python3"
  },
  "language_info": {
   "codemirror_mode": {
    "name": "ipython",
    "version": 3
   },
   "file_extension": ".py",
   "mimetype": "text/x-python",
   "name": "python",
   "nbconvert_exporter": "python",
   "pygments_lexer": "ipython3",
   "version": "3.12.2"
  }
 },
 "nbformat": 4,
 "nbformat_minor": 2
}
