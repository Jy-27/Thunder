{
 "cells": [
  {
   "cell_type": "code",
   "execution_count": 1,
   "metadata": {},
   "outputs": [],
   "source": [
    "\"\"\"\n",
    ">>> asyncio.run(obj.submit_order(symbol='ADAUSDT', side='SELL', price=1.015, quantity=5, order_type='STOP_MARKET'))\n",
    "{'orderId': 46915674924, 'symbol': 'ADAUSDT', 'status': 'NEW', 'clientOrderId': '8GSV2rVnGLMBnO4HDwSb1Y', 'price': '0.00000', 'avgPrice': '0.00', 'origQty': '5', 'executedQty': '0', 'cumQty': '0', 'cumQuote': '0.00000', 'timeInForce': 'GTC', 'type': 'STOP_MARKET', 'reduceOnly': False, 'closePosition': False, 'side': 'SELL', 'positionSide': 'BOTH', 'stopPrice': '1.01500', 'workingType': 'CONTRACT_PRICE', 'priceProtect': False, 'origType': 'STOP_MARKET', 'priceMatch': 'NONE', 'selfTradePreventionMode': 'EXPIRE_MAKER', 'goodTillDate': 0, 'updateTime': 1733915429075}\n",
    ">>> asyncio.run(obj.submit_order(symbol='ADAUSDT', side='SELL', quantity=5, order_type='MARKET'))\n",
    "{'orderId': 46916207450, 'symbol': 'ADAUSDT', 'status': 'NEW', 'clientOrderId': '476bSE3TUnGfOp6AsVCq12', 'price': '0.00000', 'avgPrice': '0.00', 'origQty': '5', 'executedQty': '0', 'cumQty': '0', 'cumQuote': '0.00000', 'timeInForce': 'GTC', 'type': 'MARKET', 'reduceOnly': False, 'closePosition': False, 'side': 'SELL', 'positionSide': 'BOTH', 'stopPrice': '0.00000', 'workingType': 'CONTRACT_PRICE', 'priceProtect': False, 'origType': 'MARKET', 'priceMatch': 'NONE', 'selfTradePreventionMode': 'EXPIRE_MAKER', 'goodTillDate': 0, 'updateTime': 1733916764850}\n",
    ">>>\n",
    "\"\"\"\n",
    "from dataclasses import dataclass, fields\n",
    "from typing import List, Optional, Union\n",
    "\n",
    "@dataclass\n",
    "class TradeOrder:\n",
    "    symbol: str\n",
    "    trade_timestamp: int\n",
    "    entry_price: Union[float, int]\n",
    "    position: int\n",
    "    quantity: Union[float, int]\n",
    "    leverage: int\n",
    "    fee_rate: float = 0.05\n",
    "    init_value: Optional[float] = None\n",
    "    current_value: Optional[float] = None\n",
    "    profit_and_loss: Optional[float] = None\n",
    "    current_price: Optional[Union[float, int]] = None\n",
    "    break_event_price: Optional[float] = None\n",
    "    fee_open: Optional[Union[float, int]] = None\n",
    "    fee_close: Optional[Union[float, int]] = None\n",
    "    memo: Optional[str] = None\n",
    "\n",
    "    def __post_init__(self):\n",
    "        if self.current_price is None:\n",
    "            self.current_price = self.entry_price\n",
    "        if self.leverage <= 0:\n",
    "            raise ValueError(f\"레버리지는 최소 1 이상이어야 합니다. 현재 값: {self.leverage}\")\n",
    "        self.__update_fee()\n",
    "        self.__update_value()\n",
    "\n",
    "    def __update_fee(self):\n",
    "        adjusted_fee_rate = self.fee_rate / 1_000\n",
    "        self.fee_open = self.entry_price * adjusted_fee_rate * self.quantity\n",
    "        self.fee_close = self.current_price * adjusted_fee_rate * self.quantity\n",
    "        self.break_event_price = self.entry_price + self.fee_open\n",
    "\n",
    "    def __update_value(self):\n",
    "        self.init_value = (self.entry_price * self.quantity) / self.leverage\n",
    "        self.current_value = (self.current_price * self.quantity) / self.leverage\n",
    "        self.profit_and_loss = self.current_value - self.init_value\n",
    "\n",
    "    def update_current_price(self, current_price: [Union[float, int]]):\n",
    "        self.current_price = current_price\n",
    "        self.__update_fee()\n",
    "        self.__update_value()\n",
    "\n",
    "class TradeOrderManager:\n",
    "    def __init__(self):\n",
    "        self.orders: List[TradeOrder] = []\n",
    "        self.symbol_map = {}\n",
    "        self.trade_symbol: List = []\n",
    "\n",
    "    def add_order(self, **kwargs):\n",
    "        \"\"\"TradeOrder 생성 및 추가\"\"\"\n",
    "        valid_keys = {field.name for field in fields(TradeOrder)}  # TradeOrder 필드 이름 가져오기\n",
    "        filtered_kwargs = {k: v for k, v in kwargs.items() if k in valid_keys}  # 유효한 키워드만 필터링\n",
    "        order = TradeOrder(**filtered_kwargs)\n",
    "        self.orders.append(order)\n",
    "        self.__update()  # symbol_map 업데이트\n",
    "        return order\n",
    "\n",
    "    def remove_order(self, symbol):\n",
    "        idx = self.symbol_map.get(symbol)\n",
    "        del self.orders[idx]\n",
    "        self.__update_symbol_map()\n",
    "    \n",
    "    def update(self, symbol:str, current_price: [Union[float, int]]):\n",
    "        symbol_idx = self.symbol_map.get(symbol)\n",
    "        if symbol_idx is None:\n",
    "            return\n",
    "        self.orders[symbol_idx].update_current_price(current_price=current_price)\n",
    "    \n",
    "    def get_order(self, symbol):\n",
    "        idx = self.symbol_map.get(symbol)\n",
    "        return self.orders[idx]\n",
    "    \n",
    "    def __update(self):\n",
    "        \"\"\"symbol_map 업데이트\"\"\"\n",
    "        self.symbol_map = {order.symbol: idx for idx, order in enumerate(self.orders)}  # 심볼과 인덱스 매핑\n",
    "        self.trade_symbol = list(self.symbol_map.keys())\n"
   ]
  },
  {
   "cell_type": "code",
   "execution_count": 2,
   "metadata": {},
   "outputs": [],
   "source": [
    "obj_ = TradeOrderManager()"
   ]
  },
  {
   "cell_type": "code",
   "execution_count": 3,
   "metadata": {},
   "outputs": [
    {
     "data": {
      "text/plain": [
       "TradeOrder(symbol='ADAUSDT', trade_timestamp=123, entry_price=0.51, position=1, quantity=9.6, leverage=5, fee_rate=0.05, init_value=0.9792, current_value=0.9792, profit_and_loss=0.0, current_price=0.51, break_event_price=0.5102448, fee_open=0.00024480000000000004, fee_close=0.00024480000000000004, memo=None)"
      ]
     },
     "execution_count": 3,
     "metadata": {},
     "output_type": "execute_result"
    }
   ],
   "source": [
    "obj_.add_order(symbol='XRPUSDT', trade_timestamp=123, entry_price=0.5, position=1, quantity=9.6, leverage=5)\n",
    "obj_.add_order(symbol='ADAUSDT', trade_timestamp=123, entry_price=0.51, position=1, quantity=9.6, leverage=5)"
   ]
  },
  {
   "cell_type": "code",
   "execution_count": null,
   "metadata": {},
   "outputs": [],
   "source": [
    "obj_.symbol_map"
   ]
  },
  {
   "cell_type": "code",
   "execution_count": 4,
   "metadata": {},
   "outputs": [],
   "source": [
    "obj_.update(symbol='XRPUSDT', current_price=0.56)"
   ]
  },
  {
   "cell_type": "code",
   "execution_count": null,
   "metadata": {},
   "outputs": [],
   "source": [
    "obj_.update(symbol='ADAUSDT', current_price=25)"
   ]
  },
  {
   "cell_type": "code",
   "execution_count": null,
   "metadata": {},
   "outputs": [],
   "source": [
    "obj_.symbol_map"
   ]
  },
  {
   "cell_type": "code",
   "execution_count": null,
   "metadata": {},
   "outputs": [],
   "source": [
    "obj_.get_order(symbol='ADAUSDT')"
   ]
  },
  {
   "cell_type": "code",
   "execution_count": null,
   "metadata": {},
   "outputs": [],
   "source": [
    "obj_.remove_order('ADAUSDT')"
   ]
  },
  {
   "cell_type": "code",
   "execution_count": null,
   "metadata": {},
   "outputs": [],
   "source": [
    "obj_.symbol_map"
   ]
  },
  {
   "cell_type": "code",
   "execution_count": null,
   "metadata": {},
   "outputs": [],
   "source": []
  }
 ],
 "metadata": {
  "kernelspec": {
   "display_name": "ame",
   "language": "python",
   "name": "python3"
  },
  "language_info": {
   "codemirror_mode": {
    "name": "ipython",
    "version": 3
   },
   "file_extension": ".py",
   "mimetype": "text/x-python",
   "name": "python",
   "nbconvert_exporter": "python",
   "pygments_lexer": "ipython3",
   "version": "3.12.2"
  }
 },
 "nbformat": 4,
 "nbformat_minor": 2
}
