{
 "cells": [
  {
   "cell_type": "code",
   "execution_count": 1,
   "metadata": {},
   "outputs": [],
   "source": [
    "import utils\n",
    "import DataProcess\n",
    "from pprint import pprint"
   ]
  },
  {
   "cell_type": "code",
   "execution_count": 2,
   "metadata": {},
   "outputs": [
    {
     "ename": "AttributeError",
     "evalue": "'TradingLog' object has no attribute 'symbol'",
     "output_type": "error",
     "traceback": [
      "\u001b[0;31m---------------------------------------------------------------------------\u001b[0m",
      "\u001b[0;31mAttributeError\u001b[0m                            Traceback (most recent call last)",
      "Cell \u001b[0;32mIn[2], line 2\u001b[0m\n\u001b[1;32m      1\u001b[0m start_timesatmp \u001b[38;5;241m=\u001b[39m utils\u001b[38;5;241m.\u001b[39m_convert_to_timestamp_ms(\u001b[38;5;124m'\u001b[39m\u001b[38;5;124m2024-12-23 00:00:00\u001b[39m\u001b[38;5;124m'\u001b[39m)\n\u001b[0;32m----> 2\u001b[0m log_data \u001b[38;5;241m=\u001b[39m \u001b[43mDataProcess\u001b[49m\u001b[38;5;241;43m.\u001b[39;49m\u001b[43mTradingLog\u001b[49m\u001b[43m(\u001b[49m\u001b[43msymbol\u001b[49m\u001b[38;5;241;43m=\u001b[39;49m\u001b[38;5;124;43m'\u001b[39;49m\u001b[38;5;124;43mABC\u001b[39;49m\u001b[38;5;124;43m'\u001b[39;49m\u001b[43m,\u001b[49m\n\u001b[1;32m      3\u001b[0m \u001b[43m                                  \u001b[49m\u001b[43mstart_timestamp\u001b[49m\u001b[38;5;241;43m=\u001b[39;49m\u001b[43mstart_timesatmp\u001b[49m\u001b[43m,\u001b[49m\n\u001b[1;32m      4\u001b[0m \u001b[43m                                  \u001b[49m\u001b[43mentry_price\u001b[49m\u001b[43m \u001b[49m\u001b[38;5;241;43m=\u001b[39;49m\u001b[43m \u001b[49m\u001b[38;5;241;43m65000\u001b[39;49m\u001b[43m,\u001b[49m\n\u001b[1;32m      5\u001b[0m \u001b[43m                                  \u001b[49m\u001b[43mtest_mode\u001b[49m\u001b[43m \u001b[49m\u001b[38;5;241;43m=\u001b[39;49m\u001b[43m \u001b[49m\u001b[38;5;28;43;01mFalse\u001b[39;49;00m\u001b[43m,\u001b[49m\n\u001b[1;32m      6\u001b[0m \u001b[43m                                  \u001b[49m\u001b[43mposition\u001b[49m\u001b[38;5;241;43m=\u001b[39;49m\u001b[38;5;241;43m1\u001b[39;49m\u001b[43m,\u001b[49m\n\u001b[1;32m      7\u001b[0m \u001b[43m                                  \u001b[49m\u001b[43mquantity\u001b[49m\u001b[38;5;241;43m=\u001b[39;49m\u001b[38;5;241;43m1_000\u001b[39;49m\u001b[43m,\u001b[49m\n\u001b[1;32m      8\u001b[0m \u001b[43m                                  \u001b[49m\u001b[43madj_rate\u001b[49m\u001b[38;5;241;43m=\u001b[39;49m\u001b[38;5;241;43m0.001\u001b[39;49m\u001b[43m,\u001b[49m\n\u001b[1;32m      9\u001b[0m \u001b[43m                                  \u001b[49m\u001b[43madj_interval\u001b[49m\u001b[38;5;241;43m=\u001b[39;49m\u001b[38;5;124;43m'\u001b[39;49m\u001b[38;5;124;43m3m\u001b[39;49m\u001b[38;5;124;43m'\u001b[39;49m\u001b[43m,\u001b[49m\n\u001b[1;32m     10\u001b[0m \u001b[43m                                  \u001b[49m\u001b[43mleverage\u001b[49m\u001b[38;5;241;43m=\u001b[39;49m\u001b[38;5;241;43m10\u001b[39;49m\u001b[43m,\u001b[49m\n\u001b[1;32m     11\u001b[0m \u001b[43m                                  \u001b[49m\u001b[43muse_scale_stop\u001b[49m\u001b[38;5;241;43m=\u001b[39;49m\u001b[38;5;28;43;01mTrue\u001b[39;49;00m\u001b[43m,\u001b[49m\n\u001b[1;32m     12\u001b[0m \u001b[43m                                  \u001b[49m\u001b[43mstop_rate\u001b[49m\u001b[38;5;241;43m=\u001b[39;49m\u001b[38;5;241;43m0.025\u001b[39;49m\u001b[43m,\u001b[49m\n\u001b[1;32m     13\u001b[0m \u001b[43m                                  \u001b[49m\u001b[43mtrade_scenario\u001b[49m\u001b[38;5;241;43m=\u001b[39;49m\u001b[38;5;124;43m'\u001b[39;49m\u001b[38;5;124;43mcase_1\u001b[39;49m\u001b[38;5;124;43m'\u001b[39;49m\u001b[43m)\u001b[49m\n",
      "File \u001b[0;32m~/GitHub/Thunder/DataProcess.py:55\u001b[0m, in \u001b[0;36mTradingLog.__init__\u001b[0;34m(self, **kwargs)\u001b[0m\n\u001b[1;32m     52\u001b[0m \u001b[38;5;28;01mdef\u001b[39;00m \u001b[38;5;21m__init__\u001b[39m(\u001b[38;5;28mself\u001b[39m, \u001b[38;5;241m*\u001b[39m\u001b[38;5;241m*\u001b[39mkwargs):\n\u001b[1;32m     53\u001b[0m     \u001b[38;5;66;03m# 데이터 클래스 필드에 맞게 전달된 키워드를 순차적으로 할당합니다.\u001b[39;00m\n\u001b[1;32m     54\u001b[0m     \u001b[38;5;28;01mfor\u001b[39;00m field \u001b[38;5;129;01min\u001b[39;00m fields(\u001b[38;5;28mself\u001b[39m):\n\u001b[0;32m---> 55\u001b[0m         \u001b[38;5;28msetattr\u001b[39m(\u001b[38;5;28mself\u001b[39m, field\u001b[38;5;241m.\u001b[39mname, kwargs\u001b[38;5;241m.\u001b[39mget(field\u001b[38;5;241m.\u001b[39mname, \u001b[38;5;28;43mgetattr\u001b[39;49m\u001b[43m(\u001b[49m\u001b[38;5;28;43mself\u001b[39;49m\u001b[43m,\u001b[49m\u001b[43m \u001b[49m\u001b[43mfield\u001b[49m\u001b[38;5;241;43m.\u001b[39;49m\u001b[43mname\u001b[49m\u001b[43m)\u001b[49m))\n",
      "\u001b[0;31mAttributeError\u001b[0m: 'TradingLog' object has no attribute 'symbol'"
     ]
    }
   ],
   "source": [
    "start_timesatmp = utils._convert_to_timestamp_ms('2024-12-23 00:00:00')\n",
    "log_data = DataProcess.TradingLog(symbol='ABC',\n",
    "                                  start_timestamp=start_timesatmp,\n",
    "                                  entry_price = 65000,\n",
    "                                  test_mode = False,\n",
    "                                  position=1,\n",
    "                                  quantity=1_000,\n",
    "                                  adj_rate=0.001,\n",
    "                                  adj_interval='3m',\n",
    "                                  leverage=10,\n",
    "                                  use_scale_stop=True,\n",
    "                                  stop_rate=0.025,\n",
    "                                  trade_scenario='case_1')"
   ]
  },
  {
   "cell_type": "code",
   "execution_count": 46,
   "metadata": {},
   "outputs": [],
   "source": [
    "data_container = utils.DataContainer()\n",
    "data_container.set_data(log_data.symbol, log_data)"
   ]
  },
  {
   "cell_type": "code",
   "execution_count": 50,
   "metadata": {},
   "outputs": [
    {
     "name": "stdout",
     "output_type": "stream",
     "text": [
      "0.7030000000000001\n",
      "180000\n",
      "0.001\n",
      "0.015\n"
     ]
    }
   ],
   "source": [
    "data_container.get_data(log_data.symbol).update_trade_data(current_price=67000, current_timestamp=start_timesatmp)"
   ]
  },
  {
   "cell_type": "code",
   "execution_count": 53,
   "metadata": {},
   "outputs": [
    {
     "data": {
      "text/plain": [
       "['ABC',\n",
       " 1734879600000,\n",
       " 65000,\n",
       " 1,\n",
       " 1000,\n",
       " 10,\n",
       " 'case_1',\n",
       " False,\n",
       " 0.025,\n",
       " 0.05,\n",
       " 0.015,\n",
       " True,\n",
       " 0.001,\n",
       " '3m',\n",
       " 113096.00000000001,\n",
       " 68152.4,\n",
       " True,\n",
       " 1735006219532,\n",
       " 67000,\n",
       " 65000,\n",
       " 67000,\n",
       " 6500000.0,\n",
       " 6700000.0,\n",
       " 200000.0,\n",
       " 134000.0,\n",
       " 65066.0,\n",
       " 32500.0,\n",
       " 33500.0,\n",
       " 1934000.0]"
      ]
     },
     "execution_count": 53,
     "metadata": {},
     "output_type": "execute_result"
    }
   ],
   "source": [
    "data_container.get_data(log_data.symbol).to_list()"
   ]
  },
  {
   "cell_type": "code",
   "execution_count": 3,
   "metadata": {},
   "outputs": [],
   "source": [
    "import BinanceTradeClient\n",
    "import asyncio\n",
    "import nest_asyncio\n",
    "\n",
    "nest_asyncio.apply()"
   ]
  },
  {
   "cell_type": "code",
   "execution_count": 4,
   "metadata": {},
   "outputs": [],
   "source": [
    "obj_futures = BinanceTradeClient.FuturesOrder()"
   ]
  },
  {
   "cell_type": "code",
   "execution_count": 5,
   "metadata": {},
   "outputs": [],
   "source": [
    "asyncio.run(obj_futures.set_leverage(symbol='XRPUSDT', leverage=5))\n",
    "asyncio.run(obj_futures.set_margin_type(symbol='XRPUSDT', margin_type='isolated'))\n",
    "data = asyncio.run(obj_futures.submit_order(symbol='XRPUSDT', side='buy', order_type='market', quantity=2.4))"
   ]
  },
  {
   "cell_type": "code",
   "execution_count": 6,
   "metadata": {},
   "outputs": [
    {
     "name": "stdout",
     "output_type": "stream",
     "text": [
      "{'orderId': 78182197291, 'symbol': 'XRPUSDT', 'status': 'NEW', 'clientOrderId': 'IVvdjAcOS12gJZezQCC4by', 'price': '0.0000', 'avgPrice': '0.00', 'origQty': '2.4', 'executedQty': '0.0', 'cumQty': '0.0', 'cumQuote': '0.00000', 'timeInForce': 'GTC', 'type': 'MARKET', 'reduceOnly': False, 'closePosition': False, 'side': 'BUY', 'positionSide': 'BOTH', 'stopPrice': '0.0000', 'workingType': 'CONTRACT_PRICE', 'priceProtect': False, 'origType': 'MARKET', 'priceMatch': 'NONE', 'selfTradePreventionMode': 'EXPIRE_MAKER', 'goodTillDate': 0, 'updateTime': 1735017118771}\n"
     ]
    }
   ],
   "source": [
    "print(data)"
   ]
  },
  {
   "cell_type": "code",
   "execution_count": 8,
   "metadata": {},
   "outputs": [],
   "source": [
    "dummy_data = asyncio.run(obj_futures.fetch_account_balance())"
   ]
  },
  {
   "cell_type": "code",
   "execution_count": 12,
   "metadata": {},
   "outputs": [
    {
     "name": "stdout",
     "output_type": "stream",
     "text": [
      "{'askNotional': '0',\n",
      " 'bidNotional': '0',\n",
      " 'breakEvenPrice': '2.26143015',\n",
      " 'entryPrice': '2.2603',\n",
      " 'initialMargin': '1.08350400',\n",
      " 'isolated': True,\n",
      " 'isolatedWallet': '1.08765636',\n",
      " 'leverage': '5',\n",
      " 'maintMargin': '0.02708760',\n",
      " 'maxNotional': '20000000',\n",
      " 'notional': '5.41752000',\n",
      " 'openOrderInitialMargin': '0',\n",
      " 'positionAmt': '2.4',\n",
      " 'positionInitialMargin': '1.08350400',\n",
      " 'positionSide': 'BOTH',\n",
      " 'symbol': 'XRPUSDT',\n",
      " 'unrealizedProfit': '-0.00720000',\n",
      " 'updateTime': 1735017118771}\n"
     ]
    }
   ],
   "source": [
    "for i in dummy_data['positions']:\n",
    "    if i.get('symbol') == 'XRPUSDT':\n",
    "        pprint(i)"
   ]
  },
  {
   "cell_type": "code",
   "execution_count": 13,
   "metadata": {},
   "outputs": [
    {
     "data": {
      "text/plain": [
       "[{'symbol': 'XRPUSDT',\n",
       "  'id': 1916252682,\n",
       "  'orderId': 78182197291,\n",
       "  'side': 'BUY',\n",
       "  'price': '2.2603',\n",
       "  'qty': '2.4',\n",
       "  'realizedPnl': '0',\n",
       "  'quoteQty': '5.42472',\n",
       "  'commission': '0.00271236',\n",
       "  'commissionAsset': 'USDT',\n",
       "  'time': 1735017118771,\n",
       "  'positionSide': 'BOTH',\n",
       "  'buyer': True,\n",
       "  'maker': False}]"
      ]
     },
     "execution_count": 13,
     "metadata": {},
     "output_type": "execute_result"
    }
   ],
   "source": [
    "asyncio.run(obj_futures.fetch_trade_history(symbol='XRPUSDT', limit=1))"
   ]
  },
  {
   "cell_type": "code",
   "execution_count": 20,
   "metadata": {},
   "outputs": [
    {
     "name": "stdout",
     "output_type": "stream",
     "text": [
      "True\n"
     ]
    }
   ],
   "source": [
    "trade_message = {}\n",
    "if not trade_message:\n",
    "    print(True)"
   ]
  },
  {
   "cell_type": "code",
   "execution_count": 18,
   "metadata": {},
   "outputs": [
    {
     "data": {
      "text/plain": [
       "2"
      ]
     },
     "execution_count": 18,
     "metadata": {},
     "output_type": "execute_result"
    }
   ],
   "source": [
    "leverage"
   ]
  },
  {
   "cell_type": "code",
   "execution_count": 24,
   "metadata": {},
   "outputs": [],
   "source": [
    "a = ['a']\n",
    "b = []\n",
    "\n",
    "b.append(a.pop())"
   ]
  },
  {
   "cell_type": "code",
   "execution_count": 25,
   "metadata": {},
   "outputs": [
    {
     "data": {
      "text/plain": [
       "[]"
      ]
     },
     "execution_count": 25,
     "metadata": {},
     "output_type": "execute_result"
    }
   ],
   "source": [
    "a"
   ]
  },
  {
   "cell_type": "code",
   "execution_count": 27,
   "metadata": {},
   "outputs": [],
   "source": [
    "dummy = {\"a\":[]}"
   ]
  },
  {
   "cell_type": "code",
   "execution_count": 29,
   "metadata": {},
   "outputs": [
    {
     "name": "stdout",
     "output_type": "stream",
     "text": [
      "True\n"
     ]
    }
   ],
   "source": [
    "if not dummy.get('a'):\n",
    "    print(True)"
   ]
  },
  {
   "cell_type": "code",
   "execution_count": 30,
   "metadata": {},
   "outputs": [
    {
     "name": "stdout",
     "output_type": "stream",
     "text": [
      "True\n"
     ]
    }
   ],
   "source": [
    "if 'a' in dummy.keys():\n",
    "    print(True)"
   ]
  },
  {
   "cell_type": "code",
   "execution_count": null,
   "metadata": {},
   "outputs": [],
   "source": []
  }
 ],
 "metadata": {
  "kernelspec": {
   "display_name": "ame",
   "language": "python",
   "name": "python3"
  },
  "language_info": {
   "codemirror_mode": {
    "name": "ipython",
    "version": 3
   },
   "file_extension": ".py",
   "mimetype": "text/x-python",
   "name": "python",
   "nbconvert_exporter": "python",
   "pygments_lexer": "ipython3",
   "version": "3.12.2"
  }
 },
 "nbformat": 4,
 "nbformat_minor": 2
}
