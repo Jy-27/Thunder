{
 "cells": [
  {
   "cell_type": "code",
   "execution_count": 1,
   "metadata": {},
   "outputs": [],
   "source": [
    "\n",
    "import numpy as np\n",
    "import MarketDataFetcher\n",
    "import asyncio\n",
    "import nest_asyncio\n",
    "import BinanceBackTest\n",
    "import utils\n",
    "import os\n",
    "import pickle\n",
    "import Analysis\n",
    "\n",
    "nest_asyncio.apply()\n",
    "\n",
    "symbols = ['BTCUSDT', 'ADAUSDT', 'XRPUSDT']\n",
    "intervals = ['1m', '3m', '5m', '1h']\n",
    "\n",
    "BBT = BinanceBackTest.DataManager(symbols=symbols,\n",
    "                                  intervals=intervals,\n",
    "                                  start_date='2024-1-1',# 00:00:00',\n",
    "                                  end_date='2024-1-5')# 23:59:59')\n",
    "path = os.path.join(os.path.dirname(os.getcwd()), 'DataStore/kline_data.json')\n",
    "data = utils._load_json(file_path=path)\n",
    "# kline_data = asyncio.run(BBT.generate_kline_interval_data(save=True))\n",
    "kline_data = utils._convert_to_array(kline_data=data)\n",
    "kline_data = BBT.generate_kline_closing_sync(kline_data=kline_data, save=True)\n",
    "symbol_map, interval_map, data_c = utils._convert_to_container(kline_data)\n",
    "BBT.get_indices_data(data_container=data_c, lookback_days=1)\n",
    "\n",
    "obj_analysis = Analysis.AnalysisManager()"
   ]
  },
  {
   "cell_type": "code",
   "execution_count": null,
   "metadata": {},
   "outputs": [
    {
     "name": "stderr",
     "output_type": "stream",
     "text": [
      "Exception ignored in: <bound method IPythonKernel._clean_thread_parent_frames of <ipykernel.ipkernel.IPythonKernel object at 0x103c5cb60>>\n",
      "Traceback (most recent call last):\n",
      "  File \"/opt/homebrew/Caskroom/miniconda/base/envs/python/lib/python3.12/site-packages/ipykernel/ipkernel.py\", line 770, in _clean_thread_parent_frames\n",
      "    def _clean_thread_parent_frames(\n",
      "\n",
      "KeyboardInterrupt: \n"
     ]
    }
   ],
   "source": [
    "class analysis:\n",
    "    def __init__(self):\n",
    "        self.case_1 = []\n",
    "        self.case_2 = []\n",
    "\n",
    "    def clear_(self):\n",
    "        self.case_1.clear()\n",
    "        self.case_2.clear()\n",
    "obj_dummy = analysis()\n",
    "\n",
    "for idx, d in enumerate(data_c.get_data('map_1m')):\n",
    "    for interval in intervals:\n",
    "        maps_ = data_c.get_data(f'map_{interval}')[idx]\n",
    "        # if interval == \"5m\":\n",
    "        data = data_c.get_data(f'interval_{interval}')[maps_]\n",
    "        \n",
    "        obj_analysis.case_2_candle_length(kline_data_lv3=data)\n",
    "        obj_analysis.case_3_continuous_trend_position(kline_data_lv3=data)\n",
    "        obj_analysis.case_4_process_neg_counts(kline_data_lv3=data, col=7)\n",
    "        obj_analysis.case_5_diff_neg_counts(kline_data_lv3=data, col1=1, col2=4)\n",
    "        \n",
    "# print(obj_dummy)\n",
    "        # if interval == '1h':\n",
    "        #     obj_dummy.case_2.append(data.get_data(f'interval_{interval}')[maps_])\n",
    "        # obj_dummy.case_1 + obj_dummy.case_2\n",
    "        # obj_dummy.clear_()\n",
    "        "
   ]
  },
  {
   "cell_type": "code",
   "execution_count": null,
   "metadata": {},
   "outputs": [],
   "source": []
  }
 ],
 "metadata": {
  "kernelspec": {
   "display_name": "python",
   "language": "python",
   "name": "python3"
  },
  "language_info": {
   "codemirror_mode": {
    "name": "ipython",
    "version": 3
   },
   "file_extension": ".py",
   "mimetype": "text/x-python",
   "name": "python",
   "nbconvert_exporter": "python",
   "pygments_lexer": "ipython3",
   "version": "3.12.2"
  }
 },
 "nbformat": 4,
 "nbformat_minor": 2
}
