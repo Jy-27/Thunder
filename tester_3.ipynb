{
 "cells": [
  {
   "cell_type": "code",
   "execution_count": 1,
   "metadata": {},
   "outputs": [],
   "source": [
    "\n",
    "import numpy as np\n",
    "import MarketDataFetcher\n",
    "import asyncio\n",
    "import nest_asyncio\n",
    "import BinanceBackTest\n",
    "import utils\n",
    "import os\n",
    "import pickle\n",
    "import Analysis\n",
    "\n",
    "\n",
    "path = '/Users/cjupit/Documents/GitHub/DataStore/kline_data.json'\n",
    "data = utils._load_json(path)"
   ]
  },
  {
   "cell_type": "markdown",
   "metadata": {},
   "source": []
  },
  {
   "cell_type": "code",
   "execution_count": 2,
   "metadata": {},
   "outputs": [],
   "source": [
    "symbol = list(data.keys())\n",
    "interval = list(data[symbol[0]].keys())"
   ]
  },
  {
   "cell_type": "code",
   "execution_count": 6,
   "metadata": {},
   "outputs": [
    {
     "name": "stdout",
     "output_type": "stream",
     "text": [
      "[109440, 36480, 21888, 1824]\n",
      "[109440, 36480, 21888, 1824]\n",
      "[109440, 36480, 21888, 1824]\n",
      "[109440, 36480, 21888, 1824]\n",
      "[109440, 36480, 21888, 1824]\n",
      "[109440, 36480, 21888, 1824]\n",
      "[109440, 36480, 21888, 1824]\n",
      "[109440, 36480, 21888, 1824]\n"
     ]
    }
   ],
   "source": [
    "data_len = {}\n",
    "for symbol, kline_data_symbol in data.items():\n",
    "    data_length = []\n",
    "    for interval, kline_data_interval in kline_data_symbol.items():\n",
    "        data_length.append(len(kline_data_interval))\n",
    "    print(data_length)\n",
    "    data_len[interval] = min(data_length)\n"
   ]
  },
  {
   "cell_type": "code",
   "execution_count": 4,
   "metadata": {},
   "outputs": [
    {
     "data": {
      "text/plain": [
       "{'1h': 1824}"
      ]
     },
     "execution_count": 4,
     "metadata": {},
     "output_type": "execute_result"
    }
   ],
   "source": [
    "data_len"
   ]
  },
  {
   "cell_type": "code",
   "execution_count": null,
   "metadata": {},
   "outputs": [],
   "source": []
  }
 ],
 "metadata": {
  "kernelspec": {
   "display_name": "python",
   "language": "python",
   "name": "python3"
  },
  "language_info": {
   "codemirror_mode": {
    "name": "ipython",
    "version": 3
   },
   "file_extension": ".py",
   "mimetype": "text/x-python",
   "name": "python",
   "nbconvert_exporter": "python",
   "pygments_lexer": "ipython3",
   "version": "3.12.2"
  }
 },
 "nbformat": 4,
 "nbformat_minor": 2
}
